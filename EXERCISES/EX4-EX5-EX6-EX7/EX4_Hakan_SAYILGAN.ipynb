{
 "cells": [
  {
   "cell_type": "markdown",
   "metadata": {},
   "source": [
    "1\\. Find the total mean, and the mean for each row and column of the following matrix:\n",
    "\n",
    "```python\n",
    "m = np.arange(12).reshape((3,4))\n",
    "```"
   ]
  },
  {
   "cell_type": "code",
   "execution_count": 14,
   "metadata": {},
   "outputs": [
    {
     "name": "stdout",
     "output_type": "stream",
     "text": [
      "[[ 0  1  2  3]\n",
      " [ 4  5  6  7]\n",
      " [ 8  9 10 11]]\n",
      "Total mean of the matrix:  5.5\n",
      "Mean of the each rows:: [1.5 5.5 9.5]\n",
      "Mean of the each columns: [4. 5. 6. 7.]\n"
     ]
    }
   ],
   "source": [
    "import numpy as np\n",
    "m = np.arange(12).reshape((3,4))\n",
    "print(m)\n",
    "print(\"Total mean of the matrix: \", m.mean())\n",
    "print (\"Mean of the each rows::\", m.mean(1))\n",
    "print (\"Mean of the each columns:\", m.mean(0))\n",
    "\n",
    "\n"
   ]
  },
  {
   "cell_type": "markdown",
   "metadata": {},
   "source": [
    "2\\. Find the outer product of the following vectors:\n",
    "\n",
    "```python\n",
    "u = np.array([1, 3, 5, 7])\n",
    "v = np.array([2, 4, 6, 8])\n",
    "```\n",
    "\n",
    "Use different methods to do this:\n",
    "\n",
    "   1. Using the function `outer` in numpy\n",
    "   2. Using a nested `for` loop or a list comprehension\n",
    "   3. Using numpy broadcasting operations"
   ]
  },
  {
   "cell_type": "code",
   "execution_count": 17,
   "metadata": {},
   "outputs": [
    {
     "name": "stdout",
     "output_type": "stream",
     "text": [
      "Vector u:  [1 3 5 7]\n",
      "Vector v:  [2 4 6 8]\n",
      "Result for the outer function; \n",
      " [[ 2  4  6  8]\n",
      " [ 6 12 18 24]\n",
      " [10 20 30 40]\n",
      " [14 28 42 56]]\n",
      "Result for the for loop or a list comprehension \n",
      " [[ 2.  4.  6.  8.]\n",
      " [ 6. 12. 18. 24.]\n",
      " [10. 20. 30. 40.]\n",
      " [14. 28. 42. 56.]]\n",
      "Result for the numpy broadcastiong operation; \n",
      " [[ 2  6 10 14]\n",
      " [ 4 12 20 28]\n",
      " [ 6 18 30 42]\n",
      " [ 8 24 40 56]]\n"
     ]
    }
   ],
   "source": [
    "import numpy as np\n",
    "\n",
    "u = np.array([1,3,5,7])\n",
    "v = np.array([2,4,6,8])\n",
    "\n",
    "print(\"Vector u: \", u)\n",
    "print(\"Vector v: \", v)\n",
    "\n",
    "#By using the function \"outer\" in numpy fundamental package\n",
    "outer_result=np.outer(u,v)\n",
    "print(\"Result for the outer function;\",\"\\n\",outer_result)\n",
    "\n",
    "#By using a nested for loop or a list comprehension\n",
    "m=np.zeros((4,4))\n",
    "i=0\n",
    "j=0\n",
    "for i in range(len(u)):\n",
    "    for j in range(len(v)):\n",
    "        m[i,j]=u[i]*v[j]\n",
    "print(\"Result for the for loop or a list comprehension\", \"\\n\" ,m)\n",
    "\n",
    "#By using numpy broadcasting operations\n",
    "u_v =u * v.reshape((4, 1))\n",
    "print(\"Result for the numpy broadcastiong operation;\",\"\\n\",u_v)"
   ]
  },
  {
   "cell_type": "markdown",
   "metadata": {},
   "source": [
    "3\\. Create a 10 by 6 matrix of increasing float numbers, starting from zero and increasing in each step by 0.1, so the output matrix looks like the following:\n",
    "\n",
    "```python\n",
    "m = [[0. 0.1, 0.2 0.3 ... 0.9]\n",
    "     [1.0 1.1 1.2 1.3 ... 1.9]\n",
    "     ...\n",
    "     [5.0 5.1 5.2 5.3 ... 5.9]]\n",
    "```\n",
    "After creating the matrix, set all entries with a decimal part $< 0.4$ to zero."
   ]
  },
  {
   "cell_type": "code",
   "execution_count": 20,
   "metadata": {},
   "outputs": [
    {
     "name": "stdout",
     "output_type": "stream",
     "text": [
      "Result of the m matrix(10,6):\n",
      " [[0.  0.1 0.2 0.3 0.4 0.5 0.6 0.7 0.8 0.9]\n",
      " [1.  1.1 1.2 1.3 1.4 1.5 1.6 1.7 1.8 1.9]\n",
      " [2.  2.1 2.2 2.3 2.4 2.5 2.6 2.7 2.8 2.9]\n",
      " [3.  3.1 3.2 3.3 3.4 3.5 3.6 3.7 3.8 3.9]\n",
      " [4.  4.1 4.2 4.3 4.4 4.5 4.6 4.7 4.8 4.9]\n",
      " [5.  5.1 5.2 5.3 5.4 5.5 5.6 5.7 5.8 5.9]]\n",
      "\n",
      "\n",
      "The new m matrix(10,6):\n",
      " [[0.  0.  0.  0.  0.4 0.5 0.6 0.7 0.8 0.9]\n",
      " [0.  0.  0.  0.  0.  1.5 1.6 1.7 1.8 1.9]\n",
      " [0.  0.  0.  0.  0.  2.5 2.6 2.7 2.8 2.9]\n",
      " [0.  0.  0.  0.  0.  3.5 3.6 3.7 3.8 3.9]\n",
      " [0.  0.  0.  0.  4.4 4.5 4.6 4.7 4.8 4.9]\n",
      " [0.  0.  0.  0.  5.4 5.5 5.6 5.7 5.8 5.9]]\n"
     ]
    }
   ],
   "source": [
    "import numpy as np\n",
    "import math\n",
    "\n",
    "#Used linspace command to create values in columns\n",
    "m = np.linspace((0.0,1.0,2.0,3.0,4.0,5.0),(0.9,1.9,2.9,3.9,4.9,5.9),10) #beginnig values, ending values, step points number\n",
    "\n",
    "#Transpose command was used to place values from row to column. \n",
    "m_transpose = m.transpose()\n",
    "print(\"Result of the m matrix(10,6):\\n\", m_transpose)\n",
    "print(\"\\n\")\n",
    "\n",
    "#Taking the mods of entries for 1 to \n",
    "m_transpose[m_transpose%1<0.4]=0\n",
    "print(\"The new m matrix(10,6):\\n\", m_transpose)\n",
    "\n"
   ]
  },
  {
   "cell_type": "markdown",
   "metadata": {},
   "source": [
    "4\\. Use `np.linspace` to create an array of 100 numbers between 0 and 2π (inclusive).\n",
    "\n",
    "  * Extract every 10th element using the slice notation\n",
    "  * Reverse the array using the slice notation\n",
    "  * Extract elements where the absolute difference between the sin and cos functions evaluated for that element is $< 0.1$\n",
    "  * **Optional**: make a plot showing the sin and cos functions and indicate where they are close"
   ]
  },
  {
   "cell_type": "code",
   "execution_count": 21,
   "metadata": {},
   "outputs": [
    {
     "name": "stdout",
     "output_type": "stream",
     "text": [
      "Matrix: \n",
      " [0.         0.06346652 0.12693304 0.19039955 0.25386607 0.31733259\n",
      " 0.38079911 0.44426563 0.50773215 0.57119866 0.63466518 0.6981317\n",
      " 0.76159822 0.82506474 0.88853126 0.95199777 1.01546429 1.07893081\n",
      " 1.14239733 1.20586385 1.26933037 1.33279688 1.3962634  1.45972992\n",
      " 1.52319644 1.58666296 1.65012947 1.71359599 1.77706251 1.84052903\n",
      " 1.90399555 1.96746207 2.03092858 2.0943951  2.15786162 2.22132814\n",
      " 2.28479466 2.34826118 2.41172769 2.47519421 2.53866073 2.60212725\n",
      " 2.66559377 2.72906028 2.7925268  2.85599332 2.91945984 2.98292636\n",
      " 3.04639288 3.10985939 3.17332591 3.23679243 3.30025895 3.36372547\n",
      " 3.42719199 3.4906585  3.55412502 3.61759154 3.68105806 3.74452458\n",
      " 3.8079911  3.87145761 3.93492413 3.99839065 4.06185717 4.12532369\n",
      " 4.1887902  4.25225672 4.31572324 4.37918976 4.44265628 4.5061228\n",
      " 4.56958931 4.63305583 4.69652235 4.75998887 4.82345539 4.88692191\n",
      " 4.95038842 5.01385494 5.07732146 5.14078798 5.2042545  5.26772102\n",
      " 5.33118753 5.39465405 5.45812057 5.52158709 5.58505361 5.64852012\n",
      " 5.71198664 5.77545316 5.83891968 5.9023862  5.96585272 6.02931923\n",
      " 6.09278575 6.15625227 6.21971879 6.28318531]\n",
      "\n",
      "\n",
      "Result of every 10th element is extracted: \n",
      " [0.         0.63466518 1.26933037 1.90399555 2.53866073 3.17332591\n",
      " 3.8079911  4.44265628 5.07732146 5.71198664]\n",
      "\n",
      "\n",
      "Result of reverse Matrix: \n",
      " [6.28318531 6.21971879 6.15625227 6.09278575 6.02931923 5.96585272\n",
      " 5.9023862  5.83891968 5.77545316 5.71198664 5.64852012 5.58505361\n",
      " 5.52158709 5.45812057 5.39465405 5.33118753 5.26772102 5.2042545\n",
      " 5.14078798 5.07732146 5.01385494 4.95038842 4.88692191 4.82345539\n",
      " 4.75998887 4.69652235 4.63305583 4.56958931 4.5061228  4.44265628\n",
      " 4.37918976 4.31572324 4.25225672 4.1887902  4.12532369 4.06185717\n",
      " 3.99839065 3.93492413 3.87145761 3.8079911  3.74452458 3.68105806\n",
      " 3.61759154 3.55412502 3.4906585  3.42719199 3.36372547 3.30025895\n",
      " 3.23679243 3.17332591 3.10985939 3.04639288 2.98292636 2.91945984\n",
      " 2.85599332 2.7925268  2.72906028 2.66559377 2.60212725 2.53866073\n",
      " 2.47519421 2.41172769 2.34826118 2.28479466 2.22132814 2.15786162\n",
      " 2.0943951  2.03092858 1.96746207 1.90399555 1.84052903 1.77706251\n",
      " 1.71359599 1.65012947 1.58666296 1.52319644 1.45972992 1.3962634\n",
      " 1.33279688 1.26933037 1.20586385 1.14239733 1.07893081 1.01546429\n",
      " 0.95199777 0.88853126 0.82506474 0.76159822 0.6981317  0.63466518\n",
      " 0.57119866 0.50773215 0.44426563 0.38079911 0.31733259 0.25386607\n",
      " 0.19039955 0.12693304 0.06346652 0.        ]\n",
      "\n",
      "\n",
      "Result of reverse extracted matrix: \n",
      " [0.         0.06346652 0.12693304 0.19039955 0.25386607 0.31733259\n",
      " 0.38079911 0.44426563 0.50773215 0.57119866 0.63466518 0.6981317\n",
      " 0.76159822 0.82506474 0.88853126 0.95199777 1.01546429 1.07893081\n",
      " 1.14239733 1.20586385 1.26933037 1.33279688 1.3962634  1.45972992\n",
      " 1.52319644 1.58666296 1.65012947 1.71359599 1.77706251 1.84052903\n",
      " 1.90399555 1.96746207 2.03092858 2.0943951  2.15786162 2.22132814\n",
      " 2.28479466 2.34826118 2.41172769 2.47519421 2.53866073 2.60212725\n",
      " 2.66559377 2.72906028 2.7925268  2.85599332 2.91945984 2.98292636\n",
      " 3.04639288 3.10985939 3.17332591 3.23679243 3.30025895 3.36372547\n",
      " 3.42719199 3.4906585  3.55412502 3.61759154 3.68105806 3.74452458\n",
      " 3.8079911  3.87145761 3.93492413 3.99839065 4.06185717 4.12532369\n",
      " 4.1887902  4.25225672 4.31572324 4.37918976 4.44265628 4.5061228\n",
      " 4.56958931 4.63305583 4.69652235 4.75998887 4.82345539 4.88692191\n",
      " 4.95038842 5.01385494 5.07732146 5.14078798 5.2042545  5.26772102\n",
      " 5.33118753 5.39465405 5.45812057 5.52158709 5.58505361 5.64852012\n",
      " 5.71198664 5.77545316 5.83891968 5.9023862  5.96585272 6.02931923\n",
      " 6.09278575 6.15625227 6.21971879 6.28318531]\n",
      "\n",
      "\n",
      "Result of the nex matrix: \n",
      " [0.76159822 0.82506474 3.87145761 3.93492413]\n",
      "\n",
      "\n"
     ]
    },
    {
     "data": {
      "image/png": "[encoded data removed]",
      "text/plain": [
       "<Figure size 432x288 with 1 Axes>"
      ]
     },
     "metadata": {
      "needs_background": "light"
     },
     "output_type": "display_data"
    }
   ],
   "source": [
    "import numpy as np\n",
    "from numpy import pi\n",
    "import matplotlib.pyplot as plt\n",
    "\n",
    "m=np.linspace(0,2*pi,100)\n",
    "print(\"Matrix:\",\"\\n\",m)\n",
    "print(\"\\n\")\n",
    "\n",
    "#1) Extract every 10th element using the slice notation\n",
    "extracted_m=m[::10]\n",
    "print(\"Result of every 10th element is extracted:\", \"\\n\", extracted_m)\n",
    "print(\"\\n\")\n",
    "\n",
    "#2)Reverse the array using the slice notation\n",
    "reversed_m=m[::-1]\n",
    "print(\"Result of reverse Matrix:\",\"\\n\",reversed_m)\n",
    "print(\"\\n\")\n",
    "reversed_extracted_m=reversed_m[::-1]\n",
    "print(\"Result of reverse extracted matrix:\",\"\\n\",reversed_extracted_m)\n",
    "print(\"\\n\")\n",
    "\n",
    "#3)Extract elements where the absolute difference between the sin and cos functions evaluated for that element is  <0.1\n",
    "m_m = np.abs(np.sin(m)-np.cos(m)) < 0.1\n",
    "print(\"Result of the nex matrix:\",\"\\n\",m[m_m])\n",
    "print(\"\\n\")\n",
    "\n",
    "#4)Optional: make a plot showing the sin and cos functions and indicate where they are close\n",
    "plt.scatter(m[m_m], np.sin(m[m_m]))\n",
    "plt.plot(m, np.sin(m), m, np.cos(m));"
   ]
  },
  {
   "cell_type": "markdown",
   "metadata": {},
   "source": [
    "5\\. Create a matrix that shows the 10 by 10 multiplication table.\n",
    "\n",
    " * Find the trace of the matrix\n",
    " * Extract the anti-diagonal matrix (this should be ```array([10, 18, 24, 28, 30, 30, 28, 24, 18, 10])```)\n",
    " * Extract the diagonal offset by 1 upwards (this should be ```array([ 2,  6, 12, 20, 30, 42, 56, 72, 90])```)"
   ]
  },
  {
   "cell_type": "code",
   "execution_count": 26,
   "metadata": {},
   "outputs": [
    {
     "name": "stdout",
     "output_type": "stream",
     "text": [
      "Multiplication table: \n",
      " [[  1   2   3   4   5   6   7   8   9  10]\n",
      " [  2   4   6   8  10  12  14  16  18  20]\n",
      " [  3   6   9  12  15  18  21  24  27  30]\n",
      " [  4   8  12  16  20  24  28  32  36  40]\n",
      " [  5  10  15  20  25  30  35  40  45  50]\n",
      " [  6  12  18  24  30  36  42  48  54  60]\n",
      " [  7  14  21  28  35  42  49  56  63  70]\n",
      " [  8  16  24  32  40  48  56  64  72  80]\n",
      " [  9  18  27  36  45  54  63  72  81  90]\n",
      " [ 10  20  30  40  50  60  70  80  90 100]]\n",
      "\n",
      "\n",
      "Result of the trace of matrix: 385\n",
      "Result of the anto diagonal matrix: [10 18 24 28 30 30 28 24 18 10]\n",
      "Result of the diagonal offset by 1 upward [ 2  6 12 20 30 42 56 72 90]\n"
     ]
    }
   ],
   "source": [
    "import numpy as np\n",
    "\n",
    "a=np.arange(1, 11)\n",
    "m=a[:, None] * a[None, :]\n",
    "print(\"Multiplication table:\",\"\\n\",m)\n",
    "print(\"\\n\")\n",
    "\n",
    "#1 Find the trace of the matrix\n",
    "trace_a=m.trace()\n",
    "print(\"Result of the trace of matrix:\",trace_a)\n",
    "\n",
    "#2 Extract the anto-diagonal\n",
    "anti_diag=np.flipud(m).diagonal()\n",
    "print(\"Result of the anto diagonal matrix:\", anti_diag)\n",
    "\n",
    "#3 Extract the diagnoal offset by 1 upwards\n",
    "offset_diag=m.diagonal(offset=1)\n",
    "print(\"Result of the diagonal offset by 1 upward\",offset_diag)"
   ]
  },
  {
   "cell_type": "markdown",
   "metadata": {},
   "source": [
    "6\\. Use broadcasting to create a grid of distances.\n",
    "\n",
    "Route 66 crosses the following cities in the US: Chicago, Springfield, Saint-Louis, Tulsa, Oklahoma City, Amarillo, Santa Fe, Albuquerque, Flagstaff, Los Angeles\n",
    "The corresponding positions in miles are: 0, 198, 303, 736, 871, 1175, 1475, 1544, 1913, 2448\n",
    "\n",
    "  * Build a 2D grid of distances among each city along Route 66\n",
    "  * Convert the distances in km"
   ]
  },
  {
   "cell_type": "code",
   "execution_count": 28,
   "metadata": {},
   "outputs": [
    {
     "name": "stdout",
     "output_type": "stream",
     "text": [
      "Miles values results: [   0  198  303  736  871 1175 1475 1544 1913 2448]\n",
      "\n",
      "\n",
      "Route 66 distance results: \n",
      " [[   0  198  303  736  871 1175 1475 1544 1913 2448]\n",
      " [ 198    0  105  538  673  977 1277 1346 1715 2250]\n",
      " [ 303  105    0  433  568  872 1172 1241 1610 2145]\n",
      " [ 736  538  433    0  135  439  739  808 1177 1712]\n",
      " [ 871  673  568  135    0  304  604  673 1042 1577]\n",
      " [1175  977  872  439  304    0  300  369  738 1273]\n",
      " [1475 1277 1172  739  604  300    0   69  438  973]\n",
      " [1544 1346 1241  808  673  369   69    0  369  904]\n",
      " [1913 1715 1610 1177 1042  738  438  369    0  535]\n",
      " [2448 2250 2145 1712 1577 1273  973  904  535    0]]\n",
      "\n",
      "\n",
      "Results of route 66 distances in km: \n",
      " [[   0.     123.75   189.375  460.     544.375  734.375  921.875  965.\n",
      "  1195.625 1530.   ]\n",
      " [ 123.75     0.      65.625  336.25   420.625  610.625  798.125  841.25\n",
      "  1071.875 1406.25 ]\n",
      " [ 189.375   65.625    0.     270.625  355.     545.     732.5    775.625\n",
      "  1006.25  1340.625]\n",
      " [ 460.     336.25   270.625    0.      84.375  274.375  461.875  505.\n",
      "   735.625 1070.   ]\n",
      " [ 544.375  420.625  355.      84.375    0.     190.     377.5    420.625\n",
      "   651.25   985.625]\n",
      " [ 734.375  610.625  545.     274.375  190.       0.     187.5    230.625\n",
      "   461.25   795.625]\n",
      " [ 921.875  798.125  732.5    461.875  377.5    187.5      0.      43.125\n",
      "   273.75   608.125]\n",
      " [ 965.     841.25   775.625  505.     420.625  230.625   43.125    0.\n",
      "   230.625  565.   ]\n",
      " [1195.625 1071.875 1006.25   735.625  651.25   461.25   273.75   230.625\n",
      "     0.     334.375]\n",
      " [1530.    1406.25  1340.625 1070.     985.625  795.625  608.125  565.\n",
      "   334.375    0.   ]]\n"
     ]
    }
   ],
   "source": [
    "import numpy as np\n",
    "m=np.array([0, 198, 303, 736, 871, 1175, 1475, 1544, 1913, 2448])\n",
    "print(\"Miles values results:\",m)\n",
    "print(\"\\n\")\n",
    "\n",
    "route_66_distance= np.abs(m-m[:, np.newaxis])\n",
    "print(\"Route 66 distance results:\",\"\\n\",route_66_distance)\n",
    "print(\"\\n\")\n",
    "\n",
    "km_values = route_66_distance/1.6\n",
    "print(\"Results of route 66 distances in km:\",\"\\n\" ,km_values)"
   ]
  },
  {
   "cell_type": "markdown",
   "metadata": {},
   "source": [
    "7\\. Prime numbers sieve: compute the prime numbers in the 0-N (start with N=99) range with a sieve (mask).\n",
    "  * Check the performances (timeit); how does it scale with N?\n",
    "  * Implement the optimization suggested in the [sieve of Eratosthenes](https://en.wikipedia.org/wiki/Sieve_of_Eratosthenes)"
   ]
  },
  {
   "cell_type": "code",
   "execution_count": 41,
   "metadata": {},
   "outputs": [
    {
     "data": {
      "text/plain": [
       "array([ 1,  2,  3,  5,  7, 11, 13, 17, 19, 23, 29, 31, 37, 41, 43, 47, 53,\n",
       "       59, 61, 67, 71, 73, 79, 83, 89, 97])"
      ]
     },
     "execution_count": 41,
     "metadata": {},
     "output_type": "execute_result"
    }
   ],
   "source": [
    "import numpy as np\n",
    "import math\n",
    "import timeit\n",
    "\n",
    "\n",
    "def is_prime(n):\n",
    "    if n % 2 == 0 and n > 2: \n",
    "        return False\n",
    "    return all(n % i for i in range(3, int(math.sqrt(n)) + 1, 2))\n",
    "\n",
    "a = np.arange(1, 99)\n",
    "foo = np.vectorize(is_prime)\n",
    "pbools = foo(a)\n",
    "primes = np.extract(pbools, a)\n",
    "primes\n",
    "\n"
   ]
  },
  {
   "cell_type": "code",
   "execution_count": 42,
   "metadata": {},
   "outputs": [
    {
     "name": "stdout",
     "output_type": "stream",
     "text": [
      "Program Executed in 0.0006688000003123307\n"
     ]
    }
   ],
   "source": [
    "import numpy as np\n",
    "import math\n",
    "import timeit\n",
    "\n",
    "start = timeit.default_timer()\n",
    "\n",
    "def is_prime(n):\n",
    "    if n % 2 == 0 and n > 2: \n",
    "        return False\n",
    "    return all(n % i for i in range(3, int(math.sqrt(n)) + 1, 2))\n",
    "\n",
    "a = np.arange(1, 99)\n",
    "foo = np.vectorize(is_prime)\n",
    "pbools = foo(a)\n",
    "primes = np.extract(pbools, a)\n",
    "primes\n",
    "\n",
    "stop = timeit.default_timer()\n",
    "execution_time = stop - start\n",
    "print(\"Program Executed in \"+str(execution_time)) # It returns time in seconds\n",
    "\n",
    "#Program work"
   ]
  },
  {
   "cell_type": "code",
   "execution_count": 43,
   "metadata": {},
   "outputs": [
    {
     "name": "stdout",
     "output_type": "stream",
     "text": [
      "Program Executed in 0.17910029999984545\n"
     ]
    }
   ],
   "source": [
    "import numpy as np\n",
    "import math\n",
    "import timeit\n",
    "\n",
    "start = timeit.default_timer()\n",
    "\n",
    "def is_prime(n):\n",
    "    if n % 2 == 0 and n > 2: \n",
    "        return False\n",
    "    return all(n % i for i in range(3, int(math.sqrt(n)) + 1, 2))\n",
    "\n",
    "a = np.arange(1, 198)\n",
    "foo = np.vectorize(is_prime)\n",
    "pbools = foo(a)\n",
    "primes = np.extract(pbools, a)\n",
    "primes\n",
    "\n",
    "stop = timeit.default_timer()\n",
    "execution_time = stop - start\n",
    "print(\"Program Executed in \"+str(execution_time)) # It returns time in seconds\n",
    "\n",
    "#Program work"
   ]
  },
  {
   "cell_type": "code",
   "execution_count": null,
   "metadata": {},
   "outputs": [],
   "source": [
    "Comment: Even doubling the parameter number createad very slighty changes on the performances."
   ]
  }
 ],
 "metadata": {
  "kernelspec": {
   "display_name": "Python 3",
   "language": "python",
   "name": "python3"
  },
  "language_info": {
   "codemirror_mode": {
    "name": "ipython",
    "version": 3
   },
   "file_extension": ".py",
   "mimetype": "text/x-python",
   "name": "python",
   "nbconvert_exporter": "python",
   "pygments_lexer": "ipython3",
   "version": "3.8.8"
  }
 },
 "nbformat": 4,
 "nbformat_minor": 2
}
