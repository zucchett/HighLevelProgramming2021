{
 "cells": [
  {
   "cell_type": "markdown",
   "metadata": {},
   "source": [
    "This exercise consists in analyzing a dataset containg timing information from a series of Time-to-Digital-Converters (TDC) implemented in a pair of FPGAs. Each measurement (i.e. each row of the input file) consists of a flag that specifies the type of message ('HEAD', which in this case is always 1), two addresses of the TDC providing the signal ('FPGA' and 'TDC_CHANNEL'), and the timing information ('ORBIT_CNT', 'BX_COUNTER', and 'TDC_MEAS'). Each TDC count corresponds to 25/30 ns, whereas a unit of BX_COUNTER corresponds to 25 ns, and the ORBIT_CNT is increased every 'x' BX_COUNTER. This allows to store the time in a similar way to hours, minutes and seconds."
   ]
  },
  {
   "cell_type": "code",
   "execution_count": 78,
   "metadata": {},
   "outputs": [],
   "source": [
    "# If haven't downloaded it yet, please get the data file with wget\n",
    "#!wget https://www.dropbox.com/s/xvjzaxzz3ysphme/data_000637.txt -P ./data/"
   ]
  },
  {
   "cell_type": "markdown",
   "metadata": {},
   "source": [
    "1\\. Create a Pandas DataFrame reading N rows of the `data/data_000637.txt` dataset. Choose N to be smaller than or equal to the maximum number of rows and larger that 10k (check the documentation)."
   ]
  },
  {
   "cell_type": "code",
   "execution_count": 34,
   "metadata": {},
   "outputs": [
    {
     "name": "stdout",
     "output_type": "stream",
     "text": [
      "<class 'pandas.core.frame.DataFrame'>\n",
      "RangeIndex: 1310720 entries, 0 to 1310719\n",
      "Data columns (total 6 columns):\n",
      " #   Column       Non-Null Count    Dtype\n",
      "---  ------       --------------    -----\n",
      " 0   HEAD         1310720 non-null  int64\n",
      " 1   FPGA         1310720 non-null  int64\n",
      " 2   TDC_CHANNEL  1310720 non-null  int64\n",
      " 3   ORBIT_CNT    1310720 non-null  int64\n",
      " 4   BX_COUNTER   1310720 non-null  int64\n",
      " 5   TDC_MEAS     1310720 non-null  int64\n",
      "dtypes: int64(6)\n",
      "memory usage: 60.0 MB\n",
      "None\n",
      "<class 'pandas.core.frame.DataFrame'>\n",
      "RangeIndex: 50000 entries, 0 to 49999\n",
      "Data columns (total 6 columns):\n",
      " #   Column       Non-Null Count  Dtype\n",
      "---  ------       --------------  -----\n",
      " 0   HEAD         50000 non-null  int64\n",
      " 1   FPGA         50000 non-null  int64\n",
      " 2   TDC_CHANNEL  50000 non-null  int64\n",
      " 3   ORBIT_CNT    50000 non-null  int64\n",
      " 4   BX_COUNTER   50000 non-null  int64\n",
      " 5   TDC_MEAS     50000 non-null  int64\n",
      "dtypes: int64(6)\n",
      "memory usage: 2.3 MB\n",
      "None\n"
     ]
    }
   ],
   "source": [
    "#Importing libraries\n",
    "import pandas as pd\n",
    "import numpy as np\n",
    "import json\n",
    "import csv \n",
    "\n",
    "file_name = \"/Users/h-a-k/data/data_000637.txt\"\n",
    "with open(file_name, mode='r') as f:\n",
    "      f=f.read \n",
    "\n",
    "df=pd.read_csv('/Users/h-a-k/data/data_000637.txt', sep=\",\" )\n",
    "print(df.info()) # Maximum number of rows is 1310719 \n",
    "N=50000 #Assuming N=50000\n",
    "df=df[:N]\n",
    "print(df.info()) #New data frame's number is rows 500000\n",
    "\n"
   ]
  },
  {
   "cell_type": "markdown",
   "metadata": {},
   "source": [
    "2\\. Estimate the number of BX in a ORBIT (the value 'x')."
   ]
  },
  {
   "cell_type": "code",
   "execution_count": 35,
   "metadata": {},
   "outputs": [
    {
     "name": "stdout",
     "output_type": "stream",
     "text": [
      "Result of estimating the number of BX:  3564\n"
     ]
    }
   ],
   "source": [
    "#Defining BX column\n",
    "BX = df[\"BX_COUNTER\"]\n",
    "#using max command in pandas  DataFrame\n",
    "max_BX = BX.max()\n",
    "\n",
    "estimated_number=max_BX + 1\n",
    "print(\"Result of estimating the number of BX: \", estimated_number)"
   ]
  },
  {
   "cell_type": "markdown",
   "metadata": {},
   "source": [
    "3\\. Find out the duration of the data taking in hours, minutes and seconds. You can either make an estimate based on the fraction of the measurements (rows) you read, or perform this check precisely by reading the whole dataset."
   ]
  },
  {
   "cell_type": "code",
   "execution_count": 36,
   "metadata": {
    "scrolled": false
   },
   "outputs": [
    {
     "name": "stdout",
     "output_type": "stream",
     "text": [
      "HEAD                    1\n",
      "FPGA                    0\n",
      "TDC_CHANNEL           123\n",
      "ORBIT_CNT      3869200167\n",
      "BX_COUNTER           2374\n",
      "TDC_MEAS               26\n",
      "Name: 0, dtype: int64\n",
      "\n",
      "\n",
      "Duration represented by row number 0 :\n",
      "3 days, 23:45:45.734939\n"
     ]
    }
   ],
   "source": [
    "import datetime\n",
    "import math\n",
    "\n",
    "\n",
    "i_row=0;\n",
    "row_initial = df.iloc[i_row]\n",
    "nanoseconds_initial = (row_initial['TDC_MEAS']*25/30) + (row_initial['BX_COUNTER']*25) + (row_initial['ORBIT_CNT']*(max_BX+1)*25)\n",
    "\n",
    "seconds_initial = nanoseconds_initial*pow(10,-9)\n",
    "\n",
    "print(row_initial)\n",
    "print(\"\\n\")\n",
    "print(\"Duration represented by row number\", nrow, \":\")\n",
    "print(str(datetime.timedelta(seconds=seconds_initial)))"
   ]
  },
  {
   "cell_type": "markdown",
   "metadata": {},
   "source": [
    "4\\. Create a new column with the absolute time in ns (as a combination of the other three columns with timing information) since the beginning of the data acquisition."
   ]
  },
  {
   "cell_type": "code",
   "execution_count": 37,
   "metadata": {},
   "outputs": [
    {
     "name": "stdout",
     "output_type": "stream",
     "text": [
      "   HEAD  FPGA  TDC_CHANNEL   ORBIT_CNT  BX_COUNTER  TDC_MEAS      ABS_TIME\n",
      "0     1     0          123  3869200167        2374        26  3.869203e+09\n",
      "1     1     0          124  3869200167        2374        27  3.869203e+09\n",
      "2     1     0           63  3869200167        2553        28  3.869203e+09\n",
      "3     1     0           64  3869200167        2558        19  3.869203e+09\n",
      "4     1     0           64  3869200167        2760        25  3.869203e+09\n"
     ]
    }
   ],
   "source": [
    "i=0;\n",
    "for i in range (N):\n",
    "    absolute_time=[df.loc[i,'ORBIT_CNT']+ df.loc[i,'BX_COUNTER']+ df.loc[i,'TDC_MEAS']]\n",
    "    df.loc[i,'ABS_TIME'] = absolute_time\n",
    "print(df.head())\n"
   ]
  },
  {
   "cell_type": "markdown",
   "metadata": {},
   "source": [
    "5\\. Use the `.groupby()` method to find out the noisy channels, i.e. the TDC channels with most counts (print to screen the top 3 and the corresponding counts)"
   ]
  },
  {
   "cell_type": "code",
   "execution_count": 38,
   "metadata": {},
   "outputs": [
    {
     "name": "stdout",
     "output_type": "stream",
     "text": [
      "The Most 3 TDC Channels: TDC_CHANNEL\n",
      "139    4175\n",
      "64     2523\n",
      "63     2472\n",
      "Name: TDC_CHANNEL, dtype: int64\n"
     ]
    }
   ],
   "source": [
    "#to fing top 3 channel, nlargest command was used\n",
    "TDC_COUNT=df.groupby('TDC_CHANNEL').TDC_CHANNEL.count().nlargest(3)\n",
    "print(\"The Most 3 TDC Channels:\",TDC_COUNT)\n"
   ]
  },
  {
   "cell_type": "markdown",
   "metadata": {},
   "source": [
    "6\\. Count the number of non-empty orbits (i.e. the number of orbits with at least one hit). Count also the number of unique orbits with at least one measurement from TDC_CHANNEL=139."
   ]
  },
  {
   "cell_type": "code",
   "execution_count": 32,
   "metadata": {},
   "outputs": [
    {
     "name": "stdout",
     "output_type": "stream",
     "text": [
      "50000\n",
      "\n",
      "\n",
      "       HEAD  FPGA  TDC_CHANNEL   ORBIT_CNT  BX_COUNTER  TDC_MEAS\n",
      "7         1     0          139  3869200167        2776         0\n",
      "15        1     1          139  3869200167        2797         0\n",
      "30        1     0          139  3869200167        3085         0\n",
      "39        1     0          139  3869200167        3186         0\n",
      "48        1     0          139  3869200168          23         0\n",
      "...     ...   ...          ...         ...         ...       ...\n",
      "49938     1     0          139  3869200664         361         0\n",
      "49961     1     0          139  3869200664         480         0\n",
      "49964     1     1          139  3869200664         516         0\n",
      "49977     1     0          139  3869200664         653         0\n",
      "49983     1     0          139  3869200664         695         0\n",
      "\n",
      "[4175 rows x 6 columns]\n",
      "498\n"
     ]
    }
   ],
   "source": [
    "#Counting non-empty orbits\n",
    "print(df.ORBIT_CNT.count())\n",
    "print('\\n')\n",
    "\n",
    "#Counting the number of unique orbits with at least one measurement from TDC_CHANNEL=139\n",
    "DF_139=df[df['TDC_CHANNEL']==139]\n",
    "print(DF_139)\n",
    "\n",
    "DF_unique=DF_139.ORBIT_CNT.nunique()\n",
    "print(DF_unique)\n",
    "\n"
   ]
  },
  {
   "cell_type": "markdown",
   "metadata": {},
   "source": [
    "7\\. **Optional:** Make two occupancy plots (one for each FPGA), i.e. plot the number of counts per TDC channel"
   ]
  },
  {
   "cell_type": "code",
   "execution_count": 39,
   "metadata": {},
   "outputs": [
    {
     "name": "stdout",
     "output_type": "stream",
     "text": [
      "       HEAD  FPGA  TDC_CHANNEL   ORBIT_CNT  BX_COUNTER  TDC_MEAS      ABS_TIME\n",
      "0         1     0          123  3869200167        2374        26  3.869203e+09\n",
      "1         1     0          124  3869200167        2374        27  3.869203e+09\n",
      "2         1     0           63  3869200167        2553        28  3.869203e+09\n",
      "3         1     0           64  3869200167        2558        19  3.869203e+09\n",
      "4         1     0           64  3869200167        2760        25  3.869203e+09\n",
      "...     ...   ...          ...         ...         ...       ...           ...\n",
      "49988     1     0           49  3869200664        1036         8  3.869202e+09\n",
      "49989     1     0           47  3869200664        1040         5  3.869202e+09\n",
      "49997     1     0           59  3869200664        1191        17  3.869202e+09\n",
      "49998     1     0           32  3869200664        1191         1  3.869202e+09\n",
      "49999     1     0           60  3869200664        1190         6  3.869202e+09\n",
      "\n",
      "[35206 rows x 7 columns]\n",
      "TDC_CHANNEL\n",
      "1        40\n",
      "2        56\n",
      "3        57\n",
      "4        72\n",
      "5        59\n",
      "       ... \n",
      "121     287\n",
      "122     274\n",
      "123     716\n",
      "124     682\n",
      "139    2915\n",
      "Name: TDC_CHANNEL, Length: 118, dtype: int64\n",
      "       HEAD  FPGA  TDC_CHANNEL   ORBIT_CNT  BX_COUNTER  TDC_MEAS      ABS_TIME\n",
      "10        1     1            7  3869200167        2785         4  3.869203e+09\n",
      "12        1     1            6  3869200167        2792        18  3.869203e+09\n",
      "15        1     1          139  3869200167        2797         0  3.869203e+09\n",
      "16        1     1            8  3869200167        2787        14  3.869203e+09\n",
      "18        1     1            5  3869200167        2795         4  3.869203e+09\n",
      "...     ...   ...          ...         ...         ...       ...           ...\n",
      "49992     1     1           54  3869200664        1100        27  3.869202e+09\n",
      "49993     1     1            6  3869200664        1103        18  3.869202e+09\n",
      "49994     1     1           52  3869200664        1102        16  3.869202e+09\n",
      "49995     1     1            2  3869200664        1103         4  3.869202e+09\n",
      "49996     1     1            4  3869200664        1105        14  3.869202e+09\n",
      "\n",
      "[14794 rows x 7 columns]\n",
      "TDC_CHANNEL\n",
      "1      1078\n",
      "2      1218\n",
      "3       854\n",
      "4       993\n",
      "5       586\n",
      "       ... \n",
      "126      24\n",
      "127      47\n",
      "128      52\n",
      "130       1\n",
      "139    1260\n",
      "Length: 129, dtype: int64\n"
     ]
    },
    {
     "data": {
      "text/plain": [
       "Text(0, 0.5, 'COUNT')"
      ]
     },
     "execution_count": 39,
     "metadata": {},
     "output_type": "execute_result"
    },
    {
     "data": {
      "image/png": "[encoded data removed]",
      "text/plain": [
       "<Figure size 432x288 with 1 Axes>"
      ]
     },
     "metadata": {
      "needs_background": "light"
     },
     "output_type": "display_data"
    }
   ],
   "source": [
    "import matplotlib.pyplot as plt\n",
    "\n",
    "#For FPGA=0\n",
    "FPGA_0=df[df['FPGA']==0] \n",
    "print(FPGA_0)\n",
    "TDC_COUNT_0=FPGA_0.groupby('TDC_CHANNEL').TDC_CHANNEL.count()\n",
    "print(TDC_COUNT_0)\n",
    "TDC_COUNT_0.plot()\n",
    "\n",
    "#labeling axis\n",
    "plt.xlabel(\"TDC CHANNEL\")\n",
    "plt.ylabel(\"COUNT\")\n",
    "\n",
    "\n",
    "#For FPGA=1\n",
    "FPGA_1=df[df['FPGA']==1]\n",
    "print(FPGA_1)\n",
    "TDC_COUNT_1 = FPGA_1.pivot_table(index=['TDC_CHANNEL'], aggfunc='size')\n",
    "print(TDC_COUNT_1)\n",
    "TDC_COUNT_1.plot()\n",
    "\n",
    "#labeling axis\n",
    "plt.xlabel(\"TDC CHANNEL\")\n",
    "plt.ylabel(\"COUNT\")\n"
   ]
  },
  {
   "cell_type": "code",
   "execution_count": null,
   "metadata": {},
   "outputs": [],
   "source": []
  }
 ],
 "metadata": {
  "kernelspec": {
   "display_name": "Python 3",
   "language": "python",
   "name": "python3"
  },
  "language_info": {
   "codemirror_mode": {
    "name": "ipython",
    "version": 3
   },
   "file_extension": ".py",
   "mimetype": "text/x-python",
   "name": "python",
   "nbconvert_exporter": "python",
   "pygments_lexer": "ipython3",
   "version": "3.8.8"
  }
 },
 "nbformat": 4,
 "nbformat_minor": 2
}
