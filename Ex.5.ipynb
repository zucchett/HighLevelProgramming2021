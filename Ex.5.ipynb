{
 "cells": [
  {
   "cell_type": "code",
   "execution_count": 1,
   "metadata": {},
   "outputs": [
    {
     "name": "stdout",
     "output_type": "stream",
     "text": [
      "0           365.0\n",
      "1           365.0\n",
      "2          1017.0\n",
      "3            63.0\n",
      "4           327.0\n",
      "            ...  \n",
      "1310715     723.0\n",
      "1310716      21.0\n",
      "1310717     403.0\n",
      "1310718     744.0\n",
      "1310719     723.0\n",
      "Length: 1310720, dtype: float64\n"
     ]
    }
   ],
   "source": [
    "import pandas as pd\n",
    "import numpy as np\n",
    "\n",
    "all_data = pd.read_csv('Data/data_000637.txt')\n",
    "\n",
    "df = pd.DataFrame(data=all_data)\n",
    "\n",
    "bx = df.ORBIT_CNT % df.BX_COUNTER\n",
    "\n",
    "print(bx)\n"
   ]
  }
 ],
 "metadata": {
  "interpreter": {
   "hash": "0bcc78bc1c3e4185a1bb5d5311c1a881c2fed6218afc723045c33b4b4a3dcd44"
  },
  "kernelspec": {
   "display_name": "Python 3.8.8 64-bit ('base': conda)",
   "language": "python",
   "name": "python3"
  },
  "language_info": {
   "codemirror_mode": {
    "name": "ipython",
    "version": 3
   },
   "file_extension": ".py",
   "mimetype": "text/x-python",
   "name": "python",
   "nbconvert_exporter": "python",
   "pygments_lexer": "ipython3",
   "version": "3.8.8"
  },
  "orig_nbformat": 4
 },
 "nbformat": 4,
 "nbformat_minor": 2
}
