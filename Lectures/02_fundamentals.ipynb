{
 "cells": [
  {
   "cell_type": "markdown",
   "metadata": {},
   "source": [
    "# Modules/packages/libraries\n",
    "\n",
    "Definitions:\n",
    "\n",
    "  * Modules:\n",
    "  A module is a file which contains python functions, global variables etc. It is nothing but .py file which has python executable code / statement.\n",
    "\n",
    "  * Packages:\n",
    "  A package is a collection of Python modules: while a module is a single Python file, a package is a directory of Python modules containing an additional `__init__.py` file, to distinguish a package from a directory that just happens to contain a bunch of Python scripts. Packages can be nested to any depth, provided that the corresponding directories contain their own `__init__.py` file.\n",
    "  \n",
    "  * Libraries:\n",
    "  A library is a collection of various packages. There is no difference between package and python library conceptually.\n",
    "  \n",
    "Modules/packages/libraries can be easily \"imported\" and made functional in your python code. A set of libriaries comes with every python installation. Others can be installed locally and then imported. Your own code sitting somewhere else in your local computer can be imported too.\n",
    "\n",
    "Further details on packages and how to create them can be found on the online Python documentation. We may find the need of creating our own during the course."
   ]
  },
  {
   "cell_type": "code",
   "execution_count": null,
   "metadata": {},
   "outputs": [],
   "source": [
    "# import all the \"stuff\" that is in the math library\n",
    "import math\n",
    "print(math.pi)\n",
    "\n",
    "# you can give math a label for convenience\n",
    "import math as m\n",
    "print(m.pi)\n",
    "\n",
    "# alternatively you can import only a given \"thing\" from the library\n",
    "from math import pi    #you can add several libraries at once, just list them separated by a \", \"\n",
    "print(pi)\n",
    "\n",
    "# or just get everything (try to avoid this if you only need specific \"things\")\n",
    "from math import *\n",
    "print(sqrt(7))"
   ]
  },
  {
   "cell_type": "markdown",
   "metadata": {},
   "source": [
    "To know which modules are there for you to use just type:"
   ]
  },
  {
   "cell_type": "code",
   "execution_count": 1,
   "metadata": {},
   "outputs": [
    {
     "name": "stdout",
     "output_type": "stream",
     "text": [
      "sys\n",
      "builtins\n",
      "_frozen_importlib\n",
      "_imp\n",
      "_thread\n",
      "_warnings\n",
      "_weakref\n",
      "_io\n",
      "marshal\n",
      "posix\n",
      "_frozen_importlib_external\n",
      "time\n",
      "zipimport\n",
      "_codecs\n",
      "codecs\n",
      "encodings.aliases\n",
      "encodings\n",
      "encodings.utf_8\n",
      "_signal\n",
      "encodings.latin_1\n",
      "_abc\n",
      "abc\n",
      "io\n",
      "__main__\n",
      "_stat\n",
      "stat\n",
      "_collections_abc\n",
      "genericpath\n",
      "posixpath\n",
      "os.path\n",
      "os\n",
      "_sitebuiltins\n",
      "_locale\n",
      "_bootlocale\n",
      "types\n",
      "enum\n",
      "_sre\n",
      "sre_constants\n",
      "sre_parse\n",
      "sre_compile\n",
      "_heapq\n",
      "heapq\n",
      "itertools\n",
      "keyword\n",
      "_operator\n",
      "operator\n",
      "reprlib\n",
      "_collections\n",
      "collections\n",
      "_functools\n",
      "functools\n",
      "copyreg\n",
      "re\n",
      "sitecustomize\n",
      "site\n",
      "importlib._bootstrap\n",
      "importlib._bootstrap_external\n",
      "warnings\n",
      "importlib\n",
      "importlib.machinery\n",
      "collections.abc\n",
      "contextlib\n",
      "typing.io\n",
      "typing.re\n",
      "typing\n",
      "importlib.abc\n",
      "importlib.util\n",
      "_weakrefset\n",
      "weakref\n",
      "pkgutil\n",
      "runpy\n",
      "ipykernel._version\n",
      "_json\n",
      "json.scanner\n",
      "json.decoder\n",
      "json.encoder\n",
      "json\n",
      "errno\n",
      "signal\n",
      "threading\n",
      "pwd\n",
      "grp\n",
      "_posixsubprocess\n",
      "select\n",
      "math\n",
      "selectors\n",
      "subprocess\n",
      "jupyter_client._version\n",
      "_ast\n",
      "ast\n",
      "_opcode\n",
      "opcode\n",
      "dis\n",
      "token\n",
      "tokenize\n",
      "linecache\n",
      "inspect\n",
      "traitlets.utils\n",
      "traitlets.utils.getargspec\n",
      "traitlets.utils.importstring\n",
      "traitlets.utils.sentinel\n",
      "traitlets.utils.bunch\n",
      "traitlets.utils.descriptions\n",
      "traitlets.traitlets\n",
      "copy\n",
      "traitlets.utils.decorators\n",
      "traitlets._version\n",
      "traitlets\n",
      "concurrent\n",
      "traceback\n",
      "_string\n",
      "string\n",
      "atexit\n",
      "logging\n",
      "concurrent.futures._base\n",
      "concurrent.futures\n",
      "_socket\n",
      "array\n",
      "socket\n",
      "_ssl\n",
      "_struct\n",
      "struct\n",
      "binascii\n",
      "base64\n",
      "ssl\n",
      "asyncio.constants\n",
      "asyncio.format_helpers\n",
      "asyncio.base_futures\n",
      "asyncio.log\n",
      "asyncio.coroutines\n",
      "_contextvars\n",
      "contextvars\n",
      "asyncio.exceptions\n",
      "asyncio.base_tasks\n",
      "_asyncio\n",
      "asyncio.events\n",
      "asyncio.futures\n",
      "asyncio.protocols\n",
      "asyncio.transports\n",
      "asyncio.sslproto\n",
      "asyncio.locks\n",
      "asyncio.tasks\n",
      "asyncio.staggered\n",
      "asyncio.trsock\n",
      "asyncio.base_events\n",
      "asyncio.runners\n",
      "asyncio.queues\n",
      "asyncio.streams\n",
      "asyncio.subprocess\n",
      "asyncio.threads\n",
      "asyncio.base_subprocess\n",
      "asyncio.selector_events\n",
      "asyncio.unix_events\n",
      "asyncio\n",
      "_queue\n",
      "queue\n",
      "platform\n",
      "_ctypes\n",
      "ctypes._endian\n",
      "ctypes\n",
      "zmq.backend.select\n",
      "cython_runtime\n",
      "zmq.backend.cython.constants\n",
      "_cython_0_29_24\n",
      "zmq.backend.cython.error\n",
      "zmq.error\n",
      "zmq.backend.cython.message\n",
      "zmq.backend.cython.context\n",
      "_bisect\n",
      "bisect\n",
      "_random\n",
      "_sha512\n",
      "random\n",
      "_compat_pickle\n",
      "_pickle\n",
      "pickle\n",
      "zmq.backend.cython.socket\n",
      "zmq.backend.cython.utils\n",
      "zmq.backend.cython._poll\n",
      "zmq.backend.cython._version\n",
      "zmq.backend.cython._device\n",
      "zmq.backend.cython._proxy_steerable\n",
      "zmq.backend.cython\n",
      "zmq.backend\n",
      "zmq.utils\n",
      "zmq.utils.constant_names\n",
      "zmq.sugar.constants\n",
      "zmq.sugar.attrsettr\n",
      "zmq.sugar.poll\n",
      "zmq.utils.jsonapi\n",
      "zmq.utils.strtypes\n",
      "zmq.sugar.socket\n",
      "zmq.sugar.context\n",
      "zmq.sugar.frame\n",
      "zmq.sugar.tracker\n",
      "zmq.sugar.version\n",
      "zmq.sugar.stopwatch\n",
      "zmq.sugar\n",
      "zmq\n",
      "zmq._future\n",
      "zmq.asyncio\n",
      "jupyter_client.channelsabc\n",
      "_hashlib\n",
      "_blake2\n",
      "hashlib\n",
      "hmac\n",
      "pprint\n",
      "_datetime\n",
      "datetime\n",
      "gettext\n",
      "argparse\n",
      "traitlets.config.loader\n",
      "textwrap\n",
      "traitlets.utils.text\n",
      "traitlets.config.configurable\n",
      "traitlets.config.application\n",
      "traitlets.config\n",
      "traitlets.log\n",
      "__future__\n",
      "tornado\n",
      "logging.handlers\n",
      "html.entities\n",
      "html\n",
      "urllib\n",
      "urllib.parse\n",
      "zlib\n",
      "tornado.speedups\n",
      "tornado.util\n",
      "tornado.escape\n",
      "_curses\n",
      "curses\n",
      "tornado.log\n",
      "numbers\n",
      "tornado.concurrent\n",
      "tornado.ioloop\n",
      "tornado.platform\n",
      "tornado.gen\n",
      "tornado.platform.asyncio\n",
      "zmq.eventloop.ioloop\n",
      "zmq.eventloop\n",
      "zmq.eventloop.zmqstream\n",
      "jupyter_client.adapter\n",
      "dateutil._version\n",
      "dateutil\n",
      "locale\n",
      "calendar\n",
      "six\n",
      "_decimal\n",
      "decimal\n",
      "dateutil._common\n",
      "dateutil.relativedelta\n",
      "six.moves\n",
      "dateutil.tz._common\n",
      "dateutil.tz._factories\n",
      "dateutil.tz.tz\n",
      "dateutil.tz\n",
      "dateutil.parser._parser\n",
      "dateutil.parser.isoparser\n",
      "dateutil.parser\n",
      "_strptime\n",
      "jupyter_client.jsonutil\n",
      "jupyter_client.session\n",
      "jupyter_client.channels\n",
      "termios\n",
      "getpass\n",
      "jupyter_client.clientabc\n",
      "fnmatch\n",
      "glob\n",
      "_compression\n",
      "_bz2\n",
      "bz2\n",
      "_lzma\n",
      "lzma\n",
      "shutil\n",
      "tempfile\n",
      "jupyter_core.version\n",
      "jupyter_core\n",
      "ntpath\n",
      "pathlib\n",
      "jupyter_core.paths\n",
      "jupyter_client.localinterfaces\n",
      "jupyter_client.utils\n",
      "jupyter_client.connect\n",
      "jupyter_client.client\n",
      "jupyter_client.asynchronous.client\n",
      "jupyter_client.asynchronous\n",
      "jupyter_client.blocking.client\n",
      "jupyter_client.blocking\n",
      "jupyter_client.launcher\n",
      "_uuid\n",
      "uuid\n",
      "jupyter_client.managerabc\n",
      "zipfile\n",
      "configparser\n",
      "entrypoints\n",
      "jupyter_client.provisioning.provisioner_base\n",
      "jupyter_client.provisioning.factory\n",
      "jupyter_client.provisioning.local_provisioner\n",
      "jupyter_client.provisioning\n",
      "jupyter_client.kernelspec\n",
      "jupyter_client.manager\n",
      "jupyter_client.multikernelmanager\n",
      "jupyter_client\n",
      "ipykernel.connect\n",
      "ipykernel\n",
      "IPython.core\n",
      "IPython.core.getipython\n",
      "IPython.core.release\n",
      "sysconfig\n",
      "_sysconfigdata__darwin_darwin\n",
      "_osx_support\n",
      "pydoc\n",
      "bdb\n",
      "IPython.utils\n",
      "IPython.utils.ipstruct\n",
      "IPython.utils.coloransi\n",
      "pygments\n",
      "IPython.utils.colorable\n",
      "IPython.utils.PyColorize\n",
      "IPython.utils.encoding\n",
      "IPython.utils.py3compat\n",
      "IPython.core.excolors\n",
      "IPython.testing\n",
      "IPython.testing.skipdoctest\n",
      "cmd\n",
      "codeop\n",
      "code\n",
      "pdb\n",
      "IPython.core.debugger\n",
      "IPython.core.display_trap\n",
      "pexpect.exceptions\n",
      "pexpect.utils\n",
      "pexpect.expect\n",
      "tty\n",
      "pty\n",
      "fcntl\n",
      "resource\n",
      "ptyprocess.util\n",
      "ptyprocess.ptyprocess\n",
      "ptyprocess\n",
      "pexpect.spawnbase\n",
      "pexpect.pty_spawn\n",
      "pexpect.run\n",
      "pexpect\n",
      "shlex\n",
      "IPython.utils._process_common\n",
      "IPython.utils._process_posix\n",
      "IPython.utils.process\n",
      "IPython.utils.decorators\n",
      "IPython.utils.path\n",
      "IPython.utils.data\n",
      "IPython.utils.terminal\n",
      "IPython.core.ultratb\n",
      "IPython.utils._sysinfo\n",
      "IPython.utils.sysinfo\n",
      "IPython.core.crashhandler\n",
      "IPython.utils.importstring\n",
      "IPython.paths\n",
      "IPython.core.profiledir\n",
      "IPython.core.application\n",
      "IPython.terminal\n",
      "IPython.core.compilerop\n",
      "IPython.core.error\n",
      "IPython.utils.text\n",
      "IPython.core.magic_arguments\n",
      "getopt\n",
      "mimetypes\n",
      "IPython.core.display\n",
      "IPython.core.page\n",
      "IPython.lib.security\n",
      "IPython.lib\n",
      "IPython.lib.pretty\n",
      "IPython.utils.openpy\n",
      "IPython.utils.dir2\n",
      "IPython.utils.wildcard\n",
      "pygments.lexers._mapping\n",
      "pygments.modeline\n",
      "pygments.plugin\n",
      "pygments.util\n",
      "pygments.lexers\n",
      "pygments.filter\n",
      "pygments.token\n",
      "pygments.filters\n",
      "pygments.regexopt\n",
      "pygments.lexer\n",
      "pygments.unistring\n",
      "pygments.lexers.python\n",
      "pygments.formatters._mapping\n",
      "pygments.formatters\n",
      "pygments.styles\n",
      "pygments.formatter\n",
      "pygments.formatters.html\n",
      "IPython.core.oinspect\n",
      "IPython.core.inputtransformer2\n",
      "decorator\n",
      "IPython.core.magic\n",
      "pickleshare\n",
      "IPython.core.autocall\n",
      "IPython.core.macro\n",
      "IPython.core.splitinput\n",
      "IPython.core.prefilter\n",
      "IPython.core.alias\n",
      "IPython.core.builtin_trap\n",
      "backcall.backcall\n",
      "backcall\n",
      "IPython.core.events\n",
      "IPython.core.displayhook\n",
      "IPython.core.displaypub\n",
      "IPython.core.extensions\n",
      "IPython.utils.sentinel\n",
      "IPython.core.formatters\n",
      "_sqlite3\n",
      "sqlite3.dbapi2\n",
      "sqlite3\n",
      "IPython.core.history\n",
      "IPython.core.logger\n",
      "IPython.core.payload\n",
      "IPython.core.usage\n",
      "IPython.lib.display\n",
      "IPython.display\n",
      "IPython.utils.capture\n",
      "IPython.utils.io\n",
      "IPython.core.hooks\n",
      "IPython.utils.strdispatch\n",
      "IPython.utils.syspathcontext\n",
      "IPython.utils.tempdir\n",
      "IPython.utils.contexts\n",
      "IPython.core.async_helpers\n",
      "IPython.core.interactiveshell\n",
      "prompt_toolkit.application.current\n",
      "prompt_toolkit.eventloop.utils\n",
      "prompt_toolkit.eventloop.async_generator\n",
      "wcwidth.table_wide\n",
      "wcwidth.table_zero\n",
      "wcwidth.unicode_versions\n",
      "wcwidth.wcwidth\n",
      "wcwidth\n",
      "prompt_toolkit.utils\n",
      "prompt_toolkit.eventloop.inputhook\n",
      "prompt_toolkit.eventloop\n",
      "prompt_toolkit.application.run_in_terminal\n",
      "prompt_toolkit.selection\n",
      "prompt_toolkit.clipboard.base\n",
      "prompt_toolkit.clipboard.in_memory\n",
      "prompt_toolkit.clipboard\n",
      "prompt_toolkit.cache\n",
      "prompt_toolkit.enums\n",
      "prompt_toolkit.filters.base\n",
      "prompt_toolkit.filters.app\n",
      "prompt_toolkit.filters.cli\n",
      "prompt_toolkit.filters.utils\n",
      "prompt_toolkit.filters\n",
      "prompt_toolkit.document\n",
      "prompt_toolkit.auto_suggest\n",
      "prompt_toolkit.data_structures\n",
      "prompt_toolkit.styles.base\n",
      "prompt_toolkit.styles.named_colors\n",
      "prompt_toolkit.styles.style\n",
      "prompt_toolkit.styles.defaults\n",
      "prompt_toolkit.styles.pygments\n",
      "colorsys\n",
      "prompt_toolkit.styles.style_transformation\n",
      "prompt_toolkit.styles\n",
      "prompt_toolkit.output.color_depth\n",
      "prompt_toolkit.output.base\n",
      "prompt_toolkit.output.defaults\n",
      "prompt_toolkit.output\n",
      "prompt_toolkit.output.vt100\n",
      "prompt_toolkit.mouse_events\n",
      "prompt_toolkit.formatted_text.base\n",
      "prompt_toolkit.formatted_text.ansi\n",
      "xml\n",
      "xml.dom.domreg\n",
      "xml.dom\n",
      "xml.dom.minicompat\n",
      "xml.dom.NodeFilter\n",
      "xml.dom.xmlbuilder\n",
      "xml.dom.minidom\n",
      "prompt_toolkit.formatted_text.html\n",
      "prompt_toolkit.formatted_text.pygments\n",
      "prompt_toolkit.formatted_text.utils\n",
      "prompt_toolkit.formatted_text\n",
      "prompt_toolkit.completion.base\n",
      "prompt_toolkit.completion.deduplicate\n",
      "prompt_toolkit.completion.filesystem\n",
      "prompt_toolkit.completion.word_completer\n",
      "prompt_toolkit.completion.fuzzy_completer\n",
      "prompt_toolkit.completion.nested\n",
      "prompt_toolkit.completion\n",
      "prompt_toolkit.history\n",
      "prompt_toolkit.keys\n",
      "prompt_toolkit.key_binding.key_bindings\n",
      "prompt_toolkit.key_binding.key_processor\n",
      "prompt_toolkit.key_binding\n",
      "prompt_toolkit.key_binding.vi_state\n",
      "prompt_toolkit.search\n",
      "prompt_toolkit.validation\n",
      "prompt_toolkit.buffer\n",
      "prompt_toolkit.input.base\n",
      "prompt_toolkit.input.defaults\n",
      "prompt_toolkit.input\n",
      "prompt_toolkit.input.typeahead\n",
      "prompt_toolkit.key_binding.bindings\n",
      "prompt_toolkit.key_binding.bindings.scroll\n",
      "prompt_toolkit.key_binding.bindings.page_navigation\n",
      "prompt_toolkit.lexers.base\n",
      "prompt_toolkit.lexers.pygments\n",
      "prompt_toolkit.lexers\n",
      "prompt_toolkit.layout.utils\n",
      "prompt_toolkit.layout.processors\n",
      "prompt_toolkit.layout.controls\n",
      "prompt_toolkit.layout.dimension\n",
      "prompt_toolkit.layout.margins\n",
      "prompt_toolkit.layout.mouse_handlers\n",
      "prompt_toolkit.layout.screen\n",
      "prompt_toolkit.layout.containers\n",
      "prompt_toolkit.layout.layout\n",
      "prompt_toolkit.layout.menus\n",
      "prompt_toolkit.layout.scrollable_pane\n",
      "prompt_toolkit.layout\n",
      "prompt_toolkit.key_binding.bindings.completion\n",
      "prompt_toolkit.key_binding.bindings.named_commands\n",
      "prompt_toolkit.key_binding.bindings.basic\n",
      "prompt_toolkit.key_binding.bindings.cpr\n",
      "prompt_toolkit.key_binding.bindings.emacs\n",
      "prompt_toolkit.key_binding.bindings.mouse\n",
      "prompt_toolkit.input.ansi_escape_sequences\n",
      "prompt_toolkit.input.vt100_parser\n",
      "prompt_toolkit.key_binding.digraphs\n",
      "prompt_toolkit.key_binding.bindings.vi\n",
      "prompt_toolkit.key_binding.defaults\n",
      "prompt_toolkit.key_binding.emacs_state\n",
      "prompt_toolkit.layout.dummy\n",
      "prompt_toolkit.renderer\n",
      "prompt_toolkit.application.application\n",
      "prompt_toolkit.application.dummy\n",
      "prompt_toolkit.application\n",
      "prompt_toolkit.key_binding.bindings.focus\n",
      "prompt_toolkit.widgets.toolbars\n",
      "prompt_toolkit.widgets.base\n",
      "prompt_toolkit.widgets.dialogs\n",
      "prompt_toolkit.widgets.menus\n",
      "prompt_toolkit.widgets\n",
      "prompt_toolkit.shortcuts.dialogs\n",
      "prompt_toolkit.shortcuts.progress_bar.formatters\n",
      "prompt_toolkit.shortcuts.progress_bar.base\n",
      "prompt_toolkit.shortcuts.progress_bar\n",
      "prompt_toolkit.key_binding.bindings.auto_suggest\n",
      "prompt_toolkit.key_binding.bindings.open_in_editor\n",
      "prompt_toolkit.shortcuts.prompt\n",
      "prompt_toolkit.shortcuts.utils\n",
      "prompt_toolkit.shortcuts\n",
      "prompt_toolkit\n",
      "prompt_toolkit.patch_stdout\n",
      "pygments.style\n",
      "unicodedata\n",
      "IPython.core.latex_symbols\n",
      "IPython.utils.generics\n",
      "parso.utils\n",
      "parso.tree\n",
      "parso.python\n",
      "parso.python.token\n",
      "parso.python.tokenize\n",
      "parso.pgen2.grammar_parser\n",
      "parso.pgen2.generator\n",
      "parso.pgen2\n",
      "parso.parser\n",
      "parso._compatibility\n",
      "difflib\n",
      "parso.python.prefix\n",
      "parso.python.tree\n",
      "parso.python.parser\n",
      "parso.python.diff\n",
      "gc\n",
      "parso.cache\n",
      "parso.normalizer\n",
      "parso.python.errors\n",
      "parso.python.pep8\n",
      "parso.file_io\n",
      "parso.grammar\n",
      "parso\n",
      "jedi._compatibility\n",
      "jedi.parser_utils\n",
      "jedi.debug\n",
      "jedi.settings\n",
      "jedi.cache\n",
      "jedi.file_io\n",
      "jedi.inference.cache\n",
      "jedi.inference.helpers\n",
      "jedi.inference.utils\n",
      "jedi.inference.base_value\n",
      "jedi.inference.sys_path\n",
      "jedi.inference.recursion\n",
      "jedi.inference.flow_analysis\n",
      "jedi.common\n",
      "jedi.inference.lazy_value\n",
      "jedi.inference.docstrings\n",
      "jedi.plugins\n",
      "jedi.inference.names\n",
      "jedi.inference.filters\n",
      "jedi.inference.compiled.getattr_static\n",
      "jedi.inference.compiled.access\n",
      "jedi.inference.signature\n",
      "jedi.inference.context\n",
      "jedi.inference.compiled.value\n",
      "jedi.inference.compiled\n",
      "jedi.inference.analysis\n",
      "jedi.inference.gradual\n",
      "jedi.inference.value.module\n",
      "jedi.inference.value.dynamic_arrays\n",
      "jedi.inference.value.iterable\n",
      "jedi.inference.arguments\n",
      "jedi.inference.parser_cache\n",
      "jedi.inference.gradual.generics\n",
      "jedi.inference.value.function\n",
      "jedi.inference.value.klass\n",
      "jedi.inference.value.instance\n",
      "jedi.inference.value\n",
      "jedi.inference.gradual.base\n",
      "jedi.inference.gradual.type_var\n",
      "jedi.inference.gradual.typing\n",
      "jedi.inference.gradual.stub_value\n",
      "jedi.inference.gradual.typeshed\n",
      "jedi.inference.compiled.subprocess.functions\n",
      "jedi.api.exceptions\n",
      "jedi.inference.compiled.subprocess\n",
      "jedi.inference.imports\n",
      "jedi.inference.param\n",
      "jedi.inference.gradual.annotation\n",
      "jedi.inference.value.decorator\n",
      "jedi.inference.syntax_tree\n",
      "jedi.inference\n",
      "jedi.inference.gradual.conversion\n",
      "jedi.inference.compiled.mixed\n",
      "pydoc_data\n",
      "pydoc_data.topics\n",
      "jedi.api.keywords\n",
      "jedi.api.completion_cache\n",
      "jedi.api.helpers\n",
      "jedi.api.classes\n",
      "jedi.api.interpreter\n",
      "jedi.api.strings\n",
      "jedi.api.file_name\n",
      "jedi.api.completion\n",
      "filecmp\n",
      "jedi.api.environment\n",
      "jedi.inference.references\n",
      "jedi.api.project\n",
      "jedi.api.errors\n",
      "jedi.api.refactoring\n",
      "jedi.api.refactoring.extract\n",
      "jedi.inference.gradual.utils\n",
      "jedi.api\n",
      "jedi.plugins.stdlib\n",
      "jedi.plugins.flask\n",
      "jedi.plugins.pytest\n",
      "jedi.plugins.django\n",
      "jedi.plugins.registry\n",
      "jedi\n",
      "IPython.core.completer\n",
      "IPython.terminal.ptutils\n",
      "IPython.terminal.shortcuts\n",
      "IPython.terminal.debugger\n",
      "IPython.lib.clipboard\n",
      "IPython.terminal.magics\n",
      "IPython.terminal.pt_inputhooks\n",
      "IPython.terminal.prompts\n",
      "IPython.terminal.interactiveshell\n",
      "IPython.core.magics.auto\n",
      "IPython.core.magics.basic\n",
      "email\n",
      "http\n",
      "email.errors\n",
      "email.quoprimime\n",
      "email.base64mime\n",
      "quopri\n",
      "email.encoders\n",
      "email.charset\n",
      "email.header\n",
      "email._parseaddr\n",
      "email.utils\n",
      "email._policybase\n",
      "email.feedparser\n",
      "email.parser\n",
      "uu\n",
      "email._encoded_words\n",
      "email.iterators\n",
      "email.message\n",
      "http.client\n",
      "urllib.response\n",
      "urllib.error\n",
      "_scproxy\n",
      "urllib.request\n",
      "IPython.core.magics.code\n",
      "IPython.core.magics.config\n",
      "IPython.core.magics.display\n",
      "timeit\n",
      "_lsprof\n",
      "profile\n",
      "cProfile\n",
      "dataclasses\n",
      "pstats\n",
      "IPython.utils.module_paths\n",
      "IPython.utils.timing\n",
      "IPython.core.magics.execution\n",
      "IPython.core.magics.extension\n",
      "IPython.core.magics.history\n",
      "IPython.core.magics.logging\n",
      "IPython.core.magics.namespace\n",
      "IPython.core.magics.osm\n",
      "IPython.core.magics.packaging\n",
      "IPython.core.pylabtools\n",
      "IPython.core.magics.pylab\n",
      "IPython.lib.backgroundjobs\n",
      "IPython.core.magics.script\n",
      "IPython.core.magics\n",
      "IPython.core.shellapp\n",
      "IPython.extensions\n",
      "IPython.extensions.storemagic\n",
      "IPython.terminal.ipapp\n",
      "IPython.terminal.embed\n",
      "IPython.utils.frame\n",
      "IPython\n",
      "ipython_genutils._version\n",
      "ipython_genutils\n",
      "ipython_genutils.encoding\n",
      "ipython_genutils.py3compat\n",
      "ipython_genutils.path\n",
      "imp\n",
      "ipykernel.iostream\n",
      "ipykernel.control\n",
      "ipykernel.heartbeat\n",
      "IPython.utils.tokenutil\n",
      "tornado.locks\n",
      "tornado.queues\n",
      "ipykernel.jsonutil\n",
      "ipykernel.kernelbase\n",
      "ipykernel.comm.comm\n",
      "ipykernel.comm.manager\n",
      "ipykernel.comm\n",
      "IPython.core.payloadpage\n",
      "ipykernel.displayhook\n",
      "ipykernel.zmqshell\n",
      "distutils\n",
      "distutils.version\n",
      "ipykernel.eventloops\n",
      "ipykernel.compiler\n",
      "debugpy._version\n",
      "debugpy.common\n",
      "debugpy.common.json\n",
      "debugpy.common.fmt\n",
      "debugpy.common.compat\n",
      "debugpy\n",
      "debugpy._vendored._util\n",
      "debugpy._vendored\n",
      "_pydevd_bundle\n",
      "encodings.ascii\n",
      "stringprep\n",
      "encodings.idna\n",
      "_pydevd_bundle.pydevd_vm_type\n",
      "_pydev_imps\n",
      "xmlrpc\n",
      "xml.parsers\n",
      "pyexpat.errors\n",
      "pyexpat.model\n",
      "pyexpat\n",
      "xml.parsers.expat.model\n",
      "xml.parsers.expat.errors\n",
      "xml.parsers.expat\n",
      "gzip\n",
      "xmlrpc.client\n",
      "socketserver\n",
      "http.server\n",
      "xmlrpc.server\n",
      "_pydev_imps._pydev_saved_modules\n",
      "_pydevd_bundle.pydevd_constants\n",
      "_pydev_bundle\n",
      "_pydev_runfiles\n",
      "_pydevd_frame_eval\n",
      "pydev_ipython\n",
      "pydevd_concurrency_analyser\n",
      "plistlib\n",
      "pkg_resources.extern\n",
      "pkg_resources._vendor\n",
      "pkg_resources._vendor.appdirs\n",
      "pkg_resources.extern.appdirs\n",
      "pkg_resources._vendor.packaging.__about__\n",
      "pkg_resources._vendor.packaging\n",
      "pkg_resources.extern.packaging\n",
      "pkg_resources.extern.packaging._structures\n",
      "pkg_resources.extern.packaging._typing\n",
      "pkg_resources.extern.packaging.version\n",
      "pkg_resources.extern.packaging._compat\n",
      "pkg_resources.extern.packaging.utils\n",
      "pkg_resources.extern.packaging.specifiers\n",
      "pkg_resources._vendor.pyparsing\n",
      "pkg_resources.extern.pyparsing\n",
      "pkg_resources.extern.packaging.markers\n",
      "pkg_resources.extern.packaging.requirements\n",
      "pkg_resources\n",
      "pydevd_plugins\n",
      "_pydev_bundle.pydev_log\n",
      "_pydev_bundle._pydev_filesystem_encoding\n",
      "_pydevd_bundle.pydevd_comm_constants\n",
      "pydevd_file_utils\n",
      "_pydev_imps._pydev_execfile\n",
      "_pydevd_bundle.pydevd_exec2\n",
      "_pydev_bundle.pydev_imports\n",
      "_pydev_bundle.pydev_is_thread_alive\n",
      "_pydev_bundle.pydev_override\n",
      "pydevd_plugins.extensions\n",
      "_pydevd_bundle.pydevd_extension_utils\n",
      "_pydevd_bundle.pydevd_frame_utils\n",
      "_pydevd_bundle.pydevd_filtering\n",
      "_pydevd_bundle.pydevd_io\n",
      "_pydevd_bundle.pydevd_utils\n",
      "_pydev_bundle._pydev_tipper_common\n",
      "_pydev_bundle._pydev_imports_tipper\n",
      "_pydev_bundle._pydev_calltip_util\n",
      "_pydevd_bundle.pydevd_safe_repr\n",
      "_pydevd_bundle.pydevd_resolver\n",
      "_pydevd_bundle.pydevd_extension_api\n",
      "_pydevd_bundle.pydevd_xml\n",
      "_pydevd_bundle.pydevd_dont_trace\n",
      "_pydevd_frame_eval.vendored\n",
      "_pydevd_frame_eval.vendored.bytecode.flags\n",
      "_pydevd_frame_eval.vendored.bytecode.instr\n",
      "_pydevd_frame_eval.vendored.bytecode.bytecode\n",
      "_pydevd_frame_eval.vendored.bytecode.concrete\n",
      "_pydevd_frame_eval.vendored.bytecode.cfg\n",
      "_pydevd_frame_eval.vendored.bytecode\n",
      "_pydevd_bundle.pydevd_bytecode_utils\n",
      "_pydevd_bundle.pydevd_frame\n",
      "_pydevd_bundle.pydevd_additional_thread_info_regular\n",
      "_pydevd_bundle.pydevd_additional_thread_info\n",
      "_pydevd_bundle.pydevd_thread_lifecycle\n",
      "_pydevd_bundle.pydevd_save_locals\n",
      "_pydevd_bundle.pydevd_defaults\n",
      "_pydev_bundle.pydev_monkey\n",
      "pydevd_tracing\n",
      "_pydevd_bundle.pydevd_daemon_thread\n",
      "_pydevd_bundle.pydevd_timeout\n",
      "_pydevd_bundle.pydevd_vars\n",
      "_pydev_bundle.pydev_console_utils\n",
      "_pydevd_bundle.pydevd_import_class\n",
      "_pydevd_bundle.pydevd_breakpoints\n",
      "_pydevd_bundle.pydevd_custom_frames\n",
      "_pydevd_bundle.pydevd_dont_trace_files\n",
      "_pydevd_bundle.pydevd_net_command\n",
      "_pydev_bundle.pydev_umd\n",
      "pydevconsole\n",
      "_pydev_bundle._pydev_completer\n",
      "_pydevd_bundle.pydevd_net_command_factory_xml\n",
      "_pydevd_bundle.pydevd_trace_dispatch_regular\n",
      "_pydevd_bundle.pydevd_trace_dispatch\n",
      "_pydevd_frame_eval.pydevd_frame_eval_main\n",
      "_pydevd_bundle.pydevd_source_mapping\n",
      "pydevd_concurrency_analyser.pydevd_thread_wrappers\n",
      "pydevd_concurrency_analyser.pydevd_concurrency_logger\n",
      "_pydevd_bundle._debug_adapter\n",
      "_pydevd_bundle._debug_adapter.pydevd_schema_log\n",
      "_pydevd_bundle._debug_adapter.pydevd_base_schema\n",
      "_pydevd_bundle._debug_adapter.pydevd_schema\n",
      "_pydevd_bundle.pydevd_reload\n",
      "_pydev_bundle.fsnotify\n",
      "_pydevd_bundle.pydevd_console\n",
      "_pydevd_bundle.pydevd_comm\n",
      "_pydevd_bundle.pydevd_net_command_factory_json\n",
      "_pydevd_bundle.pydevd_collect_bytecode_info\n",
      "_pydevd_bundle.pydevd_api\n",
      "_pydevd_bundle.pydevd_json_debug_options\n",
      "_pydevd_bundle.pydevd_process_net_command_json\n",
      "_pydevd_bundle.pydevd_traceproperty\n",
      "_pydevd_bundle.pydevd_process_net_command\n",
      "_pydevd_bundle.pydevd_suspended_frames\n",
      "_pydevd_bundle.pydevd_trace_api\n",
      "pydevd_plugins.django_debug\n",
      "pydevd_plugins.jinja2_debug\n",
      "_pydevd_bundle.pydevd_plugin_utils\n",
      "pydevd_plugins.extensions.types\n",
      "pydevd_plugins.extensions.types.pydevd_helpers\n",
      "pydevd_plugins.extensions.types.pydevd_plugin_numpy_types\n",
      "pydevd_plugins.extensions.types.pydevd_plugins_django_form_str\n",
      "pydevd\n",
      "debugpy._vendored.force_pydevd\n",
      "debugpy.server\n",
      "debugpy.adapter\n",
      "debugpy.common.timestamp\n",
      "debugpy.common.util\n",
      "debugpy.common.log\n",
      "debugpy.common.sockets\n",
      "debugpy.server.api\n",
      "ipykernel.debugger\n",
      "ipykernel.ipkernel\n",
      "ipykernel.parentpoller\n",
      "ipykernel.kernelapp\n",
      "faulthandler\n",
      "IPython.core.completerlib\n",
      "ctypes.macholib\n",
      "ctypes.macholib.framework\n",
      "ctypes.macholib.dylib\n",
      "ctypes.macholib.dyld\n",
      "ctypes.util\n",
      "appnope._nope\n",
      "appnope\n",
      "storemagic\n"
     ]
    }
   ],
   "source": [
    "import sys\n",
    "for k, v in sys.modules.items():\n",
    "    print(k)\n",
    "\n",
    "# Alternative for older python versions\n",
    "# print(help('modules') )"
   ]
  },
  {
   "cell_type": "markdown",
   "metadata": {},
   "source": [
    "`pip` is a special package. It is used from the command line to install properly (e.g. matching the version of the local packages) new packages. It can also be used from within python to check i.e. the set installed packages and their versions. N.B.: only the installed packages on top of the default ones will be listed "
   ]
  },
  {
   "cell_type": "code",
   "execution_count": 2,
   "metadata": {},
   "outputs": [
    {
     "name": "stdout",
     "output_type": "stream",
     "text": [
      "found distribution parso version 0.8.2\n",
      "found distribution testpath version 0.5.0\n",
      "found distribution wheel version 0.36.2\n",
      "found distribution ipython version 7.28.0\n",
      "found distribution tornado version 6.1\n",
      "found distribution pandocfilters version 1.5.0\n",
      "found distribution ptyprocess version 0.7.0\n",
      "found distribution packaging version 21.0\n",
      "found distribution webencodings version 0.5.1\n",
      "found distribution python-dateutil version 2.8.2\n",
      "found distribution nest-asyncio version 1.5.1\n",
      "found distribution defusedxml version 0.7.1\n",
      "found distribution pycparser version 2.20\n",
      "found distribution pickleshare version 0.7.5\n",
      "found distribution bleach version 4.1.0\n",
      "found distribution jupyter-console version 6.4.0\n",
      "found distribution Send2Trash version 1.8.0\n",
      "found distribution six version 1.16.0\n",
      "found distribution QtPy version 1.11.2\n",
      "found distribution pyparsing version 2.4.7\n",
      "found distribution appnope version 0.1.2\n",
      "found distribution decorator version 5.1.0\n",
      "found distribution traitlets version 5.1.0\n",
      "found distribution Pygments version 2.10.0\n",
      "found distribution entrypoints version 0.3\n",
      "found distribution cffi version 1.14.6\n",
      "found distribution widgetsnbextension version 3.5.1\n",
      "found distribution jupyter-client version 7.0.6\n",
      "found distribution matplotlib-inline version 0.1.3\n",
      "found distribution jedi version 0.18.0\n",
      "found distribution debugpy version 1.5.0\n",
      "found distribution pyrsistent version 0.18.0\n",
      "found distribution backcall version 0.2.0\n",
      "found distribution attrs version 21.2.0\n",
      "found distribution prometheus-client version 0.11.0\n",
      "found distribution ipython-genutils version 0.2.0\n",
      "found distribution ipykernel version 6.4.1\n",
      "found distribution prompt-toolkit version 3.0.20\n",
      "found distribution terminado version 0.12.1\n",
      "found distribution argon2-cffi version 21.1.0\n",
      "found distribution jupyter version 1.0.0\n",
      "found distribution notebook version 6.4.4\n",
      "found distribution Jinja2 version 3.0.2\n",
      "found distribution pip version 21.1.3\n",
      "found distribution pexpect version 4.8.0\n",
      "found distribution nbconvert version 6.2.0\n",
      "found distribution wcwidth version 0.2.5\n",
      "found distribution setuptools version 57.0.0\n",
      "found distribution pyzmq version 22.3.0\n",
      "found distribution mistune version 0.8.4\n",
      "found distribution jsonschema version 4.1.0\n",
      "found distribution jupyterlab-pygments version 0.1.2\n",
      "found distribution nbformat version 5.1.3\n",
      "found distribution ipywidgets version 7.6.5\n",
      "found distribution MarkupSafe version 2.0.1\n",
      "found distribution nbclient version 0.5.4\n",
      "found distribution jupyterlab-widgets version 1.0.2\n",
      "found distribution jupyter-core version 4.8.1\n",
      "found distribution qtconsole version 5.1.1\n"
     ]
    }
   ],
   "source": [
    "import sys\n",
    "\n",
    "if sys.version_info >= (3, 8):\n",
    "    from importlib import metadata as importlib_metadata\n",
    "else:\n",
    "    import importlib_metadata\n",
    "\n",
    "dists = importlib_metadata.distributions()\n",
    "for dist in dists:\n",
    "    name = dist.metadata[\"Name\"]\n",
    "    version = dist.version\n",
    "    print(\"found distribution %s version %s\" % (name, version))\n",
    "\n",
    "#import pip\n",
    "#sorted([\"%s==%s\" % (i.key, i.version) for i in pip.get_installed_distributions()])"
   ]
  },
  {
   "cell_type": "markdown",
   "metadata": {},
   "source": [
    "# Functions"
   ]
  },
  {
   "cell_type": "code",
   "execution_count": 40,
   "metadata": {},
   "outputs": [
    {
     "name": "stdout",
     "output_type": "stream",
     "text": [
      "4371212656\n",
      "9\n",
      "27\n",
      "cube 27\n",
      "square 9\n"
     ]
    }
   ],
   "source": [
    "def square(x):\n",
    "    \"\"\"Square of x.\"\"\"\n",
    "    #print(id(x))\n",
    "    return x*x\n",
    "\n",
    "def cube(x):\n",
    "    \"\"\"Cube of x.\"\"\"\n",
    "   # print(id(x))\n",
    "    return x*x*x\n",
    "\n",
    "# create a dictionary of functions\n",
    "funcs = {\n",
    "    'square': square,\n",
    "    'cube': cube,\n",
    "}\n",
    "\n",
    "x = 3\n",
    "print(id(x))\n",
    "print(square(x))\n",
    "print(cube(x))\n",
    "\n",
    "for func in sorted(funcs):\n",
    "    print (func, funcs[func](x))\n",
    "\n",
    "#id used to access variables: we see that functions point to the same python objects, even if inside or outside func!\n",
    "#"
   ]
  },
  {
   "cell_type": "markdown",
   "metadata": {},
   "source": [
    "## Functions arguments"
   ]
  },
  {
   "cell_type": "markdown",
   "metadata": {},
   "source": [
    "What if the function tries to modify an immutable object set as default argument?"
   ]
  },
  {
   "cell_type": "code",
   "execution_count": 9,
   "metadata": {},
   "outputs": [
    {
     "name": "stdout",
     "output_type": "stream",
     "text": [
      "1\n",
      "3\n",
      "1\n"
     ]
    }
   ],
   "source": [
    "def modify(x):\n",
    "    x += 2\n",
    "    return x\n",
    "\n",
    "x = 1\n",
    "print(x)\n",
    "print(modify(x))\n",
    "print(x)\n",
    "\n",
    "#we define the obj in the global scope, we call a function passing the obj and then we change the val of the obj.\n",
    "#x is not modified!! print(x) gives 1, print(modify(x)) we have 3 but then again 1 since x is not modified!!\n",
    "#we modify the obj inside the func, not the one defined outside. \n"
   ]
  },
  {
   "cell_type": "markdown",
   "metadata": {},
   "source": [
    "Now imagine we have a list *x =[1, 2, 3]*, i.e. a mutable object. If within the function the content of *x* is directly changed (e.g. *x[0] = 999*), then *x* changes outside the funciton as well. "
   ]
  },
  {
   "cell_type": "code",
   "execution_count": 12,
   "metadata": {},
   "outputs": [
    {
     "name": "stdout",
     "output_type": "stream",
     "text": [
      "[1, 2, 3]\n",
      "[999, 2, 3]\n",
      "[999, 2, 3]\n"
     ]
    }
   ],
   "source": [
    "def modify(x):\n",
    "    x[0] = 999\n",
    "    return x\n",
    "\n",
    "x = [1,2,3]\n",
    "print(x)\n",
    "print(modify(x))\n",
    "print(x)\n",
    "#Mutable obj are particular. In this case, calling the modify function implies that even the original obj \n",
    "#is modified\n",
    "\n",
    "#So the first print gives the inserted list, then it is modified and the second print gives the modified one\n",
    "#and the third print gives the modified again! We changed the list, we modified the mutable original obj."
   ]
  },
  {
   "cell_type": "markdown",
   "metadata": {},
   "source": [
    "However, if *x* is reassigned within the function to a new object (e.g. another list), then the copy of the name *x* now points to the new object, but *x* outside the function is unchanged."
   ]
  },
  {
   "cell_type": "code",
   "execution_count": 14,
   "metadata": {},
   "outputs": [
    {
     "name": "stdout",
     "output_type": "stream",
     "text": [
      "[1, 2, 3]\n",
      "[4, 5, 6]\n",
      "[1, 2, 3]\n"
     ]
    }
   ],
   "source": [
    "def no_modify(x):\n",
    "    x = [4,5,6]\n",
    "    return x\n",
    "\n",
    "x = [1,2,3]\n",
    "print(x)\n",
    "print(no_modify(x))\n",
    "print(x)\n",
    "\n",
    "#In this case, we assign a new list, completely. In this case, the behaviour is similar to first case where\n",
    "#the obj was immutable. \n",
    "\n",
    "#So, first we have pointer to original list, then we create new list and the x inside the func points to the new list\n",
    "#defined inside the func, while x still points to the original list!"
   ]
  },
  {
   "cell_type": "markdown",
   "metadata": {},
   "source": [
    "### Initialization of function arguments"
   ]
  },
  {
   "cell_type": "markdown",
   "metadata": {},
   "source": [
    "A Python behaviour that may not be intuitive, and you should pay attention to:"
   ]
  },
  {
   "cell_type": "code",
   "execution_count": 15,
   "metadata": {},
   "outputs": [
    {
     "name": "stdout",
     "output_type": "stream",
     "text": [
      "[1]\n",
      "[1, 1]\n",
      "[9, 9, 9, 1]\n",
      "[1, 1, 1]\n",
      "[1, 1, 1, 1]\n"
     ]
    }
   ],
   "source": [
    "def f(x = []):\n",
    "    x.append(1)\n",
    "    return x\n",
    "\n",
    "print(f())\n",
    "print(f())\n",
    "print(f(x = [9,9,9]))\n",
    "print(f())\n",
    "print(f())\n",
    "\n",
    "#Mutable obj are convenient but we have to pay attention.\n",
    "\n",
    "#First, we define f as an empty list. Then, we append 1 and return it. \n",
    "#So, the first print gives 1.\n",
    "#The second time, we will have the append of another 1: we expect f to be empty and have just one 1, but now it's\n",
    "#like the obj x lives outside the function! \n",
    "\n",
    "#It's a python fature, needed bc when defined a function with default set of\n",
    "#arguments, they are evaluated just the first time of the function calling, at the following times it \n",
    "#takes the element already modified. So, the new print gives two 1's.\n",
    "\n",
    "#Now, if we specify that f(x=[9,9,9]) it will append 1 at the end as expected.\n",
    "\n",
    "#And again, calling the function it takes the 1,1 and then again the 1,1,1"
   ]
  },
  {
   "cell_type": "markdown",
   "metadata": {},
   "source": [
    "What actually happens: a new list is created once when the function is defined, and the same list is used in each successive call.\n",
    "\n",
    "Python’s default arguments are evaluated once when the function is defined, not each time the function is called (like it is in say, Ruby). This means that if you use a mutable default argument and mutate it, you will and have mutated that object for all future calls to the function as well. Check this [post](https://docs.python-guide.org/writing/gotchas/).\n",
    "\n",
    "What you should do instead: create a new object each time the function is called, by using a default arg to signal that no argument was provided (None is often a good choice)."
   ]
  },
  {
   "cell_type": "code",
   "execution_count": 9,
   "metadata": {},
   "outputs": [
    {
     "name": "stdout",
     "output_type": "stream",
     "text": [
      "[1]\n",
      "[1]\n",
      "[9, 9, 9, 1]\n",
      "[1]\n",
      "[9, 9, 9, 1]\n"
     ]
    }
   ],
   "source": [
    "def f(x = None):\n",
    "    if x is None:\n",
    "        x = []\n",
    "    x.append(1)\n",
    "    return x\n",
    "x = [9,9,9]\n",
    "print(f())\n",
    "print(f())\n",
    "print(f(x))\n",
    "print(f())\n",
    "print(x)"
   ]
  },
  {
   "cell_type": "markdown",
   "metadata": {},
   "source": [
    "## Higher order functions\n",
    "\n",
    "A function that uses another function as an input argument or returns a function is known as a higher-order function (HOF). The most familiar examples are `map` and `filter`."
   ]
  },
  {
   "cell_type": "markdown",
   "metadata": {},
   "source": [
    "### map\n",
    "\n",
    "The map function applies a function to each member of a collection"
   ]
  },
  {
   "cell_type": "code",
   "execution_count": 1,
   "metadata": {},
   "outputs": [
    {
     "name": "stdout",
     "output_type": "stream",
     "text": [
      "[0, 1, 4, 9, 16]\n",
      "0\n",
      "1\n",
      "4\n",
      "9\n",
      "16\n"
     ]
    }
   ],
   "source": [
    "def square(x):\n",
    "    \"\"\"Square of x.\"\"\"\n",
    "    #print(id(x))\n",
    "    return x*x\n",
    "\n",
    "x = list(map(square, range(5))) \n",
    "print(x)\n",
    "\n",
    "# Note the difference w.r.t python 2. In python 3 map retuns an iterator so you can do stuff like:\n",
    "for i in map(square, range(5)): print(i)\n",
    "    \n",
    "#Maps apply functions to each element of the list."
   ]
  },
  {
   "cell_type": "markdown",
   "metadata": {},
   "source": [
    "### filter\n",
    "\n",
    "The filter function applies a predicate to each member of a collection, retaining only those where the predicate is True"
   ]
  },
  {
   "cell_type": "code",
   "execution_count": 34,
   "metadata": {},
   "outputs": [
    {
     "name": "stdout",
     "output_type": "stream",
     "text": [
      "[0, 2, 4]\n"
     ]
    }
   ],
   "source": [
    "def is_even(x):\n",
    "    return x % 2 == 0\n",
    "\n",
    "print(list(filter(is_even, range(5))))"
   ]
  },
  {
   "cell_type": "code",
   "execution_count": 35,
   "metadata": {},
   "outputs": [
    {
     "data": {
      "text/plain": [
       "[0, 4, 16]"
      ]
     },
     "execution_count": 35,
     "metadata": {},
     "output_type": "execute_result"
    }
   ],
   "source": [
    "list(map(square, filter(is_even, range(5))))\n"
   ]
  },
  {
   "cell_type": "markdown",
   "metadata": {},
   "source": [
    "### reduce\n",
    "\n",
    "The reduce function reduces a collection using a binary operator to combine items two at a time. More often than not, reduce can be substituted with a more efficient `for` loop. It is worth mentioning it for its key role in big-data applications together with map (the map-reduce paradigm). \n",
    "N.B.: it no longer exist as built-in function in python 3, it is now part of the `functools` library"
   ]
  },
  {
   "cell_type": "code",
   "execution_count": 37,
   "metadata": {},
   "outputs": [
    {
     "name": "stdout",
     "output_type": "stream",
     "text": [
      "Adding 1 and 2\n",
      "Adding 3 and 3\n",
      "Adding 6 and 4\n",
      "Adding 10 and 5\n"
     ]
    },
    {
     "data": {
      "text/plain": [
       "15"
      ]
     },
     "execution_count": 37,
     "metadata": {},
     "output_type": "execute_result"
    }
   ],
   "source": [
    "from functools import reduce\n",
    "\n",
    "def my_add(x, y):\n",
    "    print(\"Adding\", x, \"and\", y)\n",
    "    return x + y\n",
    "\n",
    "# another implementation of the sum function\n",
    "reduce(my_add, [1,2,3,4,5])"
   ]
  },
  {
   "cell_type": "markdown",
   "metadata": {},
   "source": [
    "### zip\n",
    "\n",
    "zip is useful when you need to iterate over matched elements of multiple lists"
   ]
  },
  {
   "cell_type": "code",
   "execution_count": 38,
   "metadata": {},
   "outputs": [
    {
     "name": "stdout",
     "output_type": "stream",
     "text": [
      "1 10 a\n",
      "2 20 b\n",
      "3 30 c\n",
      "4 40 d\n"
     ]
    }
   ],
   "source": [
    "xs = [1, 2, 3, 4]\n",
    "ys = [10, 20, 30, 40]\n",
    "zs = ['a', 'b', 'c', 'd', 'e']\n",
    "\n",
    "for x, y, z in zip(xs, ys, zs):\n",
    "    print(x, y, z)"
   ]
  },
  {
   "cell_type": "markdown",
   "metadata": {},
   "source": [
    "### Custom HOF"
   ]
  },
  {
   "cell_type": "markdown",
   "metadata": {},
   "source": [
    "Python allows you to define custom HOF, or in general functions that accept as arguments other functions"
   ]
  },
  {
   "cell_type": "code",
   "execution_count": 41,
   "metadata": {},
   "outputs": [
    {
     "name": "stdout",
     "output_type": "stream",
     "text": [
      "30\n",
      "100\n"
     ]
    }
   ],
   "source": [
    "def custom_sum(xs, transform):\n",
    "    \"\"\"Returns the sum of xs after a user specified transform.\"\"\"\n",
    "    return sum(map(transform, xs))\n",
    "\n",
    "xs = range(5)\n",
    "print(custom_sum(xs, square))\n",
    "print(custom_sum(xs, cube))\n",
    "\n"
   ]
  },
  {
   "cell_type": "markdown",
   "metadata": {},
   "source": [
    "### Returning a function"
   ]
  },
  {
   "cell_type": "markdown",
   "metadata": {},
   "source": [
    "Other than passed as arguments, functions can also be returned"
   ]
  },
  {
   "cell_type": "code",
   "execution_count": 49,
   "metadata": {},
   "outputs": [],
   "source": [
    "def make_logger(target):\n",
    "    def logger(data):#function inside function, logger is accessible even from global scope\n",
    "        with open(target, 'a') as f:\n",
    "            f.write(data + '\\n')\n",
    "    return logger\n",
    "\n",
    "foo_logger = make_logger('foo.txt') #foo.txt will be created if not there already\n",
    "foo_logger('Hello')\n",
    "foo_logger('World\\n')"
   ]
  },
  {
   "cell_type": "code",
   "execution_count": 48,
   "metadata": {},
   "outputs": [
    {
     "name": "stdout",
     "output_type": "stream",
     "text": [
      "Hello\r\n",
      "World\r\n",
      "Hello\r\n",
      "World\r\n",
      "Hello\r\n",
      "World\r\n",
      "Hello\r\n",
      "World\r\n",
      "\r\n"
     ]
    }
   ],
   "source": [
    "! cat 'foo.txt' #print on screen what's inside the foo.txt file"
   ]
  },
  {
   "cell_type": "markdown",
   "metadata": {},
   "source": [
    "## Anonimous functions (lambda)\n",
    "\n",
    "When using functional style, there is often the need to create specific functions that perform a limited task as input to a HOF such as map or filter. In such cases, these functions are often written as anonymous or lambda functions. \n",
    "The syntax is as follows:\n",
    "\n",
    "lambda *arguments* : *expression*\n",
    "\n",
    "\n",
    "If you find it hard to understand what a lambda function is doing, it should probably be rewritten as a regular function."
   ]
  },
  {
   "cell_type": "code",
   "execution_count": 50,
   "metadata": {},
   "outputs": [
    {
     "data": {
      "text/plain": [
       "7"
      ]
     },
     "execution_count": 50,
     "metadata": {},
     "output_type": "execute_result"
    }
   ],
   "source": [
    "sum = lambda x, y: x+y #not very used\n",
    "sum(3, 4)"
   ]
  },
  {
   "cell_type": "code",
   "execution_count": 55,
   "metadata": {},
   "outputs": [
    {
     "name": "stdout",
     "output_type": "stream",
     "text": [
      "0\n",
      "1\n",
      "4\n",
      "9\n",
      "16\n"
     ]
    }
   ],
   "source": [
    "for i in map(lambda x: x*x, range(5)): print(i) "
   ]
  },
  {
   "cell_type": "code",
   "execution_count": 74,
   "metadata": {},
   "outputs": [
    {
     "name": "stdout",
     "output_type": "stream",
     "text": [
      "285\n"
     ]
    }
   ],
   "source": [
    "# what does this function do?\n",
    "from functools import reduce\n",
    "s1 = reduce(lambda x, y: x + y, map(lambda x: x**2, range(1,10))) #wtf does this do\n",
    "print(s1)"
   ]
  },
  {
   "cell_type": "markdown",
   "metadata": {},
   "source": [
    "## Recursive functions "
   ]
  },
  {
   "cell_type": "code",
   "execution_count": 3,
   "metadata": {},
   "outputs": [
    {
     "name": "stdout",
     "output_type": "stream",
     "text": [
      "[1, 1, 2, 3, 5, 8, 13, 21, 34, 55]\n"
     ]
    }
   ],
   "source": [
    "def fib1(n):\n",
    "    \"\"\"Fib with recursion.\"\"\"\n",
    "\n",
    "    # base case\n",
    "    if n==0 or n==1:\n",
    "        return 1\n",
    "    # recursive case\n",
    "    else:\n",
    "        return fib1(n-1) + fib1(n-2)\n",
    "\n",
    "    \n",
    "print([fib1(i) for i in range(10)])"
   ]
  },
  {
   "cell_type": "code",
   "execution_count": 66,
   "metadata": {},
   "outputs": [
    {
     "name": "stdout",
     "output_type": "stream",
     "text": [
      "[1, 1, 2, 3, 5, 8, 13, 21, 34, 55]\n"
     ]
    }
   ],
   "source": [
    "# In Python, a more efficient version that does not use recursion is. Recursive funcs call themselves!\n",
    "\n",
    "def fib2(n):\n",
    "    \"\"\"Fib without recursion.\"\"\"\n",
    "    a, b = 0, 1\n",
    "    for i in range(1, n+1):\n",
    "        a, b = b, a+b\n",
    "    return b\n",
    "\n",
    "print([fib2(i) for i in range(10)])"
   ]
  },
  {
   "cell_type": "code",
   "execution_count": 77,
   "metadata": {},
   "outputs": [
    {
     "name": "stdout",
     "output_type": "stream",
     "text": [
      "1.54 ms ± 13.6 µs per loop (mean ± std. dev. of 7 runs, 1000 loops each)\n",
      "746 ns ± 3.14 ns per loop (mean ± std. dev. of 7 runs, 1000000 loops each)\n"
     ]
    }
   ],
   "source": [
    "# check indeed the timing:\n",
    "\n",
    "%timeit fib1(20)\n",
    "%timeit fib2(20)\n"
   ]
  },
  {
   "cell_type": "markdown",
   "metadata": {},
   "source": [
    "## Decorators\n",
    "\n",
    "Decorators are a type of HOF that take a function and return a wrapped function that provides additional useful properties.\n",
    "\n",
    "Examples:\n",
    "\n",
    "  - logging\n",
    "  - Just-In-Time (JIT) compilation\n",
    "  - ...\n",
    "  \n",
    "Without using decorators:"
   ]
  },
  {
   "cell_type": "code",
   "execution_count": 1,
   "metadata": {},
   "outputs": [],
   "source": [
    "def my_decorator(func):\n",
    "    def wrapper():\n",
    "        print(\"Something is happening before the function is called.\")\n",
    "        func()\n",
    "        print(\"Something is happening after the function is called.\")\n",
    "    return wrapper\n",
    "\n",
    "def say_whee():\n",
    "    print(\"Whee!\")\n",
    "\n",
    "say_whee = my_decorator(say_whee)"
   ]
  },
  {
   "cell_type": "code",
   "execution_count": 85,
   "metadata": {},
   "outputs": [
    {
     "name": "stdout",
     "output_type": "stream",
     "text": [
      "Something is happening before the function is called.\n",
      "Whee!\n",
      "Something is happening after the function is called.\n"
     ]
    }
   ],
   "source": [
    "say_whee()"
   ]
  },
  {
   "cell_type": "markdown",
   "metadata": {},
   "source": [
    "Python allows you to use decorators in a simpler way with the @ symbol, sometimes called the “pie” syntax"
   ]
  },
  {
   "cell_type": "code",
   "execution_count": null,
   "metadata": {},
   "outputs": [],
   "source": [
    "def my_decorator(func):\n",
    "    def wrapper():\n",
    "        print(\"Something is happening before the function is called.\")\n",
    "        func()\n",
    "        print(\"Something is happening after the function is called.\")\n",
    "    return wrapper\n",
    "\n",
    "@my_decorator #syntax!!\n",
    "def say_whee():\n",
    "    print(\"Whee!\")"
   ]
  },
  {
   "cell_type": "code",
   "execution_count": 83,
   "metadata": {},
   "outputs": [
    {
     "name": "stdout",
     "output_type": "stream",
     "text": [
      "Something is happening before the function is called.\n",
      "Whee!\n",
      "Something is happening after the function is called.\n"
     ]
    }
   ],
   "source": [
    "say_whee()"
   ]
  },
  {
   "cell_type": "markdown",
   "metadata": {},
   "source": [
    "## Useful Modules\n",
    "\n",
    "You may want to have a look at the content of the following modules for further usage of (HO) functions:\n",
    "  - [operator](https://docs.python.org/3/library/operator.html)\n",
    "  - [functools](https://docs.python.org/3/library/functools.html)\n",
    "  - [itertools](https://docs.python.org/3/library/itertools.html)\n",
    "  - [toolz](https://pypi.org/project/toolz/)\n",
    "  - [funcy](https://pypi.org/project/funcy/)"
   ]
  },
  {
   "cell_type": "markdown",
   "metadata": {},
   "source": [
    "## Iterators\n",
    "\n",
    "Iterators represent streams of values. Because only one value is consumed at a time, they use very little memory. Use of iterators is very helpful for working with data sets too large to fit into RAM.\n",
    "\n",
    "The iterator object is initialized using the `iter()` method on iterable objects like lists, tuples, dicts, and sets. It uses the `next()` method for iteration."
   ]
  },
  {
   "cell_type": "code",
   "execution_count": 88,
   "metadata": {},
   "outputs": [
    {
     "name": "stdout",
     "output_type": "stream",
     "text": [
      "<list_iterator object at 0x1077342e0>\n",
      "1\n",
      "2\n",
      "3\n"
     ]
    }
   ],
   "source": [
    "# Iterators can be created from sequences with the built-in function iter()\n",
    "xs = [1,2,3]\n",
    "x_iter = iter(xs) #not intellegible obj\n",
    "\n",
    "print(x_iter)\n",
    "print(next(x_iter))#with next func we can access the following element \n",
    "print(next(x_iter))\n",
    "print(next(x_iter))\n",
    "#print(next(x_iter)) if list ends, we have error since there is no next element!!\n",
    "\n",
    "#not all obj in Py are iterable, just a few. They consume little RAM. "
   ]
  },
  {
   "cell_type": "code",
   "execution_count": 90,
   "metadata": {},
   "outputs": [
    {
     "name": "stdout",
     "output_type": "stream",
     "text": [
      "1\n",
      "2\n",
      "3\n"
     ]
    }
   ],
   "source": [
    "# Most commonly, iterators are used (automatically) within a for loop\n",
    "# which terminates when it encouters a StopIteration exception\n",
    "\n",
    "x_iter = iter(xs) #we generally use iter only in for loops, we do not need to use them \"manually\"\n",
    "for x in x_iter:\n",
    "    print(x) #same result as before"
   ]
  },
  {
   "cell_type": "markdown",
   "metadata": {},
   "source": [
    "# Classes and Objects\n",
    "\n",
    "Old school object-oriented programming is possible and often used in python. Classes are defined similarly to standard object-oriented languages, with similar functionalities.\n",
    "\n",
    "The main python doc [page](https://docs.python.org/3.6/tutorial/classes.html) is worth reading through."
   ]
  },
  {
   "cell_type": "code",
   "execution_count": 91,
   "metadata": {},
   "outputs": [
    {
     "name": "stdout",
     "output_type": "stream",
     "text": [
      "buddy 12\n",
      "3\n",
      "buddy buddy\n"
     ]
    }
   ],
   "source": [
    "# Class definition. Py not a pure object oriented language, while C or Java are. \n",
    "class Pet:\n",
    "    \n",
    "    # Class attributes, common for all instances of the same class. Are variables holded by class. Defined first.\n",
    "    #There is no private or public as in Cpp. \n",
    "    \n",
    "    #We istantiate an obj Pet, and we'll have name and age attributes initialized to none.\n",
    "    name = None\n",
    "    age = None\n",
    "    \n",
    "    # Class methods, are not functions but are functions. \n",
    "    # the \"constructor\". Identified with this name, not to use in the code. \n",
    "    \n",
    "    #all methods of class takes as first arg the class itself with the keyword \"self\", \n",
    "    #and then the attributes if needed\n",
    "    \n",
    "    def __init__(self, name, age):  # inizialize the elements of the class \n",
    "        # Instance attributes, just as in cpp\n",
    "        #Class attributes defined before and attributes defined in methods, are functionally different.\n",
    "        #\n",
    "        \n",
    "        self.name = name\n",
    "        self.age = age\n",
    "    \n",
    "    # class functions take the \"self\" parameter!\n",
    "    #setter method: takes arg\n",
    "    def set_name(self, name):\n",
    "        self.name = name\n",
    "    #getter method: returns arg\n",
    "    def get_name(self):\n",
    "        return self.name\n",
    "    \n",
    "    # You can define methods like the two above, but it's not usually necessary because you can get/set the values directly\n",
    "    \n",
    "    def convert_age(self, factor):\n",
    "        self.age *= factor\n",
    "# End class definition\n",
    "\n",
    "buddy = Pet(\"buddy\", 12) # Create instance of class \"Pet\"\n",
    "print(buddy.name, buddy.age)\n",
    "buddy.age = 3\n",
    "print(buddy.age)\n",
    "print(buddy.get_name(), buddy.name) # Same result. Outside class we can access freely and set them without problems\n",
    "\n"
   ]
  },
  {
   "cell_type": "markdown",
   "metadata": {},
   "source": [
    "Class inheritance is present in Python too:"
   ]
  },
  {
   "cell_type": "code",
   "execution_count": 95,
   "metadata": {},
   "outputs": [
    {
     "name": "stdout",
     "output_type": "stream",
     "text": [
      "toby\n",
      "70\n",
      "dog\n"
     ]
    }
   ],
   "source": [
    "#Ineritance is straightforward\n",
    "class Dog(Pet): #Dog inherits from Pet. \n",
    "    \n",
    "    # the following variables is \"global\", i.e. holds for all \"Dog\" objects\n",
    "    species = \"mammal\"\n",
    "    \n",
    "    # functions can be redefined as usual\n",
    "    def convert_age(self):\n",
    "        self.age *= 7\n",
    "    def set_species(self, species):\n",
    "        self.species = species\n",
    "        \n",
    "puppy = Dog(\"toby\", 10) # When \"puppy\" object is instantiated, the parent class \"Pet\" constructor is called\n",
    "#class dog has no constructor, it is inherited form the Pet class!\n",
    "print(puppy.name)\n",
    "puppy.convert_age() # Call \"Dog\" class method \"convert_age\" (and not parent's class \"Pet\" method, which has been overridden)\n",
    "print(puppy.age)\n",
    "puppy.species = \"dog\"\n",
    "print(puppy.species)"
   ]
  },
  {
   "cell_type": "code",
   "execution_count": 93,
   "metadata": {},
   "outputs": [
    {
     "name": "stdout",
     "output_type": "stream",
     "text": [
      "mammal\n"
     ]
    }
   ],
   "source": [
    "puppy2 = Dog(\"fido\", 6)\n",
    "print(puppy2.species)"
   ]
  },
  {
   "cell_type": "markdown",
   "metadata": {},
   "source": [
    "The child class attributes are not accessible by an instance of the parent class:"
   ]
  },
  {
   "cell_type": "code",
   "execution_count": 96,
   "metadata": {},
   "outputs": [
    {
     "ename": "AttributeError",
     "evalue": "'Pet' object has no attribute 'species'",
     "output_type": "error",
     "traceback": [
      "\u001b[0;31m---------------------------------------------------------------------------\u001b[0m",
      "\u001b[0;31mAttributeError\u001b[0m                            Traceback (most recent call last)",
      "\u001b[0;32m/var/folders/7y/vcm5mnh10nb75hxg48yft2980000gn/T/ipykernel_1420/3903153300.py\u001b[0m in \u001b[0;36m<module>\u001b[0;34m\u001b[0m\n\u001b[1;32m      1\u001b[0m \u001b[0;31m#buddy = Pet(\"buddy\", 12)\u001b[0m\u001b[0;34m\u001b[0m\u001b[0;34m\u001b[0m\u001b[0;34m\u001b[0m\u001b[0m\n\u001b[0;32m----> 2\u001b[0;31m \u001b[0mprint\u001b[0m\u001b[0;34m(\u001b[0m\u001b[0mbuddy\u001b[0m\u001b[0;34m.\u001b[0m\u001b[0mspecies\u001b[0m\u001b[0;34m)\u001b[0m\u001b[0;34m\u001b[0m\u001b[0;34m\u001b[0m\u001b[0m\n\u001b[0m",
      "\u001b[0;31mAttributeError\u001b[0m: 'Pet' object has no attribute 'species'"
     ]
    }
   ],
   "source": [
    "#buddy = Pet(\"buddy\", 12)\n",
    "print(buddy.species)"
   ]
  },
  {
   "cell_type": "code",
   "execution_count": null,
   "metadata": {},
   "outputs": [],
   "source": []
  }
 ],
 "metadata": {
  "kernelspec": {
   "display_name": "Python 3 (ipykernel)",
   "language": "python",
   "name": "python3"
  },
  "language_info": {
   "codemirror_mode": {
    "name": "ipython",
    "version": 3
   },
   "file_extension": ".py",
   "mimetype": "text/x-python",
   "name": "python",
   "nbconvert_exporter": "python",
   "pygments_lexer": "ipython3",
   "version": "3.9.6"
  }
 },
 "nbformat": 4,
 "nbformat_minor": 2
}
