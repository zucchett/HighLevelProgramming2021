{
 "cells": [
  {
   "cell_type": "markdown",
   "metadata": {},
   "source": [
    "1. Write the following expressions using the list comprehension"
   ]
  },
  {
   "cell_type": "code",
   "execution_count": 2,
   "metadata": {},
   "outputs": [
    {
     "name": "stdout",
     "output_type": "stream",
     "text": [
      "[(0, 0), (0, 1), (0, 2), (0, 3), (1, 0), (1, 1), (1, 2), (1, 3), (2, 0), (2, 1), (2, 2), (2, 3)]\n",
      "[1, 9, 25, 49, 81]\n"
     ]
    }
   ],
   "source": [
    "# 1\n",
    "ans = []\n",
    "for i in range(3):\n",
    "    for j in range(4):\n",
    "        ans.append((i, j))\n",
    "print(ans)\n",
    "\n",
    "# 2\n",
    "ans = map(lambda x: x * x, filter(lambda x: x % 2 == 1, range(10)))\n",
    "print(list(ans))"
   ]
  },
  {
   "cell_type": "code",
   "execution_count": 8,
   "metadata": {},
   "outputs": [
    {
     "name": "stdout",
     "output_type": "stream",
     "text": [
      "[(0, 0), (0, 1), (0, 2), (0, 3), (1, 0), (1, 1), (1, 2), (1, 3), (2, 0), (2, 1), (2, 2), (2, 3)]\n",
      "[1, 9, 25, 49, 81]\n"
     ]
    }
   ],
   "source": [
    "#1 \n",
    "a = [(i,j) for i in range (3) for j in range(4)]\n",
    "print(a)\n",
    "\n",
    "#2\n",
    "\n",
    "b = [k*k for k in range (1,11) if k % 2 == 1] \n",
    "print(b)"
   ]
  },
  {
   "cell_type": "markdown",
   "metadata": {},
   "source": [
    "2\\. Convert the function $f$ into a function that doesn't use global variables and that does not modify the original list"
   ]
  },
  {
   "cell_type": "code",
   "execution_count": 112,
   "metadata": {},
   "outputs": [
    {
     "name": "stdout",
     "output_type": "stream",
     "text": [
      "[1, 2, 3, 0, 1, 2, 3, 4]\n",
      "[1, 2, 3, 0, 1, 2, 3, 4]\n"
     ]
    }
   ],
   "source": [
    "x = 5\n",
    "def f(alist):\n",
    "    for i in range(x):\n",
    "         alist.append(i)\n",
    "    return alist\n",
    "\n",
    "alist = [1,2,3]\n",
    "ans = f(alist)\n",
    "print(ans)\n",
    "print(alist) # alist has been changed!"
   ]
  },
  {
   "cell_type": "code",
   "execution_count": 113,
   "metadata": {},
   "outputs": [
    {
     "name": "stdout",
     "output_type": "stream",
     "text": [
      "[1, 2, 3, 0, 1, 2, 3, 4]\n",
      "[1, 2, 3]\n"
     ]
    }
   ],
   "source": [
    "# Q2 \n",
    "def f(alist):\n",
    "    b = []\n",
    "    for i in range(5):\n",
    "         b.append(i)\n",
    "    alist = alist + b\n",
    "    return alist\n",
    "\n",
    "alist = [1,2,3]\n",
    "ans = f(alist)\n",
    "\n",
    "print(ans)\n",
    "print(alist)"
   ]
  },
  {
   "cell_type": "markdown",
   "metadata": {},
   "source": [
    "3\\. Write a `decorator` hello that makes every wrapped function print “Hello!”, i.e. something like:\n",
    "\n",
    "```python\n",
    "@hello\n",
    "def square(x):\n",
    "    return x*x\n",
    "```\n",
    "\n"
   ]
  },
  {
   "cell_type": "code",
   "execution_count": 4,
   "metadata": {},
   "outputs": [
    {
     "name": "stdout",
     "output_type": "stream",
     "text": [
      "Hello!\n"
     ]
    }
   ],
   "source": [
    "def hello(a):\n",
    "    def wrapper(*args):\n",
    "        print('Hello!')\n",
    "    return wrapper\n",
    "\n",
    "@hello\n",
    "def square(x):\n",
    "    return x*x\n",
    "\n",
    "square(4)"
   ]
  },
  {
   "cell_type": "markdown",
   "metadata": {},
   "source": [
    "4\\. Write the factorial function in two different ways, so that it a) does and b) does not use recursion."
   ]
  },
  {
   "cell_type": "code",
   "execution_count": 33,
   "metadata": {},
   "outputs": [
    {
     "name": "stdout",
     "output_type": "stream",
     "text": [
      "120\n",
      "120\n"
     ]
    }
   ],
   "source": [
    "#with recursion\n",
    "def factorial1(x):\n",
    "    if (x <= 1):\n",
    "        return 1\n",
    "    else:\n",
    "        return x*factorial1(x-1)\n",
    "\n",
    "#without recursion\n",
    "def factorial2(y):\n",
    "    result = 1;\n",
    "    if (y <= 1):\n",
    "        return 1\n",
    "    else:\n",
    "        for i in range(2, y+1):\n",
    "            result = result*i\n",
    "    return result\n",
    "    \n",
    "\n",
    "print(factorial1(5))\n",
    "print(factorial2(5))"
   ]
  },
  {
   "cell_type": "markdown",
   "metadata": {},
   "source": [
    "5\\. Use HOFs (zip in particular) to compute the weight of a circle, a disk and a sphere, assuming different radii and different densities:\n",
    "\n",
    "```python\n",
    "densities = {\"Al\" : [0.5, 1, 2], \"Fe\" : [3, 4, 5], \"Pb\" : [15, 20, 30]}\n",
    "radii = [1, 2, 3]\n",
    "```\n",
    "\n",
    "where the entries of the dictionary's values are the linear, superficial and volumetric densities of the materials respectively.\n",
    "\n",
    "Subsequently, define a list using a comprehension with three lambda functions that compute the circumference, the area and the volume for a given radius.\n"
   ]
  },
  {
   "cell_type": "code",
   "execution_count": 120,
   "metadata": {
    "scrolled": true
   },
   "outputs": [
    {
     "name": "stdout",
     "output_type": "stream",
     "text": [
      "[(1, [0.5, 1, 2]), (1, [3, 4, 5]), (1, [15, 20, 30]), (2, [0.5, 1, 2]), (2, [3, 4, 5]), (2, [15, 20, 30]), (3, [0.5, 1, 2]), (3, [3, 4, 5]), (3, [15, 20, 30])]\n",
      "\n",
      "\n",
      "Material: Al radii: 1 density: 0.5\t Mass of Circle: 0.5\n",
      "Material: Al radii: 1 density: 1\t Mass of Disk: 6.283185307179586\n",
      "Material: Al radii: 1 density: 2\t Mass of Sphere: 6.283185307179586\n",
      "Material: Fe radii: 1 density: 3\t Mass of Circle: 3\n",
      "Material: Fe radii: 1 density: 4\t Mass of Disk: 6.283185307179586\n",
      "Material: Fe radii: 1 density: 5\t Mass of Sphere: 6.283185307179586\n",
      "Material: Pb radii: 1 density: 15\t Mass of Circle: 15\n",
      "Material: Pb radii: 1 density: 20\t Mass of Disk: 6.283185307179586\n",
      "Material: Pb radii: 1 density: 30\t Mass of Sphere: 6.283185307179586\n",
      "Material: Al radii: 2 density: 0.5\t Mass of Circle: 1.0\n",
      "Material: Al radii: 2 density: 1\t Mass of Disk: 25.132741228718345\n",
      "Material: Al radii: 2 density: 2\t Mass of Sphere: 25.132741228718345\n",
      "Material: Fe radii: 2 density: 3\t Mass of Circle: 6\n",
      "Material: Fe radii: 2 density: 4\t Mass of Disk: 25.132741228718345\n",
      "Material: Fe radii: 2 density: 5\t Mass of Sphere: 25.132741228718345\n",
      "Material: Pb radii: 2 density: 15\t Mass of Circle: 30\n",
      "Material: Pb radii: 2 density: 20\t Mass of Disk: 25.132741228718345\n",
      "Material: Pb radii: 2 density: 30\t Mass of Sphere: 25.132741228718345\n",
      "Material: Al radii: 3 density: 0.5\t Mass of Circle: 1.5\n",
      "Material: Al radii: 3 density: 1\t Mass of Disk: 56.548667764616276\n",
      "Material: Al radii: 3 density: 2\t Mass of Sphere: 56.548667764616276\n",
      "Material: Fe radii: 3 density: 3\t Mass of Circle: 9\n",
      "Material: Fe radii: 3 density: 4\t Mass of Disk: 56.548667764616276\n",
      "Material: Fe radii: 3 density: 5\t Mass of Sphere: 56.548667764616276\n",
      "Material: Pb radii: 3 density: 15\t Mass of Circle: 45\n",
      "Material: Pb radii: 3 density: 20\t Mass of Disk: 56.548667764616276\n",
      "Material: Pb radii: 3 density: 30\t Mass of Sphere: 56.548667764616276\n",
      "\n",
      "\n",
      "Area for radius 1 is 3.141592653589793\n",
      "Area for radius 2 is 12.566370614359172\n",
      "Area for radius 3 is 28.274333882308138\n",
      "Volume for radius 1 is 4.1887902047863905\n",
      "Volume for radius 2 is 33.510321638291124\n",
      "Volume for radius 3 is 113.09733552923254\n"
     ]
    }
   ],
   "source": [
    "import itertools\n",
    "import math\n",
    "\n",
    "def LinearMass(r, d):\n",
    "    return r*d\n",
    "\n",
    "def SuperficialMass(r, d):\n",
    "    return (2* math.pi * (r**2))\n",
    "\n",
    "def VolumetricMass(r, d):\n",
    "    return d*((4/3) * math.pi * (r**3))\n",
    "\n",
    "\n",
    "densities = {\"Al\" : [0.5, 1, 2], \"Fe\" : [3, 4, 5], \"Pb\" : [15, 20, 30]}\n",
    "radii = [1, 2, 3]\n",
    "\n",
    "m = list(densities.keys())\n",
    "den = list(densities.values())\n",
    "\n",
    "m = m + m + m\n",
    "\n",
    "comb = list(itertools.product(radii, den))\n",
    "\n",
    "print(comb)\n",
    "print(\"\\n\")\n",
    "\n",
    "for i in range(0, len(comb)):\n",
    "    a = comb[i]\n",
    "    for j in range(1, len(a)):\n",
    "        b = a[j]\n",
    "        print(\"Material: {} radii: {} density: {}\\t Mass of Circle: {}\".format(m[i], a[0], b[0], LinearMass(a[0], b[0])))\n",
    "        print(\"Material: {} radii: {} density: {}\\t Mass of Disk: {}\".format(m[i], a[0], b[1], SuperficialMass(a[0], b[1])))\n",
    "        print(\"Material: {} radii: {} density: {}\\t Mass of Sphere: {}\".format(m[i], a[0], b[2], SuperficialMass(a[0], b[2])))\n",
    "        \n",
    "        \n",
    "print(\"\\n\")\n",
    "        \n",
    "area = [lambda x = x: ((math.pi) * (x**2)) for x in radii]\n",
    "volume = [lambda y = y: ((4/3) * math.pi * (y**3)) for y in radii]\n",
    "\n",
    "i = 0\n",
    "j = 0\n",
    "\n",
    "for area in area:\n",
    "    print(\"Area for radius {} is {}\".format(radii[i], area()))\n",
    "    i = i + 1\n",
    "\n",
    "for volume in volume:\n",
    "    print(\"Volume for radius {} is {}\".format(radii[j], volume()))\n",
    "    j = j + 1\n"
   ]
  },
  {
   "cell_type": "code",
   "execution_count": null,
   "metadata": {},
   "outputs": [],
   "source": [
    "# 6\\. Edit the class defintion to add an instance attribute of `is_hungry = True` to the Dog class. \n",
    "Then add a method called `eat()` which changes the value of `is_hungry` to `False` when called. \n",
    "Figure out the best way to instantiate the dog objects and to feed the dogs, e.g. call the `eat()` method for all instances. \n",
    "Finally, print “My dogs are hungry.” or “My dogs are not hungry.” \n",
    "if all of them have `is_hungry = True` or `False`, respectively. The final output should look like this:\n",
    "\n",
    "`I have 3 dogs. \n",
    "Tom is 6. \n",
    "Fletcher is 7. \n",
    "Larry is 9. \n",
    "And they're all mammals, of course. \n",
    "My dogs are not hungry.\n",
    "`\n",
    "\n",
    "```python\n",
    "# Parent class\n",
    "class Dog:\n",
    "\n",
    "    # Class attribute\n",
    "    species = 'mammal'\n",
    "\n",
    "    # Initializer / Instance attributes\n",
    "    def __init__(self, name, age):\n",
    "        self.name = name\n",
    "        self.age = age\n",
    "\n",
    "    # instance method\n",
    "    def description(self):\n",
    "        return \"{} is {} years old\".format(self.name, self.age)\n",
    "\n",
    "    # instance method\n",
    "    def speak(self, sound):\n",
    "        return \"{} says {}\".format(self.name, sound)\n",
    "\n",
    "# Child class (inherits from Dog class)\n",
    "class RussellTerrier(Dog):\n",
    "    def run(self, speed):\n",
    "        return \"{} runs {}\".format(self.name, speed)\n",
    "\n",
    "# Child class (inherits from Dog class)\n",
    "class Bulldog(Dog):\n",
    "    def run(self, speed):\n",
    "        return \"{} runs {}\".format(self.name, speed)\n",
    "```"
   ]
  },
  {
   "cell_type": "code",
   "execution_count": 111,
   "metadata": {},
   "outputs": [
    {
     "name": "stdout",
     "output_type": "stream",
     "text": [
      "I has/have 3 dog/s\n",
      "Tom is 6 years old\n",
      "Fletcher is 7 years old\n",
      "Larry is 9 years old\n",
      "My dogs are not hungry\n",
      "They are all mammals of cource\n"
     ]
    }
   ],
   "source": [
    "class Dog:\n",
    "\n",
    "    # Class attribute\n",
    "    species = 'mammal'\n",
    "    is_hungry = True \n",
    "\n",
    "    # Initializer / Instance attributes\n",
    "    def __init__(self, name, age, owner):\n",
    "        self.name = name\n",
    "        self.age = age\n",
    "        self.owner = owner\n",
    "\n",
    "    # instance method\n",
    "    def description(self):\n",
    "        return \"{} is {} years old\".format(self.name, self.age)\n",
    "\n",
    "    # instance method\n",
    "    def speak(self, sound):\n",
    "        return \"{} says {}\".format(self.name, sound)\n",
    "    \n",
    "    def own(self, number):\n",
    "        return \"{} has/have {} dog/s\".format(self.owner, number)\n",
    "    \n",
    "    def eat(self,is_hungry):\n",
    "        self.is_hungry = False\n",
    "        return is_hungry\n",
    "        \n",
    "    def hungry(self,is_hungry):\n",
    "        if is_hungry == True:\n",
    "            return \"My dogs are hungry\"\n",
    "        else:\n",
    "            return \"My dogs are not hungry\"\n",
    "        \n",
    "# Child class (inherits from Dog class)\n",
    "class RussellTerrier(Dog):\n",
    "    def run(self, speed):\n",
    "        return \"{} runs {}\".format(self.name, speed)\n",
    "\n",
    "# Child class (inherits from Dog class)\n",
    "class Bulldog(Dog):\n",
    "    def run(self, speed):\n",
    "        return \"{} runs {}\".format(self.name, speed)\n",
    "\n",
    "dog1 = Dog(\"Tom\",6, \"I\")\n",
    "dog2 = Dog(\"Fletcher\",7, \"I\")\n",
    "dog3 = Dog(\"Larry\",9, \"I\")\n",
    "\n",
    "print(dog1.own(3))\n",
    "print(dog1.description())\n",
    "print(dog2.description())\n",
    "print(dog3.description())\n",
    "\n",
    "dog1.eat(dog1.is_hungry)\n",
    "print(dog1.hungry(dog1.is_hungry))\n",
    "\n",
    "print(\"They are all \" + dog1.species + \"s of cource\")"
   ]
  },
  {
   "cell_type": "code",
   "execution_count": null,
   "metadata": {},
   "outputs": [],
   "source": []
  }
 ],
 "metadata": {
  "kernelspec": {
   "display_name": "Python 3",
   "language": "python",
   "name": "python3"
  },
  "language_info": {
   "codemirror_mode": {
    "name": "ipython",
    "version": 3
   },
   "file_extension": ".py",
   "mimetype": "text/x-python",
   "name": "python",
   "nbconvert_exporter": "python",
   "pygments_lexer": "ipython3",
   "version": "3.8.8"
  }
 },
 "nbformat": 4,
 "nbformat_minor": 2
}
