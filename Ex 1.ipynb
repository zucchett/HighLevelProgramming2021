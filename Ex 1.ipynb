{
 "cells": [
  {
   "cell_type": "markdown",
   "id": "e0754625",
   "metadata": {},
   "source": [
    "The HelloWorld replacement\n",
    "a) Write a program that prints the numbers from 1 to 100. But for multiples of three print \"Hello\" instead of the number and for the multiples of five print \"World\". For numbers which are multiples of both three and five print \"HelloWorld\".\n",
    "\n",
    "b) Put the result in a tuple and substitute \"Hello\" with \"Python\" and \"World\" with \"Works\"."
   ]
  },
  {
   "cell_type": "code",
   "execution_count": 1,
   "id": "2f7ac585",
   "metadata": {},
   "outputs": [
    {
     "name": "stdout",
     "output_type": "stream",
     "text": [
      "1 2 Hello 4 World Hello 7 8 Hello World 11 Hello 13 14 |Hello World| 16 17 Hello 19 World Hello 22 23 Hello World 26 Hello 28 29 |Hello World| 31 32 Hello 34 World Hello 37 38 Hello World 41 Hello 43 44 |Hello World| 46 47 Hello 49 World Hello 52 53 Hello World 56 Hello 58 59 |Hello World| 61 62 Hello 64 World Hello 67 68 Hello World 71 Hello 73 74 |Hello World| 76 77 Hello 79 World Hello 82 83 Hello World 86 Hello 88 89 |Hello World| 91 92 Hello 94 World Hello 97 98 Hello World \n",
      "\n",
      "1 2 Python 4 Works Python 7 8 Python Works 11 Python 13 14 |Python Works| 16 17 Python 19 Works Python 22 23 Python Works 26 Python 28 29 |Python Works| 31 32 Python 34 Works Python 37 38 Python Works 41 Python 43 44 |Python Works| 46 47 Python 49 Works Python 52 53 Python Works 56 Python 58 59 |Python Works| 61 62 Python 64 Works Python 67 68 Python Works 71 Python 73 74 |Python Works| 76 77 Python 79 Works Python 82 83 Python Works 86 Python 88 89 |Python Works| 91 92 Python 94 Works Python 97 98 Python Works "
     ]
    }
   ],
   "source": [
    "def printHelloWorld(*args):\n",
    "    mylist = []\n",
    "    for i in range(1, 101):\n",
    "        output = \"\"\n",
    "        if (i % 15 == 0):\n",
    "            output += \"|Hello World| \"\n",
    "        elif (i % 3 == 0):\n",
    "            output += \"Hello \"\n",
    "        elif (i % 5 == 0):\n",
    "            output += \"World \"\n",
    "        else:\n",
    "            mylist.append(i)\n",
    "            print(i, end=\" \")\n",
    "        mylist.append(output)\n",
    "        print(output, end=\"\")\n",
    "    mylist2 = [x for x in mylist if x]\n",
    "    return mylist2\n",
    "\n",
    "mytuple = printHelloWorld()\n",
    "\n",
    "def printTubleHelloWorld(*args):\n",
    "    print(\"\\n\")\n",
    "    for i in range(100):\n",
    "        if mytuple[i] == \"|Hello World| \":\n",
    "            mytuple[i] = \"|Python Works|\"\n",
    "        elif mytuple[i] == \"Hello \":\n",
    "            mytuple[i] = \"Python\"\n",
    "        elif mytuple[i] == \"World \":\n",
    "            mytuple[i] = \"Works\"\n",
    "        print(mytuple[i], end=\" \")\n",
    "printTubleHelloWorld()"
   ]
  },
  {
   "cell_type": "markdown",
   "id": "3b5bf009",
   "metadata": {},
   "source": [
    "2. The swap function\n",
    "\n",
    "Write a function that swap the values of two input variables x and y (whatever the type). Try to do that also without a temporary variable"
   ]
  },
  {
   "cell_type": "code",
   "execution_count": 2,
   "id": "85e815c3",
   "metadata": {},
   "outputs": [
    {
     "name": "stdout",
     "output_type": "stream",
     "text": [
      "Swapped: a = 9  b = 8\n"
     ]
    }
   ],
   "source": [
    "def swapfunc(a, b):\n",
    "    a = a + b\n",
    "    b = a - b\n",
    "    a = a - b\n",
    "    print(\"Swapped: a =\", a, \" b =\", b)\n",
    "\n",
    "swapfunc(8, 9)"
   ]
  },
  {
   "cell_type": "markdown",
   "id": "eff68a54",
   "metadata": {},
   "source": [
    "3. Computing the distance\n",
    "\n",
    "Write a function that calculates and returns the euclidean distance between two points u and v, where u and v are both 2-tuples (x,y). For example, if u=(3,0) and v=(0,4), the function should return 5"
   ]
  },
  {
   "cell_type": "code",
   "execution_count": 3,
   "id": "e9160138",
   "metadata": {},
   "outputs": [
    {
     "name": "stdout",
     "output_type": "stream",
     "text": [
      "5.0\n"
     ]
    }
   ],
   "source": [
    "import math\n",
    "def euclidean_distance(u, v):\n",
    "    distance = math.sqrt(((u[0]-v[0])**2)+((u[1]-v[1])**2))\n",
    "    print(distance)\n",
    "\n",
    "euclidean_distance([3, 0], [0, 4])\n"
   ]
  },
  {
   "cell_type": "markdown",
   "id": "b8c89575",
   "metadata": {},
   "source": [
    "4. Counting letters\n",
    "\n",
    "Write a program to calculate the number of times each character occurs in a given string s. Ignore differences in capitalization"
   ]
  },
  {
   "cell_type": "code",
   "execution_count": 4,
   "id": "5a5f8f1c",
   "metadata": {},
   "outputs": [
    {
     "name": "stdout",
     "output_type": "stream",
     "text": [
      "a: 7\n",
      "b: 5\n",
      "c: 1\n",
      "d: 5\n",
      "e: 20\n",
      "f: 10\n",
      "g: 1\n",
      "h: 11\n",
      "i: 12\n",
      "j: 0\n",
      "k: 0\n",
      "l: 12\n",
      "m: 8\n",
      "n: 10\n",
      "o: 15\n",
      "p: 8\n",
      "q: 0\n",
      "r: 19\n",
      "s: 7\n",
      "t: 19\n",
      "u: 7\n",
      "v: 2\n",
      "w: 4\n",
      "x: 0\n",
      "y: 0\n",
      "z: 0\n"
     ]
    }
   ],
   "source": [
    "import string\n",
    "s = \"Write a program that prints the numbers from 1 to 100. \\\n",
    "But for multiples of three print Hello instead of the number and for the multiples of five print World. \\\n",
    "For numbers which are multiples of both three and five print HelloWorld.\"\n",
    "def counting_letter(s):\n",
    "    alphabet_string_lowecase = string.ascii_lowercase\n",
    "    alphabet_list_lowecase = list(alphabet_string_lowecase)\n",
    "    alphabet_string_uppercase = string.ascii_uppercase\n",
    "    alphabet_list_uppercase = list(alphabet_string_uppercase)\n",
    "    for i in range(26):\n",
    "        print(alphabet_list_lowecase[i], end=': ')\n",
    "        print(s.count(alphabet_list_lowecase[i]) + s.count(alphabet_list_uppercase[i]))\n",
    "\n",
    "counting_letter(s)"
   ]
  },
  {
   "cell_type": "markdown",
   "id": "58cdbef7",
   "metadata": {},
   "source": [
    "5. Isolating the unique\n",
    "\n",
    "Write a function that determines and count the unique numbers in the list:"
   ]
  },
  {
   "cell_type": "code",
   "execution_count": 5,
   "id": "3bbac934",
   "metadata": {},
   "outputs": [
    {
     "name": "stdout",
     "output_type": "stream",
     "text": [
      "58 74 96 64 10 24 19 33 86 99 18 47 88 55 54 8 79 81 57 37 1 9 95 90 98 39 16 82 92 41 30 94 5 72 87 75 53 \n",
      "Counter of unique: 37\n"
     ]
    }
   ],
   "source": [
    "l = [36, 45, 58, 3, 74, 96, 64, 45, 31, 10, 24, 19, 33, 86, 99, 18, 63, 70, 85,\n",
    " 85, 63, 47, 56, 42, 70, 84, 88, 55, 20, 54, 8, 56, 51, 79, 81, 57, 37, 91,\n",
    " 1, 84, 84, 36, 66, 9, 89, 50, 42, 91, 50, 95, 90, 98, 39, 16, 82, 31, 92, 41,\n",
    " 45, 30, 66, 70, 34, 85, 94, 5, 3, 36, 72, 91, 84, 34, 87, 75, 53, 51, 20, 89, 51, 20]\n",
    "def count_unique(l):\n",
    "    k = 0\n",
    "    for i in range(len(l)):\n",
    "        if l.count(l[i]) == 1:\n",
    "            k += 1\n",
    "            print(l[i], end=\" \")\n",
    "    print('\\nCounter of unique:', k)\n",
    "count_unique(l)"
   ]
  },
  {
   "cell_type": "markdown",
   "id": "bc5307c2",
   "metadata": {},
   "source": [
    "6. Combination of functions\n",
    "\n",
    "Write two functions - one that returns the square of a number, and one that returns the cube. Now write a third function that returns the number raised to the 6th power using the two previous functions."
   ]
  },
  {
   "cell_type": "code",
   "execution_count": 6,
   "id": "cc66d10e",
   "metadata": {},
   "outputs": [
    {
     "name": "stdout",
     "output_type": "stream",
     "text": [
      "64\n"
     ]
    }
   ],
   "source": [
    "def square(a):\n",
    "    a = a**2\n",
    "    return a\n",
    "\n",
    "def cube(a):\n",
    "    a = a**3\n",
    "    return a\n",
    "\n",
    "def sixth_power(a):\n",
    "    a = cube(square(a))\n",
    "    return a\n",
    "\n",
    "print(sixth_power(2))"
   ]
  },
  {
   "cell_type": "markdown",
   "id": "5f942338",
   "metadata": {},
   "source": [
    "7. Cubes\n",
    "\n",
    "Create a list of the cubes of x for x in [0, 10] using:\n",
    "\n",
    "a) a for loop\n",
    "\n",
    "b) a list comprehension"
   ]
  },
  {
   "cell_type": "code",
   "execution_count": 1,
   "id": "42116fc0",
   "metadata": {},
   "outputs": [
    {
     "name": "stdout",
     "output_type": "stream",
     "text": [
      "[1, 8, 27, 64, 125, 216, 343, 512, 729, 1000]\n",
      "[1, 8, 27, 64, 125, 216, 343, 512, 729, 1000]\n"
     ]
    }
   ],
   "source": [
    "x = list(range(1, 11))\n",
    "\n",
    "def cube_list_loop(*args):\n",
    "    for i in range(1, 10):\n",
    "        x[i] = x[i]**3\n",
    "    return x\n",
    "\n",
    "def cube_list_comprehension(*args):\n",
    "    num_list = [num**3 for num in x]\n",
    "    return x\n",
    "\n",
    "print(cube_list_loop())\n",
    "print(cube_list_comprehension())"
   ]
  },
  {
   "cell_type": "markdown",
   "id": "d2597236",
   "metadata": {},
   "source": [
    "8. Nested list comprehension\n",
    "\n",
    "A Pythagorean triple is an integer solution to the Pythagorean theorem $a^2+b^2=c^2$. The first Pythagorean triple is (3,4,5). Find and put in a tuple all unique Pythagorean triples for the positive integers a, b and c less than 100."
   ]
  },
  {
   "cell_type": "code",
   "execution_count": 2,
   "id": "2fa5ef75",
   "metadata": {},
   "outputs": [
    {
     "name": "stdout",
     "output_type": "stream",
     "text": [
      "3 4 5\n",
      "6 8 10\n",
      "5 12 13\n",
      "9 12 15\n",
      "8 15 17\n",
      "12 16 20\n",
      "15 20 25\n",
      "20 21 29\n",
      "7 24 25\n",
      "10 24 26\n",
      "18 24 30\n",
      "21 28 35\n",
      "16 30 34\n",
      "24 32 40\n",
      "12 35 37\n",
      "15 36 39\n",
      "27 36 45\n",
      "9 40 41\n",
      "30 40 50\n",
      "40 42 58\n",
      "33 44 55\n",
      "24 45 51\n",
      "28 45 53\n",
      "14 48 50\n",
      "20 48 52\n",
      "36 48 60\n",
      "39 52 65\n",
      "48 55 73\n",
      "33 56 65\n",
      "42 56 70\n",
      "11 60 61\n",
      "25 60 65\n",
      "32 60 68\n",
      "45 60 75\n",
      "16 63 65\n",
      "60 63 87\n",
      "48 64 80\n",
      "51 68 85\n",
      "24 70 74\n",
      "21 72 75\n",
      "30 72 78\n",
      "54 72 90\n",
      "65 72 97\n",
      "40 75 85\n",
      "57 76 95\n",
      "36 77 85\n",
      "18 80 82\n",
      "39 80 89\n",
      "13 84 85\n",
      "35 84 91\n",
      "None\n"
     ]
    }
   ],
   "source": [
    "import math\n",
    "def pyth_triple(n):\n",
    "    for b in range(n):\n",
    "        for a in range(1, b):\n",
    "            c = math.sqrt(a * a + b * b)\n",
    "            if c % 1 == 0 and (c<100):\n",
    "                print(a, b, int(c))\n",
    "\n",
    "print(pyth_triple(100))"
   ]
  },
  {
   "cell_type": "markdown",
   "id": "cbdf5ba7",
   "metadata": {},
   "source": [
    "9. Normalization\n",
    "\n",
    "Write a function that takes a tuple of numbers and returns it with the entries normalized to one"
   ]
  },
  {
   "cell_type": "code",
   "execution_count": 3,
   "id": "60bec3c6",
   "metadata": {},
   "outputs": [
    {
     "name": "stdout",
     "output_type": "stream",
     "text": [
      "[0.022222222222222223, 0.044444444444444446, 0.06666666666666667, 0.08888888888888889, 0.1111111111111111, 0.13333333333333333, 0.15555555555555556, 0.17777777777777778, 0.2]\n"
     ]
    }
   ],
   "source": [
    "a = tuple(range(1, 10))\n",
    "def normalization(*args):\n",
    "    norm = [float(i) / sum(a) for i in a]\n",
    "    return norm\n",
    "print(normalization())"
   ]
  },
  {
   "cell_type": "code",
   "execution_count": null,
   "id": "adb6051a",
   "metadata": {},
   "outputs": [],
   "source": []
  }
 ],
 "metadata": {
  "kernelspec": {
   "display_name": "Python 3",
   "language": "python",
   "name": "python3"
  },
  "language_info": {
   "codemirror_mode": {
    "name": "ipython",
    "version": 3
   },
   "file_extension": ".py",
   "mimetype": "text/x-python",
   "name": "python",
   "nbconvert_exporter": "python",
   "pygments_lexer": "ipython3",
   "version": "3.8.8"
  }
 },
 "nbformat": 4,
 "nbformat_minor": 5
}
