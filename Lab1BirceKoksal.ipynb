{
 "cells": [
  {
   "cell_type": "markdown",
   "metadata": {},
   "source": [
    "1. The HelloWorld replacement\n",
    "\n",
    "a) Write a program that prints the numbers from 1 to 100. But for multiples of three print \"Hello\" instead of the number and for the multiples of five print \"World\". For numbers which are multiples of both three and five print \"HelloWorld\".\n",
    "\n",
    "b) Put the result in a tuple and substitute \"Hello\" with \"Python\" and \"World\" with \"Works\"."
   ]
  },
  {
   "cell_type": "code",
   "execution_count": 312,
   "metadata": {},
   "outputs": [
    {
     "name": "stdout",
     "output_type": "stream",
     "text": [
      "1\n",
      "2\n",
      "Hello\n",
      "4\n",
      "World\n",
      "Hello\n",
      "7\n",
      "8\n",
      "Hello\n",
      "World\n",
      "11\n",
      "Hello\n",
      "13\n",
      "14\n",
      "HelloWord\n",
      "16\n",
      "17\n",
      "Hello\n",
      "19\n",
      "World\n",
      "Hello\n",
      "22\n",
      "23\n",
      "Hello\n",
      "World\n",
      "26\n",
      "Hello\n",
      "28\n",
      "29\n",
      "HelloWord\n",
      "31\n",
      "32\n",
      "Hello\n",
      "34\n",
      "World\n",
      "Hello\n",
      "37\n",
      "38\n",
      "Hello\n",
      "World\n",
      "41\n",
      "Hello\n",
      "43\n",
      "44\n",
      "HelloWord\n",
      "46\n",
      "47\n",
      "Hello\n",
      "49\n",
      "World\n",
      "Hello\n",
      "52\n",
      "53\n",
      "Hello\n",
      "World\n",
      "56\n",
      "Hello\n",
      "58\n",
      "59\n",
      "HelloWord\n",
      "61\n",
      "62\n",
      "Hello\n",
      "64\n",
      "World\n",
      "Hello\n",
      "67\n",
      "68\n",
      "Hello\n",
      "World\n",
      "71\n",
      "Hello\n",
      "73\n",
      "74\n",
      "HelloWord\n",
      "76\n",
      "77\n",
      "Hello\n",
      "79\n",
      "World\n",
      "Hello\n",
      "82\n",
      "83\n",
      "Hello\n",
      "World\n",
      "86\n",
      "Hello\n",
      "88\n",
      "89\n",
      "HelloWord\n",
      "91\n",
      "92\n",
      "Hello\n",
      "94\n",
      "World\n",
      "Hello\n",
      "97\n",
      "98\n",
      "Hello\n",
      "World\n",
      "(1, 2, 'Hello', 4, 'Word', 'Hello', 7, 8, 'Hello', 'Word', 11, 'Hello', 13, 14, 'HelloWord', 16, 17, 'Hello', 19, 'Word', 'Hello', 22, 23, 'Hello', 'Word', 26, 'Hello', 28, 29, 'HelloWord', 31, 32, 'Hello', 34, 'Word', 'Hello', 37, 38, 'Hello', 'Word', 41, 'Hello', 43, 44, 'HelloWord', 46, 47, 'Hello', 49, 'Word', 'Hello', 52, 53, 'Hello', 'Word', 56, 'Hello', 58, 59, 'HelloWord', 61, 62, 'Hello', 64, 'Word', 'Hello', 67, 68, 'Hello', 'Word', 71, 'Hello', 73, 74, 'HelloWord', 76, 77, 'Hello', 79, 'Word', 'Hello', 82, 83, 'Hello', 'Word', 86, 'Hello', 88, 89, 'HelloWord', 91, 92, 'Hello', 94, 'Word', 'Hello', 97, 98, 'Hello', 'Word')\n",
      "(1, 2, 'Python', 4, 'Word', 'Python', 7, 8, 'Python', 'Word', 11, 'Python', 13, 14, 'HelloWord', 16, 17, 'Python', 19, 'Word', 'Python', 22, 23, 'Python', 'Word', 26, 'Python', 28, 29, 'HelloWord', 31, 32, 'Python', 34, 'Word', 'Python', 37, 38, 'Python', 'Word', 41, 'Python', 43, 44, 'HelloWord', 46, 47, 'Python', 49, 'Word', 'Python', 52, 53, 'Python', 'Word', 56, 'Python', 58, 59, 'HelloWord', 61, 62, 'Python', 64, 'Word', 'Python', 67, 68, 'Python', 'Word', 71, 'Python', 73, 74, 'HelloWord', 76, 77, 'Python', 79, 'Word', 'Python', 82, 83, 'Python', 'Word', 86, 'Python', 88, 89, 'HelloWord', 91, 92, 'Python', 94, 'Word', 'Python', 97, 98, 'Python', 'Word')\n"
     ]
    }
   ],
   "source": [
    "## 1. The HelloWorld replacement\n",
    "\n",
    "a = []\n",
    "for i in range (1,101):\n",
    "    if i%3 == 0 and i%15 != 0:\n",
    "        print(\"Hello\")\n",
    "        a.append(\"Hello\") \n",
    "    elif i%5 == 0 and i%15 != 0:\n",
    "        print(\"World\")\n",
    "        a.append(\"Word\")\n",
    "    elif i%15 == 0:\n",
    "        print(\"HelloWord\")\n",
    "        a.append(\"HelloWord\")\n",
    "    else:\n",
    "        print(i)\n",
    "        a.append(i)\n",
    "\n",
    "print(tuple(a))\n",
    "\n",
    "for j in range (1,len(a)):\n",
    "    if a[j] == \"Hello\":\n",
    "        a[j] = \"Python\"\n",
    "    elif a[j] == \"World\":\n",
    "        a[j] = \"Work\"\n",
    "    \n",
    "print(tuple(a))"
   ]
  },
  {
   "cell_type": "markdown",
   "metadata": {},
   "source": [
    "2\\. The swap function\n",
    "\n",
    "Write a function that swap the values of two input variables x and y (whatever the type). Try to do that also without a temporary variable"
   ]
  },
  {
   "cell_type": "code",
   "execution_count": 313,
   "metadata": {},
   "outputs": [
    {
     "name": "stdout",
     "output_type": "stream",
     "text": [
      "Enter a value: 949545\n",
      "Enter an another value: birce\n",
      "('birce', '949545')\n"
     ]
    }
   ],
   "source": [
    "## 2. The swap function\n",
    "\n",
    "def swap(value1,value2):\n",
    "    return value2, value1\n",
    "\n",
    "val1 = input(\"Enter a value: \")\n",
    "val2 = input(\"Enter an another value: \")\n",
    "\n",
    "print(swap(val1,val2))"
   ]
  },
  {
   "cell_type": "markdown",
   "metadata": {},
   "source": [
    "3\\. Computing the distance\n",
    "\n",
    "Write a function that calculates and returns the euclidean distance between two points *u* and *v*, where *u* and *v* are both 2-tuples *(x,y)*. For example, if *u=(3,0)* and *v=(0,4)*, the function should return 5"
   ]
  },
  {
   "cell_type": "code",
   "execution_count": 1,
   "metadata": {},
   "outputs": [
    {
     "name": "stdout",
     "output_type": "stream",
     "text": [
      "Enter the x1: 2\n",
      "Enter the y1: 3\n",
      "Enter the x2: 4\n",
      "Enter the y2: 5\n",
      "2.8284271247461903\n"
     ]
    }
   ],
   "source": [
    "## 3. Computing the distance\n",
    "import math\n",
    "\n",
    "def distance(cx1,cy1,cx2,cy2):\n",
    "    dist2 = pow(cx2-cx1,2) + pow(cy2-cy1,2)\n",
    "    dist = math.sqrt(dist2)\n",
    "    return dist\n",
    "\n",
    "x1 = float(input(\"Enter the x1: \"))\n",
    "y1 = float(input(\"Enter the y1: \"))\n",
    "x2 = float(input(\"Enter the x2: \"))\n",
    "y2 = float(input(\"Enter the y2: \"))\n",
    "\n",
    "print(distance(x1,y1,x2,y2))"
   ]
  },
  {
   "cell_type": "markdown",
   "metadata": {},
   "source": [
    "4\\. Counting letters\n",
    "\n",
    "Write a program to calculate the number of times each character occurs in a given string *s*. Ignore differences in capitalization"
   ]
  },
  {
   "cell_type": "code",
   "execution_count": 322,
   "metadata": {},
   "outputs": [
    {
     "name": "stdout",
     "output_type": "stream",
     "text": [
      "Character 'h' Occurs 2 times\n",
      "Character 'e' Occurs 4 times\n",
      "Character 'l' Occurs 3 times\n",
      "Character 'o' Occurs 4 times\n",
      "Character ' ' Occurs 4 times\n",
      "Character 'b' Occurs 1 times\n",
      "Character 'i' Occurs 1 times\n",
      "Character 'r' Occurs 1 times\n",
      "Character 'c' Occurs 2 times\n",
      "Character 'w' Occurs 1 times\n",
      "Character 'm' Occurs 1 times\n",
      "Character 't' Occurs 2 times\n",
      "Character 'p' Occurs 1 times\n",
      "Character 'y' Occurs 1 times\n",
      "Character 'n' Occurs 1 times\n"
     ]
    }
   ],
   "source": [
    "## 4. Counting letters\n",
    "\n",
    "s = \"Hello Birce WELCome to PYtHoN\"\n",
    "\n",
    "sLow = s.lower()\n",
    "sLengt = len(sLow)\n",
    "#print(sLengt)\n",
    "\n",
    "a = []\n",
    "k = []\n",
    "\n",
    "for i in sLow: \n",
    "    if i not in a: \n",
    "        a.append(i)\n",
    "\n",
    "for j in range (0, len(a)):\n",
    "    print(\"Character \" + \"'\" + a[j] + \"'\"  + \" Occurs \" + str(sLow.count(a[j])) + \" times\")\n",
    "    \n"
   ]
  },
  {
   "cell_type": "markdown",
   "metadata": {},
   "source": [
    "5\\. Isolating the unique\n",
    "\n",
    "Write a function that determines unique number and count the unique numbers in the list:"
   ]
  },
  {
   "cell_type": "code",
   "execution_count": 280,
   "metadata": {},
   "outputs": [
    {
     "name": "stdout",
     "output_type": "stream",
     "text": [
      "Unique numbers :  [1, 3, 5, 8, 9, 10, 16, 18, 19, 20, 24, 30, 31, 33, 34, 36, 37, 39, 41, 42, 45, 47, 50, 51, 53, 54, 55, 56, 57, 58, 63, 64, 66, 70, 72, 74, 75, 79, 81, 82, 84, 85, 86, 87, 88, 89, 90, 91, 92, 94, 95, 96, 98, 99]\n",
      "Number of unique numbers are: 54\n"
     ]
    }
   ],
   "source": [
    "def unique(list):\n",
    "    unique_list = []\n",
    "    count = 0\n",
    "    for i in list: \n",
    "        if i not in unique_list: \n",
    "            count = count + 1\n",
    "            unique_list.append(i)\n",
    "        else:\n",
    "            count = count\n",
    "    print(\"Unique numbers : \",unique_list)\n",
    "    print(\"Number of unique numbers are:\", count)\n",
    "    \n",
    "  \n",
    "\n",
    "l = [36, 45, 58, 3, 74, 96, 64, 45, 31, 10, 24, 19, 33, 86, 99, 18, 63, 70, 85,\n",
    " 85, 63, 47, 56, 42, 70, 84, 88, 55, 20, 54, 8, 56, 51, 79, 81, 57, 37, 91,\n",
    " 1, 84, 84, 36, 66, 9, 89, 50, 42, 91, 50, 95, 90, 98, 39, 16, 82, 31, 92, 41,\n",
    " 45, 30, 66, 70, 34, 85, 94, 5, 3, 36, 72, 91, 84, 34, 87, 75, 53, 51, 20, 89, 51, 20]\n",
    "\n",
    "unique(sorted(l))\n"
   ]
  },
  {
   "cell_type": "markdown",
   "metadata": {},
   "source": [
    "Do the same without using user-defined functions, but exploiting only the Python data structures."
   ]
  },
  {
   "cell_type": "code",
   "execution_count": 316,
   "metadata": {},
   "outputs": [
    {
     "name": "stdout",
     "output_type": "stream",
     "text": [
      "[1, 3, 5, 8, 9, 10, 16, 18, 19, 20, 24, 30, 31, 33, 34, 36, 37, 39, 41, 42, 45, 47, 50, 51, 53, 54, 55, 56, 57, 58, 63, 64, 66, 70, 72, 74, 75, 79, 81, 82, 84, 85, 86, 87, 88, 89, 90, 91, 92, 94, 95, 96, 98, 99]\n",
      "Number of unique numbers  54\n"
     ]
    }
   ],
   "source": [
    "from collections import Counter\n",
    "\n",
    "l = [36, 45, 58, 3, 74, 96, 64, 45, 31, 10, 24, 19, 33, 86, 99, 18, 63, 70, 85,\n",
    " 85, 63, 47, 56, 42, 70, 84, 88, 55, 20, 54, 8, 56, 51, 79, 81, 57, 37, 91,\n",
    " 1, 84, 84, 36, 66, 9, 89, 50, 42, 91, 50, 95, 90, 98, 39, 16, 82, 31, 92, 41,\n",
    " 45, 30, 66, 70, 34, 85, 94, 5, 3, 36, 72, 91, 84, 34, 87, 75, 53, 51, 20, 89, 51, 20]\n",
    "\n",
    "\n",
    "print(sorted((Counter(l).keys())))\n",
    "print(\"Number of unique numbers \", len(Counter(l)))"
   ]
  },
  {
   "cell_type": "markdown",
   "metadata": {},
   "source": [
    "6\\. Combination of functions\n",
    "\n",
    "Write two functions - one that returns the square of a number, and one that returns the cube. Now write a third function that returns the number raised to the 6th power using the two previous functions."
   ]
  },
  {
   "cell_type": "code",
   "execution_count": 317,
   "metadata": {},
   "outputs": [
    {
     "name": "stdout",
     "output_type": "stream",
     "text": [
      "25\n",
      "125\n",
      "15625\n"
     ]
    }
   ],
   "source": [
    "def square(x):\n",
    "    return x*x\n",
    "def cube(y):\n",
    "    return y*y*y\n",
    "def sixthpow(z):\n",
    "    return cube(square(z))\n",
    "\n",
    "a = 5\n",
    "print(square(a))\n",
    "print(cube(a))\n",
    "print(sixthpow(a))"
   ]
  },
  {
   "cell_type": "markdown",
   "metadata": {},
   "source": [
    "7\\. Cubes\n",
    "\n",
    "Create a list of the cubes of x for x in *[0, 10]* using:\n",
    "\n",
    "a) a for loop\n",
    "\n",
    "b) a list comprehension"
   ]
  },
  {
   "cell_type": "code",
   "execution_count": 160,
   "metadata": {},
   "outputs": [
    {
     "name": "stdout",
     "output_type": "stream",
     "text": [
      "[0, 1, 8, 27, 64, 125, 216, 343, 512, 729, 1000]\n",
      "[0, 1, 8, 27, 64, 125, 216, 343, 512, 729, 1000]\n"
     ]
    }
   ],
   "source": [
    "a = []\n",
    "for x in range (0,11):\n",
    "    a.append(x*x*x)\n",
    "print(a)\n",
    "\n",
    "b = [y*y*y for y in range (0,11)]\n",
    "print(b)"
   ]
  },
  {
   "cell_type": "markdown",
   "metadata": {},
   "source": [
    "8\\. Nested list comprehension\n",
    "\n",
    "A Pythagorean triple is an integer solution to the Pythagorean theorem $a^2+b^2=c^2$. The first Pythagorean triple is (3,4,5). Find and put in a tuple all unique Pythagorean triples for the positive integers a, b and c less than 100."
   ]
  },
  {
   "cell_type": "code",
   "execution_count": 318,
   "metadata": {},
   "outputs": [
    {
     "name": "stdout",
     "output_type": "stream",
     "text": [
      "((3, 4, 5.0), (5, 12, 13.0), (6, 8, 10.0), (7, 24, 25.0), (8, 15, 17.0), (9, 12, 15.0), (9, 40, 41.0), (10, 24, 26.0), (11, 60, 61.0), (12, 16, 20.0), (12, 35, 37.0), (13, 84, 85.0), (14, 48, 50.0), (15, 20, 25.0), (15, 36, 39.0), (16, 30, 34.0), (16, 63, 65.0), (18, 24, 30.0), (18, 80, 82.0), (20, 21, 29.0), (20, 48, 52.0), (21, 28, 35.0), (21, 72, 75.0), (24, 32, 40.0), (24, 45, 51.0), (24, 70, 74.0), (25, 60, 65.0), (27, 36, 45.0), (28, 45, 53.0), (30, 40, 50.0), (30, 72, 78.0), (32, 60, 68.0), (33, 44, 55.0), (33, 56, 65.0), (35, 84, 91.0), (36, 48, 60.0), (36, 77, 85.0), (39, 52, 65.0), (39, 80, 89.0), (40, 42, 58.0), (40, 75, 85.0), (42, 56, 70.0), (45, 60, 75.0), (48, 55, 73.0), (48, 64, 80.0), (51, 68, 85.0), (54, 72, 90.0), (57, 76, 95.0), (60, 63, 87.0), (65, 72, 97.0))\n"
     ]
    }
   ],
   "source": [
    "import math\n",
    "from collections import Counter\n",
    "\n",
    "def Pythagorean(a,b):\n",
    "    c2 = pow(a,2) + pow(b,2)\n",
    "    c1 = math.sqrt(c2)\n",
    "    return c1\n",
    "\n",
    "a = []\n",
    "b = []\n",
    "c = []\n",
    "for i in range (1,100):\n",
    "    for j in range (1,100):\n",
    "        p = Pythagorean(j,i)\n",
    "        p_int = p.is_integer()\n",
    "        if  p < 100 and p_int == True:\n",
    "            a.append(i)\n",
    "            b.append(j)\n",
    "            c.append(p)\n",
    "\n",
    "pyt = []\n",
    "\n",
    "\n",
    "for k in range (0,len(c)):\n",
    "    comb = [a[k],b[k],c[k]]\n",
    "    pyt.append(tuple(sorted(comb)))\n",
    "\n",
    "\n",
    "print(tuple(sorted(set(pyt))))\n",
    "\n"
   ]
  },
  {
   "cell_type": "markdown",
   "metadata": {},
   "source": [
    "9\\. Normalization\n",
    "\n",
    "Write a function that takes a tuple of numbers and returns it with the entries normalized to one"
   ]
  },
  {
   "cell_type": "code",
   "execution_count": 319,
   "metadata": {},
   "outputs": [
    {
     "name": "stdout",
     "output_type": "stream",
     "text": [
      "(1.0, 0.39, 0.04, 0.495, 0.51, 0.275)\n"
     ]
    }
   ],
   "source": [
    "def norml(list):\n",
    "    a = max(list)\n",
    "    b = [y/a for y in list]\n",
    "    return b\n",
    "\n",
    "t = (200, 78, 8, 99, 102, 55)\n",
    "print(tuple(norml(t)))"
   ]
  }
 ],
 "metadata": {
  "kernelspec": {
   "display_name": "Python 3",
   "language": "python",
   "name": "python3"
  },
  "language_info": {
   "codemirror_mode": {
    "name": "ipython",
    "version": 3
   },
   "file_extension": ".py",
   "mimetype": "text/x-python",
   "name": "python",
   "nbconvert_exporter": "python",
   "pygments_lexer": "ipython3",
   "version": "3.8.8"
  }
 },
 "nbformat": 4,
 "nbformat_minor": 2
}
