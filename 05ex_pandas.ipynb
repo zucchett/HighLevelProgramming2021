{
 "cells": [
  {
   "cell_type": "markdown",
   "metadata": {},
   "source": [
    "This exercise consists in analyzing a dataset containg timing information from a series of Time-to-Digital-Converters (TDC) implemented in a pair of FPGAs. Each measurement (i.e. each row of the input file) consists of a flag that specifies the type of message ('HEAD', which in this case is always 1), two addresses of the TDC providing the signal ('FPGA' and 'TDC_CHANNEL'), and the timing information ('ORBIT_CNT', 'BX_COUNTER', and 'TDC_MEAS'). Each TDC count corresponds to 25/30 ns, whereas a unit of BX_COUNTER corresponds to 25 ns, and the ORBIT_CNT is increased every 'x' BX_COUNTER. This allows to store the time in a similar way to hours, minutes and seconds."
   ]
  },
  {
   "cell_type": "code",

   "execution_count": 1,
   "metadata": {},
   "outputs": [
    {
     "name": "stdout",
     "output_type": "stream",
     "text": [
      "--2021-12-02 21:52:53--  https://www.dropbox.com/s/xvjzaxzz3ysphme/data_000637.txt\n",
      "Resolving www.dropbox.com (www.dropbox.com)... failed: Temporary failure in name resolution.\n",
      "wget: unable to resolve host address ‘www.dropbox.com’\n"
     ]
    }
   ],
   "source": [
    "# If haven't downloaded it yet, please get the data file with wget\n",
    "!wget https://www.dropbox.com/s/xvjzaxzz3ysphme/data_000637.txt -P ./data/"

   "execution_count": null,
   "metadata": {},
   "outputs": [],
   "source": [
    "# If haven't downloaded it yet, please get the data file with wget\n",
    "#!wget https://www.dropbox.com/s/xvjzaxzz3ysphme/data_000637.txt -P ./data/"

   ]
  },
  {
   "cell_type": "markdown",
   "metadata": {},
   "source": [
    "1\\. Create a Pandas DataFrame reading N rows of the `data/data_000637.txt` dataset. Choose N to be smaller than or equal to the maximum number of rows and larger that 10k (check the documentation)."
   ]
  },
  {
   "cell_type": "code",

   "execution_count": 2,
   "metadata": {},
   "outputs": [
    {
     "data": {
      "text/html": [
       "<div>\n",
       "<style scoped>\n",
       "    .dataframe tbody tr th:only-of-type {\n",
       "        vertical-align: middle;\n",
       "    }\n",
       "\n",
       "    .dataframe tbody tr th {\n",
       "        vertical-align: top;\n",
       "    }\n",
       "\n",
       "    .dataframe thead th {\n",
       "        text-align: right;\n",
       "    }\n",
       "</style>\n",
       "<table border=\"1\" class=\"dataframe\">\n",
       "  <thead>\n",
       "    <tr style=\"text-align: right;\">\n",
       "      <th></th>\n",
       "      <th>HEAD</th>\n",
       "      <th>FPGA</th>\n",
       "      <th>TDC_CHANNEL</th>\n",
       "      <th>ORBIT_CNT</th>\n",
       "      <th>BX_COUNTER</th>\n",
       "      <th>TDC_MEAS</th>\n",
       "    </tr>\n",
       "  </thead>\n",
       "  <tbody>\n",
       "    <tr>\n",
       "      <th>0</th>\n",
       "      <td>1</td>\n",
       "      <td>0</td>\n",
       "      <td>123</td>\n",
       "      <td>3869200167</td>\n",
       "      <td>2374</td>\n",
       "      <td>26</td>\n",
       "    </tr>\n",
       "    <tr>\n",
       "      <th>1</th>\n",
       "      <td>1</td>\n",
       "      <td>0</td>\n",
       "      <td>124</td>\n",
       "      <td>3869200167</td>\n",
       "      <td>2374</td>\n",
       "      <td>27</td>\n",
       "    </tr>\n",
       "    <tr>\n",
       "      <th>2</th>\n",
       "      <td>1</td>\n",
       "      <td>0</td>\n",
       "      <td>63</td>\n",
       "      <td>3869200167</td>\n",
       "      <td>2553</td>\n",
       "      <td>28</td>\n",
       "    </tr>\n",
       "    <tr>\n",
       "      <th>3</th>\n",
       "      <td>1</td>\n",
       "      <td>0</td>\n",
       "      <td>64</td>\n",
       "      <td>3869200167</td>\n",
       "      <td>2558</td>\n",
       "      <td>19</td>\n",
       "    </tr>\n",
       "    <tr>\n",
       "      <th>4</th>\n",
       "      <td>1</td>\n",
       "      <td>0</td>\n",
       "      <td>64</td>\n",
       "      <td>3869200167</td>\n",
       "      <td>2760</td>\n",
       "      <td>25</td>\n",
       "    </tr>\n",
       "    <tr>\n",
       "      <th>...</th>\n",
       "      <td>...</td>\n",
       "      <td>...</td>\n",
       "      <td>...</td>\n",
       "      <td>...</td>\n",
       "      <td>...</td>\n",
       "      <td>...</td>\n",
       "    </tr>\n",
       "    <tr>\n",
       "      <th>9995</th>\n",
       "      <td>1</td>\n",
       "      <td>0</td>\n",
       "      <td>61</td>\n",
       "      <td>3869200267</td>\n",
       "      <td>696</td>\n",
       "      <td>11</td>\n",
       "    </tr>\n",
       "    <tr>\n",
       "      <th>9996</th>\n",
       "      <td>1</td>\n",
       "      <td>0</td>\n",
       "      <td>60</td>\n",
       "      <td>3869200267</td>\n",
       "      <td>701</td>\n",
       "      <td>5</td>\n",
       "    </tr>\n",
       "    <tr>\n",
       "      <th>9997</th>\n",
       "      <td>1</td>\n",
       "      <td>0</td>\n",
       "      <td>59</td>\n",
       "      <td>3869200267</td>\n",
       "      <td>707</td>\n",
       "      <td>23</td>\n",
       "    </tr>\n",
       "    <tr>\n",
       "      <th>9998</th>\n",
       "      <td>1</td>\n",
       "      <td>0</td>\n",
       "      <td>63</td>\n",
       "      <td>3869200267</td>\n",
       "      <td>706</td>\n",
       "      <td>15</td>\n",
       "    </tr>\n",
       "    <tr>\n",
       "      <th>9999</th>\n",
       "      <td>1</td>\n",
       "      <td>0</td>\n",
       "      <td>49</td>\n",
       "      <td>3869200267</td>\n",
       "      <td>777</td>\n",
       "      <td>13</td>\n",
       "    </tr>\n",
       "  </tbody>\n",
       "</table>\n",
       "<p>10000 rows × 6 columns</p>\n",
       "</div>"
      ],
      "text/plain": [
       "      HEAD  FPGA  TDC_CHANNEL   ORBIT_CNT  BX_COUNTER  TDC_MEAS\n",
       "0        1     0          123  3869200167        2374        26\n",
       "1        1     0          124  3869200167        2374        27\n",
       "2        1     0           63  3869200167        2553        28\n",
       "3        1     0           64  3869200167        2558        19\n",
       "4        1     0           64  3869200167        2760        25\n",
       "...    ...   ...          ...         ...         ...       ...\n",
       "9995     1     0           61  3869200267         696        11\n",
       "9996     1     0           60  3869200267         701         5\n",
       "9997     1     0           59  3869200267         707        23\n",
       "9998     1     0           63  3869200267         706        15\n",
       "9999     1     0           49  3869200267         777        13\n",
       "\n",
       "[10000 rows x 6 columns]"
      ]
     },
     "execution_count": 2,
     "metadata": {},
     "output_type": "execute_result"
    }
   ],
   "source": [
    "import pandas as pd \n",
    "import numpy as np\n",
    "file_name = \"./data/data_000637.txt\"\n",
    "data = pd.read_csv(file_name)[:10000]\n",
    "data"
   ]

   "execution_count": null,
   "metadata": {},
   "outputs": [],
   "source": []
  },
  {
   "cell_type": "markdown",
   "metadata": {},
   "source": [
    "2\\. Estimate the number of BX in a ORBIT (the value 'x')."
   ]
  },
  {
   "cell_type": "code",

   "execution_count": 24,
   "metadata": {},
   "outputs": [
    {
     "name": "stdout",
     "output_type": "stream",
     "text": [
      "5\n"
     ]
    },
    {
     "data": {
      "text/plain": [
       "HEAD                    1\n",
       "FPGA                    0\n",
       "TDC_CHANNEL            63\n",
       "ORBIT_CNT      3869200167\n",
       "BX_COUNTER           2762\n",
       "TDC_MEAS                4\n",
       "Name: 5, dtype: int64"
      ]
     },
     "execution_count": 24,
     "metadata": {},
     "output_type": "execute_result"
    }
   ],
   "source": [
    "a=data.groupby('ORBIT_CNT').max()\n",
    "b=data.groupby('ORBIT_CNT').min()\n",
    "x=input()\n",
    "data.iloc[int(x)]\n",
    "print(df.at[dates[1], 'A'])"
   ]

   "execution_count": null,
   "metadata": {},
   "outputs": [],
   "source": []

  },
  {
   "cell_type": "markdown",
   "metadata": {},
   "source": [
    "3\\. Find out the duration of the data taking in hours, minutes and seconds. You can either make an estimate based on the fraction of the measurements (rows) you read, or perform this check precisely by reading the whole dataset."
   ]
  },
  {
   "cell_type": "code",

   "execution_count": 11,
   "metadata": {},
   "outputs": [
    {
     "data": {
      "text/plain": [
       "'12:55:12'"
      ]
     },
     "execution_count": 11,
     "metadata": {},
     "output_type": "execute_result"
    }
   ],
   "source": [
    "import time\n",
    "duration= (len(data)*25/30+len(data)*25\n",
    "+data['TDC_MEAS'].sum())\n",
    "time.strftime('%H:%M:%S',time.gmtime(duration))"
   ]

   "execution_count": null,
   "metadata": {},
   "outputs": [],
   "source": []

  },
  {
   "cell_type": "markdown",
   "metadata": {},
   "source": [
    "4\\. Create a new column with the absolute time in ns (as a combination of the other three columns with timing information) since the beginning of the data acquisition."
   ]
  },
  {
   "cell_type": "code",

   "execution_count": 12,
   "metadata": {},
   "outputs": [
    {
     "data": {
      "text/html": [
       "<div>\n",
       "<style scoped>\n",
       "    .dataframe tbody tr th:only-of-type {\n",
       "        vertical-align: middle;\n",
       "    }\n",
       "\n",
       "    .dataframe tbody tr th {\n",
       "        vertical-align: top;\n",
       "    }\n",
       "\n",
       "    .dataframe thead th {\n",
       "        text-align: right;\n",
       "    }\n",
       "</style>\n",
       "<table border=\"1\" class=\"dataframe\">\n",
       "  <thead>\n",
       "    <tr style=\"text-align: right;\">\n",
       "      <th></th>\n",
       "      <th>HEAD</th>\n",
       "      <th>FPGA</th>\n",
       "      <th>TDC_CHANNEL</th>\n",
       "      <th>ORBIT_CNT</th>\n",
       "      <th>BX_COUNTER</th>\n",
       "      <th>TDC_MEAS</th>\n",
       "      <th>Duration</th>\n",
       "      <th>Timing</th>\n",
       "    </tr>\n",
       "  </thead>\n",
       "  <tbody>\n",
       "    <tr>\n",
       "      <th>0</th>\n",
       "      <td>1</td>\n",
       "      <td>0</td>\n",
       "      <td>123</td>\n",
       "      <td>3869200167</td>\n",
       "      <td>2374</td>\n",
       "      <td>26</td>\n",
       "      <td>2021-12-03</td>\n",
       "      <td>51.833333</td>\n",
       "    </tr>\n",
       "    <tr>\n",
       "      <th>1</th>\n",
       "      <td>1</td>\n",
       "      <td>0</td>\n",
       "      <td>124</td>\n",
       "      <td>3869200167</td>\n",
       "      <td>2374</td>\n",
       "      <td>27</td>\n",
       "      <td>2021-12-04</td>\n",
       "      <td>52.833333</td>\n",
       "    </tr>\n",
       "    <tr>\n",
       "      <th>2</th>\n",
       "      <td>1</td>\n",
       "      <td>0</td>\n",
       "      <td>63</td>\n",
       "      <td>3869200167</td>\n",
       "      <td>2553</td>\n",
       "      <td>28</td>\n",
       "      <td>2021-12-05</td>\n",
       "      <td>53.833333</td>\n",
       "    </tr>\n",
       "    <tr>\n",
       "      <th>3</th>\n",
       "      <td>1</td>\n",
       "      <td>0</td>\n",
       "      <td>64</td>\n",
       "      <td>3869200167</td>\n",
       "      <td>2558</td>\n",
       "      <td>19</td>\n",
       "      <td>2021-12-06</td>\n",
       "      <td>44.833333</td>\n",
       "    </tr>\n",
       "    <tr>\n",
       "      <th>4</th>\n",
       "      <td>1</td>\n",
       "      <td>0</td>\n",
       "      <td>64</td>\n",
       "      <td>3869200167</td>\n",
       "      <td>2760</td>\n",
       "      <td>25</td>\n",
       "      <td>2021-12-07</td>\n",
       "      <td>50.833333</td>\n",
       "    </tr>\n",
       "    <tr>\n",
       "      <th>...</th>\n",
       "      <td>...</td>\n",
       "      <td>...</td>\n",
       "      <td>...</td>\n",
       "      <td>...</td>\n",
       "      <td>...</td>\n",
       "      <td>...</td>\n",
       "      <td>...</td>\n",
       "      <td>...</td>\n",
       "    </tr>\n",
       "    <tr>\n",
       "      <th>9995</th>\n",
       "      <td>1</td>\n",
       "      <td>0</td>\n",
       "      <td>61</td>\n",
       "      <td>3869200267</td>\n",
       "      <td>696</td>\n",
       "      <td>11</td>\n",
       "      <td>2049-04-15</td>\n",
       "      <td>36.833333</td>\n",
       "    </tr>\n",
       "    <tr>\n",
       "      <th>9996</th>\n",
       "      <td>1</td>\n",
       "      <td>0</td>\n",
       "      <td>60</td>\n",
       "      <td>3869200267</td>\n",
       "      <td>701</td>\n",
       "      <td>5</td>\n",
       "      <td>2049-04-16</td>\n",
       "      <td>30.833333</td>\n",
       "    </tr>\n",
       "    <tr>\n",
       "      <th>9997</th>\n",
       "      <td>1</td>\n",
       "      <td>0</td>\n",
       "      <td>59</td>\n",
       "      <td>3869200267</td>\n",
       "      <td>707</td>\n",
       "      <td>23</td>\n",
       "      <td>2049-04-17</td>\n",
       "      <td>48.833333</td>\n",
       "    </tr>\n",
       "    <tr>\n",
       "      <th>9998</th>\n",
       "      <td>1</td>\n",
       "      <td>0</td>\n",
       "      <td>63</td>\n",
       "      <td>3869200267</td>\n",
       "      <td>706</td>\n",
       "      <td>15</td>\n",
       "      <td>2049-04-18</td>\n",
       "      <td>40.833333</td>\n",
       "    </tr>\n",
       "    <tr>\n",
       "      <th>9999</th>\n",
       "      <td>1</td>\n",
       "      <td>0</td>\n",
       "      <td>49</td>\n",
       "      <td>3869200267</td>\n",
       "      <td>777</td>\n",
       "      <td>13</td>\n",
       "      <td>2049-04-19</td>\n",
       "      <td>38.833333</td>\n",
       "    </tr>\n",
       "  </tbody>\n",
       "</table>\n",
       "<p>10000 rows × 8 columns</p>\n",
       "</div>"
      ],
      "text/plain": [
       "      HEAD  FPGA  TDC_CHANNEL   ORBIT_CNT  BX_COUNTER  TDC_MEAS   Duration  \\\n",
       "0        1     0          123  3869200167        2374        26 2021-12-03   \n",
       "1        1     0          124  3869200167        2374        27 2021-12-04   \n",
       "2        1     0           63  3869200167        2553        28 2021-12-05   \n",
       "3        1     0           64  3869200167        2558        19 2021-12-06   \n",
       "4        1     0           64  3869200167        2760        25 2021-12-07   \n",
       "...    ...   ...          ...         ...         ...       ...        ...   \n",
       "9995     1     0           61  3869200267         696        11 2049-04-15   \n",
       "9996     1     0           60  3869200267         701         5 2049-04-16   \n",
       "9997     1     0           59  3869200267         707        23 2049-04-17   \n",
       "9998     1     0           63  3869200267         706        15 2049-04-18   \n",
       "9999     1     0           49  3869200267         777        13 2049-04-19   \n",
       "\n",
       "         Timing  \n",
       "0     51.833333  \n",
       "1     52.833333  \n",
       "2     53.833333  \n",
       "3     44.833333  \n",
       "4     50.833333  \n",
       "...         ...  \n",
       "9995  36.833333  \n",
       "9996  30.833333  \n",
       "9997  48.833333  \n",
       "9998  40.833333  \n",
       "9999  38.833333  \n",
       "\n",
       "[10000 rows x 8 columns]"
      ]
     },
     "execution_count": 12,
     "metadata": {},
     "output_type": "execute_result"
    }
   ],
   "source": [
    "data['Timing'] = 25/30+25+data['TDC_MEAS']\n",
    "data"
   ]

   "execution_count": null,
   "metadata": {},
   "outputs": [],
   "source": []

  },
  {
   "cell_type": "markdown",
   "metadata": {},
   "source": [
    "5\\. Use the `.groupby()` method to find out the noisy channels, i.e. the TDC channels with most counts (print to screen the top 3 and the corresponding counts)"
   ]
  },
  {
   "cell_type": "code",

   "execution_count": 18,
   "metadata": {},
   "outputs": [
    {
     "data": {
      "text/html": [
       "<div>\n",
       "<style scoped>\n",
       "    .dataframe tbody tr th:only-of-type {\n",
       "        vertical-align: middle;\n",
       "    }\n",
       "\n",
       "    .dataframe tbody tr th {\n",
       "        vertical-align: top;\n",
       "    }\n",
       "\n",
       "    .dataframe thead th {\n",
       "        text-align: right;\n",
       "    }\n",
       "</style>\n",
       "<table border=\"1\" class=\"dataframe\">\n",
       "  <thead>\n",
       "    <tr style=\"text-align: right;\">\n",
       "      <th></th>\n",
       "      <th>HEAD</th>\n",
       "      <th>FPGA</th>\n",
       "      <th>ORBIT_CNT</th>\n",
       "      <th>BX_COUNTER</th>\n",
       "      <th>TDC_MEAS</th>\n",
       "      <th>Duration</th>\n",
       "      <th>Timing</th>\n",
       "    </tr>\n",
       "    <tr>\n",
       "      <th>TDC_CHANNEL</th>\n",
       "      <th></th>\n",
       "      <th></th>\n",
       "      <th></th>\n",
       "      <th></th>\n",
       "      <th></th>\n",
       "      <th></th>\n",
       "      <th></th>\n",
       "    </tr>\n",
       "  </thead>\n",
       "  <tbody>\n",
       "    <tr>\n",
       "      <th>127</th>\n",
       "      <td>1</td>\n",
       "      <td>1</td>\n",
       "      <td>3869200247</td>\n",
       "      <td>3337</td>\n",
       "      <td>29</td>\n",
       "      <td>2043-11-02</td>\n",
       "      <td>54.833333</td>\n",
       "    </tr>\n",
       "    <tr>\n",
       "      <th>128</th>\n",
       "      <td>1</td>\n",
       "      <td>1</td>\n",
       "      <td>3869200253</td>\n",
       "      <td>3337</td>\n",
       "      <td>23</td>\n",
       "      <td>2045-06-29</td>\n",
       "      <td>48.833333</td>\n",
       "    </tr>\n",
       "    <tr>\n",
       "      <th>139</th>\n",
       "      <td>1</td>\n",
       "      <td>1</td>\n",
       "      <td>3869200267</td>\n",
       "      <td>3559</td>\n",
       "      <td>0</td>\n",
       "      <td>2049-04-06</td>\n",
       "      <td>25.833333</td>\n",
       "    </tr>\n",
       "  </tbody>\n",
       "</table>\n",
       "</div>"
      ],
      "text/plain": [
       "             HEAD  FPGA   ORBIT_CNT  BX_COUNTER  TDC_MEAS   Duration  \\\n",
       "TDC_CHANNEL                                                            \n",
       "127             1     1  3869200247        3337        29 2043-11-02   \n",
       "128             1     1  3869200253        3337        23 2045-06-29   \n",
       "139             1     1  3869200267        3559         0 2049-04-06   \n",
       "\n",
       "                Timing  \n",
       "TDC_CHANNEL             \n",
       "127          54.833333  \n",
       "128          48.833333  \n",
       "139          25.833333  "
      ]
     },
     "execution_count": 18,
     "metadata": {},
     "output_type": "execute_result"
    }
   ],
   "source": [
    "data.groupby('TDC_CHANNEL').max()[-3:]"
   ]

   "execution_count": null,
   "metadata": {},
   "outputs": [],
   "source": []

  },
  {
   "cell_type": "markdown",
   "metadata": {},
   "source": [
    "6\\. Count the number of non-empty orbits (i.e. the number of orbits with at least one hit). Count also the number of unique orbits with at least one measurement from TDC_CHANNEL=139."
   ]
  },
  {
   "cell_type": "code",

   "execution_count": 28,
   "metadata": {},
   "outputs": [
    {
     "data": {
      "text/plain": [
       "HEAD           860\n",
       "FPGA           860\n",
       "TDC_CHANNEL    860\n",
       "ORBIT_CNT      860\n",
       "BX_COUNTER     860\n",
       "TDC_MEAS       860\n",
       "Duration       860\n",
       "Timing         860\n",
       "dtype: int64"
      ]
     },
     "execution_count": 28,
     "metadata": {},
     "output_type": "execute_result"
    }
   ],
   "source": [
    "data[data['TDC_CHANNEL']==139].count()"
   ]

   "execution_count": null,
   "metadata": {},
   "outputs": [],
   "source": []

  },
  {
   "cell_type": "markdown",
   "metadata": {},
   "source": [
    "7\\. **Optional:** Make two occupancy plots (one for each FPGA), i.e. plot the number of counts per TDC channel"
   ]
  },
  {
   "cell_type": "code",

   "execution_count": 30,
   "metadata": {},
   "outputs": [
    {
     "data": {
      "text/plain": [
       "[<matplotlib.lines.Line2D at 0x7fe004d828b0>]"
      ]
     },
     "execution_count": 30,
     "metadata": {},
     "output_type": "execute_result"
    },
    {
     "data": {
      "image/png": "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\n",
      "text/plain": [
       "<Figure size 432x288 with 1 Axes>"
      ]
     },
     "metadata": {
      "needs_background": "light"
     },
     "output_type": "display_data"
    }
   ],
   "source": [
    "import matplotlib.pyplot as plt\n",
    "plt.plot(data['FPGA'],data['TDC_CHANNEL'])"
   ]
  },
  {
   "cell_type": "code",

   "execution_count": null,
   "metadata": {},
   "outputs": [],
   "source": []
  }
 ],
 "metadata": {
  "kernelspec": {

   "display_name": "Python 3 (ipykernel)",

   "display_name": "Python 3",

   "language": "python",
   "name": "python3"
  },
  "language_info": {
   "codemirror_mode": {
    "name": "ipython",
    "version": 3
   },
   "file_extension": ".py",
   "mimetype": "text/x-python",
   "name": "python",
   "nbconvert_exporter": "python",
   "pygments_lexer": "ipython3",

   "version": "3.8.10"

   "version": "3.8.5"

  }
 },
 "nbformat": 4,
 "nbformat_minor": 2
}
