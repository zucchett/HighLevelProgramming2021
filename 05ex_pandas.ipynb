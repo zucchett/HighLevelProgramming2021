{
 "cells": [
  {
   "cell_type": "markdown",
   "metadata": {},
   "source": [
    "This exercise consists in analyzing a dataset containg timing information from a series of Time-to-Digital-Converters (TDC) implemented in a pair of FPGAs. Each measurement (i.e. each row of the input file) consists of a flag that specifies the type of message ('HEAD', which in this case is always 1), two addresses of the TDC providing the signal ('FPGA' and 'TDC_CHANNEL'), and the timing information ('ORBIT_CNT', 'BX_COUNTER', and 'TDC_MEAS'). Each TDC count corresponds to 25/30 ns, whereas a unit of BX_COUNTER corresponds to 25 ns, and the ORBIT_CNT is increased every 'x' BX_COUNTER. This allows to store the time in a similar way to hours, minutes and seconds."
   ]
  },
  {
   "cell_type": "code",
   "execution_count": 1,
   "metadata": {},
   "outputs": [],
   "source": [
    "# If haven't downloaded it yet, please get the data file with wget\n",
    "#!wget https://www.dropbox.com/s/xvjzaxzz3ysphme/data_000637.txt -P ./data/"
   ]
  },
  {
   "cell_type": "markdown",
   "metadata": {},
   "source": [
    "1\\. Create a Pandas DataFrame reading N rows of the `data/data_000637.txt` dataset. Choose N to be smaller than or equal to the maximum number of rows and larger that 10k (check the documentation)."
   ]
  },
  {
   "cell_type": "code",
   "execution_count": 2,
   "metadata": {},
   "outputs": [
    {
     "name": "stdout",
     "output_type": "stream",
     "text": [
      "        HEAD  FPGA  TDC_CHANNEL   ORBIT_CNT  BX_COUNTER  TDC_MEAS\n",
      "0          1     0          123  3869200167        2374        26\n",
      "1          1     0          124  3869200167        2374        27\n",
      "2          1     0           63  3869200167        2553        28\n",
      "3          1     0           64  3869200167        2558        19\n",
      "4          1     0           64  3869200167        2760        25\n",
      "...      ...   ...          ...         ...         ...       ...\n",
      "999995     1     0           62  3869209011        2560        29\n",
      "999996     1     0           51  3869209011        2561        12\n",
      "999997     1     0           61  3869209011        2562         2\n",
      "999998     1     0           50  3869209011        2563         4\n",
      "999999     1     0           60  3869209011        2688        25\n",
      "\n",
      "[1000000 rows x 6 columns]\n"
     ]
    }
   ],
   "source": [
    "import pandas as pd # standard naming convention\n",
    "import numpy as np\n",
    "\n",
    "N = 1000000\n",
    "dataframe = pd.read_csv('data_000637.txt',nrows=N)\n",
    "dataframe.head()\n",
    "\n",
    "print(dataframe)"
   ]
  },
  {
   "cell_type": "markdown",
   "metadata": {},
   "source": [
    "2\\. Estimate the number of BX in a ORBIT (the value 'x')."
   ]
  },
  {
   "cell_type": "code",
   "execution_count": 3,
   "metadata": {},
   "outputs": [
    {
     "name": "stdout",
     "output_type": "stream",
     "text": [
      "        HEAD  FPGA  TDC_CHANNEL   ORBIT_CNT  BX_COUNTER  TDC_MEAS\n",
      "0          1     0          123  3869200167        2374        26\n",
      "1          1     0          124  3869200167        2374        27\n",
      "2          1     0           63  3869200167        2553        28\n",
      "3          1     0           64  3869200167        2558        19\n",
      "4          1     0           64  3869200167        2760        25\n",
      "...      ...   ...          ...         ...         ...       ...\n",
      "999995     1     0           62  3869209011        2560        29\n",
      "999996     1     0           51  3869209011        2561        12\n",
      "999997     1     0           61  3869209011        2562         2\n",
      "999998     1     0           50  3869209011        2563         4\n",
      "999999     1     0           60  3869209011        2688        25\n",
      "\n",
      "[1000000 rows x 6 columns]\n",
      "x = 3564\n"
     ]
    }
   ],
   "source": [
    "dataframe.sort_values(by=\"BX_COUNTER\", ascending=False)\n",
    "print(dataframe)\n",
    "BX = dataframe[\"BX_COUNTER\"]\n",
    "#print(BX)\n",
    "max = 0\n",
    "for i in BX:\n",
    "    if i > max:\n",
    "        max = i\n",
    "max += 1\n",
    "print(\"x =\",max)"
   ]
  },
  {
   "cell_type": "markdown",
   "metadata": {},
   "source": [
    "3\\. Find out the duration of the data taking in hours, minutes and seconds. You can either make an estimate based on the fraction of the measurements (rows) you read, or perform this check precisely by reading the whole dataset."
   ]
  },
  {
   "cell_type": "code",
   "execution_count": 4,
   "metadata": {},
   "outputs": [
    {
     "name": "stdout",
     "output_type": "stream",
     "text": [
      "HEAD                    1\n",
      "FPGA                    0\n",
      "TDC_CHANNEL           123\n",
      "ORBIT_CNT      3869200167\n",
      "BX_COUNTER           2374\n",
      "TDC_MEAS               26\n",
      "Name: 0, dtype: int64\n",
      "Duration of the data taking of N sample:\n",
      "3 days, 23:44:09.004935\n"
     ]
    }
   ],
   "source": [
    "#Each TDC count corresponds to 25/30 ns\n",
    "#A unit of BX_COUNTER corresponds to 25 ns \n",
    "#The ORBIT_CNT is increased every 'x' BX_COUNTER\n",
    "\n",
    "import datetime\n",
    "\n",
    "X = 3563\n",
    "\n",
    "nrow = 0\n",
    "row_init = dataframe.iloc[nrow]\n",
    "nanos_init = row_init['TDC_MEAS']*25/30 + row_init['BX_COUNTER']*25 + row_init['ORBIT_CNT']*X*25\n",
    "                                             \n",
    "sec_init = nanos_init *10**-9\n",
    "print(row_init)\n",
    "print(\"Duration of the data taking of N sample:\")\n",
    "print(str(datetime.timedelta(seconds=sec_init)))\n"
   ]
  },
  {
   "cell_type": "markdown",
   "metadata": {},
   "source": [
    "4\\. Create a new column with the absolute time in ns (as a combination of the other three columns with timing information) since the beginning of the data acquisition."
   ]
  },
  {
   "cell_type": "code",
   "execution_count": 5,
   "metadata": {},
   "outputs": [
    {
     "name": "stdout",
     "output_type": "stream",
     "text": [
      "        HEAD  FPGA  TDC_CHANNEL   ORBIT_CNT  BX_COUNTER  TDC_MEAS  \\\n",
      "0          1     0          123  3869200167        2374        26   \n",
      "1          1     0          124  3869200167        2374        27   \n",
      "2          1     0           63  3869200167        2553        28   \n",
      "3          1     0           64  3869200167        2558        19   \n",
      "4          1     0           64  3869200167        2760        25   \n",
      "...      ...   ...          ...         ...         ...       ...   \n",
      "999995     1     0           62  3869209011        2560        29   \n",
      "999996     1     0           51  3869209011        2561        12   \n",
      "999997     1     0           61  3869209011        2562         2   \n",
      "999998     1     0           50  3869209011        2563         4   \n",
      "999999     1     0           60  3869209011        2688        25   \n",
      "\n",
      "            Row Time  \n",
      "0       3.446490e+14  \n",
      "1       6.892980e+14  \n",
      "2       1.033947e+15  \n",
      "3       1.378596e+15  \n",
      "4       1.723245e+15  \n",
      "...              ...  \n",
      "999995  3.446481e+20  \n",
      "999996  3.446484e+20  \n",
      "999997  3.446487e+20  \n",
      "999998  3.446491e+20  \n",
      "999999  3.446494e+20  \n",
      "\n",
      "[1000000 rows x 7 columns]\n"
     ]
    }
   ],
   "source": [
    "X = 3563\n",
    "dataframe['Row Time'] =  (dataframe['TDC_MEAS']*25/30 + dataframe['BX_COUNTER']*25 + dataframe['ORBIT_CNT']*X*25).cumsum()\n",
    "print(dataframe)"
   ]
  },
  {
   "cell_type": "markdown",
   "metadata": {},
   "source": [
    "5\\. Use the `.groupby()` method to find out the noisy channels, i.e. the TDC channels with most counts (print to screen the top 3 and the corresponding counts)"
   ]
  },
  {
   "cell_type": "code",
   "execution_count": 6,
   "metadata": {},
   "outputs": [
    {
     "name": "stdout",
     "output_type": "stream",
     "text": [
      "    TDC_MEAS  HEAD  FPGA  TDC_CHANNEL   ORBIT_CNT  BX_COUNTER      Row Time\n",
      "27        27     1     1          128  3869209011        3563  3.446477e+20\n",
      "28        28     1     1          130  3869209011        3563  3.446377e+20\n",
      "29        29     1     1          128  3869209011        3563  3.446481e+20\n"
     ]
    }
   ],
   "source": [
    "df_maxTDC = dataframe.groupby(['TDC_MEAS'], as_index=False).max()\n",
    "print(df_maxTDC.iloc[-3:])"
   ]
  },
  {
   "cell_type": "markdown",
   "metadata": {},
   "source": [
    "6\\. Count the number of non-empty orbits (i.e. the number of orbits with at least one hit). Count also the number of unique orbits with at least one measurement from TDC_CHANNEL=139."
   ]
  },
  {
   "cell_type": "code",
   "execution_count": 7,
   "metadata": {},
   "outputs": [
    {
     "name": "stdout",
     "output_type": "stream",
     "text": [
      "Number of non-empty orbits:  0\n",
      "Number of ORBITS_CNT with TDC_CHANNEL=139:  8841\n"
     ]
    }
   ],
   "source": [
    "df1 = dataframe[dataframe.isna().any(axis=1)]\n",
    "print('Number of non-empty orbits: ', df1.shape[0])\n",
    "\n",
    "df_ORBIT = dataframe.groupby(['ORBIT_CNT'], as_index=False)['TDC_CHANNEL'].max()\n",
    "print('Number of ORBITS_CNT with TDC_CHANNEL=139: ', df_ORBIT.shape[0])"
   ]
  },
  {
   "cell_type": "markdown",
   "metadata": {},
   "source": [
    "7\\. **Optional:** Make two occupancy plots (one for each FPGA), i.e. plot the number of counts per TDC channel"
   ]
  },
  {
   "cell_type": "code",
   "execution_count": null,
   "metadata": {},
   "outputs": [],
   "source": []
  }
 ],
 "metadata": {
  "kernelspec": {
   "display_name": "Python 3",
   "language": "python",
   "name": "python3"
  },
  "language_info": {
   "codemirror_mode": {
    "name": "ipython",
    "version": 3
   },
   "file_extension": ".py",
   "mimetype": "text/x-python",
   "name": "python",
   "nbconvert_exporter": "python",
   "pygments_lexer": "ipython3",
   "version": "3.8.8"
  }
 },
 "nbformat": 4,
 "nbformat_minor": 2
}
