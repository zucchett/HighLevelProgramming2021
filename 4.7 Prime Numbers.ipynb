{
 "cells": [
  {
   "cell_type": "code",
   "execution_count": null,
   "metadata": {},
   "outputs": [],
   "source": [
    "def E_mask(n):\n",
    "    mask = np.ones(n-2, dtype=bool)\n",
    "    # NB acutal number = index + 2\n",
    "    for i, val in enumerate(mask):\n",
    "        if val:\n",
    "            mask[2*i+2::(i+2)]=0\n",
    "    return mask\n",
    "\n",
    "maskfinal = E_mask(100)\n",
    "a = np.arange(98)\n",
    "a[maskfinal]"
   ]
  }
 ],
 "metadata": {
  "kernelspec": {
   "display_name": "Python 3",
   "language": "python",
   "name": "python3"
  },
  "language_info": {
   "codemirror_mode": {
    "name": "ipython",
    "version": 3
   },
   "file_extension": ".py",
   "mimetype": "text/x-python",
   "name": "python",
   "nbconvert_exporter": "python",
   "pygments_lexer": "ipython3",
   "version": "3.8.5"
  }
 },
 "nbformat": 4,
 "nbformat_minor": 4
}
