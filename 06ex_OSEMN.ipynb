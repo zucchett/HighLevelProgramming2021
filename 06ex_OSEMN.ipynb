{
 "cells": [
  {
   "cell_type": "code",

   "execution_count": 3,

   "execution_count": 5,

   "metadata": {},
   "outputs": [],
   "source": [
    "import pandas as pd\n",

    "import numpy as np\n",
    "import json"

    "import numpy as np"

   ]
  },
  {
   "cell_type": "markdown",
   "metadata": {},
   "source": [
    "1\\. Perform the following operations on plain `txt` files:\n",
    "\n",
    "+ create a list of integrer numbers and then save it to a text file named \"data_int.txt\". Run the `cat` command to print the content of the file.\n",
    "+ create a matrix of 5x5 floats and then save it to a text file named \"data_float.txt\". Use the `cat` command to print the content of the file.\n",
    "+ load the txt file of the previous point and convert it to a csv file by hand."
   ]
  },
  {
   "cell_type": "code",

   "execution_count": 4,
   "metadata": {},
   "outputs": [
    {
     "name": "stdout",
     "output_type": "stream",
     "text": [
      "[1 2 3 4 5 6 7 8 9]\n",
      "\n",
      "[[0.  0.1 0.2 0.3 0.4]\n",
      " [0.5 0.6 0.7 0.8 0.9]\n",
      " [1.  1.1 1.2 1.3 1.4]\n",
      " [1.5 1.6 1.7 1.8 1.9]\n",
      " [2.  2.1 2.2 2.3 2.4]]"
     ]
    }
   ],
   "source": [
    "l=str(np.arange(1,10,1))\n",
    "f=open(\"data_int.txt\",\"w\")\n",
    "for i in l:\n",
    "    f.write(i)\n",
    "!cat data_int.txt\n",
    "print(\"\\n\")\n",
    "m=str((np.arange(25).reshape(5,5))/10)\n",
    "f1=open(\"data_float.txt\",\"w\")\n",
    "for j in m:\n",
    "    f1.write(j)\n",
    "!cat data_float.txt\n",
    "csv_float=pd.read_csv(r'data_float.txt')\n",
    "csv_float.to_csv(r'data_float.csv',index=None)"
   ]

   "execution_count": null,
   "metadata": {},
   "outputs": [],
   "source": []

  },
  {
   "cell_type": "markdown",
   "metadata": {},
   "source": [
    "2\\. Load the file *user_data.json*, which can be found at:\n",
    "\n",
    "- https://www.dropbox.com/s/sz5klcdpckc39hd/user_data.json\n",
    "\n",
    "and filter the data by the \"CreditCardType\" when it equals to \"American Express\". Than save the data to a new CSV file."
   ]
  },
  {
   "cell_type": "code",

   "execution_count": 5,
   "metadata": {},
   "outputs": [
    {
     "data": {
      "text/plain": [
       "[{'ID': '2',\n",
       "  'JobTitle': 'Investment  Advisor',\n",
       "  'EmailAddress': 'Clint_Thorpe5003@bulaffy.com',\n",
       "  'FirstNameLastName': 'Clint Thorpe',\n",
       "  'CreditCard': '7083-8766-0251-2345',\n",
       "  'CreditCardType': 'American Express'},\n",
       " {'ID': '12',\n",
       "  'JobTitle': 'Retail Trainee',\n",
       "  'EmailAddress': 'Phillip_Carpenter9505@famism.biz',\n",
       "  'FirstNameLastName': 'Phillip Carpenter',\n",
       "  'CreditCard': '3657-0088-0820-5247',\n",
       "  'CreditCardType': 'American Express'},\n",
       " {'ID': '28',\n",
       "  'JobTitle': 'Project Manager',\n",
       "  'EmailAddress': 'Russel_Graves1378@extex.org',\n",
       "  'FirstNameLastName': 'Russel Graves',\n",
       "  'CreditCard': '6718-4818-8011-6024',\n",
       "  'CreditCardType': 'American Express'},\n",
       " {'ID': '39',\n",
       "  'JobTitle': 'Stockbroker',\n",
       "  'EmailAddress': 'Leanne_Newton1268@typill.biz',\n",
       "  'FirstNameLastName': 'Leanne Newton',\n",
       "  'CreditCard': '5438-0816-4166-4847',\n",
       "  'CreditCardType': 'American Express'},\n",
       " {'ID': '57',\n",
       "  'JobTitle': 'Budget Analyst',\n",
       "  'EmailAddress': 'Tony_Giles1960@iatim.tech',\n",
       "  'FirstNameLastName': 'Tony Giles',\n",
       "  'CreditCard': '8130-3425-7573-7745',\n",
       "  'CreditCardType': 'American Express'},\n",
       " {'ID': '62',\n",
       "  'JobTitle': 'CNC Operator',\n",
       "  'EmailAddress': 'Owen_Allcott5125@bauros.biz',\n",
       "  'FirstNameLastName': 'Owen Allcott',\n",
       "  'CreditCard': '4156-0107-7210-2630',\n",
       "  'CreditCardType': 'American Express'},\n",
       " {'ID': '68',\n",
       "  'JobTitle': 'Project Manager',\n",
       "  'EmailAddress': 'Liam_Lynn3280@kideod.biz',\n",
       "  'FirstNameLastName': 'Liam Lynn',\n",
       "  'CreditCard': '7152-3247-6053-2233',\n",
       "  'CreditCardType': 'American Express'},\n",
       " {'ID': '74',\n",
       "  'JobTitle': 'Dentist',\n",
       "  'EmailAddress': 'Regina_Woodcock5820@yahoo.com',\n",
       "  'FirstNameLastName': 'Regina Woodcock',\n",
       "  'CreditCard': '0208-1753-3870-8002',\n",
       "  'CreditCardType': 'American Express'},\n",
       " {'ID': '81',\n",
       "  'JobTitle': 'HR Specialist',\n",
       "  'EmailAddress': 'Carter_Wallace9614@atink.com',\n",
       "  'FirstNameLastName': 'Carter Wallace',\n",
       "  'CreditCard': '4256-7201-6717-4322',\n",
       "  'CreditCardType': 'American Express'},\n",
       " {'ID': '92',\n",
       "  'JobTitle': 'Staffing Consultant',\n",
       "  'EmailAddress': 'Maia_Stark2797@jiman.org',\n",
       "  'FirstNameLastName': 'Maia Stark',\n",
       "  'CreditCard': '3851-1403-1734-6321',\n",
       "  'CreditCardType': 'American Express'},\n",
       " {'ID': '97',\n",
       "  'JobTitle': 'Stockbroker',\n",
       "  'EmailAddress': 'Ciara_Lomax982@bauros.biz',\n",
       "  'FirstNameLastName': 'Ciara Lomax',\n",
       "  'CreditCard': '3702-3440-2472-5424',\n",
       "  'CreditCardType': 'American Express'},\n",
       " {'ID': '116',\n",
       "  'JobTitle': 'Staffing Consultant',\n",
       "  'EmailAddress': 'Isabel_Ellwood1475@fuliss.net',\n",
       "  'FirstNameLastName': 'Isabel Ellwood',\n",
       "  'CreditCard': '3738-0882-0066-6683',\n",
       "  'CreditCardType': 'American Express'},\n",
       " {'ID': '148',\n",
       "  'JobTitle': 'CNC Operator',\n",
       "  'EmailAddress': 'Abdul_Townend2202@infotech44.tech',\n",
       "  'FirstNameLastName': 'Abdul Townend',\n",
       "  'CreditCard': '4224-1226-3557-3448',\n",
       "  'CreditCardType': 'American Express'},\n",
       " {'ID': '150',\n",
       "  'JobTitle': 'Fabricator',\n",
       "  'EmailAddress': 'Caleb_Poulton1735@atink.com',\n",
       "  'FirstNameLastName': 'Caleb Poulton',\n",
       "  'CreditCard': '8203-6875-5225-0341',\n",
       "  'CreditCardType': 'American Express'},\n",
       " {'ID': '151',\n",
       "  'JobTitle': 'Restaurant Manager',\n",
       "  'EmailAddress': 'Ronald_Lewis6777@deavo.com',\n",
       "  'FirstNameLastName': 'Ronald Lewis',\n",
       "  'CreditCard': '7212-0155-5014-8471',\n",
       "  'CreditCardType': 'American Express'},\n",
       " {'ID': '154',\n",
       "  'JobTitle': 'Bellman',\n",
       "  'EmailAddress': 'Faith_Seymour3829@twace.org',\n",
       "  'FirstNameLastName': 'Faith Seymour',\n",
       "  'CreditCard': '4170-5186-6887-6558',\n",
       "  'CreditCardType': 'American Express'},\n",
       " {'ID': '169',\n",
       "  'JobTitle': 'Assistant Buyer',\n",
       "  'EmailAddress': 'Anthony_Hancock9083@qater.org',\n",
       "  'FirstNameLastName': 'Anthony Hancock',\n",
       "  'CreditCard': '0832-3357-6010-6550',\n",
       "  'CreditCardType': 'American Express'},\n",
       " {'ID': '176',\n",
       "  'JobTitle': 'Healthcare Specialist',\n",
       "  'EmailAddress': 'Isabella_Willson5478@nanoff.biz',\n",
       "  'FirstNameLastName': 'Isabella Willson',\n",
       "  'CreditCard': '5177-4868-4623-0384',\n",
       "  'CreditCardType': 'American Express'},\n",
       " {'ID': '182',\n",
       "  'JobTitle': 'Pharmacist',\n",
       "  'EmailAddress': 'Stephanie_Darcy3298@bauros.biz',\n",
       "  'FirstNameLastName': 'Stephanie Darcy',\n",
       "  'CreditCard': '0264-4020-5106-5576',\n",
       "  'CreditCardType': 'American Express'},\n",
       " {'ID': '199',\n",
       "  'JobTitle': 'Investment  Advisor',\n",
       "  'EmailAddress': 'Ryan_Kennedy5565@corti.com',\n",
       "  'FirstNameLastName': 'Ryan Kennedy',\n",
       "  'CreditCard': '3166-6287-6242-7207',\n",
       "  'CreditCardType': 'American Express'}]"
      ]
     },
     "execution_count": 5,
     "metadata": {},
     "output_type": "execute_result"
    }
   ],
   "source": [
    "#!wget https://www.dropbox.com/s/sz5klcdpckc39hd/user_data.json\n",
    "data=json.load(open('user_data.json'))\n",
    "filt=[x for x in data if x['CreditCardType']=='American Express']\n",
    "output=json.dumps(filt)\n",
    "f=open(\"user_data.csv\",\"w\")\n",
    "for i in output:\n",
    "    f.write(i)\n",
    "filt"
   ]

   "execution_count": null,
   "metadata": {},
   "outputs": [],
   "source": []

  },
  {
   "cell_type": "markdown",
   "metadata": {},
   "source": [
    "3\\. Load the file from this url:\n",
    "\n",
    "- https://www.dropbox.com/s/kgshemfgk22iy79/mushrooms_categorized.csv\n",
    "\n",
    "with Pandas. \n",
    "\n",
    "+ explore and print the DataFrame\n",
    "+ calculate, using `groupby()`, the average value of each feature, separately for each class\n",
    "+ save the file in a JSON format."
   ]
  },
  {
   "cell_type": "code",

   "execution_count": 6,
   "metadata": {},
   "outputs": [
    {
     "name": "stdout",
     "output_type": "stream",
     "text": [
      "class                       0.482029\n",
      "cap-shape                   3.348104\n",
      "cap-surface                 1.827671\n",
      "cap-color                   4.504677\n",
      "bruises                     0.415559\n",
      "odor                        4.144756\n",
      "gill-attachment             0.974151\n",
      "gill-spacing                0.161497\n",
      "gill-size                   0.309207\n",
      "gill-color                  4.810684\n",
      "stalk-shape                 0.567208\n",
      "stalk-root                  1.109798\n",
      "stalk-surface-above-ring    1.575086\n",
      "stalk-surface-below-ring    1.603644\n",
      "stalk-color-above-ring      5.816347\n",
      "stalk-color-below-ring      5.794682\n",
      "veil-type                   0.000000\n",
      "veil-color                  1.965534\n",
      "ring-number                 1.069424\n",
      "ring-type                   2.291974\n",
      "spore-print-color           3.596750\n",
      "population                  3.644018\n",
      "habitat                     1.508616\n",
      "dtype: float64\n"
     ]
    }
   ],
   "source": [
    "#!wget https://www.dropbox.com/s/kgshemfgk22iy79/mushrooms_categorized.csv\n",
    "file_name= \"mushrooms_categorized.csv\"\n",
    "data = pd.read_csv(file_name)\n",
    "df=str(pd.DataFrame(data).mean())\n",
    "output=json.dumps(df)\n",
    "print(df)\n",
    "f=open(\"mushrooms_categorized_mean.json\",\"w\")\n",
    "for i in output:\n",
    "    f.write(i)"
   ]

   "execution_count": null,
   "metadata": {},
   "outputs": [],
   "source": []

  },
  {
   "cell_type": "markdown",
   "metadata": {},
   "source": [
    "4\\. Get the binary file named *credit_card.dat* from this address:\n",
    "\n",
    "- https://www.dropbox.com/s/8m0syw2tkul3dap/credit_card.dat\n",
    "\n",
    "and convert the data into the real credit card number, knowing that:\n",
    "- each line corresponds to a credit card number, which consists of 16 characters (which are numbers in the 0-9 range) divided in 4 blocks, with a whitespace between each block\n",
    "- each character is written using a 6 bit binary representation (including the whitespace)\n",
    "- the final 4 bits of each line are a padding used to determine the end of the line, and can be ignored\n",
    "\n",
    "*Hint*: convert the binary numbers to the decimal representation first, and then use the `chr()` function to convert the latter to a char"
   ]
  },
  {
   "cell_type": "code",

   "execution_count": 106,
   "metadata": {},
   "outputs": [
    {
     "name": "stdout",
     "output_type": "stream",
     "text": [
      "5426 3451 1553 0059\n",
      "1035 6025 1132 0044\n",
      "0500 8889 2899 4430\n",
      "8449 1841 1520 1938\n",
      "8210 9486 9240 2520\n",
      "3605 0805 6563 5181\n",
      "3552 6306 0865 9995\n",
      "6928 9098 4130 0623\n",
      "3542 9911 5189 5988\n",
      "4234 9515 2904 4504\n",
      "9006 6419 5160 8888\n",
      "5839 8948 3152 1944\n",
      "8496 1365 9418 4154\n",
      "9323 3232 5222 3414\n",
      "4513 1994 1080 4612\n",
      "5065 3899 9325 6291\n",
      "5811 0485 1106 2088\n",
      "0346 3022 9652 3802\n",
      "9462 0031 5358 5996\n",
      "8450 0354 8353 4419\n",
      "4110 6131 6565 9128\n",
      "9691 1149 9953 2099\n",
      "0255 4238 6628 0146\n",
      "3390 1383 0341 9104\n",
      "1861 5660 8409 8803\n",
      "2309 3926 6823 8112\n",
      "5341 1432 6591 3565\n",
      "6102 0442 8254 3349\n",
      "8343 0382 5946 1398\n",
      "3985 3385 9545 8516\n",
      "0240 9609 0226 9221\n",
      "0566 8416 4649 4332\n",
      "3639 3651 3252 8325\n",
      "8458 9882 2891 0433\n",
      "3652 3384 1826 8684\n",
      "0683 3289 6240 9048\n",
      "3861 6284 4198 9640\n",
      "9854 9223 1891 0044\n",
      "6228 2682 2622 3055\n",
      "2536 4929 8464 9165\n",
      "5364 8453 8193 0346\n",
      "0322 9036 5210 3943\n",
      "1252 3801 2212 3404\n",
      "9298 8058 8212 3864\n",
      "5193 2224 9982 2093\n",
      "8002 5520 6188 8044\n",
      "8958 0588 1923 8428\n",
      "0884 0215 6832 9488\n",
      "6920 2833 9554 8804\n",
      "1804 5168 9029 9862\n"
     ]
    },
    {
     "ename": "ValueError",
     "evalue": "invalid literal for int() with base 2: ''",
     "output_type": "error",
     "traceback": [
      "\u001b[0;31m---------------------------------------------------------------------------\u001b[0m",
      "\u001b[0;31mValueError\u001b[0m                                Traceback (most recent call last)",
      "\u001b[0;32m/tmp/ipykernel_4349/2694432488.py\u001b[0m in \u001b[0;36m<module>\u001b[0;34m\u001b[0m\n\u001b[1;32m      6\u001b[0m \u001b[0mres\u001b[0m\u001b[0;34m=\u001b[0m\u001b[0;34m\"\"\u001b[0m\u001b[0;34m\u001b[0m\u001b[0;34m\u001b[0m\u001b[0m\n\u001b[1;32m      7\u001b[0m \u001b[0;32mfor\u001b[0m \u001b[0mi\u001b[0m \u001b[0;32min\u001b[0m \u001b[0mrange\u001b[0m\u001b[0;34m(\u001b[0m\u001b[0mlen\u001b[0m\u001b[0;34m(\u001b[0m\u001b[0mdata\u001b[0m\u001b[0;34m)\u001b[0m\u001b[0;34m)\u001b[0m\u001b[0;34m:\u001b[0m\u001b[0;34m\u001b[0m\u001b[0;34m\u001b[0m\u001b[0m\n\u001b[0;32m----> 8\u001b[0;31m     \u001b[0mres\u001b[0m\u001b[0;34m=\u001b[0m\u001b[0mstr\u001b[0m\u001b[0;34m(\u001b[0m\u001b[0mint\u001b[0m\u001b[0;34m(\u001b[0m\u001b[0mstr\u001b[0m\u001b[0;34m(\u001b[0m\u001b[0mdata\u001b[0m\u001b[0;34m[\u001b[0m\u001b[0mi\u001b[0m\u001b[0;34m]\u001b[0m\u001b[0;34m)\u001b[0m\u001b[0;34m[\u001b[0m\u001b[0;36m0\u001b[0m\u001b[0;34m:\u001b[0m\u001b[0;36m6\u001b[0m\u001b[0;34m]\u001b[0m\u001b[0;34m,\u001b[0m\u001b[0;36m2\u001b[0m\u001b[0;34m)\u001b[0m\u001b[0;34m)\u001b[0m\u001b[0;34m[\u001b[0m\u001b[0;36m1\u001b[0m\u001b[0;34m]\u001b[0m\u001b[0;34m+\u001b[0m\u001b[0mstr\u001b[0m\u001b[0;34m(\u001b[0m\u001b[0mint\u001b[0m\u001b[0;34m(\u001b[0m\u001b[0mstr\u001b[0m\u001b[0;34m(\u001b[0m\u001b[0mdata\u001b[0m\u001b[0;34m[\u001b[0m\u001b[0mi\u001b[0m\u001b[0;34m]\u001b[0m\u001b[0;34m)\u001b[0m\u001b[0;34m[\u001b[0m\u001b[0;36m6\u001b[0m\u001b[0;34m:\u001b[0m\u001b[0;36m12\u001b[0m\u001b[0;34m]\u001b[0m\u001b[0;34m,\u001b[0m\u001b[0;36m2\u001b[0m\u001b[0;34m)\u001b[0m\u001b[0;34m)\u001b[0m\u001b[0;34m[\u001b[0m\u001b[0;36m1\u001b[0m\u001b[0;34m]\u001b[0m\u001b[0;34m+\u001b[0m\u001b[0mstr\u001b[0m\u001b[0;34m(\u001b[0m\u001b[0mint\u001b[0m\u001b[0;34m(\u001b[0m\u001b[0mstr\u001b[0m\u001b[0;34m(\u001b[0m\u001b[0mdata\u001b[0m\u001b[0;34m[\u001b[0m\u001b[0mi\u001b[0m\u001b[0;34m]\u001b[0m\u001b[0;34m)\u001b[0m\u001b[0;34m[\u001b[0m\u001b[0;36m12\u001b[0m\u001b[0;34m:\u001b[0m\u001b[0;36m18\u001b[0m\u001b[0;34m]\u001b[0m\u001b[0;34m,\u001b[0m\u001b[0;36m2\u001b[0m\u001b[0;34m)\u001b[0m\u001b[0;34m)\u001b[0m\u001b[0;34m[\u001b[0m\u001b[0;36m1\u001b[0m\u001b[0;34m]\u001b[0m\u001b[0;34m+\u001b[0m\u001b[0mstr\u001b[0m\u001b[0;34m(\u001b[0m\u001b[0mint\u001b[0m\u001b[0;34m(\u001b[0m\u001b[0mstr\u001b[0m\u001b[0;34m(\u001b[0m\u001b[0mdata\u001b[0m\u001b[0;34m[\u001b[0m\u001b[0mi\u001b[0m\u001b[0;34m]\u001b[0m\u001b[0;34m)\u001b[0m\u001b[0;34m[\u001b[0m\u001b[0;36m18\u001b[0m\u001b[0;34m:\u001b[0m\u001b[0;36m24\u001b[0m\u001b[0;34m]\u001b[0m\u001b[0;34m,\u001b[0m\u001b[0;36m2\u001b[0m\u001b[0;34m)\u001b[0m\u001b[0;34m)\u001b[0m\u001b[0;34m[\u001b[0m\u001b[0;36m1\u001b[0m\u001b[0;34m]\u001b[0m\u001b[0;34m+\u001b[0m\u001b[0;34m\" \"\u001b[0m\u001b[0;34m\u001b[0m\u001b[0;34m\u001b[0m\u001b[0m\n\u001b[0m\u001b[1;32m      9\u001b[0m     \u001b[0mres\u001b[0m\u001b[0;34m+=\u001b[0m\u001b[0mstr\u001b[0m\u001b[0;34m(\u001b[0m\u001b[0mint\u001b[0m\u001b[0;34m(\u001b[0m\u001b[0mstr\u001b[0m\u001b[0;34m(\u001b[0m\u001b[0mdata\u001b[0m\u001b[0;34m[\u001b[0m\u001b[0mi\u001b[0m\u001b[0;34m]\u001b[0m\u001b[0;34m)\u001b[0m\u001b[0;34m[\u001b[0m\u001b[0;36m30\u001b[0m\u001b[0;34m:\u001b[0m\u001b[0;36m36\u001b[0m\u001b[0;34m]\u001b[0m\u001b[0;34m,\u001b[0m\u001b[0;36m2\u001b[0m\u001b[0;34m)\u001b[0m\u001b[0;34m)\u001b[0m\u001b[0;34m[\u001b[0m\u001b[0;36m1\u001b[0m\u001b[0;34m]\u001b[0m\u001b[0;34m+\u001b[0m\u001b[0mstr\u001b[0m\u001b[0;34m(\u001b[0m\u001b[0mint\u001b[0m\u001b[0;34m(\u001b[0m\u001b[0mstr\u001b[0m\u001b[0;34m(\u001b[0m\u001b[0mdata\u001b[0m\u001b[0;34m[\u001b[0m\u001b[0mi\u001b[0m\u001b[0;34m]\u001b[0m\u001b[0;34m)\u001b[0m\u001b[0;34m[\u001b[0m\u001b[0;36m36\u001b[0m\u001b[0;34m:\u001b[0m\u001b[0;36m42\u001b[0m\u001b[0;34m]\u001b[0m\u001b[0;34m,\u001b[0m\u001b[0;36m2\u001b[0m\u001b[0;34m)\u001b[0m\u001b[0;34m)\u001b[0m\u001b[0;34m[\u001b[0m\u001b[0;36m1\u001b[0m\u001b[0;34m]\u001b[0m\u001b[0;34m+\u001b[0m\u001b[0mstr\u001b[0m\u001b[0;34m(\u001b[0m\u001b[0mint\u001b[0m\u001b[0;34m(\u001b[0m\u001b[0mstr\u001b[0m\u001b[0;34m(\u001b[0m\u001b[0mdata\u001b[0m\u001b[0;34m[\u001b[0m\u001b[0mi\u001b[0m\u001b[0;34m]\u001b[0m\u001b[0;34m)\u001b[0m\u001b[0;34m[\u001b[0m\u001b[0;36m42\u001b[0m\u001b[0;34m:\u001b[0m\u001b[0;36m48\u001b[0m\u001b[0;34m]\u001b[0m\u001b[0;34m,\u001b[0m\u001b[0;36m2\u001b[0m\u001b[0;34m)\u001b[0m\u001b[0;34m)\u001b[0m\u001b[0;34m[\u001b[0m\u001b[0;36m1\u001b[0m\u001b[0;34m]\u001b[0m\u001b[0;34m+\u001b[0m\u001b[0mstr\u001b[0m\u001b[0;34m(\u001b[0m\u001b[0mint\u001b[0m\u001b[0;34m(\u001b[0m\u001b[0mstr\u001b[0m\u001b[0;34m(\u001b[0m\u001b[0mdata\u001b[0m\u001b[0;34m[\u001b[0m\u001b[0mi\u001b[0m\u001b[0;34m]\u001b[0m\u001b[0;34m)\u001b[0m\u001b[0;34m[\u001b[0m\u001b[0;36m48\u001b[0m\u001b[0;34m:\u001b[0m\u001b[0;36m54\u001b[0m\u001b[0;34m]\u001b[0m\u001b[0;34m,\u001b[0m\u001b[0;36m2\u001b[0m\u001b[0;34m)\u001b[0m\u001b[0;34m)\u001b[0m\u001b[0;34m[\u001b[0m\u001b[0;36m1\u001b[0m\u001b[0;34m]\u001b[0m\u001b[0;34m+\u001b[0m\u001b[0;34m\" \"\u001b[0m\u001b[0;34m\u001b[0m\u001b[0;34m\u001b[0m\u001b[0m\n\u001b[1;32m     10\u001b[0m     \u001b[0mres\u001b[0m\u001b[0;34m+=\u001b[0m\u001b[0mstr\u001b[0m\u001b[0;34m(\u001b[0m\u001b[0mint\u001b[0m\u001b[0;34m(\u001b[0m\u001b[0mstr\u001b[0m\u001b[0;34m(\u001b[0m\u001b[0mdata\u001b[0m\u001b[0;34m[\u001b[0m\u001b[0mi\u001b[0m\u001b[0;34m]\u001b[0m\u001b[0;34m)\u001b[0m\u001b[0;34m[\u001b[0m\u001b[0;36m60\u001b[0m\u001b[0;34m:\u001b[0m\u001b[0;36m66\u001b[0m\u001b[0;34m]\u001b[0m\u001b[0;34m,\u001b[0m\u001b[0;36m2\u001b[0m\u001b[0;34m)\u001b[0m\u001b[0;34m)\u001b[0m\u001b[0;34m[\u001b[0m\u001b[0;36m1\u001b[0m\u001b[0;34m]\u001b[0m\u001b[0;34m+\u001b[0m\u001b[0mstr\u001b[0m\u001b[0;34m(\u001b[0m\u001b[0mint\u001b[0m\u001b[0;34m(\u001b[0m\u001b[0mstr\u001b[0m\u001b[0;34m(\u001b[0m\u001b[0mdata\u001b[0m\u001b[0;34m[\u001b[0m\u001b[0mi\u001b[0m\u001b[0;34m]\u001b[0m\u001b[0;34m)\u001b[0m\u001b[0;34m[\u001b[0m\u001b[0;36m66\u001b[0m\u001b[0;34m:\u001b[0m\u001b[0;36m72\u001b[0m\u001b[0;34m]\u001b[0m\u001b[0;34m,\u001b[0m\u001b[0;36m2\u001b[0m\u001b[0;34m)\u001b[0m\u001b[0;34m)\u001b[0m\u001b[0;34m[\u001b[0m\u001b[0;36m1\u001b[0m\u001b[0;34m]\u001b[0m\u001b[0;34m+\u001b[0m\u001b[0mstr\u001b[0m\u001b[0;34m(\u001b[0m\u001b[0mint\u001b[0m\u001b[0;34m(\u001b[0m\u001b[0mstr\u001b[0m\u001b[0;34m(\u001b[0m\u001b[0mdata\u001b[0m\u001b[0;34m[\u001b[0m\u001b[0mi\u001b[0m\u001b[0;34m]\u001b[0m\u001b[0;34m)\u001b[0m\u001b[0;34m[\u001b[0m\u001b[0;36m72\u001b[0m\u001b[0;34m:\u001b[0m\u001b[0;36m78\u001b[0m\u001b[0;34m]\u001b[0m\u001b[0;34m,\u001b[0m\u001b[0;36m2\u001b[0m\u001b[0;34m)\u001b[0m\u001b[0;34m)\u001b[0m\u001b[0;34m[\u001b[0m\u001b[0;36m1\u001b[0m\u001b[0;34m]\u001b[0m\u001b[0;34m+\u001b[0m\u001b[0mstr\u001b[0m\u001b[0;34m(\u001b[0m\u001b[0mint\u001b[0m\u001b[0;34m(\u001b[0m\u001b[0mstr\u001b[0m\u001b[0;34m(\u001b[0m\u001b[0mdata\u001b[0m\u001b[0;34m[\u001b[0m\u001b[0mi\u001b[0m\u001b[0;34m]\u001b[0m\u001b[0;34m)\u001b[0m\u001b[0;34m[\u001b[0m\u001b[0;36m78\u001b[0m\u001b[0;34m:\u001b[0m\u001b[0;36m84\u001b[0m\u001b[0;34m]\u001b[0m\u001b[0;34m,\u001b[0m\u001b[0;36m2\u001b[0m\u001b[0;34m)\u001b[0m\u001b[0;34m)\u001b[0m\u001b[0;34m[\u001b[0m\u001b[0;36m1\u001b[0m\u001b[0;34m]\u001b[0m\u001b[0;34m+\u001b[0m\u001b[0;34m\" \"\u001b[0m\u001b[0;34m\u001b[0m\u001b[0;34m\u001b[0m\u001b[0m\n",
      "\u001b[0;31mValueError\u001b[0m: invalid literal for int() with base 2: ''"
     ]
    }
   ],
   "source": [
    "#!wget https://www.dropbox.com/s/8m0syw2tkul3dap/credit_card.dat\n",
    "data=[]\n",
    "with open('credit_card.dat','r') as a:\n",
    "    for line in a:\n",
    "        data.extend(map(int,line.split()))\n",
    "res=\"\"\n",
    "for i in range(len(data)):\n",
    "    res=str(int(str(data[i])[0:6],2))[1]+str(int(str(data[i])[6:12],2))[1]+str(int(str(data[i])[12:18],2))[1]+str(int(str(data[i])[18:24],2))[1]+\" \"\n",
    "    res+=str(int(str(data[i])[30:36],2))[1]+str(int(str(data[i])[36:42],2))[1]+str(int(str(data[i])[42:48],2))[1]+str(int(str(data[i])[48:54],2))[1]+\" \"\n",
    "    res+=str(int(str(data[i])[60:66],2))[1]+str(int(str(data[i])[66:72],2))[1]+str(int(str(data[i])[72:78],2))[1]+str(int(str(data[i])[78:84],2))[1]+\" \"\n",
    "    res+=str(int(str(data[i])[90:96],2))[1]+str(int(str(data[i])[96:102],2))[1]+str(int(str(data[i])[102:108],2))[1]+str(int(str(data[i])[108:114],2))[1]\n",
    "    print(res)\n",
    "    "
   ]

   "execution_count": null,
   "metadata": {},
   "outputs": [],
   "source": []

  },
  {
   "cell_type": "markdown",
   "metadata": {},
   "source": [
    "5\\. **Optional**: load the remote file:\n",
    "\n",
    "- https://www.dropbox.com/s/aamg1apjhclecka/regression_generated.csv\n",
    "\n",
    "with Pandas and create a scatter plot with all possible combinations of the following features:\n",
    "    \n",
    "  + features_1\n",
    "  + features_2\n",
    "  + features_3"
   ]
  },
  {
   "cell_type": "code",

   "execution_count": 117,
   "metadata": {},
   "outputs": [
    {
     "name": "stdout",
     "output_type": "stream",
     "text": [
      "--2021-12-02 13:39:16--  https://www.dropbox.com/s/aamg1apjhclecka/regression_generated.csv\n",
      "Resolving www.dropbox.com (www.dropbox.com)... 162.125.67.18, 2620:100:6027:18::a27d:4812\n",
      "Connecting to www.dropbox.com (www.dropbox.com)|162.125.67.18|:443... connected.\n",
      "HTTP request sent, awaiting response... 301 Moved Permanently\n",
      "Location: /s/raw/aamg1apjhclecka/regression_generated.csv [following]\n",
      "--2021-12-02 13:39:23--  https://www.dropbox.com/s/raw/aamg1apjhclecka/regression_generated.csv\n",
      "Reusing existing connection to www.dropbox.com:443.\n",
      "HTTP request sent, awaiting response... 302 Found\n",
      "Location: https://ucd1b146e210f65186cfe1c24d09.dl.dropboxusercontent.com/cd/0/inline/BbHLDiyIPwDWB1-7I1jzPvmbX8fKpVVKrDr3gr1p-V_mvlltSTYguq3OwG4sAL7t0Cr-7Mq6ey3U5kiBKczFXwP01BovqLkK7GE9iAZQS4W6AIFpwD8oPIJkj6-tOSKeo6aGXBz9uP0JSc82hoyvW8d8/file# [following]\n",
      "--2021-12-02 13:39:26--  https://ucd1b146e210f65186cfe1c24d09.dl.dropboxusercontent.com/cd/0/inline/BbHLDiyIPwDWB1-7I1jzPvmbX8fKpVVKrDr3gr1p-V_mvlltSTYguq3OwG4sAL7t0Cr-7Mq6ey3U5kiBKczFXwP01BovqLkK7GE9iAZQS4W6AIFpwD8oPIJkj6-tOSKeo6aGXBz9uP0JSc82hoyvW8d8/file\n",
      "Resolving ucd1b146e210f65186cfe1c24d09.dl.dropboxusercontent.com (ucd1b146e210f65186cfe1c24d09.dl.dropboxusercontent.com)... 162.125.67.15, 2620:100:6025:15::a27d:450f\n",
      "Connecting to ucd1b146e210f65186cfe1c24d09.dl.dropboxusercontent.com (ucd1b146e210f65186cfe1c24d09.dl.dropboxusercontent.com)|162.125.67.15|:443... connected.\n",
      "HTTP request sent, awaiting response... 200 OK\n",
      "Length: 823374 (804K) [text/plain]\n",
      "Saving to: ‘regression_generated.csv’\n",
      "\n",
      "regression_generate 100%[===================>] 804,08K  28,8KB/s    in 26s     \n",
      "\n",
      "2021-12-02 13:40:08 (30,9 KB/s) - ‘regression_generated.csv’ saved [823374/823374]\n",
      "\n"
     ]
    }
   ],
   "source": [
    "!wget https://www.dropbox.com/s/aamg1apjhclecka/regression_generated.csv"
   ]
  },
  {
   "cell_type": "code",


   "execution_count": null,
   "metadata": {},
   "outputs": [],
   "source": []
  }
 ],
 "metadata": {
  "kernelspec": {

   "display_name": "Python 3 (ipykernel)",

   "display_name": "Python 3",

   "language": "python",
   "name": "python3"
  },
  "language_info": {
   "codemirror_mode": {
    "name": "ipython",
    "version": 3
   },
   "file_extension": ".py",
   "mimetype": "text/x-python",
   "name": "python",
   "nbconvert_exporter": "python",
   "pygments_lexer": "ipython3",

   "version": "3.8.10"

   "version": "3.8.5"

  }
 },
 "nbformat": 4,
 "nbformat_minor": 2
}
