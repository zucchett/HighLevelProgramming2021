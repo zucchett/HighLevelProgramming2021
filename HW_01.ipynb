{
 "cells": [
  {
   "cell_type": "code",
   "execution_count": 72,
   "metadata": {},
   "outputs": [
    {
     "name": "stdout",
     "output_type": "stream",
     "text": [
      "1\n",
      "2\n",
      "3\n",
      "4\n",
      "5\n",
      "6\n",
      "7\n",
      "8\n",
      "9\n",
      "10\n",
      "11\n",
      "12\n",
      "13\n",
      "14\n",
      "15\n",
      "16\n",
      "17\n",
      "18\n",
      "19\n",
      "20\n",
      "21\n",
      "22\n",
      "23\n",
      "24\n",
      "25\n",
      "26\n",
      "27\n",
      "28\n",
      "29\n",
      "30\n",
      "31\n",
      "32\n",
      "33\n",
      "34\n",
      "35\n",
      "36\n",
      "37\n",
      "38\n",
      "39\n",
      "40\n",
      "41\n",
      "42\n",
      "43\n",
      "44\n",
      "45\n",
      "46\n",
      "47\n",
      "48\n",
      "49\n",
      "50\n",
      "51\n",
      "52\n",
      "53\n",
      "54\n",
      "55\n",
      "56\n",
      "57\n",
      "58\n",
      "59\n",
      "60\n",
      "61\n",
      "62\n",
      "63\n",
      "64\n",
      "65\n",
      "66\n",
      "67\n",
      "68\n",
      "69\n",
      "70\n",
      "71\n",
      "72\n",
      "73\n",
      "74\n",
      "75\n",
      "76\n",
      "77\n",
      "78\n",
      "79\n",
      "80\n",
      "81\n",
      "82\n",
      "83\n",
      "84\n",
      "85\n",
      "86\n",
      "87\n",
      "88\n",
      "89\n",
      "90\n",
      "91\n",
      "92\n",
      "93\n",
      "94\n",
      "95\n",
      "96\n",
      "97\n",
      "98\n",
      "99\n",
      "100\n"
     ]
    }
   ],
   "source": [
    "# Need attention\n",
    "#Write a program that prints the numbers from 1 to 100. \n",
    "#But for multiples of three print \"Hello\" instead of the number and for the multiples of five print \"World\". \n",
    "#For numbers which are multiples of both three and five print \"HelloWorld\".\n",
    "\n",
    "for i in range(1,101): \n",
    "    print (i)"
   ]
  },
  {
   "cell_type": "code",
   "execution_count": 57,
   "metadata": {},
   "outputs": [
    {
     "name": "stdout",
     "output_type": "stream",
     "text": [
      "3 Hello\n"
     ]
    }
   ],
   "source": [
    "a = 1\n",
    "try:\n",
    "    b = a + 2\n",
    "    print (b, \"Hello\")\n",
    "except:\n",
    "    print(a, \" World\")"
   ]
  },
  {
   "cell_type": "code",
   "execution_count": null,
   "metadata": {},
   "outputs": [],
   "source": []
  },
  {
   "cell_type": "code",
   "execution_count": 1,
   "metadata": {},
   "outputs": [
    {
     "name": "stdout",
     "output_type": "stream",
     "text": [
      "Hello Python\n"
     ]
    }
   ],
   "source": [
    "s = \"Hello World\"\n",
    "s = s.replace(\"World\",\"Python\")\n",
    "print(s)\n"
   ]
  },
  {
   "cell_type": "code",
   "execution_count": 61,
   "metadata": {},
   "outputs": [
    {
     "name": "stdout",
     "output_type": "stream",
     "text": [
      "[0, 1, 2, 3, 4, 3, 'hello']\n"
     ]
    }
   ],
   "source": [
    "a = [0, 1, 2, 3, 4] \n",
    "a.append(3)  \n",
    "a.append(\"hello\") \n",
    "print(a) "
   ]
  },
  {
   "cell_type": "code",
   "execution_count": 79,
   "metadata": {},
   "outputs": [
    {
     "name": "stdout",
     "output_type": "stream",
     "text": [
      "2 -5\n"
     ]
    }
   ],
   "source": [
    "#working prog\n",
    "# 2.The swap function\n",
    "\n",
    "def swapnums(x, y):\n",
    "    temp = x\n",
    "    x = y\n",
    "    y = temp\n",
    "    \n",
    "    # This method can be used either, it's without a temporary variable.\n",
    "    # x, y = y, x\n",
    "    \n",
    "    print(x, y)\n",
    "\n",
    "swapnums(-5, 2)"
   ]
  },
  {
   "cell_type": "code",
   "execution_count": 4,
   "metadata": {},
   "outputs": [
    {
     "ename": "IndentationError",
     "evalue": "unexpected indent (<ipython-input-4-4d233a38bf9c>, line 8)",
     "output_type": "error",
     "traceback": [
      "\u001b[1;36m  File \u001b[1;32m\"<ipython-input-4-4d233a38bf9c>\"\u001b[1;36m, line \u001b[1;32m8\u001b[0m\n\u001b[1;33m    u = (3, 0)\u001b[0m\n\u001b[1;37m    ^\u001b[0m\n\u001b[1;31mIndentationError\u001b[0m\u001b[1;31m:\u001b[0m unexpected indent\n"
     ]
    }
   ],
   "source": [
    "#need attention\n",
    "# 3.Computing the distance\n",
    "\n",
    "#The scipy library has many functions for mathematical and scientific calculation. \n",
    "#The distance.euclidean() function returns the Euclidean Distance between two points.\n",
    "\n",
    "from scipy.spatial import distance\n",
    "    u = (3, 0)\n",
    "    v = (0, 4)\n",
    "    print(distance.euclidean(u, v))\n",
    "\n",
    "# The math module also can be used as an alternative. \n",
    "#The dist() function from this module can return the line segment between two points.\n",
    "\n",
    "from math import dist\n",
    "    u = (3, 0)\n",
    "    v = (0, 4)\n",
    "    print(dist(u, v))\n",
    "    \n",
    "#The scipy and math module methods are a faster alternative to the numpy methods \n",
    "#and work when the coordinates are in the form of a tuple or a list."
   ]
  },
  {
   "cell_type": "code",
   "execution_count": 106,
   "metadata": {},
   "outputs": [
    {
     "name": "stdout",
     "output_type": "stream",
     "text": [
      "7\n"
     ]
    }
   ],
   "source": [
    "#working prog\n",
    "# 4.Counting letters\n",
    "\n",
    "s = \"Write a program that prints the numbers from 1 to 100. \\\n",
    "But for multiples of three print Hello instead of the number and for the multiples of five print World. \\\n",
    "For numbers which are multiples of both three and five print HelloWorld.\"\n",
    "\n",
    "str = s.lower()\n",
    "\n",
    "result = str.count('u')\n",
    "print(result)"
   ]
  },
  {
   "cell_type": "code",
   "execution_count": 1,
   "metadata": {},
   "outputs": [
    {
     "name": "stdout",
     "output_type": "stream",
     "text": [
      "Enter any String:65\n",
      "Enter character to check frequency:3\n",
      "3 occurs 0 time(s).\n"
     ]
    }
   ],
   "source": [
    "#working prog\n",
    "#Count number of times a character occurs in the given string\n",
    "#In this program there are differences between capital letters and lowercase ones.\n",
    "string = input(\"Enter any String:\")\n",
    "char = input(\"Enter character to check frequency:\")\n",
    "count = 0\n",
    "for i in string:\n",
    "    if i==char:\n",
    "        count += 1\n",
    "print(char, \"occurs\", count, \"time(s).\")"
   ]
  },
  {
   "cell_type": "code",
   "execution_count": 2,
   "metadata": {},
   "outputs": [
    {
     "name": "stdout",
     "output_type": "stream",
     "text": [
      "w occured 4 times\n",
      "r occured 19 times\n",
      "i occured 12 times\n",
      "t occured 19 times\n",
      "e occured 20 times\n",
      "  occured 41 times\n",
      "a occured 7 times\n",
      "p occured 8 times\n",
      "o occured 15 times\n",
      "g occured 1 times\n",
      "m occured 8 times\n",
      "h occured 11 times\n",
      "n occured 10 times\n",
      "s occured 7 times\n",
      "u occured 7 times\n",
      "b occured 5 times\n",
      "f occured 10 times\n",
      "1 occured 2 times\n",
      "0 occured 2 times\n",
      ". occured 3 times\n",
      "l occured 12 times\n",
      "d occured 5 times\n",
      "v occured 2 times\n",
      "c occured 1 times\n"
     ]
    }
   ],
   "source": [
    "#working prog\n",
    "string_data = \"Write a program that prints the numbers from 1 to 100. \\\n",
    "But for multiples of three print Hello instead of the number and for the multiples of five print World. \\\n",
    "For numbers which are multiples of both three and five print HelloWorld.\".lower()\n",
    "list_1 = []\n",
    "for ch in string_data:\n",
    "    if ch not in list_1:\n",
    "        list_1.append(ch)\n",
    "        print(ch, \"occured\", string_data.count(ch), \"times\")"
   ]
  },
  {
   "cell_type": "code",
   "execution_count": 3,
   "metadata": {},
   "outputs": [
    {
     "name": "stdout",
     "output_type": "stream",
     "text": [
      "Input list:  [36, 45, 58, 3, 74, 96, 64, 45, 31, 10, 24, 19, 33, 86, 99, 18, 63, 70, 85, 85, 63, 47, 56, 42, 70, 84, 88, 55, 20, 54, 8, 56, 51, 79, 81, 57, 37, 91, 1, 84, 84, 36, 66, 9, 89, 50, 42, 91, 50, 95, 90, 98, 39, 16, 82, 31, 92, 41, 45, 30, 66, 70, 34, 85, 94, 5, 3, 36, 72, 91, 84, 34, 87, 75, 53, 51, 20, 89, 51, 20]\n",
      "Output list:  dict_keys([36, 45, 58, 3, 74, 96, 64, 31, 10, 24, 19, 33, 86, 99, 18, 63, 70, 85, 47, 56, 42, 84, 88, 55, 20, 54, 8, 51, 79, 81, 57, 37, 91, 1, 66, 9, 89, 50, 95, 90, 98, 39, 16, 82, 92, 41, 30, 34, 94, 5, 72, 87, 75, 53])\n",
      "Number of unique items are:  54\n"
     ]
    }
   ],
   "source": [
    "#working prog\n",
    "# 5.Isolating the unique\n",
    "from collections import Counter\n",
    "a_list = [36, 45, 58, 3, 74, 96, 64, 45, 31, 10, 24, 19, 33, 86, 99, 18, 63, 70, 85,\n",
    " 85, 63, 47, 56, 42, 70, 84, 88, 55, 20, 54, 8, 56, 51, 79, 81, 57, 37, 91,\n",
    " 1, 84, 84, 36, 66, 9, 89, 50, 42, 91, 50, 95, 90, 98, 39, 16, 82, 31, 92, 41,\n",
    " 45, 30, 66, 70, 34, 85, 94, 5, 3, 36, 72, 91, 84, 34, 87, 75, 53, 51, 20, 89, 51, 20]\n",
    "print(\"Input list: \", a_list)\n",
    "list_1 = Counter(a_list).keys()\n",
    "print(\"Output list: \", list_1)\n",
    "print(\"Number of unique items are: \", len(list_1))"
   ]
  },
  {
   "cell_type": "code",
   "execution_count": null,
   "metadata": {},
   "outputs": [],
   "source": []
  }
 ],
 "metadata": {
  "kernelspec": {
   "display_name": "Python 3",
   "language": "python",
   "name": "python3"
  },
  "language_info": {
   "codemirror_mode": {
    "name": "ipython",
    "version": 3
   },
   "file_extension": ".py",
   "mimetype": "text/x-python",
   "name": "python",
   "nbconvert_exporter": "python",
   "pygments_lexer": "ipython3",
   "version": "3.7.4"
  }
 },
 "nbformat": 4,
 "nbformat_minor": 4
}
