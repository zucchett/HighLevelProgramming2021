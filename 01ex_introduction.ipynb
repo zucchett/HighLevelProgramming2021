{
 "cells": [
  {
   "cell_type": "markdown",
   "metadata": {},
   "source": [
    "1. The HelloWorld replacement\n",
    "\n",
    "a) Write a program that prints the numbers from 1 to 100. But for multiples of three print \"Hello\" instead of the number and for the multiples of five print \"World\". For numbers which are multiples of both three and five print \"HelloWorld\".\n",
    "\n",
    "b) Put the result in a tuple and substitute \"Hello\" with \"Python\" and \"World\" with \"Works\"."
   ]
  },
  {
   "cell_type": "markdown",
   "metadata": {},
   "source": [
    "2\\. The swap function\n",
    "\n",
    "Write a function that swap the values of two input variables x and y (whatever the type). Try to do that also without a temporary variable"
   ]
  },
  {
   "cell_type": "markdown",
   "metadata": {},
   "source": [
    "3\\. Computing the distance\n",
    "\n",
    "Write a function that calculates and returns the euclidean distance between two points *u* and *v*, where *u* and *v* are both 2-tuples *(x,y)*. For example, if *u=(3,0)* and *v=(0,4)*, the function should return 5"
   ]
  },
  {
   "cell_type": "markdown",
   "metadata": {},
   "source": [
    "4\\. Counting letters\n",
    "\n",
    "Write a program to calculate the number of times each character occurs in a given string *s*. Ignore differences in capitalization"
   ]
  },
  {
   "cell_type": "code",
   "execution_count": 1,
   "metadata": {},
   "outputs": [],
   "source": [
    "s = \"Write a program that prints the numbers from 1 to 100. \\\n",
    "But for multiples of three print Hello instead of the number and for the multiples of five print World. \\\n",
    "For numbers which are multiples of both three and five print HelloWorld.\""
   ]
  },
  {
   "cell_type": "markdown",
   "metadata": {},
   "source": [
    "5\\. Isolating the unique\n",
    "\n",
    "Write a function that determines and count the unique numbers in the list:"
   ]
  },
  {
   "cell_type": "code",
   "execution_count": 2,
   "metadata": {},
   "outputs": [],
   "source": [
    "l = [36, 45, 58, 3, 74, 96, 64, 45, 31, 10, 24, 19, 33, 86, 99, 18, 63, 70, 85,\n",
    " 85, 63, 47, 56, 42, 70, 84, 88, 55, 20, 54, 8, 56, 51, 79, 81, 57, 37, 91,\n",
    " 1, 84, 84, 36, 66, 9, 89, 50, 42, 91, 50, 95, 90, 98, 39, 16, 82, 31, 92, 41,\n",
    " 45, 30, 66, 70, 34, 85, 94, 5, 3, 36, 72, 91, 84, 34, 87, 75, 53, 51, 20, 89, 51, 20]"
   ]
  },
  {
   "cell_type": "markdown",
   "metadata": {},
   "source": [
    "Do the same without using user-defined functions, but exploiting only the Python data structures."
   ]
  },
  {
   "cell_type": "markdown",
   "metadata": {},
   "source": [
    "6\\. Combination of functions\n",
    "\n",
    "Write two functions - one that returns the square of a number, and one that returns the cube. Now write a third function that returns the number raised to the 6th power using the two previous functions."
   ]
  },
  {
   "cell_type": "markdown",
   "metadata": {},
   "source": [
    "7\\. Cubes\n",
    "\n",
    "Create a list of the cubes of x for x in *[0, 10]* using:\n",
    "\n",
    "a) a for loop\n",
    "\n",
    "b) a list comprehension"
   ]
  },
  {
   "cell_type": "markdown",
   "metadata": {},
   "source": [
    "8\\. Nested list comprehension\n",
    "\n",
    "A Pythagorean triple is an integer solution to the Pythagorean theorem $a^2+b^2=c^2$. The first Pythagorean triple is (3,4,5). Find and put in a tuple all unique Pythagorean triples for the positive integers a, b and c less than 100."
   ]
  },
  {
   "cell_type": "markdown",
   "metadata": {},
   "source": [
    "9\\. Normalization\n",
    "\n",
    "Write a function that takes a tuple of numbers and returns it with the entries normalized to one"
   ]
  },
  {
   "cell_type": "code",
   "execution_count": 3,
   "metadata": {},
   "outputs": [],
   "source": [
    "#importing libraries\n",
    "import numpy as np\n",
    "from collections import Counter"
   ]
  },
  {
   "cell_type": "code",
   "execution_count": 4,
   "metadata": {},
   "outputs": [
    {
     "name": "stdout",
     "output_type": "stream",
     "text": [
      "1\n",
      "2\n",
      "Hello\n",
      "4\n",
      "world\n",
      "Hello\n",
      "7\n",
      "8\n",
      "Hello\n",
      "world\n",
      "11\n",
      "Hello\n",
      "13\n",
      "14\n",
      "HelloWorld\n",
      "16\n",
      "17\n",
      "Hello\n",
      "19\n",
      "world\n",
      "Hello\n",
      "22\n",
      "23\n",
      "Hello\n",
      "world\n",
      "26\n",
      "Hello\n",
      "28\n",
      "29\n",
      "HelloWorld\n",
      "31\n",
      "32\n",
      "Hello\n",
      "34\n",
      "world\n",
      "Hello\n",
      "37\n",
      "38\n",
      "Hello\n",
      "world\n",
      "41\n",
      "Hello\n",
      "43\n",
      "44\n",
      "HelloWorld\n",
      "46\n",
      "47\n",
      "Hello\n",
      "49\n",
      "world\n",
      "Hello\n",
      "52\n",
      "53\n",
      "Hello\n",
      "world\n",
      "56\n",
      "Hello\n",
      "58\n",
      "59\n",
      "HelloWorld\n",
      "61\n",
      "62\n",
      "Hello\n",
      "64\n",
      "world\n",
      "Hello\n",
      "67\n",
      "68\n",
      "Hello\n",
      "world\n",
      "71\n",
      "Hello\n",
      "73\n",
      "74\n",
      "HelloWorld\n",
      "76\n",
      "77\n",
      "Hello\n",
      "79\n",
      "world\n",
      "Hello\n",
      "82\n",
      "83\n",
      "Hello\n",
      "world\n",
      "86\n",
      "Hello\n",
      "88\n",
      "89\n",
      "HelloWorld\n",
      "91\n",
      "92\n",
      "Hello\n",
      "94\n",
      "world\n",
      "Hello\n",
      "97\n",
      "98\n",
      "Hello\n",
      "world\n"
     ]
    }
   ],
   "source": [
    "# Q1the Replacement Part A\n",
    "\n",
    "for x in range(1,101):\n",
    "    r=\"\"\n",
    "    if (x % 3 == 0   and x % 5 == 0):\n",
    "        r=x;\n",
    "        r=\"HelloWorld\"\n",
    "        print (r)\n",
    "        \n",
    "    elif x % 3 == 0:\n",
    "        r=x;\n",
    "        r=\"Hello\"\n",
    "        print(r)\n",
    "    elif x % 5 == 0:\n",
    "        r=x\n",
    "        r=\"world\"\n",
    "        print(r)\n",
    "    else:\n",
    "        print(x) \n",
    "\n"
   ]
  },
  {
   "cell_type": "code",
   "execution_count": 8,
   "metadata": {},
   "outputs": [
    {
     "name": "stdout",
     "output_type": "stream",
     "text": [
      "('1', '2', 'Python', '4', 'Works', 'Python', '7', '8', 'Python', 'Works', '11', 'Python', '13', '14', 'PythonWorks', '16', '17', 'Python', '19', 'Works', 'Python', '22', '23', 'Python', 'Works', '26', 'Python', '28', '29', 'PythonWorks', '31', '32', 'Python', '34', 'Works', 'Python', '37', '38', 'Python', 'Works', '41', 'Python', '43', '44', 'PythonWorks', '46', '47', 'Python', '49', 'Works', 'Python', '52', '53', 'Python', 'Works', '56', 'Python', '58', '59', 'PythonWorks', '61', '62', 'Python', '64', 'Works', 'Python', '67', '68', 'Python', 'Works', '71', 'Python', '73', '74', 'PythonWorks', '76', '77', 'Python', '79', 'Works', 'Python', '82', '83', 'Python', 'Works', '86', 'Python', '88', '89', 'PythonWorks', '91', '92', 'Python', '94', 'Works', 'Python', '97', '98', 'Python', 'Works')\n"
     ]
    }
   ],
   "source": [
    "# Q1 part (b)\n",
    "change=()\n",
    "for z in range(1,101):\n",
    "    if (z % 3 == 0   and z % 5 == 0):\n",
    "         change+=(\"PythonWorks\",)\n",
    "#         print(\"HelloWorld\")\n",
    "        \n",
    "    elif z % 3 == 0:\n",
    "        change+=(\"Python\",)\n",
    "#         print(\"Hello\")\n",
    "    elif z % 5 == 0:\n",
    "        change+=(\"Works\",)\n",
    "#         print(\"world\")\n",
    "    else:\n",
    "        change+=(str(z),)\n",
    "#         print(str(y))\n",
    "        \n",
    "print(change)"
   ]
  },
  {
   "cell_type": "code",
   "execution_count": 9,
   "metadata": {},
   "outputs": [
    {
     "name": "stdout",
     "output_type": "stream",
     "text": [
      "Swaped Value_1 =  50\n",
      "Swaped Value_2 =  10\n"
     ]
    }
   ],
   "source": [
    "# Q2 Swaping function\n",
    "def swap(value_1,value_2 ):\n",
    "    \n",
    "    value_1=value_1+value_2\n",
    "    value_2=value_1-value_2\n",
    "    value_1=value_1-value_2\n",
    "\n",
    "    print(\"Swaped Value_1 = \",value_1)\n",
    "    print(\"Swaped Value_2 = \",value_2)\n",
    "    \n",
    "swap(10,50)"
   ]
  },
  {
   "cell_type": "code",
   "execution_count": 61,
   "metadata": {},
   "outputs": [
    {
     "name": "stdout",
     "output_type": "stream",
     "text": [
      "the distance between two points are  5.0\n"
     ]
    }
   ],
   "source": [
    "#Q3 computing the distance\n",
    "\n",
    "u=(3,0)\n",
    "v=(0,4)\n",
    "\n",
    "d=np.sqrt((u[0]-v[0])**2 + (u[1]-v[1])**2)\n",
    "\n",
    "print(\"the distance between two points are \", d)\n"
   ]
  },
  {
   "cell_type": "code",
   "execution_count": 20,
   "metadata": {},
   "outputs": [
    {
     "name": "stdout",
     "output_type": "stream",
     "text": [
      "The counted words{'r': 19, 'e': 20, 'i': 12, 'c': 1, 'x': 0, 's': 7, 'n': 10, 'p': 8, 'o': 15, 'f': 10, 't': 19, 'h': 11, 'y': 0}\n"
     ]
    }
   ],
   "source": [
    "# 4. Counting sring \n",
    "s = \"Write a program that prints the numbers from 1 to 100. \\\n",
    "But for multiples of three print Hello instead of the number and for the multiples of five print World. \\\n",
    "For numbers which are multiples of both three and five print HelloWorld.\".lower()\n",
    "\n",
    "#string_op = [s for s in string]\n",
    "\n",
    "count1 = {x : s.count(x) for x in set(string)}\n",
    "\n",
    "print(\"The counted words\" +str(count1))\n"
   ]
  },
  {
   "cell_type": "code",
   "execution_count": 66,
   "metadata": {},
   "outputs": [
    {
     "name": "stdout",
     "output_type": "stream",
     "text": [
      "[ 1  3  5  8  9 10 16 18 19 20 24 30 31 33 34 36 37 39 41 42 45 47 50 51\n",
      " 53 54 55 56 57 58 63 64 66 70 72 74 75 79 81 82 84 85 86 87 88 89 90 91\n",
      " 92 94 95 96 98 99] \n",
      "\n",
      " [1 2 1 1 1 1 1 1 1 3 1 1 2 1 2 3 1 1 1 2 3 1 2 3 1 1 1 2 1 1 2 1 2 3 1 1 1\n",
      " 1 1 1 4 3 1 1 1 2 1 3 1 1 1 1 1 1]\n"
     ]
    }
   ],
   "source": [
    "# Q5 counting uniquness\n",
    "\n",
    "l = [36, 45, 58, 3, 74, 96, 64, 45, 31, 10, 24, 19, 33, 86, 99, 18, 63, 70, 85,\n",
    " 85, 63, 47, 56, 42, 70, 84, 88, 55, 20, 54, 8, 56, 51, 79, 81, 57, 37, 91,\n",
    " 1, 84, 84, 36, 66, 9, 89, 50, 42, 91, 50, 95, 90, 98, 39, 16, 82, 31, 92, 41,\n",
    " 45, 30, 66, 70, 34, 85, 94, 5, 3, 36, 72, 91, 84, 34, 87, 75, 53, 51, 20, 89, 51, 20]\n",
    "\n",
    "values, counts = np.unique(l, return_counts=True)\n",
    "#display(counts)\n",
    "#display(values)\n",
    "\n",
    "print(values,\"\\n\\n\", counts)\n"
   ]
  },
  {
   "cell_type": "code",
   "execution_count": 5,
   "metadata": {},
   "outputs": [
    {
     "name": "stdout",
     "output_type": "stream",
     "text": [
      "9\n",
      "27\n",
      "729\n"
     ]
    }
   ],
   "source": [
    "# Q6 Function that returns two values\n",
    "def square(x):\n",
    "    return x**2\n",
    "\n",
    "def cube(x):\n",
    "    return x**3\n",
    "    \n",
    "def powsix(x):\n",
    "    return cube(square(x))`\n",
    "\n",
    "print(square(3))\n",
    "print(cube(3))\n",
    "print(powsix(3))\n",
    "\n",
    "\n"
   ]
  },
  {
   "cell_type": "code",
   "execution_count": 10,
   "metadata": {},
   "outputs": [
    {
     "name": "stdout",
     "output_type": "stream",
     "text": [
      "[0, 1, 8, 27, 64, 125, 216, 343, 512, 729]\n",
      "0\n",
      "1\n",
      "8\n",
      "27\n",
      "64\n",
      "125\n",
      "216\n",
      "343\n",
      "512\n",
      "729\n"
     ]
    }
   ],
   "source": [
    "#Q7 a. finding Cubes of list using list comprehension\n",
    "list=[x for x in range(0,10)]\n",
    "res=[]\n",
    "for i in list :\n",
    "    res.append(i**3)\n",
    "print(res)\n",
    "    \n",
    "    \n",
    "#b. finding cube of list using for loop\n",
    "\n",
    "\n",
    "for i in list:\n",
    "    p=pow(i,3)\n",
    "    print(p)\n",
    "    "
   ]
  },
  {
   "cell_type": "code",
   "execution_count": 1,
   "metadata": {},
   "outputs": [
    {
     "ename": "NameError",
     "evalue": "name 'np' is not defined",
     "output_type": "error",
     "traceback": [
      "\u001b[1;31m---------------------------------------------------------------------------\u001b[0m",
      "\u001b[1;31mNameError\u001b[0m                                 Traceback (most recent call last)",
      "\u001b[1;32m~\\AppData\\Local\\Temp/ipykernel_5728/1446579566.py\u001b[0m in \u001b[0;36m<module>\u001b[1;34m\u001b[0m\n\u001b[0;32m      3\u001b[0m \u001b[1;33m\u001b[0m\u001b[0m\n\u001b[0;32m      4\u001b[0m \u001b[1;33m\u001b[0m\u001b[0m\n\u001b[1;32m----> 5\u001b[1;33m \u001b[0mmin\u001b[0m\u001b[1;33m=\u001b[0m\u001b[0mnp\u001b[0m\u001b[1;33m.\u001b[0m\u001b[0mmin\u001b[0m\u001b[1;33m(\u001b[0m\u001b[0ma\u001b[0m\u001b[1;33m)\u001b[0m\u001b[1;33m\u001b[0m\u001b[1;33m\u001b[0m\u001b[0m\n\u001b[0m\u001b[0;32m      6\u001b[0m \u001b[0mmax\u001b[0m\u001b[1;33m=\u001b[0m\u001b[0mnp\u001b[0m\u001b[1;33m.\u001b[0m\u001b[0mmax\u001b[0m\u001b[1;33m(\u001b[0m\u001b[0ma\u001b[0m\u001b[1;33m)\u001b[0m\u001b[1;33m\u001b[0m\u001b[1;33m\u001b[0m\u001b[0m\n\u001b[0;32m      7\u001b[0m \u001b[1;33m\u001b[0m\u001b[0m\n",
      "\u001b[1;31mNameError\u001b[0m: name 'np' is not defined"
     ]
    }
   ],
   "source": [
    "# Q9 Normalization \n",
    "a=[2,4,10,6,8,40]\n",
    "\n",
    "\n",
    "min=np.min(a)\n",
    "max=np.max(a)\n",
    "\n",
    "for i, value in enumerate(a):\n",
    "    a[i]=(value-min)/(max-min)\n",
    "\n",
    "    \n",
    "# saving values in tuple\n",
    "d=tuple(a) \n",
    "print(\"The values after normalization is =\",a)\n",
    "print(d)\n",
    "\n"
   ]
  }
 ],
 "metadata": {
  "kernelspec": {
   "display_name": "Python 3 (ipykernel)",
   "language": "python",
   "name": "python3"
  },
  "language_info": {
   "codemirror_mode": {
    "name": "ipython",
    "version": 3
   },
   "file_extension": ".py",
   "mimetype": "text/x-python",
   "name": "python",
   "nbconvert_exporter": "python",
   "pygments_lexer": "ipython3",
   "version": "3.9.7"
  }
 },
 "nbformat": 4,
 "nbformat_minor": 2
}
