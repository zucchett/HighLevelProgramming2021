{
 "cells": [
  {
   "cell_type": "markdown",
   "metadata": {},
   "source": [
    "1. The HelloWorld replacement\n",
    "\n",
    "a) Write a program that prints the numbers from 1 to 100. But for multiples of three print \"Hello\" instead of the number and for the multiples of five print \"World\". For numbers which are multiples of both three and five print \"HelloWorld\".\n",
    "\n",
    "b) Put the result in a tuple and substitute \"Hello\" with \"Python\" and \"World\" with \"Works\"."
   ]
  },
  {
   "cell_type": "code",
   "execution_count": 104,
   "metadata": {},
   "outputs": [
    {
     "name": "stdout",
     "output_type": "stream",
     "text": [
      "HelloWorld\n",
      "1\n",
      "2\n",
      "Hello\n",
      "4\n",
      "World\n",
      "Hello\n",
      "7\n",
      "8\n",
      "Hello\n",
      "World\n",
      "11\n",
      "Hello\n",
      "13\n",
      "14\n",
      "HelloWorld\n",
      "16\n",
      "17\n",
      "Hello\n",
      "19\n",
      "World\n",
      "Hello\n",
      "22\n",
      "23\n",
      "Hello\n",
      "World\n",
      "26\n",
      "Hello\n",
      "28\n",
      "29\n",
      "HelloWorld\n",
      "31\n",
      "32\n",
      "Hello\n",
      "34\n",
      "World\n",
      "Hello\n",
      "37\n",
      "38\n",
      "Hello\n",
      "World\n",
      "41\n",
      "Hello\n",
      "43\n",
      "44\n",
      "HelloWorld\n",
      "46\n",
      "47\n",
      "Hello\n",
      "49\n",
      "World\n",
      "Hello\n",
      "52\n",
      "53\n",
      "Hello\n",
      "World\n",
      "56\n",
      "Hello\n",
      "58\n",
      "59\n",
      "HelloWorld\n",
      "61\n",
      "62\n",
      "Hello\n",
      "64\n",
      "World\n",
      "Hello\n",
      "67\n",
      "68\n",
      "Hello\n",
      "World\n",
      "71\n",
      "Hello\n",
      "73\n",
      "74\n",
      "HelloWorld\n",
      "76\n",
      "77\n",
      "Hello\n",
      "79\n",
      "World\n",
      "Hello\n",
      "82\n",
      "83\n",
      "Hello\n",
      "World\n",
      "86\n",
      "Hello\n",
      "88\n",
      "89\n",
      "HelloWorld\n",
      "91\n",
      "92\n",
      "Hello\n",
      "94\n",
      "World\n",
      "Hello\n",
      "97\n",
      "98\n",
      "Hello\n"
     ]
    }
   ],
   "source": [
    "result = []\n",
    "for num in range(100):\n",
    "    if num % 3 == 0 and num % 5 == 0:\n",
    "        print('HelloWorld')\n",
    "        result.append('HelloWorld')\n",
    "    elif num % 3 == 0:\n",
    "        print('Hello')\n",
    "        result.append('Hello')\n",
    "    elif num % 5 == 0:\n",
    "        print('World')\n",
    "        result.append('World')\n",
    "    else:\n",
    "        print(num)\n",
    "        result.append(num)\n",
    "result = tuple(result)"
   ]
  },
  {
   "cell_type": "code",
   "execution_count": 105,
   "metadata": {},
   "outputs": [
    {
     "name": "stdout",
     "output_type": "stream",
     "text": [
      "('PythonWorks', 1, 2, 'Python', 4, 'Works', 'Python', 7, 8, 'Python', 'Works', 11, 'Python', 13, 14, 'PythonWorks', 16, 17, 'Python', 19, 'Works', 'Python', 22, 23, 'Python', 'Works', 26, 'Python', 28, 29, 'PythonWorks', 31, 32, 'Python', 34, 'Works', 'Python', 37, 38, 'Python', 'Works', 41, 'Python', 43, 44, 'PythonWorks', 46, 47, 'Python', 49, 'Works', 'Python', 52, 53, 'Python', 'Works', 56, 'Python', 58, 59, 'PythonWorks', 61, 62, 'Python', 64, 'Works', 'Python', 67, 68, 'Python', 'Works', 71, 'Python', 73, 74, 'PythonWorks', 76, 77, 'Python', 79, 'Works', 'Python', 82, 83, 'Python', 'Works', 86, 'Python', 88, 89, 'PythonWorks', 91, 92, 'Python', 94, 'Works', 'Python', 97, 98, 'Python')\n"
     ]
    }
   ],
   "source": [
    "def change_values(tuple_to_change):\n",
    "    result_list = list(tuple_to_change)\n",
    "\n",
    "    for index, word in enumerate(result_list):\n",
    "        if word == 'Hello':\n",
    "            result_list[index] = 'Python'\n",
    "        elif word == 'World':\n",
    "            result_list[index] = 'Works'\n",
    "        elif word == 'HelloWorld':\n",
    "            result_list[index] = 'PythonWorks'\n",
    "\n",
    "    return tuple(result_list)\n",
    "\n",
    "result = change_values(result)\n",
    "print(result)"
   ]
  },
  {
   "cell_type": "markdown",
   "metadata": {},
   "source": [
    "2\\. The swap function\n",
    "\n",
    "Write a function that swap the values of two input variables x and y (whatever the type). Try to do that also without a temporary variable"
   ]
  },
  {
   "cell_type": "code",
   "execution_count": 23,
   "metadata": {},
   "outputs": [
    {
     "name": "stdout",
     "output_type": "stream",
     "text": [
      "2\n",
      "1\n"
     ]
    }
   ],
   "source": [
    "def swap_func(x, y):\n",
    "    return y, x\n",
    "\n",
    "first = 1\n",
    "second = 2\n",
    "first, second = swap_func(first, second)\n",
    "print(first)\n",
    "print(second)"
   ]
  },
  {
   "cell_type": "markdown",
   "metadata": {},
   "source": [
    "3\\. Computing the distance\n",
    "\n",
    "Write a function that calculates and returns the euclidean distance between two points *u* and *v*, where *u* and *v* are both 2-tuples *(x,y)*. For example, if *u=(3,0)* and *v=(0,4)*, the function should return 5"
   ]
  },
  {
   "cell_type": "code",
   "execution_count": 6,
   "metadata": {},
   "outputs": [
    {
     "name": "stdout",
     "output_type": "stream",
     "text": [
      "5.0\n"
     ]
    }
   ],
   "source": [
    "import math\n",
    "\n",
    "def distance(u, v):\n",
    "    return math.sqrt((u[0] - v[0])**2 + (u[1] - v[1])**2)\n",
    "    \n",
    "x = (3, 0)\n",
    "y = (0, 4)\n",
    "dis = distance(x, y)\n",
    "print(dis)"
   ]
  },
  {
   "cell_type": "markdown",
   "metadata": {},
   "source": [
    "4\\. Counting letters\n",
    "\n",
    "Write a program to calculate the number of times each character occurs in a given string *s*. Ignore differences in capitalization"
   ]
  },
  {
   "cell_type": "code",
   "execution_count": 21,
   "metadata": {},
   "outputs": [],
   "source": [
    "s = \"Write a program that prints the numbers from 1 to 100. \\\n",
    "But for multiples of three print Hello instead of the number and for the multiples of five print World. \\\n",
    "For numbers which are multiples of both three and five print HelloWorld.\""
   ]
  },
  {
   "cell_type": "code",
   "execution_count": 22,
   "metadata": {},
   "outputs": [
    {
     "name": "stdout",
     "output_type": "stream",
     "text": [
      "7\n",
      "7\n",
      "7\n",
      "7\n"
     ]
    }
   ],
   "source": [
    "# Solution 1\n",
    "print(s.count('s'))\n",
    "\n",
    "# Solution 1b (considering 'S' equal to 's')\n",
    "print(s.count('s') + s.count('S'))\n",
    "\n",
    "# Solution 2\n",
    "count = 0\n",
    "for c_index in range(len(s)):\n",
    "    c = s[c_index]\n",
    "    if c == 's':\n",
    "        count += 1\n",
    "print(count)\n",
    "\n",
    "# Solution 2b (considering 'S' equal to 's')\n",
    "count = 0\n",
    "for c_index in range(len(s)):\n",
    "    c = s[c_index]\n",
    "    if c == 's' or c == 'S':\n",
    "        count += 1\n",
    "print(count)"
   ]
  },
  {
   "cell_type": "markdown",
   "metadata": {},
   "source": [
    "5\\. Isolating the unique\n",
    "\n",
    "Write a function that determines and count the unique numbers in the list:"
   ]
  },
  {
   "cell_type": "code",
   "execution_count": 41,
   "metadata": {},
   "outputs": [],
   "source": [
    "l = [36, 45, 58, 3, 74, 96, 64, 45, 31, 10, 24, 19, 33, 86, 99, 18, 63, 70, 85,\n",
    " 85, 63, 47, 56, 42, 70, 84, 88, 55, 20, 54, 8, 56, 51, 79, 81, 57, 37, 91,\n",
    " 1, 84, 84, 36, 66, 9, 89, 50, 42, 91, 50, 95, 90, 98, 39, 16, 82, 31, 92, 41,\n",
    " 45, 30, 66, 70, 34, 85, 94, 5, 3, 36, 72, 91, 84, 34, 87, 75, 53, 51, 20, 89, 51, 20]"
   ]
  },
  {
   "cell_type": "code",
   "execution_count": 61,
   "metadata": {},
   "outputs": [
    {
     "name": "stdout",
     "output_type": "stream",
     "text": [
      "Unique numbers are:  54\n",
      "The list is:  [36, 45, 58, 3, 74, 96, 64, 31, 10, 24, 19, 33, 86, 99, 18, 63, 70, 85, 47, 56, 42, 84, 88, 55, 20, 54, 8, 51, 79, 81, 57, 37, 91, 1, 66, 9, 89, 50, 95, 90, 98, 39, 16, 82, 92, 41, 30, 34, 94, 5, 72, 87, 75, 53]\n"
     ]
    }
   ],
   "source": [
    "# Return a list containing only one occurence of the nums\n",
    "def filter_nums(nums):\n",
    "    filtered = []\n",
    "    for num in nums:\n",
    "        if num not in filtered:\n",
    "            filtered.append(num)\n",
    "    return filtered\n",
    "\n",
    "filtered_nums = filter_nums(l)\n",
    "print('Unique numbers are: ', len(filtered_nums))\n",
    "print('The list is: ', filtered_nums)\n"
   ]
  },
  {
   "cell_type": "markdown",
   "metadata": {},
   "source": [
    "Do the same without using user-defined functions, but exploiting only the Python data structures."
   ]
  },
  {
   "cell_type": "code",
   "execution_count": 62,
   "metadata": {},
   "outputs": [
    {
     "name": "stdout",
     "output_type": "stream",
     "text": [
      "Unique numbers are:  54\n",
      "The list is:  {1, 3, 5, 8, 9, 10, 16, 18, 19, 20, 24, 30, 31, 33, 34, 36, 37, 39, 41, 42, 45, 47, 50, 51, 53, 54, 55, 56, 57, 58, 63, 64, 66, 70, 72, 74, 75, 79, 81, 82, 84, 85, 86, 87, 88, 89, 90, 91, 92, 94, 95, 96, 98, 99}\n"
     ]
    }
   ],
   "source": [
    "l_set = set(l)\n",
    "print('Unique numbers are: ', len(l_set))\n",
    "print('The list is: ', l_set)"
   ]
  },
  {
   "cell_type": "markdown",
   "metadata": {},
   "source": [
    "6\\. Combination of functions\n",
    "\n",
    "Write two functions - one that returns the square of a number, and one that returns the cube. Now write a third function that returns the number raised to the 6th power using the two previous functions."
   ]
  },
  {
   "cell_type": "code",
   "execution_count": 69,
   "metadata": {},
   "outputs": [
    {
     "name": "stdout",
     "output_type": "stream",
     "text": [
      "4\n",
      "8\n",
      "64\n"
     ]
    }
   ],
   "source": [
    "import math\n",
    "\n",
    "def square(num):\n",
    "    return num**2\n",
    "\n",
    "def cube(num):\n",
    "    return num**3\n",
    "\n",
    "def power6(num):\n",
    "    return square(cube(num))\n",
    "\n",
    "print(square(2))\n",
    "print(cube(2))\n",
    "print(power6(2))"
   ]
  },
  {
   "cell_type": "markdown",
   "metadata": {},
   "source": [
    "7\\. Cubes\n",
    "\n",
    "Create a list of the cubes of x for x in *[0, 10]* using:\n",
    "\n",
    "a) a for loop\n",
    "\n",
    "b) a list comprehension"
   ]
  },
  {
   "cell_type": "code",
   "execution_count": 66,
   "metadata": {},
   "outputs": [
    {
     "name": "stdout",
     "output_type": "stream",
     "text": [
      "[0, 1, 8, 27, 64, 125, 216, 343, 512, 729]\n",
      "[0, 1, 8, 27, 64, 125, 216, 343, 512, 729]\n"
     ]
    }
   ],
   "source": [
    "#Solution a)\n",
    "sol1 = []\n",
    "for x in range(10):\n",
    "    sol1.append(x**3)\n",
    "print(sol1)\n",
    "\n",
    "#Solution b)\n",
    "sol2 = [x**3 for x in range(10)]\n",
    "print(sol2)"
   ]
  },
  {
   "cell_type": "markdown",
   "metadata": {},
   "source": [
    "8\\. Nested list comprehension\n",
    "\n",
    "A Pythagorean triple is an integer solution to the Pythagorean theorem $a^2+b^2=c^2$. The first Pythagorean triple is (3,4,5). Find and put in a tuple all unique Pythagorean triples for the positive integers a, b and c less than 100."
   ]
  },
  {
   "cell_type": "code",
   "execution_count": 97,
   "metadata": {},
   "outputs": [
    {
     "name": "stdout",
     "output_type": "stream",
     "text": [
      "[(0, 0, 0), (0, 1, 1), (0, 2, 2), (0, 3, 3), (0, 4, 4), (0, 5, 5), (0, 6, 6), (0, 7, 7), (0, 8, 8), (0, 9, 9), (0, 10, 10), (0, 11, 11), (0, 12, 12), (0, 13, 13), (0, 14, 14), (0, 15, 15), (0, 16, 16), (0, 17, 17), (0, 18, 18), (0, 19, 19), (0, 20, 20), (0, 21, 21), (0, 22, 22), (0, 23, 23), (0, 24, 24), (0, 25, 25), (0, 26, 26), (0, 27, 27), (0, 28, 28), (0, 29, 29), (0, 30, 30), (0, 31, 31), (0, 32, 32), (0, 33, 33), (0, 34, 34), (0, 35, 35), (0, 36, 36), (0, 37, 37), (0, 38, 38), (0, 39, 39), (0, 40, 40), (0, 41, 41), (0, 42, 42), (0, 43, 43), (0, 44, 44), (0, 45, 45), (0, 46, 46), (0, 47, 47), (0, 48, 48), (0, 49, 49), (0, 50, 50), (0, 51, 51), (0, 52, 52), (0, 53, 53), (0, 54, 54), (0, 55, 55), (0, 56, 56), (0, 57, 57), (0, 58, 58), (0, 59, 59), (0, 60, 60), (0, 61, 61), (0, 62, 62), (0, 63, 63), (0, 64, 64), (0, 65, 65), (0, 66, 66), (0, 67, 67), (0, 68, 68), (0, 69, 69), (0, 70, 70), (0, 71, 71), (0, 72, 72), (0, 73, 73), (0, 74, 74), (0, 75, 75), (0, 76, 76), (0, 77, 77), (0, 78, 78), (0, 79, 79), (0, 80, 80), (0, 81, 81), (0, 82, 82), (0, 83, 83), (0, 84, 84), (0, 85, 85), (0, 86, 86), (0, 87, 87), (0, 88, 88), (0, 89, 89), (0, 90, 90), (0, 91, 91), (0, 92, 92), (0, 93, 93), (0, 94, 94), (0, 95, 95), (0, 96, 96), (0, 97, 97), (0, 98, 98), (0, 99, 99), (3, 4, 5), (5, 12, 13), (6, 8, 10), (7, 24, 25), (8, 15, 17), (9, 12, 15), (9, 40, 41), (10, 24, 26), (11, 60, 61), (12, 16, 20), (12, 35, 37), (13, 84, 85), (14, 48, 50), (15, 20, 25), (15, 36, 39), (16, 30, 34), (16, 63, 65), (18, 24, 30), (18, 80, 82), (20, 21, 29), (20, 48, 52), (21, 28, 35), (21, 72, 75), (24, 32, 40), (24, 45, 51), (24, 70, 74), (25, 60, 65), (27, 36, 45), (28, 45, 53), (30, 40, 50), (30, 72, 78), (32, 60, 68), (33, 44, 55), (33, 56, 65), (35, 84, 91), (36, 48, 60), (36, 77, 85), (39, 52, 65), (39, 80, 89), (40, 42, 58), (40, 75, 85), (42, 56, 70), (45, 60, 75), (48, 55, 73), (48, 64, 80), (51, 68, 85), (54, 72, 90), (57, 76, 95), (60, 63, 87), (65, 72, 97)]\n"
     ]
    }
   ],
   "source": [
    "limit = 100\n",
    "result = [(a, b, c) for a in range(limit) for b in range(a, limit) for c in range(limit) if a**2+b**2==c**2]\n",
    "print(result)"
   ]
  },
  {
   "cell_type": "markdown",
   "metadata": {},
   "source": [
    "9\\. Normalization\n",
    "\n",
    "Write a function that takes a tuple of numbers and returns it with the entries normalized to one"
   ]
  },
  {
   "cell_type": "code",
   "execution_count": 102,
   "metadata": {},
   "outputs": [
    {
     "name": "stdout",
     "output_type": "stream",
     "text": [
      "(0.2, 0.4, 0.4)\n",
      "(0.0, 1.0, 1.0)\n"
     ]
    }
   ],
   "source": [
    "# If \"normalize\" means to have the sum equal to one\n",
    "def normalize(num_tuple):\n",
    "    num_sum = sum(list(num_tuple))\n",
    "    num_list = [num / num_sum for num in num_tuple]\n",
    "    return tuple(num_list)\n",
    "\n",
    "num_tuple = (1, 2, 2)\n",
    "print(normalize(num_tuple))\n",
    "\n",
    "# If \"normalize\" means to re-scale the interval considering the max number to \n",
    "# be mapped to 1 and the min number to be mapped to 0\n",
    "def normalize2(num_tuple):\n",
    "    return tuple([(num - min(num_tuple))/(max(num_tuple) - min(num_tuple)) for num in num_tuple])\n",
    "    \n",
    "num_tuple = (1, 2, 2)\n",
    "print(normalize2(num_tuple))"
   ]
  },
  {
   "cell_type": "code",
   "execution_count": null,
   "metadata": {},
   "outputs": [],
   "source": []
  }
 ],
 "metadata": {
  "kernelspec": {
   "display_name": "Python 3",
   "language": "python",
   "name": "python3"
  },
  "language_info": {
   "codemirror_mode": {
    "name": "ipython",
    "version": 3
   },
   "file_extension": ".py",
   "mimetype": "text/x-python",
   "name": "python",
   "nbconvert_exporter": "python",
   "pygments_lexer": "ipython3",
   "version": "3.8.8"
  }
 },
 "nbformat": 4,
 "nbformat_minor": 4
}
