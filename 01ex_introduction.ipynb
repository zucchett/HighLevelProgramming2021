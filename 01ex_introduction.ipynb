{
 "cells": [
  {
   "cell_type": "markdown",
   "metadata": {},
   "source": [
    "1. The HelloWorld replacement\n",
    "\n",
    "a) Write a program that prints the numbers from 1 to 100. But for multiples of three print \"Hello\" instead of the number and for the multiples of five print \"World\". For numbers which are multiples of both three and five print \"HelloWorld\".\n",
    "\n",
    "b) Put the result in a tuple and substitute \"Hello\" with \"Python\" and \"World\" with \"Works\"."
   ]
  },
  {
   "cell_type": "code",
   "execution_count": 22,
   "metadata": {},
   "outputs": [
    {
     "name": "stdout",
     "output_type": "stream",
     "text": [
      "1\n",
      "2\n",
      "Hello\n",
      "4\n",
      "World\n",
      "Hello\n",
      "7\n",
      "8\n",
      "Hello\n",
      "World\n",
      "11\n",
      "Hello\n",
      "13\n",
      "14\n",
      "HelloWorld\n",
      "16\n",
      "17\n",
      "Hello\n",
      "19\n",
      "World\n",
      "Hello\n",
      "22\n",
      "23\n",
      "Hello\n",
      "World\n",
      "26\n",
      "Hello\n",
      "28\n",
      "29\n",
      "HelloWorld\n",
      "31\n",
      "32\n",
      "Hello\n",
      "34\n",
      "World\n",
      "Hello\n",
      "37\n",
      "38\n",
      "Hello\n",
      "World\n",
      "41\n",
      "Hello\n",
      "43\n",
      "44\n",
      "HelloWorld\n",
      "46\n",
      "47\n",
      "Hello\n",
      "49\n",
      "World\n",
      "Hello\n",
      "52\n",
      "53\n",
      "Hello\n",
      "World\n",
      "56\n",
      "Hello\n",
      "58\n",
      "59\n",
      "HelloWorld\n",
      "61\n",
      "62\n",
      "Hello\n",
      "64\n",
      "World\n",
      "Hello\n",
      "67\n",
      "68\n",
      "Hello\n",
      "World\n",
      "71\n",
      "Hello\n",
      "73\n",
      "74\n",
      "HelloWorld\n",
      "76\n",
      "77\n",
      "Hello\n",
      "79\n",
      "World\n",
      "Hello\n",
      "82\n",
      "83\n",
      "Hello\n",
      "World\n",
      "86\n",
      "Hello\n",
      "88\n",
      "89\n",
      "HelloWorld\n",
      "91\n",
      "92\n",
      "Hello\n",
      "94\n",
      "World\n",
      "Hello\n",
      "97\n",
      "98\n",
      "Hello\n",
      "World\n"
     ]
    }
   ],
   "source": [
    "# a)\n",
    "for i in range(1,101):\n",
    "    if i % 3 == 0 and i % 5 == 0:\n",
    "        print('HelloWorld')\n",
    "    elif i % 3 == 0:\n",
    "        print('Hello')\n",
    "    elif i % 5 == 0:\n",
    "        print('World')\n",
    "    else:\n",
    "        print(i)"
   ]
  },
  {
   "cell_type": "code",
   "execution_count": 23,
   "metadata": {},
   "outputs": [
    {
     "name": "stdout",
     "output_type": "stream",
     "text": [
      "(1, 2, 'Python', 4, 'Works', 'Python', 7, 8, 'Python', 'Works', 11, 'Python', 13, 14, 'PythonWorks', 16, 17, 'Python', 19, 'Works', 'Python', 22, 23, 'Python', 'Works', 26, 'Python', 28, 29, 'PythonWorks', 31, 32, 'Python', 34, 'Works', 'Python', 37, 38, 'Python', 'Works', 41, 'Python', 43, 44, 'PythonWorks', 46, 47, 'Python', 49, 'Works', 'Python', 52, 53, 'Python', 'Works', 56, 'Python', 58, 59, 'PythonWorks', 61, 62, 'Python', 64, 'Works', 'Python', 67, 68, 'Python', 'Works', 71, 'Python', 73, 74, 'PythonWorks', 76, 77, 'Python', 79, 'Works', 'Python', 82, 83, 'Python', 'Works', 86, 'Python', 88, 89, 'PythonWorks', 91, 92, 'Python', 94, 'Works', 'Python', 97, 98, 'Python', 'Works')\n"
     ]
    }
   ],
   "source": [
    "# b)\n",
    "# list:\n",
    "listt = []\n",
    "for i in range(1,101):\n",
    "    if i % 3 == 0 and i % 5 == 0:\n",
    "        listt.append('PythonWorks')\n",
    "    elif i % 3 == 0:\n",
    "        listt.append('Python')\n",
    "    elif i % 5 == 0:\n",
    "        listt.append('Works')\n",
    "    else:\n",
    "        listt.append(i)\n",
    "\n",
    "#This is the tuple of the list:\n",
    "tup = tuple(listt)\n",
    "print(tup)"
   ]
  },
  {
   "cell_type": "markdown",
   "metadata": {},
   "source": [
    "2\\. The swap function\n",
    "\n",
    "Write a function that swap the values of two input variables x and y (whatever the type). Try to do that also without a temporary variable"
   ]
  },
  {
   "cell_type": "code",
   "execution_count": 24,
   "metadata": {},
   "outputs": [
    {
     "name": "stdout",
     "output_type": "stream",
     "text": [
      "x= 9 y= 18\n"
     ]
    }
   ],
   "source": [
    "x = 18\n",
    "y = 9\n",
    "\n",
    "x = x + y   # now x=27\n",
    "y = x - y   # y=(27-9)=18\n",
    "x = x - y   # x=(27-18)=9\n",
    "\n",
    "#After Swapping:\n",
    "print('x=', x, 'y=', y)\n"
   ]
  },
  {
   "cell_type": "markdown",
   "metadata": {},
   "source": [
    "3\\. Computing the distance\n",
    "\n",
    "Write a function that calculates and returns the euclidean distance between two points *u* and *v*, where *u* and *v* are both 2-tuples *(x,y)*. For example, if *u=(3,0)* and *v=(0,4)*, the function should return 5"
   ]
  },
  {
   "cell_type": "code",
   "execution_count": 25,
   "metadata": {},
   "outputs": [
    {
     "data": {
      "text/plain": [
       "5.0"
      ]
     },
     "execution_count": 25,
     "metadata": {},
     "output_type": "execute_result"
    }
   ],
   "source": [
    "import math\n",
    "\n",
    "# u= (x1,x2) and v= (y1,y2)\n",
    "\n",
    "def euclidean(x1,y1,x2,y2):\n",
    "    euclidean_dist = math.sqrt((x2 - x1) ** 2 + (y2 - y1) ** 2)\n",
    "    return euclidean_dist\n",
    "\n",
    "euclidean(3,0,0,4)"
   ]
  },
  {
   "cell_type": "markdown",
   "metadata": {},
   "source": [
    "4\\. Counting letters\n",
    "\n",
    "Write a program to calculate the number of times each character occurs in a given string *s*. Ignore differences in capitalization"
   ]
  },
  {
   "cell_type": "code",
   "execution_count": 35,
   "metadata": {},
   "outputs": [
    {
     "name": "stdout",
     "output_type": "stream",
     "text": [
      "{'w': 4, 'r': 19, 'i': 12, 't': 19, 'e': 20, ' ': 41, 'a': 7, 'p': 8, 'o': 15, 'g': 1, 'm': 8, 'h': 11, 'n': 10, 's': 7, 'u': 7, 'b': 5, 'f': 10, '1': 2, '0': 2, '.': 3, 'l': 12, 'd': 5, 'v': 2, 'c': 1}\n"
     ]
    }
   ],
   "source": [
    "s = \"Write a program that prints the numbers from 1 to 100. \\\n",
    "But for multiples of three print Hello instead of the number and for the multiples of five print World. \\\n",
    "For numbers which are multiples of both three and five print HelloWorld.\"\n",
    "\n",
    "def chacter_number(string):\n",
    "    #ignoring the differences in capitalization:\n",
    "    string = string.lower()\n",
    "    #open dictionary to write and add number of chracter\n",
    "    dict = {}\n",
    "    for n in string:\n",
    "        keys = dict.keys()\n",
    "        if n in keys:\n",
    "            dict[n] += 1\n",
    "        else:\n",
    "            dict[n] = 1\n",
    "    return dict\n",
    "\n",
    "print(chacter_number(s))\n"
   ]
  },
  {
   "cell_type": "markdown",
   "metadata": {},
   "source": [
    "5\\. Isolating the unique\n",
    "\n",
    "Write a function that determines and count the unique numbers in the list:"
   ]
  },
  {
   "cell_type": "code",
   "execution_count": 38,
   "metadata": {},
   "outputs": [
    {
     "name": "stdout",
     "output_type": "stream",
     "text": [
      "[36, 45, 58, 3, 74, 96, 64, 31, 10, 24, 19, 33, 86, 99, 18, 63, 70, 85, 47, 56, 42, 84, 88, 55, 20, 54, 8, 51, 79, 81, 57, 37, 91, 1, 66, 9, 89, 50, 95, 90, 98, 39, 16, 82, 92, 41, 30, 34, 94, 5, 72, 87, 75, 53]\n",
      "54\n"
     ]
    }
   ],
   "source": [
    "l = [36, 45, 58, 3, 74, 96, 64, 45, 31, 10, 24, 19, 33, 86, 99, 18, 63, 70, 85,\n",
    " 85, 63, 47, 56, 42, 70, 84, 88, 55, 20, 54, 8, 56, 51, 79, 81, 57, 37, 91,\n",
    " 1, 84, 84, 36, 66, 9, 89, 50, 42, 91, 50, 95, 90, 98, 39, 16, 82, 31, 92, 41,\n",
    " 45, 30, 66, 70, 34, 85, 94, 5, 3, 36, 72, 91, 84, 34, 87, 75, 53, 51, 20, 89, 51, 20]\n",
    "\n",
    "unique_list= []\n",
    "for number in l:\n",
    "    if number in unique_list:\n",
    "        continue\n",
    "    else:\n",
    "        unique_list.append(number)\n",
    "        \n",
    "print(unique_list)        #unique numbers in the list\n",
    "print(len(unique_list))   #number of unique numbers\n",
    "        \n"
   ]
  },
  {
   "cell_type": "markdown",
   "metadata": {},
   "source": [
    "Do the same without using user-defined functions, but exploiting only the Python data structures."
   ]
  },
  {
   "cell_type": "code",
   "execution_count": 40,
   "metadata": {},
   "outputs": [
    {
     "name": "stdout",
     "output_type": "stream",
     "text": [
      "[36, 45, 58, 3, 74, 96, 64, 31, 10, 24, 19, 33, 86, 99, 18, 63, 70, 85, 47, 56, 42, 84, 88, 55, 20, 54, 8, 51, 79, 81, 57, 37, 91, 1, 66, 9, 89, 50, 95, 90, 98, 39, 16, 82, 92, 41, 30, 34, 94, 5, 72, 87, 75, 53]\n",
      "54\n"
     ]
    }
   ],
   "source": [
    "def unique_numbers(list_of_number):\n",
    "    unique_list = []\n",
    "\n",
    "    for number in list_of_number:\n",
    "        if number in unique_list:\n",
    "            continue\n",
    "        else:\n",
    "            unique_list.append(number)\n",
    "    return unique_list\n",
    "\n",
    "print(unique_numbers(l))\n",
    "print(len(unique_numbers(l)))"
   ]
  },
  {
   "cell_type": "markdown",
   "metadata": {},
   "source": [
    "6\\. Combination of functions\n",
    "\n",
    "Write two functions - one that returns the square of a number, and one that returns the cube. Now write a third function that returns the number raised to the 6th power using the two previous functions."
   ]
  },
  {
   "cell_type": "code",
   "execution_count": 44,
   "metadata": {},
   "outputs": [
    {
     "name": "stdout",
     "output_type": "stream",
     "text": [
      "729\n"
     ]
    }
   ],
   "source": [
    "# the square of a number\n",
    "\n",
    "def square(number):\n",
    "    return number*number\n",
    "\n",
    "# the cube of the number\n",
    "\n",
    "def cube(number):\n",
    "    return number*number*number\n",
    "\n",
    "\n",
    "# the 6th power\n",
    "\n",
    "def sixth_power(number):\n",
    "    return number*square(number)*cube(number)\n",
    "\n",
    "print(sixth_power(3))"
   ]
  },
  {
   "cell_type": "markdown",
   "metadata": {},
   "source": [
    "7\\. Cubes\n",
    "\n",
    "Create a list of the cubes of x for x in *[0, 10]* using:\n",
    "\n",
    "a) a for loop\n",
    "\n",
    "b) a list comprehension"
   ]
  },
  {
   "cell_type": "code",
   "execution_count": 49,
   "metadata": {},
   "outputs": [
    {
     "name": "stdout",
     "output_type": "stream",
     "text": [
      "[0, 1, 8, 27, 64, 125, 216, 343, 512, 729, 1000]\n"
     ]
    }
   ],
   "source": [
    "# a)\n",
    "\n",
    "list_cube = []\n",
    "for x in range(0,11):\n",
    "    x = x*x*x\n",
    "    list_cube.append(x)\n",
    "\n",
    "print(list_cube)\n",
    "    "
   ]
  },
  {
   "cell_type": "code",
   "execution_count": 51,
   "metadata": {},
   "outputs": [
    {
     "name": "stdout",
     "output_type": "stream",
     "text": [
      "[0, 1, 8, 27, 64, 125, 216, 343, 512, 729, 1000]\n"
     ]
    }
   ],
   "source": [
    "# b)\n",
    "\n",
    "list_cubee = [x*x*x for x in range(0,11)]\n",
    "\n",
    "print(list_cubee)"
   ]
  },
  {
   "cell_type": "markdown",
   "metadata": {},
   "source": [
    "8\\. Nested list comprehension\n",
    "\n",
    "A Pythagorean triple is an integer solution to the Pythagorean theorem $a^2+b^2=c^2$. The first Pythagorean triple is (3,4,5). Find and put in a tuple all unique Pythagorean triples for the positive integers a, b and c less than 100."
   ]
  },
  {
   "cell_type": "code",
   "execution_count": null,
   "metadata": {},
   "outputs": [],
   "source": [
    "#using Euclid's formula is a fundamental formula for \n",
    "#an arbitrary pair of integers m and n with m > n > 0 (from:https://en.wikipedia.org/wiki/Pythagorean_triple)\n",
    "#(https://en.wikipedia.org/wiki/Tree_of_primitive_Pythagorean_triples)\n",
    "# gcd=greatest common divisor / highest common factor is needed for unique Pythagorean Triples"
   ]
  },
  {
   "cell_type": "code",
   "execution_count": 34,
   "metadata": {},
   "outputs": [],
   "source": [
    "from math import gcd"
   ]
  },
  {
   "cell_type": "code",
   "execution_count": 40,
   "metadata": {},
   "outputs": [
    {
     "name": "stdout",
     "output_type": "stream",
     "text": [
      "[(3, 4, 5), (15, 8, 17), (35, 12, 37), (63, 16, 65), (5, 12, 13), (21, 20, 29), (45, 28, 53), (77, 36, 85), (7, 24, 25), (55, 48, 73), (9, 40, 41), (33, 56, 65), (65, 72, 97), (11, 60, 61), (39, 80, 89), (13, 84, 85)]\n"
     ]
    }
   ],
   "source": [
    "def pyt_triple(k):\n",
    "    listp=[]\n",
    "    for m in range(1,k):\n",
    "        for n in range(m+1,k+1):\n",
    "            a = n**2 - m**2\n",
    "            b = 2*m*n\n",
    "            c = n**2 + m**2\n",
    "            if m**2 + n**2 > k:\n",
    "                break\n",
    "            if m%2==1 and n%2==1:\n",
    "                continue\n",
    "            if gcd(m,n)!=1:\n",
    "                continue\n",
    "            listp.append((a,b,c))\n",
    "    return listp\n",
    "\n",
    "print(pyt_triple(100))\n",
    "       "
   ]
  },
  {
   "cell_type": "markdown",
   "metadata": {},
   "source": [
    "9\\. Normalization\n",
    "\n",
    "Write a function that takes a tuple of numbers and returns it with the entries normalized to one"
   ]
  },
  {
   "cell_type": "code",
   "execution_count": 53,
   "metadata": {},
   "outputs": [
    {
     "name": "stdout",
     "output_type": "stream",
     "text": [
      "[0.024390243902439025, 0.04878048780487805, 0.07317073170731707, 0.0975609756097561, 0.14634146341463414, 0.17073170731707318, 0.1951219512195122, 0.24390243902439024]\n"
     ]
    }
   ],
   "source": [
    "numbers = (1,2,3,4,6,7,8,10)\n",
    "normed = [i/sum(numbers) for i in numbers]\n",
    "print(normed)"
   ]
  }
 ],
 "metadata": {
  "kernelspec": {
   "display_name": "Python 3",
   "language": "python",
   "name": "python3"
  },
  "language_info": {
   "codemirror_mode": {
    "name": "ipython",
    "version": 3
   },
   "file_extension": ".py",
   "mimetype": "text/x-python",
   "name": "python",
   "nbconvert_exporter": "python",
   "pygments_lexer": "ipython3",
   "version": "3.6.2"
  }
 },
 "nbformat": 4,
 "nbformat_minor": 2
}
