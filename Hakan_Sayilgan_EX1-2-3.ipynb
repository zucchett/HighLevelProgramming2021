{
 "cells": [
  {
   "cell_type": "markdown",
   "metadata": {},
   "source": [
    "1. The HelloWorld replacement\n",
    "\n",
    "a) Write a program that prints the numbers from 1 to 100. But for multiples of three print \"Hello\" instead of the number and for the multiples of five print \"World\". For numbers which are multiples of both three and five print \"HelloWorld\".\n",
    "\n",
    "b) Put the result in a tuple and substitute \"Hello\" with \"Python\" and \"World\" with \"Works\"."
   ]
  },
  {
   "cell_type": "code",
   "execution_count": 5,
   "metadata": {},
   "outputs": [
    {
     "name": "stdout",
     "output_type": "stream",
     "text": [
      "a)\n",
      "[0, 1, 2, 'Hello', 4, 'World', 'Hello', 7, 8, 'Hello', 'World', 11, 'Hello', 13, 14, 'HelloWorld', 16, 17, 'Hello', 19, 'World', 'Hello', 22, 23, 'Hello', 'World', 26, 'Hello', 28, 29, 'HelloWorld', 31, 32, 'Hello', 34, 'World', 'Hello', 37, 38, 'Hello', 'World', 41, 'Hello', 43, 44, 'HelloWorld', 46, 47, 'Hello', 49, 'World', 'Hello', 52, 53, 'Hello', 'World', 56, 'Hello', 58, 59, 'HelloWorld', 61, 62, 'Hello', 64, 'World', 'Hello', 67, 68, 'Hello', 'World', 71, 'Hello', 73, 74, 'HelloWorld', 76, 77, 'Hello', 79, 'World', 'Hello', 82, 83, 'Hello', 'World', 86, 'Hello', 88, 89, 'HelloWorld', 91, 92, 'Hello', 94, 'World', 'Hello', 97, 98, 'Hello', 'World']\n",
      "b)\n",
      "<class 'list'>\n",
      "[0, 1, 2, 'Python', 4, 'Works', 'Python', 7, 8, 'Python', 'Works', 11, 'Python', 13, 14, 'PythonWorks', 16, 17, 'Python', 19, 'Works', 'Python', 22, 23, 'Python', 'Works', 26, 'Python', 28, 29, 'PythonWorks', 31, 32, 'Python', 34, 'Works', 'Python', 37, 38, 'Python', 'Works', 41, 'Python', 43, 44, 'PythonWorks', 46, 47, 'Python', 49, 'Works', 'Python', 52, 53, 'Python', 'Works', 56, 'Python', 58, 59, 'PythonWorks', 61, 62, 'Python', 64, 'Works', 'Python', 67, 68, 'Python', 'Works', 71, 'Python', 73, 74, 'PythonWorks', 76, 77, 'Python', 79, 'Works', 'Python', 82, 83, 'Python', 'Works', 86, 'Python', 88, 89, 'PythonWorks', 91, 92, 'Python', 94, 'Works', 'Python', 97, 98, 'Python', 'Works']\n",
      "<class 'tuple'>\n",
      "(0, 1, 2, 'Python', 4, 'Works', 'Python', 7, 8, 'Python', 'Works', 11, 'Python', 13, 14, 'PythonWorks', 16, 17, 'Python', 19, 'Works', 'Python', 22, 23, 'Python', 'Works', 26, 'Python', 28, 29, 'PythonWorks', 31, 32, 'Python', 34, 'Works', 'Python', 37, 38, 'Python', 'Works', 41, 'Python', 43, 44, 'PythonWorks', 46, 47, 'Python', 49, 'Works', 'Python', 52, 53, 'Python', 'Works', 56, 'Python', 58, 59, 'PythonWorks', 61, 62, 'Python', 64, 'Works', 'Python', 67, 68, 'Python', 'Works', 71, 'Python', 73, 74, 'PythonWorks', 76, 77, 'Python', 79, 'Works', 'Python', 82, 83, 'Python', 'Works', 86, 'Python', 88, 89, 'PythonWorks', 91, 92, 'Python', 94, 'Works', 'Python', 97, 98, 'Python', 'Works')\n"
     ]
    }
   ],
   "source": [
    "print(\"a)\")\n",
    "number_list= [x for x in range(101)]\n",
    "# print(number_list)\n",
    "b=\"Hello\"\n",
    "c=\"World\"\n",
    "d=b+c\n",
    "#print(d)\n",
    "x=0;\n",
    "while x<=100:\n",
    "    \n",
    "    if x>=3 and x%3==0 and x%15!=0:\n",
    "       \n",
    "        number_list.insert(number_list[x],b)\n",
    "        number_list.remove(number_list[x+1])\n",
    "    \n",
    "    if x>=5 and x%5==0 and x%15!=0:\n",
    "     \n",
    "        number_list.insert(number_list[x],c)\n",
    "        number_list.remove(number_list[x+1])\n",
    "    \n",
    "    if x>=3 and x%3==0 and x>=5 and x%5==0 :\n",
    "      \n",
    "        number_list.insert(number_list[x],d)\n",
    "        number_list.remove(number_list[x+1])   \n",
    "    x+=1\n",
    "print(number_list)  \n",
    "\n",
    "print(\"b)\")\n",
    "print(type(number_list))\n",
    "b=\"Hello\"\n",
    "c=\"World\"\n",
    "d=b+c\n",
    "e=\"Python\"\n",
    "f=\"Works\"\n",
    "g=e+f\n",
    "#print(d)\n",
    "x=0;\n",
    "while x<=100:\n",
    "    \n",
    "    if number_list[x]== b :\n",
    "        number_list[x]=e\n",
    "    if number_list[x]== c :\n",
    "        number_list[x]=f\n",
    "    if number_list[x]== d :\n",
    "        number_list[x]=g    \n",
    "    x+=1\n",
    "print(number_list)\n",
    "    \n",
    "tuple_list=tuple(number_list)\n",
    "print(type(tuple_list))\n",
    "print(tuple_list)\n"
   ]
  },
  {
   "cell_type": "markdown",
   "metadata": {},
   "source": [
    "2\\. The swap function\n",
    "\n",
    "Write a function that swap the values of two input variables x and y (whatever the type). Try to do that also without a temporary variable"
   ]
  },
  {
   "cell_type": "code",
   "execution_count": 6,
   "metadata": {},
   "outputs": [
    {
     "name": "stdout",
     "output_type": "stream",
     "text": [
      "with temporary variable\n",
      "Please enter first variable: 3\n",
      "Please enter second variable: 4\n",
      "The first variable after swapping: 4\n",
      "The second variable after swapping: 3\n",
      "without temporary variable\n",
      "Please enter first number: 6\n",
      "Please enter second number: 7\n",
      "After Swapping: first number = 7  second number = 6\n"
     ]
    }
   ],
   "source": [
    "print(\"with temporary variable\")\n",
    "first_input= input(\"Please enter first variable: \")\n",
    "second_input= input(\"Please enter second variable: \")\n",
    "\n",
    "temp_first = first_input\n",
    "first_input = second_input\n",
    "second_input = temp_first\n",
    "\n",
    "\n",
    "print(\"The first variable after swapping: \" + first_input)\n",
    "print(\"The second variable after swapping: \" + second_input)\n",
    "\n",
    "print(\"without temporary variable\")\n",
    "x = int(input(\"Please enter first number: \"))\n",
    "y = int(input(\"Please enter second number: \"))\n",
    "x = x + y  \n",
    "y = x - y \n",
    "x = x - y  \n",
    "print(\"After Swapping: first number =\", x, \" second number =\", y)"
   ]
  },
  {
   "cell_type": "markdown",
   "metadata": {},
   "source": [
    "3\\. Computing the distance\n",
    "\n",
    "Write a function that calculates and returns the euclidean distance between two points *u* and *v*, where *u* and *v* are both 2-tuples *(x,y)*. For example, if *u=(3,0)* and *v=(0,4)*, the function should return 5"
   ]
  },
  {
   "cell_type": "code",
   "execution_count": 8,
   "metadata": {},
   "outputs": [
    {
     "name": "stdout",
     "output_type": "stream",
     "text": [
      "Enter x1: 3\n",
      "Enter y1: 0\n",
      "Enter x2: 0\n",
      "Enter y2: 4\n",
      "5\n"
     ]
    }
   ],
   "source": [
    "from math import sqrt\n",
    "\n",
    "x1= int(input(\"Enter x1: \"))\n",
    "y1= int(input(\"Enter y1: \"))\n",
    "x2= int(input(\"Enter x2: \"))\n",
    "y2= int(input(\"Enter y2: \"))\n",
    "\n",
    "u= (x1,y1)\n",
    "v= (x2,y2)\n",
    "num = int(sqrt(((u[1]-v[1])**2) + ((u[0]-v[0])**2)))\n",
    "\n",
    "print(num)\n"
   ]
  },
  {
   "cell_type": "markdown",
   "metadata": {},
   "source": [
    "4\\. Counting letters\n",
    "\n",
    "Write a program to calculate the number of times each character occurs in a given string *s*. Ignore differneces in capitalization"
   ]
  },
  {
   "cell_type": "code",
   "execution_count": 9,
   "metadata": {},
   "outputs": [],
   "source": [
    "s=\"Write a program that prints the numbers from 1 to 100. \\\n",
    "But for multiples of three print Hello instead of the number and for the multiples of five print World. \\\n",
    "For numbers which are multiples of both three and five print HelloWorld\"\n"
   ]
  },
  {
   "cell_type": "code",
   "execution_count": 10,
   "metadata": {},
   "outputs": [
    {
     "name": "stdout",
     "output_type": "stream",
     "text": [
      "Number of characters: \n",
      " {'w': 4, 'r': 19, 'i': 12, 't': 19, 'e': 20, ' ': 41, 'a': 7, 'p': 8, 'o': 15, 'g': 1, 'm': 8, 'h': 11, 'n': 10, 's': 7, 'u': 7, 'b': 5, 'f': 10, '1': 2, '0': 2, '.': 2, 'l': 12, 'd': 5, 'v': 2, 'c': 1}\n"
     ]
    }
   ],
   "source": [
    "s_new=s.lower()\n",
    "#print(s_new)\n",
    "characters = {} \n",
    "  \n",
    "for i in s_new: \n",
    "    if i in characters: \n",
    "        characters[i] += 1\n",
    "    else: \n",
    "        characters[i] = 1\n",
    "print (\"Number of characters: \\n \" +  str(characters))\n",
    "s=\"Write a program that prints the numbers from 1 to 100. \\\n",
    "But for multiples of three print Mickey instead of the number and for the multiples of five print Mouse. \\\n",
    "For numbers which are multiples of both three and five print MickeyMouse\"\n",
    "\n"
   ]
  },
  {
   "cell_type": "markdown",
   "metadata": {},
   "source": [
    "5\\. Isolating the unique\n",
    "\n",
    "Write a function that determines and count the unique numbers in the list *l*"
   ]
  },
  {
   "cell_type": "code",
   "execution_count": 11,
   "metadata": {},
   "outputs": [],
   "source": [
    "l = [36, 45, 58, 3, 74, 96, 64, 45, 31, 10, 24, 19, 33, 86, 99, 18, 63, 70, 85,\n",
    " 85, 63, 47, 56, 42, 70, 84, 88, 55, 20, 54, 8, 56, 51, 79, 81, 57, 37, 91,\n",
    " 1, 84, 84, 36, 66, 9, 89, 50, 42, 91, 50, 95, 90, 98, 39, 16, 82, 31, 92, 41,\n",
    " 45, 30, 66, 70, 34, 85, 94, 5, 3, 36, 72, 91, 84, 34, 87, 75, 53, 51, 20, 89, 51, 20]"
   ]
  },
  {
   "cell_type": "code",
   "execution_count": 12,
   "metadata": {},
   "outputs": [
    {
     "name": "stdout",
     "output_type": "stream",
     "text": [
      "[1, 3, 3, 5, 8, 9, 10, 16, 18, 19, 20, 20, 20, 24, 30, 31, 31, 33, 34, 34, 36, 36, 36, 37, 39, 41, 42, 42, 45, 45, 45, 47, 50, 50, 51, 51, 51, 53, 54, 55, 56, 56, 57, 58, 63, 63, 64, 66, 66, 70, 70, 70, 72, 74, 75, 79, 81, 82, 84, 84, 84, 84, 85, 85, 85, 86, 87, 88, 89, 89, 90, 91, 91, 91, 92, 94, 95, 96, 98, 99]\n",
      "[1, 3, 5, 8, 9, 10, 16, 18, 19, 20, 24, 30, 31, 33, 34, 36, 37, 39, 41, 42, 45, 47, 50, 51, 53, 54, 55, 56, 57, 58, 63, 64, 66, 70, 72, 74, 75, 79, 81, 82, 84, 85, 86, 87, 88, 89, 90, 91, 92, 94, 95, 96, 98, 99]\n"
     ]
    }
   ],
   "source": [
    "ss= sorted(l)\n",
    "print(ss)\n",
    "\n",
    "my_list = list(set(ss))\n",
    "print(my_list)"
   ]
  },
  {
   "cell_type": "markdown",
   "metadata": {},
   "source": [
    "6\\. Combination of functions\n",
    "\n",
    "Write two functions - one that returns the square of a number, and one that returns the cube. Now write a third function that returns the number raised to the 6th power using the two previous functions."
   ]
  },
  {
   "cell_type": "code",
   "execution_count": 13,
   "metadata": {},
   "outputs": [
    {
     "name": "stdout",
     "output_type": "stream",
     "text": [
      " number 1: 3\n",
      "9\n",
      "27\n",
      "729\n"
     ]
    }
   ],
   "source": [
    "a= int(input(\" number 1: \"))\n",
    "\n",
    "def square(a):\n",
    "    return a*a\n",
    "print(square(a))\n",
    "\n",
    "def cube(a):\n",
    "    return a*a*a\n",
    "print(cube(a))\n",
    "\n",
    "def six(a):\n",
    "      return square(a)*cube(a)*a\n",
    "print(six(a))\n"
   ]
  },
  {
   "cell_type": "markdown",
   "metadata": {},
   "source": [
    "7\\. Cubes\n",
    "\n",
    "Create a list of the cubes of x for x in *[0, 10]* using:\n",
    "\n",
    "a) a for loop\n",
    "\n",
    "b) a list comprehension"
   ]
  },
  {
   "cell_type": "code",
   "execution_count": 15,
   "metadata": {},
   "outputs": [
    {
     "name": "stdout",
     "output_type": "stream",
     "text": [
      "a)\n",
      "[0, 1, 8, 27, 64, 125, 216, 343, 512, 729, 1000]\n",
      "b)\n",
      "[0, 1, 8, 27, 64, 125, 216, 343, 512, 729, 1000]\n"
     ]
    }
   ],
   "source": [
    "print(\"a)\")\n",
    "list1=[]\n",
    "for x in range(0,11):\n",
    "  \n",
    "    a=x*x*x\n",
    "    list1.append(a)\n",
    "    x+=1   \n",
    "print(list1)\n",
    "\n",
    "print(\"b)\")\n",
    "\n",
    "list2 = [i*i*i for i in range(0,11)]\n",
    "print(list2)\n",
    "\n"
   ]
  },
  {
   "cell_type": "markdown",
   "metadata": {},
   "source": [
    "8\\. Nested list comprehension\n",
    "\n",
    "A Pythagorean triple is an integer solution to the Pythagorean theorem $a^2+b^2=c^2$. The first Pythagorean triple is (3,4,5). Find and put in a tuple all unique Pythagorean triples for the positive integers a, b and c less than 100."
   ]
  },
  {
   "cell_type": "code",
   "execution_count": 16,
   "metadata": {},
   "outputs": [
    {
     "name": "stdout",
     "output_type": "stream",
     "text": [
      "([3, 4, 5], [4, 3, 5], [5, 12, 13], [6, 8, 10], [7, 24, 25], [8, 6, 10], [8, 15, 17], [9, 12, 15], [9, 40, 41], [10, 24, 26], [11, 60, 61], [12, 5, 13], [12, 9, 15], [12, 16, 20], [12, 35, 37], [13, 84, 85], [14, 48, 50], [15, 8, 17], [15, 20, 25], [15, 36, 39], [16, 12, 20], [16, 30, 34], [16, 63, 65], [18, 24, 30], [18, 80, 82], [20, 15, 25], [20, 21, 29], [20, 48, 52], [21, 20, 29], [21, 28, 35], [21, 72, 75], [24, 7, 25], [24, 10, 26], [24, 18, 30], [24, 32, 40], [24, 45, 51], [24, 70, 74], [25, 60, 65], [27, 36, 45], [28, 21, 35], [28, 45, 53], [28, 96, 100], [30, 16, 34], [30, 40, 50], [30, 72, 78], [32, 24, 40], [32, 60, 68], [33, 44, 55], [33, 56, 65], [35, 12, 37], [35, 84, 91], [36, 15, 39], [36, 27, 45], [36, 48, 60], [36, 77, 85], [39, 52, 65], [39, 80, 89], [40, 9, 41], [40, 30, 50], [40, 42, 58], [40, 75, 85], [42, 40, 58], [42, 56, 70], [44, 33, 55], [45, 24, 51], [45, 28, 53], [45, 60, 75], [48, 14, 50], [48, 20, 52], [48, 36, 60], [48, 55, 73], [48, 64, 80], [51, 68, 85], [52, 39, 65], [54, 72, 90], [55, 48, 73], [56, 33, 65], [56, 42, 70], [57, 76, 95], [60, 11, 61], [60, 25, 65], [60, 32, 68], [60, 45, 75], [60, 63, 87], [60, 80, 100], [63, 16, 65], [63, 60, 87], [64, 48, 80], [65, 72, 97], [68, 51, 85], [70, 24, 74], [72, 21, 75], [72, 30, 78], [72, 54, 90], [72, 65, 97], [75, 40, 85], [76, 57, 95], [77, 36, 85], [80, 18, 82], [80, 39, 89], [80, 60, 100], [84, 13, 85], [84, 35, 91], [96, 28, 100])\n"
     ]
    }
   ],
   "source": [
    "list=[]\n",
    "for a in range (1,101):\n",
    "    for b in range (1,101) :\n",
    "        for c in range(1,101):\n",
    "            if c*c == (a*a)+(b*b):\n",
    "                \n",
    "                list.append([a,b,c])\n",
    "        c+=1\n",
    "    b+=1\n",
    "a+=1\n",
    "\n",
    "print(tuple(list))"
   ]
  },
  {
   "cell_type": "markdown",
   "metadata": {},
   "source": [
    "9\\. Normalization\n",
    "\n",
    "Write a function that takes a tuple of numbers and returns it with the entries normalized to one"
   ]
  },
  {
   "cell_type": "code",
   "execution_count": 15,
   "metadata": {},
   "outputs": [
    {
     "name": "stdout",
     "output_type": "stream",
     "text": [
      "(0.0, 0.3333333333333333, 0.6666666666666666, 1.0)\n"
     ]
    }
   ],
   "source": [
    "a = (2,4,6,8)\n",
    "A_a=list(a)\n",
    "\n",
    "amin, amax = min(A_a), max(A_a)\n",
    "for i, val in enumerate(A_a):\n",
    "    A_a[i] = (val-amin) / (amax-amin)\n",
    "    \n",
    "print(tuple(A_a))"
   ]
  },
  {
   "cell_type": "markdown",
   "metadata": {},
   "source": [
    "1\\. Write the following as a list comprehension"
   ]
  },
  {
   "cell_type": "code",
   "execution_count": 9,
   "metadata": {},
   "outputs": [
    {
     "name": "stdout",
     "output_type": "stream",
     "text": [
      "[(0, 0), (0, 1), (0, 2), (0, 3), (1, 0), (1, 1), (1, 2), (1, 3), (2, 0), (2, 1), (2, 2), (2, 3)]\n",
      "[1, 9, 25, 49, 81]\n"
     ]
    }
   ],
   "source": [
    "# 1\n",
    "ans = []\n",
    "for i in range(3):\n",
    "    for j in range(4):\n",
    "        ans.append((i, j))\n",
    "print (ans)\n",
    "\n",
    "# 2\n",
    "ans = map(lambda x: x*x, filter(lambda x: x % 2 == 1, range(10)))\n",
    "print (list(ans))\n"
   ]
  },
  {
   "cell_type": "code",
   "execution_count": 6,
   "metadata": {
    "scrolled": true
   },
   "outputs": [
    {
     "name": "stdout",
     "output_type": "stream",
     "text": [
      "[(0, 0), (0, 1), (0, 2), (0, 3), (1, 0), (1, 1), (1, 2), (1, 3), (2, 0), (2, 1), (2, 2), (2, 3)]\n",
      "[1, 9, 25, 49, 81]\n"
     ]
    }
   ],
   "source": [
    "# 1\n",
    "list_ans1 = [(x,y) for x in range(3) for y in range(4)]\n",
    "print(list_ans1)\n",
    "\n",
    "# 2\n",
    "list_ans2= [x*x for x in range(10) if x % 2 == 1]\n",
    "print(list_ans2)\n"
   ]
  },
  {
   "cell_type": "code",
   "execution_count": 29,
   "metadata": {},
   "outputs": [
    {
     "name": "stdout",
     "output_type": "stream",
     "text": [
      "[(0, 0), (0, 1), (0, 2), (0, 3), (1, 0), (1, 1), (1, 2), (1, 3), (2, 0), (2, 1), (2, 2), (2, 3)]\n",
      "[1, 9, 25, 49, 81]\n"
     ]
    }
   ],
   "source": [
    "# 1\n",
    "list_ans1 = [(x,y) for x in range(3) for y in range(4)]\n",
    "print(list_ans1)\n",
    "\n",
    "# 2\n",
    "list_ans2= [x*x for x in range(10) if x % 2 == 1]\n",
    "print(list_ans2)\n"
   ]
  },
  {
   "cell_type": "markdown",
   "metadata": {},
   "source": [
    "2\\. Convert the function $f$ into a function that doesn't use global variables and that does not modify the original list"
   ]
  },
  {
   "cell_type": "code",
   "execution_count": 10,
   "metadata": {},
   "outputs": [
    {
     "name": "stdout",
     "output_type": "stream",
     "text": [
      "[1, 2, 3, 0, 1, 2, 3, 4]\n",
      "[1, 2, 3, 0, 1, 2, 3, 4]\n"
     ]
    }
   ],
   "source": [
    "x = 5\n",
    "def f(alist):\n",
    "    for i in range(x):\n",
    "         alist.append(i)\n",
    "    return alist\n",
    "\n",
    "alist = [1,2,3]\n",
    "ans = f(alist)\n",
    "print (ans)\n",
    "print (alist) # alist has been changed!"
   ]
  },
  {
   "cell_type": "code",
   "execution_count": 11,
   "metadata": {},
   "outputs": [
    {
     "name": "stdout",
     "output_type": "stream",
     "text": [
      "[1, 2, 3]\n",
      "[1, 2, 3, 0, 1, 2, 3, 4]\n"
     ]
    }
   ],
   "source": [
    "# 2\n",
    "x = 5\n",
    "new_list = []\n",
    "alist = [1,2,3]\n",
    "def f(alist):\n",
    "    for i in range(x):\n",
    "        alist.append(i)\n",
    "        new_list = alist\n",
    "    return new_list\n",
    "print (alist)\n",
    "print (f(alist)) "
   ]
  },
  {
   "cell_type": "markdown",
   "metadata": {},
   "source": [
    "3\\. Write a `decorator` hello that makes every wrapped function print “Hello!”, i.e. something like:\n",
    "\n",
    "```python\n",
    "@hello\n",
    "def square(x):\n",
    "    return x*x\n",
    "```\n",
    "\n"
   ]
  },
  {
   "cell_type": "code",
   "execution_count": 13,
   "metadata": {},
   "outputs": [
    {
     "name": "stdout",
     "output_type": "stream",
     "text": [
      "Please enter a number: 14\n",
      "Hello!\n",
      "196\n"
     ]
    }
   ],
   "source": [
    "# 3\n",
    "x = int(input(\"Please enter a number: \"))  \n",
    "\n",
    "def hello(func):\n",
    "    def inner(x):\n",
    "        print(\"Hello!\")\n",
    "        return func(x)\n",
    "    return inner\n",
    "\n",
    "@hello\n",
    "def square(x):\n",
    "        return x*x\n",
    "print(square(x))"
   ]
  },
  {
   "cell_type": "markdown",
   "metadata": {},
   "source": [
    "4\\. Write the factorial function so that it a) does and b) does not use recursion."
   ]
  },
  {
   "cell_type": "code",
   "execution_count": 32,
   "metadata": {},
   "outputs": [
    {
     "name": "stdout",
     "output_type": "stream",
     "text": [
      "Please enter a number: 7\n",
      "Factorial of  7 is  5040\n",
      "Please enter a number: -4\n",
      "Negative numbers can't be used for factorial operation.\n"
     ]
    }
   ],
   "source": [
    "# a)\n",
    "num1 = int(input(\"Please enter a number: \"))  \n",
    "def fact(n):  \n",
    "   if n == 1:  \n",
    "       return n  \n",
    "   else:  \n",
    "       return n*fact(n-1)  \n",
    "if num1 < 0:  \n",
    "   print(\"Negative numbers can't be used for factorial operation.\")  \n",
    "elif num1 == 0:  \n",
    "   print(\"Factorial of 0 is 1!\")  \n",
    "else:  \n",
    "   print(\"Factorial of \",num1,\"is \",fact(num1))  \n",
    "   \n",
    "# b)  \n",
    "num2 = int(input(\"Please enter a number: \"))\n",
    "x=1\n",
    "if num2<0:\n",
    "    print(\"Negative numbers can't be used for factorial operation.\")\n",
    "else:\n",
    "    for i in range(1,num2+1):\n",
    "        x=x*i\n",
    "    print(\"Result of tactorial of\", num2, \"is\", x)"
   ]
  },
  {
   "cell_type": "markdown",
   "metadata": {},
   "source": [
    "5\\. Use HOFs (zip in particular) to compute the weight of a circle, a disk and a sphere, assuming different radii and different densities:\n",
    "\n",
    "```python\n",
    "densities = {\"Al\":[0.5,1,2],\"Fe\":[3,4,5],\"Pb\": [15,20,30]}\n",
    "radii = [1,2,3]\n",
    "```\n",
    "\n",
    "where the entries of the dictionary's values are the linear, superficial and volumetric densities of the materials respectively.\n",
    "\n",
    "In particular define a list of three lambda functions using a comprehension that computes the circumference, the area and the volume for a given radius.\n"
   ]
  },
  {
   "cell_type": "code",
   "execution_count": null,
   "metadata": {},
   "outputs": [],
   "source": []
  },
  {
   "cell_type": "markdown",
   "metadata": {},
   "source": [
    "6\\. Edit the class defintion to add an instance attribute of is_hungry = True to the Dog class. Then add a method called eat() which changes the value of is_hungry to False when called. Figure out the best way to instantiate the dog objects and to feed the dogs, e.g. call the eat() method for all instances. Finally, print “My dogs are hungry.” or “My dogs are not hungry.” if all of them have is_hungry = True or False, respectively. The final output should look like this:\n",
    "\n",
    "\n",
    "\n",
    "`I have 3 dogs. \n",
    "Tom is 6. \n",
    "Fletcher is 7. \n",
    "Larry is 9. \n",
    "And they're all mammals, of course. \n",
    "My dogs are not hungry.\n",
    "`\n",
    "\n",
    "```python\n",
    "# Parent class\n",
    "class Dog:\n",
    "\n",
    "    # Class attribute\n",
    "    species = 'mammal'\n",
    "\n",
    "    # Initializer / Instance attributes\n",
    "    def __init__(self, name, age):\n",
    "        self.name = name\n",
    "        self.age = age\n",
    "\n",
    "    # instance method\n",
    "    def description(self):\n",
    "        return \"{} is {} years old\".format(self.name, self.age)\n",
    "\n",
    "    # instance method\n",
    "    def speak(self, sound):\n",
    "        return \"{} says {}\".format(self.name, sound)\n",
    "\n",
    "# Child class (inherits from Dog class)\n",
    "class RussellTerrier(Dog):\n",
    "    def run(self, speed):\n",
    "        return \"{} runs {}\".format(self.name, speed)\n",
    "\n",
    "# Child class (inherits from Dog class)\n",
    "class Bulldog(Dog):\n",
    "    def run(self, speed):\n",
    "        return \"{} runs {}\".format(self.name, speed)\n",
    "```"
   ]
  },
  {
   "cell_type": "markdown",
   "metadata": {},
   "source": [
    "1\\. Write a function that converts number representation (bin<->dec<->hex)"
   ]
  },
  {
   "cell_type": "code",
   "execution_count": 6,
   "metadata": {
    "scrolled": false
   },
   "outputs": [
    {
     "name": "stdout",
     "output_type": "stream",
     "text": [
      "Please enter a number that shows your preference\n",
      "1- Preference of Decimal Number\n",
      "2- Preference of Hexadecimal Number\n",
      "1- Preference of Binary number\n",
      "Your preference is: 1\n",
      "Please enter a decimal number:5\n",
      "0b101 In binary.\n",
      "0x5 In hexadecimal.\n"
     ]
    }
   ],
   "source": [
    "preference=int(input(\"Please enter a number that shows your preference\" \"\\n\" \n",
    "            \"1- Preference of Decimal Number\" \"\\n\"\n",
    "            \"2- Preference of Hexadecimal Number\" \"\\n\"\n",
    "            \"1- Preference of Binary number\" \n",
    "            \"\\n\"\"Your preference is: \"))\n",
    "            \n",
    "if preference==1:\n",
    "    dec=int(input(\"Please enter a decimal number:\"))\n",
    "    def dec_to_bin(dec):\n",
    "        print(bin(dec), \"In binary.\")\n",
    "    dec_to_bin(dec)\n",
    "\n",
    "    def dec_to_hex(dec):\n",
    "        print(hex(dec), \"In hexadecimal.\")\n",
    "    dec_to_hex(dec)\n",
    "\n",
    "if preference==2:\n",
    "\n",
    "    hex=input(\"Please enter a hexadecimal number\")\n",
    "    def hex_to_dec(hex):\n",
    "        print(int(hex,16) , \"In decimal\")\n",
    "    hex_to_dec(hex)\n",
    "\n",
    "    def hex_to_bin(hex):\n",
    "        lenght = len(hex) * 4\n",
    "        hex_as_int = int(hex, 16)\n",
    "        hex_as_binary = bin(hex_as_int)\n",
    "        binary = hex_as_binary[2:].zfill(lenght)\n",
    "        print(binary , \"In binary\")\n",
    "    hex_to_bin(hex)\n",
    "    \n",
    "if preference==3:\n",
    "    bin=input(\"Please Enter a binary number\")\n",
    "    def bin_to_dec(bin):\n",
    "        print(int(bin,2) , \"In decimal\")\n",
    "    bin_to_dec(bin)\n",
    "\n",
    "    def bin_to_hex(bin):\n",
    "        decimal = int(bin, 2)\n",
    "        hexa = hex(decimal)\n",
    "        print(hexa , \"In binary\")\n",
    "    bin_to_hex(bin)\n"
   ]
  },
  {
   "cell_type": "markdown",
   "metadata": {},
   "source": [
    "2\\. Write a function that converts a 32 bit word into a single precision floating point (i.e. interprets the various bits as sign, mantissa and exponent) and check its validity.\n"
   ]
  },
  {
   "cell_type": "code",
   "execution_count": 8,
   "metadata": {},
   "outputs": [
    {
     "ename": "SyntaxError",
     "evalue": "invalid syntax (<ipython-input-8-76e574c8ec90>, line 1)",
     "output_type": "error",
     "traceback": [
      "\u001b[1;36m  File \u001b[1;32m\"<ipython-input-8-76e574c8ec90>\"\u001b[1;36m, line \u001b[1;32m1\u001b[0m\n\u001b[1;33m    File \"<ipython-input-1-70dea9cdab6c>\", line 4\u001b[0m\n\u001b[1;37m         ^\u001b[0m\n\u001b[1;31mSyntaxError\u001b[0m\u001b[1;31m:\u001b[0m invalid syntax\n"
     ]
    }
   ],
   "source": []
  },
  {
   "cell_type": "markdown",
   "metadata": {},
   "source": [
    "3\\. Write a program to determine the underflow and overflow limits (within a factor of 2) for python on your computer. \n",
    "\n",
    "**Tips**: define two variables inizialized to 1 and halve/double them enough time to exceed the under/over-flow limits  "
   ]
  },
  {
   "cell_type": "code",
   "execution_count": 15,
   "metadata": {},
   "outputs": [
    {
     "name": "stdout",
     "output_type": "stream",
     "text": [
      "Number:  0 Undeflow:  0.5 Overflow:  2\n",
      "Number:  1 Undeflow:  0.25 Overflow:  4\n",
      "Number:  2 Undeflow:  0.125 Overflow:  8\n",
      "Number:  3 Undeflow:  0.0625 Overflow:  16\n",
      "Number:  4 Undeflow:  0.03125 Overflow:  32\n",
      "Number:  5 Undeflow:  0.015625 Overflow:  64\n",
      "Number:  6 Undeflow:  0.0078125 Overflow:  128\n",
      "Number:  7 Undeflow:  0.00390625 Overflow:  256\n",
      "Number:  8 Undeflow:  0.001953125 Overflow:  512\n",
      "Number:  9 Undeflow:  0.0009765625 Overflow:  1024\n"
     ]
    }
   ],
   "source": [
    "N=10\n",
    "Underflow=1\n",
    "Overflow=1\n",
    "Factor=2\n",
    "for n in range(N):\n",
    "    Underflow=Underflow/2\n",
    "    Overflow=Overflow*2\n",
    "    print(\"Number: \", n , \"Undeflow: \" , Underflow , \"Overflow: \",Overflow)"
   ]
  },
  {
   "cell_type": "markdown",
   "metadata": {},
   "source": [
    "4\\. Write a program to determine the machine precision\n",
    "\n",
    "**Tip**: define a new variable by adding an increasingly smaller value (in the same way as the previous problem) and check when the addition starts to have no effect on the number"
   ]
  },
  {
   "cell_type": "code",
   "execution_count": 32,
   "metadata": {},
   "outputs": [
    {
     "name": "stdout",
     "output_type": "stream",
     "text": [
      "2 . Level  is= 0.5\n",
      "3 . Level  is= 1.25\n",
      "4 . Level  is= 2.125\n",
      "5 . Level  is= 3.0625\n",
      "6 . Level  is= 4.03125\n",
      "7 . Level  is= 5.015625\n",
      "8 . Level  is= 6.0078125\n",
      "9 . Level  is= 7.00390625\n",
      "10 . Level  is= 8.001953125\n",
      "11 . Level  is= 9.0009765625\n"
     ]
    }
   ],
   "source": [
    "N=10\n",
    "Goal=10\n",
    "Number=1\n",
    "Add=1\n",
    "Factor=2\n",
    "i=1\n",
    "for Number in range(Goal):\n",
    "    Add=Add/Factor\n",
    "    Number=Number+Add\n",
    "    i+=1\n",
    "    print(i, \". Level  is=\" , Number)\n"
   ]
  },
  {
   "cell_type": "markdown",
   "metadata": {},
   "source": [
    "5\\. Write a function that takes in input three parameters $a$, $b$ and $c$ and prints out the two solutions to the quadratic equation $ax^2+bx+c=0$ using the standard formula:\n",
    "$$\n",
    "x=\\frac{-b\\pm\\sqrt{b^2-4ac}}{2a}\n",
    "$$\n",
    "\n",
    "(a) use the program to compute the solution for $a=0.001$, $b=1000$ and $c=0.001$\n",
    "\n",
    "(b) re-express the standard solution formula by multiplying the numerator and the denominator by $-b\\mp\\sqrt{b^2-4ac}$ and again find the solution for $a=0.001$, $b=1000$ and $c=0.001$. How does it compare with what has been previously obtained, and why?\n",
    "\n",
    "(c) write a function that computes the roots of a quadratic equation accurately in all cases"
   ]
  },
  {
   "cell_type": "code",
   "execution_count": 36,
   "metadata": {},
   "outputs": [
    {
     "name": "stdout",
     "output_type": "stream",
     "text": [
      "Values of x1= -999999.999999 and x2= -9.999894245993346e-07\n",
      "Values of x1= -999999.9999989999 and x2= -9.999894245993346e-07\n",
      "Values of x1= -999999.999999 and x2= -9.999894245993346e-07\n"
     ]
    }
   ],
   "source": [
    "#Solution for a)\n",
    "from math import sqrt\n",
    "\n",
    "a = 0.001\n",
    "b = 1000\n",
    "c = 0.001\n",
    "def equation1(a,b,c):\n",
    "\n",
    "    delta = ((b**2) - (4*a*c))\n",
    "    x1 = (-b- sqrt(delta))/(2*a)\n",
    "    x2 = (-b+ sqrt(delta))/(2*a)\n",
    "\n",
    "    print('Values of x1= {} and x2= {}'.format(x1,x2))\n",
    "\n",
    "\n",
    "equation1(a,b,c)\n",
    "\n",
    "#b)\n",
    "\n",
    "def equation2(a,b,c):\n",
    "  \n",
    "    delta = ((b**2) - (4*a*c))\n",
    "    mult =((-b- sqrt(delta))*(-b + sqrt(delta)))\n",
    "    x1 = ((-b- sqrt(delta))*mult)/((2*a)*mult)\n",
    "    x2 = ((-b+ sqrt(delta))*mult)/((2*a)*mult)\n",
    "\n",
    "    print('Values of x1= {} and x2= {}'.format(x1,x2))\n",
    "equation2(a,b,c)\n",
    "\n",
    "\n",
    "\n",
    "#c)\n",
    "def equation2(a,b,c):\n",
    "    r = ((b**2) - (4*a*c))\n",
    "\n",
    "    if r > 0:\n",
    "        num_roots = 2\n",
    "        x1 = (((-b) - sqrt(r))/(2*a))     \n",
    "        x2 = (((-b) + sqrt(r))/(2*a))\n",
    "        print('Values of x1= {} and x2= {}'.format(x1,x2))\n",
    "    elif r == 0:\n",
    "        num_roots = 1\n",
    "        x = (-b) / 2*a\n",
    "        print(\"x is only root in this equation: \", x)\n",
    "    else:\n",
    "        num_roots = 0\n",
    "        print(\"No roots in this equation.\")\n",
    "equation2(a,b,c)"
   ]
  },
  {
   "cell_type": "markdown",
   "metadata": {},
   "source": [
    "6\\. Write a program that implements the function $f(x)=x(x−1)$\n",
    "\n",
    "(a) Calculate the derivative of the function at the point $x = 1$ using the derivative definition:\n",
    "\n",
    "$$\n",
    "\\frac{{\\rm d}f}{{\\rm d}x} = \\lim_{\\delta\\to0} \\frac{f(x+\\delta)-f(x)}{\\delta}\n",
    "$$\n",
    "\n",
    "with $\\delta = 10^{−2}$. Calculate the true value of the same derivative analytically and compare with the answer your program gives. The two will not agree perfectly. Why not?\n",
    "\n",
    "(b) Repeat the calculation for $\\delta = 10^{−4}, 10^{−6}, 10^{−8}, 10^{−10}, 10^{−12}$ and $10^{−14}$. How does the accuracy scales with $\\delta$?"
   ]
  },
  {
   "cell_type": "code",
   "execution_count": 63,
   "metadata": {},
   "outputs": [
    {
     "name": "stdout",
     "output_type": "stream",
     "text": [
      "Derivative of f(1)= 1.010000000000001\n",
      "derivative of f(1)= 1.000000000000000\n",
      "for h= 0.0001 derivative of f(1)= 1.0000999999998899\n",
      "for h= 1e-06 derivative of f(1)= 1.0000009999177333\n",
      "for h= 1e-08 derivative of f(1)= 1.0000000039225287\n",
      "for h= 1e-10 derivative of f(1)= 1.000000082840371\n",
      "for h= 1e-12 derivative of f(1)= 1.0000889005833413\n",
      "for h= 1e-14 derivative of f(1)= 0.9992007221626509\n"
     ]
    }
   ],
   "source": [
    "#Solution for a with a)\n",
    "#By using derivative definition\n",
    "h=0.01\n",
    "def f(x):\n",
    "    value=x*(x-1)\n",
    "    return value\n",
    "def fprime(x):\n",
    "    new_value=(f(x+h)-f(x))/h\n",
    "    return new_value\n",
    "derivative=fprime(1)\n",
    "print(\"Derivative of f(1)=\",derivative)\n",
    "\n",
    "##By using sympy library\n",
    "import sympy\n",
    "x = sympy.Symbol('x')\n",
    "f = (x*(x-1))\n",
    "\n",
    "#print(\"Derivative of f(x)=\",sympy.diff(f,x))\n",
    "from scipy.misc import derivative\n",
    "def f(x):\n",
    "    return x*(x-1)\n",
    "print(\"derivative of f(1)=\",str.format('{0:.15f}', derivative(f,1)))\n",
    "\n",
    "## Comparision: Results are not exactly same.Since 𝛿  values are different codes, results are not completely same.\n",
    "\n",
    "\n",
    "\n",
    "#b)\n",
    "hlist=[10**-4, 10**-6, 10**-8, 10**-10, 10**-12, 10**-14]\n",
    "i=0\n",
    "for i in range(len(hlist)) :\n",
    "    def f(x):\n",
    "        value=x*(x-1)\n",
    "        return value\n",
    "    def fprime(x):\n",
    "        new_value=(f(x+hlist[i])-f(x))/hlist[i]\n",
    "        return new_value\n",
    "    derivative=fprime(1)\n",
    "    print(\"for h=\",hlist[i],\"derivative of f(1)=\", derivative )\n",
    "\n",
    "#Even if the value of 𝛿 gets smaller each time, the derivative result changes. \n",
    "# This shows how sensitive the derivative is and will be affected even at the most minimal values."
   ]
  },
  {
   "cell_type": "markdown",
   "metadata": {},
   "source": [
    "7\\. Consider the integral of the semicircle of radius 1:\n",
    "$$\n",
    "I=\\int_{-1}^{1} \\sqrt(1-x^2) {\\rm d}x\n",
    "$$\n",
    "which is known to be $I=\\frac{\\pi}{2}=1.57079632679...$.\n",
    "\n",
    "Alternatively we can use the Riemann definition of the integral:\n",
    "$$\n",
    "I=\\lim_{N\\to\\infty} \\sum_{k=1}^{N} h y_k \n",
    "$$\n",
    "\n",
    "with $h=2/N$ the width of each of the $N$ slices the domain is divided into and where\n",
    "$y_k$ is the value of the function at the $k-$th slice.\n",
    "\n",
    "(a) Write a program to compute the integral with $N=100$. How does the result compare to the true value?\n",
    "\n",
    "(b) How much can $N$ be increased if the computation needs to be run in less than a second? What is the gain in running it for 1 minute? \n"
   ]
  },
  {
   "cell_type": "code",
   "execution_count": 67,
   "metadata": {},
   "outputs": [
    {
     "name": "stdout",
     "output_type": "stream",
     "text": [
      "x*sqrt(1 - x**2)/2 + asin(x)/2\n",
      "The result of integration process is : 1.5707963267948986\n"
     ]
    }
   ],
   "source": [
    "import sympy as sp\n",
    "from sympy import *\n",
    "x=sp.Symbol('x')\n",
    "func=sp.sqrt(1-x*x)\n",
    "integrated_value=sp.integrate(func,x)\n",
    "print(integrated_value)\n",
    "\n",
    "from scipy.integrate import quad\n",
    "def f(x):\n",
    "    return sp.sqrt(1-x*x)\n",
    "    \n",
    "i=quad(f,-1,1)\n",
    "print(\"The result of integration process is :\",i[0])"
   ]
  },
  {
   "cell_type": "code",
   "execution_count": null,
   "metadata": {},
   "outputs": [],
   "source": []
  },
  {
   "cell_type": "code",
   "execution_count": null,
   "metadata": {},
   "outputs": [],
   "source": []
  }
 ],
 "metadata": {
  "kernelspec": {
   "display_name": "Python 3",
   "language": "python",
   "name": "python3"
  },
  "language_info": {
   "codemirror_mode": {
    "name": "ipython",
    "version": 3
   },
   "file_extension": ".py",
   "mimetype": "text/x-python",
   "name": "python",
   "nbconvert_exporter": "python",
   "pygments_lexer": "ipython3",
   "version": "3.8.8"
  }
 },
 "nbformat": 4,
 "nbformat_minor": 2
}
