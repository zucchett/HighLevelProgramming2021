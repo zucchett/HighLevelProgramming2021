{
 "cells": [
  {
   "cell_type": "markdown",
   "metadata": {},
   "source": [
    "1\\. **Hurricanes per Year**\n",
    "\n",
    "The number of hurricanes in 2005 was 15. The historic average is 6.3. Is this number signficantly different?\n",
    "- Assume the number of hurricanes is random, i.e. follows the Poisson distribution.\n",
    "- Assume as statistically significant a probability that has a Z score of 3 or larger with respect a normal distribution.\n",
    "\n",
    "**Hint**: compute the probability that in a single year are observed 15 or more hurricances."
   ]
  },
  {
   "cell_type": "code",
   "execution_count": null,
   "metadata": {},
   "outputs": [],
   "source": []
  },
  {
   "cell_type": "markdown",
   "metadata": {},
   "source": [
    "2\\. **Pairwise t-test**\n",
    "\n",
    "In an experiment, a group of 10 individuals agreed to participate in a study of blood pressure changes following exposure to halogen lighting. Resting systolic blood pressure was recorded for each individual. The participants were then exposed to 20 minutes in a room lit only by halogen lamps. A post-exposure systolic blood pressure reading was recorded for each individual. The results are presented in the following data set:\n",
    "\n",
    "```python\n",
    "pre = np.array([120, 132, 120, 110, 115, 128, 120, 112, 110, 100])\n",
    "post = np.array([140, 156, 145, 130, 117, 148, 137, 119, 127, 135])\n",
    "```\n",
    "\n",
    "Determine whether the change in blood pressures within our sample was statistically significant.\n",
    "\n",
    "**Hint:**\n",
    "in this case, the Student's $t$-test should be performed to compare the two datasets.\n",
    "Use the following test statistics:\n",
    "\n",
    "$$T = \\frac{\\bar{x}_1 - \\bar{x}_2}{\\sigma \\sqrt{\\frac{2}{n}}}$$\n",
    "\n",
    "and \n",
    "\n",
    "$$\\sigma = \\sqrt{\\frac{\\sigma_1^2 + \\sigma_2^2}{2}}$$"
   ]
  },
  {
   "cell_type": "code",
   "execution_count": null,
   "metadata": {},
   "outputs": [],
   "source": []
  },
  {
   "cell_type": "markdown",
   "metadata": {},
   "source": [
    "3\\. **FFT of a simple dataset**\n",
    "\n",
    "Perform a periodicity analysis on the lynxs-hares population, i.e. determine what is the period of the population of these animals."
   ]
  },
  {
   "cell_type": "code",
   "execution_count": null,
   "metadata": {},
   "outputs": [],
   "source": []
  },
  {
   "cell_type": "markdown",
   "metadata": {},
   "source": [
    "4\\. **FFT of an image**\n",
    "\n",
    "Write a filter that removes the periodic noise from the `moonlanding.png` image by using a 2-dimensional FFT.\n",
    "\n",
    "* Import the image as a 2D numpy array using `plt.imread(\"moonlanding.png\")`. Examine the image with `plt.imshow()`, which is heavily contaminated with periodic noise.\n",
    "* Check the documentation of the `scipy.fftpack` package, and find the method that performs a 2D FFT. Plot the spectrum (Fourier transform of) the image. **Hint**: use `LogNorm` to plot the colors in log scale:\n",
    "```Python\n",
    "from matplotlib.colors import LogNorm\n",
    "plt.imshow(image, norm=LogNorm(vmin=5))\n",
    "```\n",
    "* Inspect the spectrum, and try to locate the regions of the power spectrum that contain the signal and those which contain the periodic noise. Use array slicing to set the noise regions to zero.\n",
    "* Apply the inverse Fourier transform to plot the resulting image."
   ]
  },
  {
   "cell_type": "code",
   "execution_count": null,
   "metadata": {},
   "outputs": [],
   "source": []
  }
 ],
 "metadata": {
  "kernelspec": {
   "display_name": "Python 3",
   "language": "python",
   "name": "python3"
  },
  "language_info": {
   "codemirror_mode": {
    "name": "ipython",
    "version": 3
   },
   "file_extension": ".py",
   "mimetype": "text/x-python",
   "name": "python",
   "nbconvert_exporter": "python",
   "pygments_lexer": "ipython3",
   "version": "3.8.5"
  }
 },
 "nbformat": 4,
 "nbformat_minor": 2
}
