{
 "cells": [
  {
   "cell_type": "markdown",
   "metadata": {},
   "source": [
    "# Tracking muons with 4 Drift Tubes chambers setup\n",
    "\n",
    "### Description\n",
    "\n",
    "The project consist in the analysis of the data gathered by four drift-tubes detectors during a fixed-target beam test aimed at the production of muon pairs. This was achieved by directing 45 GeV positrons on a Beryllium target via the $e^+ + e^- \\to \\mu^+ + \\mu^-$ process. Most of the collisons result in the so-called \"background\" events (e.g. Bhabha scattering events, $e^+ + e^- \\to e^+ + e^-$), whereas only a small fraction produced a genuine muon pair (\"signal\" event). Right after the Berillium target, a dipole magnet deflects in different directions the trajectory of positively and the negatively charged particles. The muon drift-tube detectors are placed after the magnet, outside the magnetic field; two detectors each are placed along the direction of positive and negative particles.\n",
    "\n",
    "A signal event would consist of two straight tracks, each traversing two muon detectors.\n",
    "The following figure displays a signal event. It is possible to notice the positioning of the four drift-tubes detectors. Particles are moving essentially along the $z$ axis (the beam direction) after being bent along the $x$ axis by the dipole magnet occures. The $y$ coordinate is irrelevant in this context and it is not measured. \n",
    "![alt text](./Figure_1228.png)"
   ]
  },
  {
   "cell_type": "markdown",
   "metadata": {},
   "source": [
    "Calibration runs are taken with a beam of positive muons at a given energy aimed on the target. These runs produce a single track on either of the two sides of the experiment, as shown in the following picture. Which side of the apparatus is determined by the sign of the current powering the magnet.\n",
    "\n",
    "![alt text](./Figure_r261_19.png)"
   ]
  },
  {
   "cell_type": "markdown",
   "metadata": {},
   "source": [
    "Each detector consists of four layers of drift-tubes, i.e. cells with an anodic wire at the center and cathods at the sides filled up with a gas mixture of ${\\rm Ar-CO_2}$ ($85\\%-15\\%$). The passage of a charged particle through a cell would ionize the gas, with a consequent drift of electrons towards the anodic wire. Exploiting a linear relation (the drift velocity inside the cell is constant), by measuring the time of arrival of the primary ionization, it is possible to reconstruct the track's position within the cell. Note that there is a left-right ambiguity in the determination of the position (blue-red dots in the display).\n",
    "\n",
    "The following picture shows the hits left by the muons passing through one of the detectors (the straight lines represent fits to the recorded hits, we will come to that later). The anodic wires (not drawn) sit at the center of the cells.\n",
    "![alt text](./Figure_1228_zoom.png)"
   ]
  },
  {
   "cell_type": "markdown",
   "metadata": {},
   "source": [
    "As it can be seen, the layers are staggered by half a cell.\n",
    "\n",
    "The relevant dimensions and the overall coordinate transformations in $z$ and $x$ are given below. Note that all the quantities are expressed in $mm$. "
   ]
  },
  {
   "cell_type": "code",
   "execution_count": 5,
   "metadata": {},
   "outputs": [],
   "source": [
    "# Cell dimensions\n",
    "XCELL = 42.\n",
    "ZCELL = 13.\n",
    "\n",
    "# X coordinates translation\n",
    "global_x_shifts = [994.2, 947.4, -267.4, -261.5,]\n",
    "\n",
    "# Z coordinates translations\n",
    "local_z_shifts = [z * ZCELL for z  in range(0, 4)]\n",
    "global_z_shifts = [823.5, 0., 823.5, 0.]"
   ]
  },
  {
   "cell_type": "markdown",
   "metadata": {},
   "source": [
    "## Data\n",
    "\n",
    "The data is contained in a tarball (approx. 800 MB) that can be downloaded from this address:\n",
    "\n",
    "`https://zucchett.web.cern.ch/zucchett/HLP/Runs000260-000263.tar.gz`\n",
    "\n",
    "Unpack the tarball, and you will find four directories, each one relative to a calibration run.\n",
    "\n",
    "In the following table the relevant parameters for the calibration runs are listed\n",
    "\n",
    "| Run |  Energy (GeV)|  Magnet current (A)|\n",
    "|-----|:---:|:-----:|\n",
    "| 260 | 22 | -580 |\n",
    "| 261 | 18 | -850 |\n",
    "| 262 | 18 |  850 |\n",
    "| 263 | 22 |  580 |\n",
    "\n",
    "On the other hand, physics runs are much larger because of the background contamination. Their analysis is not part of the exercise.\n",
    "\n",
    "#### Data format\n",
    "\n",
    "The data files are organized as a series of events (rows) where each event consists of the coordinates of the hits recorded in that event. As the number of hits for a specific event is not fixed, the dataset cannot be seen as a unique big table with a defined number of \"columns\". More specifically every row consists of:\n",
    "\n",
    "* event number\n",
    "* number of recorded hits (N)\n",
    "* hit 1 coordinates\n",
    "* ...\n",
    "* hit N coordinates\n",
    "\n",
    "where N could be zero, and the hits coordinates are:\n",
    "\n",
    "* __chamber__: which of the four detector registered the hit (numbering is in the range $0-4$)\n",
    "* __layer__: the layer of the detector\n",
    "* __xleft__: the x position of the hit *in the local detector coordinates* assuming the track passed at the left of the wire\n",
    "* __xright__: the x position of the hit *in the local detector coordinates* assuming the track passed at the right of the wire\n",
    "* __time__: the drift time (redundant, once x_left and x_right are provided)\n",
    "\n",
    "The local detector coordinates are defined with respect to one side (the left one) of the detector. All the detectors however were placed rotated by 180 degrees, i.e. the x axes of the local and global coordinates have different orientation."
   ]
  },
  {
   "cell_type": "markdown",
   "metadata": {},
   "source": [
    "## Assignments\n",
    "\n",
    "The goal of the analysis is to select and study events with muon(s) passing through the detectors in calibration runs as most of those events consist of muon tracks.\n",
    "\n",
    "- Part 1\n",
    "    * Process the data and place the hits appropriately in the global $xz$ plane (i.e. transform local to global coordinates)\n",
    "    * Display (event-by-event) the four detectors, the hits and the cells where the hits are found\n",
    "- Part 2\n",
    "    * Select good (calibration) events by requiring hits either on the left arm (detectors 0 and 1) or on the right arm (detectors 2 and 3)\n",
    "    * Perform a local linear fit of the hits in each detector for the cases where at least 3 hits in 3 different layers are found\n",
    "    * Repeat the fit for each possible hit left/right combination. Exclude the combinations that physically do not make sense. Find an appropriate figure of merit to retain only the best fit and the corresponding left/right combination. Keep only the points the contribute to the best fit, and discard the others (thus solving the left/right ambiguity)\n",
    "- Part 3\n",
    "    * Perform a global linear fit by using the hits from the previous point with the 2 detectors in the $xz$ plane\n",
    "    * Add the result of the local and global fits to the event display (you should get what is shown in the pictures above, where the dashed lines correspond to the local fits and the solid line to the global one)"
   ]
  },
  {
   "cell_type": "code",
   "execution_count": null,
   "metadata": {},
   "outputs": [],
   "source": []
  }
 ],
 "metadata": {
  "kernelspec": {
   "display_name": "Python 3",
   "language": "python",
   "name": "python3"
  },
  "language_info": {
   "codemirror_mode": {
    "name": "ipython",
    "version": 3
   },
   "file_extension": ".py",
   "mimetype": "text/x-python",
   "name": "python",
   "nbconvert_exporter": "python",
   "pygments_lexer": "ipython3",
   "version": "3.8.5"
  }
 },
 "nbformat": 4,
 "nbformat_minor": 2
}
