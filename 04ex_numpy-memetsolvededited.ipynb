{
 "cells": [
  {
   "cell_type": "markdown",
   "metadata": {},
   "source": [
    "1\\. Find the total mean, and the mean for each row and column of the following matrix:\n",
    "\n",
    "```python\n",
    "m = np.arange(12).reshape((3,4))\n",
    "```"
   ]
  },
  {
   "cell_type": "code",
   "execution_count": 2,
   "metadata": {},
   "outputs": [
    {
     "name": "stdout",
     "output_type": "stream",
     "text": [
      "5.5\n",
      "[4. 5. 6. 7.]\n",
      "[1.5 5.5 9.5]\n"
     ]
    }
   ],
   "source": [
    "import statistics \n",
    "import numpy as np\n",
    "x = np.arange(12).reshape((3,4))\n",
    "\n",
    "meane = x.mean()\n",
    "column_means = x.mean(axis=0)\n",
    "row_means = x.mean(axis=1)\n",
    "##total mean\n",
    "print(meane)\n",
    "##clomn mean \n",
    "print(column_means)\n",
    "##row mean \n",
    "print(row_means)"
   ]
  },
  {
   "cell_type": "markdown",
   "metadata": {},
   "source": [
    "2\\. Find the outer product of the following vectors:\n",
    "\n",
    "```python\n",
    "u = np.array([1, 3, 5, 7])\n",
    "v = np.array([2, 4, 6, 8])\n",
    "```\n",
    "\n",
    "Use different methods to do this:\n",
    "\n",
    "   1. Using the function `outer` in numpy\n",
    "   2. Using a nested `for` loop or a list comprehension\n",
    "   3. Using numpy broadcasting operations"
   ]
  },
  {
   "cell_type": "code",
   "execution_count": 3,
   "metadata": {},
   "outputs": [
    {
     "name": "stdout",
     "output_type": "stream",
     "text": [
      "[[ 2  4  6  8]\n",
      " [ 6 12 18 24]\n",
      " [10 20 30 40]\n",
      " [14 28 42 56]] \n",
      "\n",
      "[[2.0, 4.0, 6.0, 8.0], [6.0, 12.0, 18.0, 24.0], [10.0, 20.0, 30.0, 40.0], [14.0, 28.0, 42.0, 56.0]]\n"
     ]
    }
   ],
   "source": [
    "# 1.Using the function outer in numpy\n",
    "import numpy as np\n",
    "\n",
    "u = np.array([1, 3, 5, 7])\n",
    "v = np.array([2, 4, 6, 8])\n",
    "\n",
    "output=np.outer (u,v)\n",
    "print(output,'\\n')\n",
    "\n",
    "#2.Using a nested for loop or a list comprehension\n",
    "new_list=[]\n",
    "for x in output:\n",
    "    sub_list=[]\n",
    "    for y in x:\n",
    "        sub_list.append(float(y))\n",
    "\n",
    "    new_list.append(sub_list)\n",
    "\n",
    "print(new_list)\n"
   ]
  },
  {
   "cell_type": "markdown",
   "metadata": {},
   "source": [
    "3\\. Create a 10 by 6 matrix of increasing float numbers, starting from zero and increasing in each step by 0.1, so the output matrix looks like the following:\n",
    "\n",
    "```python\n",
    "m = [[0. 0.1, 0.2 0.3 ... 0.9]\n",
    "     [1.0 1.1 1.2 1.3 ... 1.9]\n",
    "     ...\n",
    "     [5.0 5.1 5.2 5.3 ... 5.9]]\n",
    "```\n",
    "After creating the matrix, set all entries with a decimal part $< 0.4$ to zero."
   ]
  },
  {
   "cell_type": "code",
   "execution_count": 4,
   "metadata": {},
   "outputs": [
    {
     "name": "stdout",
     "output_type": "stream",
     "text": [
      "[[0.  0.1 0.2 0.3 0.4 0.5 0.6 0.7 0.8 0.9]\n",
      " [1.  1.1 1.2 1.3 1.4 1.5 1.6 1.7 1.8 1.9]\n",
      " [2.  2.1 2.2 2.3 2.4 2.5 2.6 2.7 2.8 2.9]\n",
      " [3.  3.1 3.2 3.3 3.4 3.5 3.6 3.7 3.8 3.9]\n",
      " [4.  4.1 4.2 4.3 4.4 4.5 4.6 4.7 4.8 4.9]\n",
      " [5.  5.1 5.2 5.3 5.4 5.5 5.6 5.7 5.8 5.9]]\n",
      "[[0. 0. 0. 0. 0. 0. 1. 1. 1. 1.]\n",
      " [1. 1. 1. 1. 1. 2. 2. 2. 2. 2.]\n",
      " [2. 2. 2. 2. 2. 2. 3. 3. 3. 3.]\n",
      " [3. 3. 3. 3. 3. 4. 4. 4. 4. 4.]\n",
      " [4. 4. 4. 4. 4. 4. 5. 5. 5. 5.]\n",
      " [5. 5. 5. 5. 5. 6. 6. 6. 6. 6.]]\n"
     ]
    }
   ],
   "source": [
    "#QUESTION 3\n",
    "import numpy as np\n",
    "m = np.arange(0,6, 0.1).reshape((6,10))\n",
    "print(m)\n",
    "m=np.around (m)\n",
    "#m=np.around (m, decimals=1)\n",
    "m[m<0.4]=0\n",
    "print(m)\n",
    "    "
   ]
  },
  {
   "cell_type": "markdown",
   "metadata": {},
   "source": [
    "4\\. Use `np.linspace` to create an array of 100 numbers between 0 and 2π (inclusive).\n",
    "\n",
    "  * Extract every 10th element using the slice notation\n",
    "  * Reverse the array using the slice notation\n",
    "  * Extract elements where the absolute difference between the sin and cos functions evaluated for that element is $< 0.1$\n",
    "  * **Optional**: make a plot showing the sin and cos functions and indicate where they are close"
   ]
  },
  {
   "cell_type": "code",
   "execution_count": 5,
   "metadata": {},
   "outputs": [
    {
     "name": "stdout",
     "output_type": "stream",
     "text": [
      "[0.         0.06346652 0.12693304 0.19039955 0.25386607 0.31733259\n",
      " 0.38079911 0.44426563 0.50773215 0.57119866 0.63466518 0.6981317\n",
      " 0.76159822 0.82506474 0.88853126 0.95199777 1.01546429 1.07893081\n",
      " 1.14239733 1.20586385 1.26933037 1.33279688 1.3962634  1.45972992\n",
      " 1.52319644 1.58666296 1.65012947 1.71359599 1.77706251 1.84052903\n",
      " 1.90399555 1.96746207 2.03092858 2.0943951  2.15786162 2.22132814\n",
      " 2.28479466 2.34826118 2.41172769 2.47519421 2.53866073 2.60212725\n",
      " 2.66559377 2.72906028 2.7925268  2.85599332 2.91945984 2.98292636\n",
      " 3.04639288 3.10985939 3.17332591 3.23679243 3.30025895 3.36372547\n",
      " 3.42719199 3.4906585  3.55412502 3.61759154 3.68105806 3.74452458\n",
      " 3.8079911  3.87145761 3.93492413 3.99839065 4.06185717 4.12532369\n",
      " 4.1887902  4.25225672 4.31572324 4.37918976 4.44265628 4.5061228\n",
      " 4.56958931 4.63305583 4.69652235 4.75998887 4.82345539 4.88692191\n",
      " 4.95038842 5.01385494 5.07732146 5.14078798 5.2042545  5.26772102\n",
      " 5.33118753 5.39465405 5.45812057 5.52158709 5.58505361 5.64852012\n",
      " 5.71198664 5.77545316 5.83891968 5.9023862  5.96585272 6.02931923\n",
      " 6.09278575 6.15625227 6.21971879 6.28318531]\n",
      "[0.         0.63466518 1.26933037 1.90399555 2.53866073 3.17332591\n",
      " 3.8079911  4.44265628 5.07732146 5.71198664]\n",
      "[6.28318531 6.21971879 6.15625227 6.09278575 6.02931923 5.96585272\n",
      " 5.9023862  5.83891968 5.77545316 5.71198664 5.64852012 5.58505361\n",
      " 5.52158709 5.45812057 5.39465405 5.33118753 5.26772102 5.2042545\n",
      " 5.14078798 5.07732146 5.01385494 4.95038842 4.88692191 4.82345539\n",
      " 4.75998887 4.69652235 4.63305583 4.56958931 4.5061228  4.44265628\n",
      " 4.37918976 4.31572324 4.25225672 4.1887902  4.12532369 4.06185717\n",
      " 3.99839065 3.93492413 3.87145761 3.8079911  3.74452458 3.68105806\n",
      " 3.61759154 3.55412502 3.4906585  3.42719199 3.36372547 3.30025895\n",
      " 3.23679243 3.17332591 3.10985939 3.04639288 2.98292636 2.91945984\n",
      " 2.85599332 2.7925268  2.72906028 2.66559377 2.60212725 2.53866073\n",
      " 2.47519421 2.41172769 2.34826118 2.28479466 2.22132814 2.15786162\n",
      " 2.0943951  2.03092858 1.96746207 1.90399555 1.84052903 1.77706251\n",
      " 1.71359599 1.65012947 1.58666296 1.52319644 1.45972992 1.3962634\n",
      " 1.33279688 1.26933037 1.20586385 1.14239733 1.07893081 1.01546429\n",
      " 0.95199777 0.88853126 0.82506474 0.76159822 0.6981317  0.63466518\n",
      " 0.57119866 0.50773215 0.44426563 0.38079911 0.31733259 0.25386607\n",
      " 0.19039955 0.12693304 0.06346652 0.        ]\n"
     ]
    },
    {
     "data": {
      "text/plain": [
       "<matplotlib.legend.Legend at 0x23719e4a280>"
      ]
     },
     "execution_count": 5,
     "metadata": {},
     "output_type": "execute_result"
    },
    {
     "data": {
      "image/png": "[encoded data removed]",
      "text/plain": [
       "<Figure size 432x288 with 1 Axes>"
      ]
     },
     "metadata": {
      "needs_background": "light"
     },
     "output_type": "display_data"
    }
   ],
   "source": [
    "#QUESTION 4\n",
    "import math\n",
    "import statistics \n",
    "import numpy as np\n",
    "import matplotlib.pyplot as plt\n",
    "math.pi\n",
    "\n",
    "m=np.linspace(0,2*math.pi,100).astype(float)\n",
    "print(m)\n",
    "every_tenth_element = m[::10]\n",
    "print(every_tenth_element)\n",
    "reverse_using_slice = m[::-1]\n",
    "print(reverse_using_slice)\n",
    "s = np.sin(m)\n",
    "c=np.cos(m)\n",
    "y=abs(s-c)\n",
    "y[y>0.1]=0\n",
    "plt.plot(m,s)\n",
    "plt.plot(m,c)\n",
    "plt.plot(m,y)\n",
    "plt.legend(['sin(m)','cos(m)','|sin(m)-cos(m)|<0.1'])"
   ]
  },
  {
   "cell_type": "markdown",
   "metadata": {},
   "source": [
    "5\\. Create a matrix that shows the 10 by 10 multiplication table.\n",
    "\n",
    " * Find the trace of the matrix\n",
    " * Extract the anti-diagonal matrix (this should be ```array([10, 18, 24, 28, 30, 30, 28, 24, 18, 10])```)\n",
    " * Extract the diagonal offset by 1 upwards (this should be ```array([ 2,  6, 12, 20, 30, 42, 56, 72, 90])```)"
   ]
  },
  {
   "cell_type": "code",
   "execution_count": 8,
   "metadata": {},
   "outputs": [
    {
     "name": "stdout",
     "output_type": "stream",
     "text": [
      "[[  1   2   3   4   5   6   7   8   9  10]\n",
      " [  2   4   6   8  10  12  14  16  18  20]\n",
      " [  3   6   9  12  15  18  21  24  27  30]\n",
      " [  4   8  12  16  20  24  28  32  36  40]\n",
      " [  5  10  15  20  25  30  35  40  45  50]\n",
      " [  6  12  18  24  30  36  42  48  54  60]\n",
      " [  7  14  21  28  35  42  49  56  63  70]\n",
      " [  8  16  24  32  40  48  56  64  72  80]\n",
      " [  9  18  27  36  45  54  63  72  81  90]\n",
      " [ 10  20  30  40  50  60  70  80  90 100]]\n",
      "trace of the 10x10 multiplication table matrix\n",
      "385\n",
      "antidiagonal of the matrix\n",
      "[10 18 24 28 30 30 28 24 18 10]\n",
      "the diagonal offset by 1 upwards \n",
      "[ 2  6 12 20 30 42 56 72 90]\n"
     ]
    }
   ],
   "source": [
    "import statistics \n",
    "import numpy as np\n",
    "def mult_table(n):\n",
    "    rng = np.arange(1, n+1)\n",
    "    return rng * rng[:, None]\n",
    "\n",
    "print(mult_table(10))\n",
    "mx =mult_table(10)\n",
    "mx.trace()\n",
    "print(\"trace of the 10x10 multiplication table matrix\")\n",
    "print(mx.trace())\n",
    "print(\"antidiagonal of the matrix\")\n",
    "print(np.fliplr(mx).diagonal())\n",
    "upward=[]\n",
    "\n",
    "for i in range(len(mx)):\n",
    "    for r in range(len(mx[0])):\n",
    "        if i+1==r:\n",
    "            upward.append(mx[i][r])\n",
    "upward=np.array(upward)\n",
    "print(\"the diagonal offset by 1 upwards \")\n",
    "print(upward)"
   ]
  },
  {
   "cell_type": "markdown",
   "metadata": {},
   "source": [
    "6\\. Use broadcasting to create a grid of distances.\n",
    "\n",
    "Route 66 crosses the following cities in the US: Chicago, Springfield, Saint-Louis, Tulsa, Oklahoma City, Amarillo, Santa Fe, Albuquerque, Flagstaff, Los Angeles\n",
    "The corresponding positions in miles are: 0, 198, 303, 736, 871, 1175, 1475, 1544, 1913, 2448\n",
    "\n",
    "  * Build a 2D grid of distances among each city along Route 66\n",
    "  * Convert the distances in km"
   ]
  },
  {
   "cell_type": "code",
   "execution_count": 10,
   "metadata": {},
   "outputs": [
    {
     "name": "stdout",
     "output_type": "stream",
     "text": [
      " ['Ch' 'Sp' 'SL' 'Tu' 'Ok' 'A' 'SFe' 'Al' 'Fl' 'LA']\n",
      "Ch ['0' '198' '303' '736' '871' '1175' '1475' '1544' '1913' '2448']\n",
      "Sp ['198' '0' '105' '538' '673' '977' '1277' '1346' '1715' '2250']\n",
      "SL ['303' '105' '0' '433' '568' '872' '1172' '1241' '1610' '2145']\n",
      "Tu ['736' '538' '433' '0' '135' '439' '739' '808' '1177' '1712']\n",
      "Ok ['871' '673' '568' '135' '0' '304' '604' '673' '1042' '1577']\n",
      "A ['1175' '977' '872' '439' '304' '0' '300' '369' '738' '1273']\n",
      "SFe ['1475' '1277' '1172' '739' '604' '300' '0' '69' '438' '973']\n",
      "Al ['1544' '1346' '1241' '808' '673' '369' '69' '0' '369' '904']\n",
      "Fl ['1913' '1715' '1610' '1177' '1042' '738' '438' '369' '0' '535']\n",
      "LA ['2448' '2250' '2145' '1712' '1577' '1273' '973' '904' '535' '0']\n",
      "converted to km\n",
      "[[   0.  319.  488. 1184. 1402. 1891. 2374. 2485. 3079. 3940.]\n",
      " [ 319.    0.  169.  866. 1083. 1572. 2055. 2166. 2760. 3621.]\n",
      " [ 488.  169.    0.  697.  914. 1403. 1886. 1997. 2591. 3452.]\n",
      " [1184.  866.  697.    0.  217.  707. 1189. 1300. 1894. 2755.]\n",
      " [1402. 1083.  914.  217.    0.  489.  972. 1083. 1677. 2538.]\n",
      " [1891. 1572. 1403.  707.  489.    0.  483.  594. 1188. 2049.]\n",
      " [2374. 2055. 1886. 1189.  972.  483.    0.  111.  705. 1566.]\n",
      " [2485. 2166. 1997. 1300. 1083.  594.  111.    0.  594. 1455.]\n",
      " [3079. 2760. 2591. 1894. 1677. 1188.  705.  594.    0.  861.]\n",
      " [3940. 3621. 3452. 2755. 2538. 2049. 1566. 1455.  861.    0.]]\n"
     ]
    }
   ],
   "source": [
    "import numpy as np\n",
    "city=np.array([\"\",\"Chicago\", \"Springfield\", \"Saint-Louis\", \"Tulsa\",\n",
    "         \"OklahomaCity\", \"Amarillo\", \"Santa-Fe\", \"Albuquerque\", \n",
    "         \"Flagstaff\", \"Los-Angeles\"])\n",
    "miles=np.array([0, 198, 303, 736, 871, 1175, 1475, 1544, 1913, 2448])\n",
    "mmiles=np.abs(miles-miles[:,np.newaxis])\n",
    "citys=np.array([\"Ch\",\"Sp\",\"SL\",\"Tu\",\n",
    "         \"Ok\", \"A\", \"SFe\", \"Al\", \n",
    "         \"Fl\", \"LA\"])\n",
    "ctysd=np.array([\"\",\"Ch\",\"Sp\",\"SL\",\"Tu\",\n",
    "         \"Ok\", \"A\", \"SFe\", \"Al\", \n",
    "         \"Fl\", \"LA\"])\n",
    "around=np.vstack([citys,mmiles])\n",
    "for x,y in zip(ctysd,around):\n",
    "    print(x,y)\n",
    "converted_km=np.round(mmiles*1.609344)\n",
    "print(\"converted to km\")\n",
    "print(converted_km)"
   ]
  },
  {
   "cell_type": "markdown",
   "metadata": {},
   "source": [
    "7\\. Prime numbers sieve: compute the prime numbers in the 0-N (start with N=99) range with a sieve (mask).\n",
    "  * Check the performances (timeit); how does it scale with N?\n",
    "  * Implement the optimization suggested in the [sieve of Eratosthenes](https://en.wikipedia.org/wiki/Sieve_of_Eratosthenes)"
   ]
  },
  {
   "cell_type": "code",
   "execution_count": 1,
   "metadata": {},
   "outputs": [
    {
     "name": "stdout",
     "output_type": "stream",
     "text": [
      "original array\n",
      "[ 2  3  4  5  6  7  8  9 10 11 12 13 14 15 16 17 18 19 20 21 22 23 24 25\n",
      " 26 27 28 29 30 31 32 33 34 35 36 37 38 39 40 41 42 43 44 45 46 47 48 49\n",
      " 50 51 52 53 54 55 56 57 58 59 60 61 62 63 64 65 66 67 68 69 70 71 72 73\n",
      " 74 75 76 77 78 79 80 81 82 83 84 85 86 87 88 89 90 91 92 93 94 95 96 97\n",
      " 98 99]\n",
      "primenumbers\n",
      "[ 2  3  5  7 11 13 17 19 23 29 31 37 41 43 47 53 59 61 67 71 73 79 83 89\n",
      " 97]\n"
     ]
    }
   ],
   "source": [
    "import timeit\n",
    "import numpy as np\n",
    "\n",
    "rangeof=np.arange(2,100)\n",
    "print(\"original array\")\n",
    "print(rangeof)\n",
    "for i in range(98):\n",
    "    if(rangeof[i]!=False):\n",
    "        for p in range(i+1,98):\n",
    "            if(rangeof[p]%rangeof[i]==0):\n",
    "                rangeof[p]=False\n",
    "mask=(rangeof!=0)\n",
    "filteredversion=rangeof[mask]\n",
    "\n",
    "\n",
    "\n",
    "\n",
    "print(\"primenumbers\")\n",
    "print(filteredversion)\n",
    "\n",
    "\n",
    "\n",
    "##create a function and put it in a timeit\n"
   ]
  },
  {
   "cell_type": "code",
   "execution_count": null,
   "metadata": {},
   "outputs": [],
   "source": []
  }
 ],
 "metadata": {
  "kernelspec": {
   "display_name": "Python 3",
   "language": "python",
   "name": "python3"
  },
  "language_info": {
   "codemirror_mode": {
    "name": "ipython",
    "version": 3
   },
   "file_extension": ".py",
   "mimetype": "text/x-python",
   "name": "python",
   "nbconvert_exporter": "python",
   "pygments_lexer": "ipython3",
   "version": "3.8.8"
  }
 },
 "nbformat": 4,
 "nbformat_minor": 2
}
