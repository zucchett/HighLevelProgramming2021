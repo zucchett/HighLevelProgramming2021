{
  "nbformat": 4,
  "nbformat_minor": 0,
  "metadata": {
    "kernelspec": {
      "display_name": "Python 3",
      "language": "python",
      "name": "python3"
    },
    "language_info": {
      "codemirror_mode": {
        "name": "ipython",
        "version": 3
      },
      "file_extension": ".py",
      "mimetype": "text/x-python",
      "name": "python",
      "nbconvert_exporter": "python",
      "pygments_lexer": "ipython3",
      "version": "3.8.5"
    },
    "colab": {
      "name": "01ex_introduction.ipynb.txt",
      "provenance": []
    }
  },
  "cells": [
    {
      "cell_type": "markdown",
      "metadata": {
        "id": "jfDaYdEjgDyp"
      },
      "source": [
        "1. The HelloWorld replacement\n",
        "\n",
        "a) Write a program that prints the numbers from 1 to 100. But for multiples of three print \"Hello\" instead of the number and for the multiples of five print \"World\". For numbers which are multiples of both three and five print \"HelloWorld\".\n",
        "\n",
        "b) Put the result in a tuple and substitute \"Hello\" with \"Python\" and \"World\" with \"Works\"."
      ]
    },
    {
      "cell_type": "code",
      "metadata": {
        "id": "Kol10CgXgGm2"
      },
      "source": [
        "# a)\n",
        "for i in range(1, 100):\n",
        "  if i % 5 == 0 and i % 3 == 0:\n",
        "    print(\"HelloWorld\")\n",
        "  elif i % 3 == 0:\n",
        "    print(\"Hello\")\n",
        "  elif i % 5 == 0:\n",
        "    print(\"World\")"
      ],
      "execution_count": null,
      "outputs": []
    },
    {
      "cell_type": "code",
      "metadata": {
        "id": "uuhjDIh5g8Xw"
      },
      "source": [
        "# b)\n",
        "results=[]\n",
        "for i in range(1, 100):\n",
        "  if i % 5 == 0 and i % 3 == 0:\n",
        "    results.append(\"PythonWorks\")\n",
        "  elif i % 3 == 0:\n",
        "    results.append(\"Python\")\n",
        "  elif i % 5 == 0:\n",
        "    results.append(\"Works\")\n",
        "results=tuple(results)"
      ],
      "execution_count": 4,
      "outputs": []
    },
    {
      "cell_type": "markdown",
      "metadata": {
        "id": "6rYznJrTgDyy"
      },
      "source": [
        "2\\. The swap function\n",
        "\n",
        "Write a function that swap the values of two input variables x and y (whatever the type). Try to do that also without a temporary variable"
      ]
    },
    {
      "cell_type": "code",
      "metadata": {
        "id": "cdEKy3O4hq3c"
      },
      "source": [
        "def swapwithtmp(a,b):\n",
        "  temp=a\n",
        "  a=b\n",
        "  b=a\n",
        "  return a,b\n",
        "def swap(a,b):\n",
        "  a,b=b,a\n",
        "  return a,b"
      ],
      "execution_count": null,
      "outputs": []
    },
    {
      "cell_type": "markdown",
      "metadata": {
        "id": "hVWS6doOgDyz"
      },
      "source": [
        "3\\. Computing the distance\n",
        "\n",
        "Write a function that calculates and returns the euclidean distance between two points *u* and *v*, where *u* and *v* are both 2-tuples *(x,y)*. For example, if *u=(3,0)* and *v=(0,4)*, the function should return 5"
      ]
    },
    {
      "cell_type": "code",
      "metadata": {
        "colab": {
          "base_uri": "https://localhost:8080/"
        },
        "id": "FPrbUJMFh_sO",
        "outputId": "2c4f648f-75aa-4b94-8c31-9f3d388ebb6d"
      },
      "source": [
        "from math import sqrt\n",
        "def distance(u, v):\n",
        "  return sqrt((v[0] - u[0]) ** 2 + (v[1] - u[1]) ** 2)\n",
        "print(distance((3, 0), (0, 4)))"
      ],
      "execution_count": 5,
      "outputs": [
        {
          "output_type": "stream",
          "name": "stdout",
          "text": [
            "5.0\n"
          ]
        }
      ]
    },
    {
      "cell_type": "markdown",
      "metadata": {
        "id": "-s0GknqdgDy0"
      },
      "source": [
        "4\\. Counting letters\n",
        "\n",
        "Write a program to calculate the number of times each character occurs in a given string *s*. Ignore differences in capitalization"
      ]
    },
    {
      "cell_type": "code",
      "metadata": {
        "id": "grm5XLTigDy0"
      },
      "source": [
        "s = \"Write a program that prints the numbers from 1 to 100. \\\n",
        "But for multiples of three print Hello instead of the number and for the multiples of five print World. \\\n",
        "For numbers which are multiples of both three and five print HelloWorld.\""
      ],
      "execution_count": 6,
      "outputs": []
    },
    {
      "cell_type": "code",
      "metadata": {
        "colab": {
          "base_uri": "https://localhost:8080/"
        },
        "id": "Gx8uxJGUiapE",
        "outputId": "d43540f4-66bf-4ba9-84ad-c4b9ab7e289a"
      },
      "source": [
        "counts={}\n",
        "for c in s.lower():\n",
        "  if c == \" \":\n",
        "    continue\n",
        "  if c in counts:\n",
        "    continue\n",
        "  count = s.lower().count(c)\n",
        "  counts[c] = count\n",
        "print(counts)"
      ],
      "execution_count": 8,
      "outputs": [
        {
          "output_type": "stream",
          "name": "stdout",
          "text": [
            "{'w': 4, 'r': 19, 'i': 12, 't': 19, 'e': 20, 'a': 7, 'p': 8, 'o': 15, 'g': 1, 'm': 8, 'h': 11, 'n': 10, 's': 7, 'u': 7, 'b': 5, 'f': 10, '1': 2, '0': 2, '.': 3, 'l': 12, 'd': 5, 'v': 2, 'c': 1}\n"
          ]
        }
      ]
    },
    {
      "cell_type": "markdown",
      "metadata": {
        "id": "xJycpllRgDy2"
      },
      "source": [
        "5\\. Isolating the unique\n",
        "\n",
        "Write a function that determines and count the unique numbers in the list:"
      ]
    },
    {
      "cell_type": "code",
      "metadata": {
        "id": "UsVYBhYvgDy3"
      },
      "source": [
        "l = [36, 45, 58, 3, 74, 96, 64, 45, 31, 10, 24, 19, 33, 86, 99, 18, 63, 70, 85,\n",
        " 85, 63, 47, 56, 42, 70, 84, 88, 55, 20, 54, 8, 56, 51, 79, 81, 57, 37, 91,\n",
        " 1, 84, 84, 36, 66, 9, 89, 50, 42, 91, 50, 95, 90, 98, 39, 16, 82, 31, 92, 41,\n",
        " 45, 30, 66, 70, 34, 85, 94, 5, 3, 36, 72, 91, 84, 34, 87, 75, 53, 51, 20, 89, 51, 20]"
      ],
      "execution_count": 9,
      "outputs": []
    },
    {
      "cell_type": "code",
      "metadata": {
        "colab": {
          "base_uri": "https://localhost:8080/"
        },
        "id": "BjZXVf4TjTO1",
        "outputId": "182a74ee-6184-4b1f-9ed3-6f6d82cee558"
      },
      "source": [
        "counts = {}\n",
        "for i in set(l):\n",
        "  counts[i] = l.count(i)\n",
        "print(counts)"
      ],
      "execution_count": 10,
      "outputs": [
        {
          "output_type": "stream",
          "name": "stdout",
          "text": [
            "{1: 1, 3: 2, 5: 1, 8: 1, 9: 1, 10: 1, 16: 1, 18: 1, 19: 1, 20: 3, 24: 1, 30: 1, 31: 2, 33: 1, 34: 2, 36: 3, 37: 1, 39: 1, 41: 1, 42: 2, 45: 3, 47: 1, 50: 2, 51: 3, 53: 1, 54: 1, 55: 1, 56: 2, 57: 1, 58: 1, 63: 2, 64: 1, 66: 2, 70: 3, 72: 1, 74: 1, 75: 1, 79: 1, 81: 1, 82: 1, 84: 4, 85: 3, 86: 1, 87: 1, 88: 1, 89: 2, 90: 1, 91: 3, 92: 1, 94: 1, 95: 1, 96: 1, 98: 1, 99: 1}\n"
          ]
        }
      ]
    },
    {
      "cell_type": "markdown",
      "metadata": {
        "id": "hCJOdLf_gDy4"
      },
      "source": [
        "Do the same without using user-defined functions, but exploiting only the Python data structures."
      ]
    },
    {
      "cell_type": "markdown",
      "metadata": {
        "id": "yt4cBlihgDy5"
      },
      "source": [
        "6\\. Combination of functions\n",
        "\n",
        "Write two functions - one that returns the square of a number, and one that returns the cube. Now write a third function that returns the number raised to the 6th power using the two previous functions."
      ]
    },
    {
      "cell_type": "code",
      "metadata": {
        "id": "_iZSe5oqkEk1"
      },
      "source": [
        "def square(x):\n",
        "  return x**2\n",
        "def cube(x):\n",
        "  return x**3\n",
        "def pow6(x):\n",
        "  return square(cube(x))"
      ],
      "execution_count": 11,
      "outputs": []
    },
    {
      "cell_type": "markdown",
      "metadata": {
        "id": "E1UnxKrkgDy7"
      },
      "source": [
        "7\\. Cubes\n",
        "\n",
        "Create a list of the cubes of x for x in *[0, 10]* using:\n",
        "\n",
        "a) a for loop\n",
        "\n",
        "b) a list comprehension"
      ]
    },
    {
      "cell_type": "code",
      "metadata": {
        "colab": {
          "base_uri": "https://localhost:8080/"
        },
        "id": "fobyzDA8kSQf",
        "outputId": "b628efe7-c238-4625-d618-72accf20f9e5"
      },
      "source": [
        "#a\n",
        "l = []\n",
        "for x in range(0, 11):\n",
        "  l.append(cube(x))\n",
        "print(l)"
      ],
      "execution_count": 13,
      "outputs": [
        {
          "output_type": "stream",
          "name": "stdout",
          "text": [
            "[0, 1, 8, 27, 64, 125, 216, 343, 512, 729, 1000]\n"
          ]
        }
      ]
    },
    {
      "cell_type": "code",
      "metadata": {
        "colab": {
          "base_uri": "https://localhost:8080/"
        },
        "id": "ta773hu_khZC",
        "outputId": "3081f021-dc73-476a-81e8-21bf37dd5ac6"
      },
      "source": [
        "#b\n",
        "l = [cube(x) for x in range(0, 11)]\n",
        "print(l)"
      ],
      "execution_count": 16,
      "outputs": [
        {
          "output_type": "stream",
          "name": "stdout",
          "text": [
            "[0, 1, 8, 27, 64, 125, 216, 343, 512, 729, 1000]\n"
          ]
        }
      ]
    },
    {
      "cell_type": "markdown",
      "metadata": {
        "id": "DirhGbsWgDy8"
      },
      "source": [
        "8\\. Nested list comprehension\n",
        "\n",
        "A Pythagorean triple is an integer solution to the Pythagorean theorem $a^2+b^2=c^2$. The first Pythagorean triple is (3,4,5). Find and put in a tuple all unique Pythagorean triples for the positive integers a, b and c less than 100."
      ]
    },
    {
      "cell_type": "code",
      "metadata": {
        "id": "VPrSSSX8k0WW"
      },
      "source": [
        "L = [(i,j,int(sqrt(square(i)+square(j)))) for j in range(0,100) for i in range(0, 100) if square(i)+square(j) < 100 and int(sqrt(square(i)+square(j))) == sqrt(square(i)+square(j)) ]"
      ],
      "execution_count": 28,
      "outputs": []
    },
    {
      "cell_type": "code",
      "metadata": {
        "colab": {
          "base_uri": "https://localhost:8080/"
        },
        "id": "2lol_99VlrbD",
        "outputId": "164826b1-c77a-4e39-acd0-a8ea00724fed"
      },
      "source": [
        "print(L)"
      ],
      "execution_count": 29,
      "outputs": [
        {
          "output_type": "stream",
          "name": "stdout",
          "text": [
            "[(0, 0, 0), (1, 0, 1), (2, 0, 2), (3, 0, 3), (4, 0, 4), (5, 0, 5), (6, 0, 6), (7, 0, 7), (8, 0, 8), (9, 0, 9), (0, 1, 1), (0, 2, 2), (0, 3, 3), (4, 3, 5), (0, 4, 4), (3, 4, 5), (0, 5, 5), (0, 6, 6), (0, 7, 7), (0, 8, 8), (0, 9, 9)]\n"
          ]
        }
      ]
    },
    {
      "cell_type": "markdown",
      "metadata": {
        "id": "HV-8550YgDy8"
      },
      "source": [
        "9\\. Normalization\n",
        "\n",
        "Write a function that takes a tuple of numbers and returns it with the entries normalized to one"
      ]
    },
    {
      "cell_type": "code",
      "metadata": {
        "id": "OlDhdazDgDy9"
      },
      "source": [
        "def nomalize(t):\n",
        "  m = max(t)\n",
        "  return tuple([float(c)/m for c in t])"
      ],
      "execution_count": 30,
      "outputs": []
    }
  ]
}