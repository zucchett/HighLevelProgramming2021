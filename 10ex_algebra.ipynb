{
 "cells": [
  {
   "cell_type": "code",
   "execution_count": 1,
   "metadata": {},
   "outputs": [],
   "source": [
    "import numpy as np\n",
    "import pandas as pd\n",
    "from matplotlib import pyplot as plt\n",
    "from scipy import linalg as la"
   ]
  },
  {
   "cell_type": "markdown",
   "metadata": {},
   "source": [
    "1\\. PCA on 3D dataset\n",
    "\n",
    "* Generate a dataset simulating 3 features, each with N entries (N being ${\\cal O}(1000)$). Each feature is made by random numbers generated according the normal distribution $N(\\mu,\\sigma)$ with mean $\\mu_i$ and standard deviation $\\sigma_i$, with $i=1, 2, 3$. Generate the 3 variables $x_{i}$ such that:\n",
    "    * $x_1$ is distributed as $N(0,1)$\n",
    "    * $x_2$ is distributed as $x_1+N(0,3)$\n",
    "    * $x_3$ is given by $2x_1+x_2$\n",
    "* Find the eigenvectors and eigenvalues using the eigendecomposition of the covariance matrix\n",
    "* Find the eigenvectors and eigenvalues using the SVD. Check that the two procedures yield to same result\n",
    "* What percent of the total dataset's variability is explained by the principal components? Given how the dataset was constructed, do these make sense? Reduce the dimensionality of the system so that at least 99% of the total variability is retained\n",
    "* Redefine the data according to the new basis from the PCA\n",
    "* Plot the data, in both the original and the new basis. The figure should have 2 rows (the original and the new basis) and 3 columns (the $[x_0, x_1]$, $[x_0, x_2]$ and $[x_1, x_2]$ projections) of scatter plots."
   ]
  },
  {
   "cell_type": "code",
   "execution_count": 4,
   "metadata": {},
   "outputs": [
    {
     "name": "stdout",
     "output_type": "stream",
     "text": [
      "Matrix: \n",
      " [[-0.70343844 -0.48478703 -2.29897828 ... -0.43342723  0.02583312\n",
      "  -1.12957635]\n",
      " [-2.07402205  2.98357577 -1.055886   ... -5.93289791  0.90231809\n",
      "   1.34934848]\n",
      " [-3.48089893  2.01400172 -5.65384257 ... -6.79975236  0.95398432\n",
      "  -0.90980422]] \n",
      "\n"
     ]
    }
   ],
   "source": [
    "N = 1000\n",
    "s = 3 #number of generated sequences\n",
    "\n",
    "#first variable distribution\n",
    "mu1 = 0\n",
    "sigma1 = 1\n",
    "x1 = np.random.normal(mu1, sigma1, N)\n",
    "\n",
    "#second variable distribution\n",
    "mu2 = 0\n",
    "sigma2 = 3\n",
    "x2 = x1 + np.random.normal(mu2, sigma2, N)\n",
    "\n",
    "#third variable distribution\n",
    "x3 = 2*x1 + x2\n",
    "\n",
    "#insert in a unique matrix\n",
    "X = np.array([x1, x2, x3])\n",
    "print(\"Matrix: \\n\", X, \"\\n\")\n"
   ]
  },
  {
   "cell_type": "code",
   "execution_count": 5,
   "metadata": {},
   "outputs": [
    {
     "name": "stdout",
     "output_type": "stream",
     "text": [
      "Covariance matrix: \n",
      " [[ 0.96942859  1.01053958  2.94939676]\n",
      " [ 1.01053958 10.28793064 12.30900979]\n",
      " [ 2.94939676 12.30900979 18.20780331]] \n",
      "\n",
      "Eigenvalues via eigendecomposition:\n",
      " [ 2.75128633e+01 -8.87947568e-16  1.95229928e+00]\n",
      "\n",
      "Eigenvalues via SVD:\n",
      " [2.76091173e+01 1.95587142e+00 3.54791532e-30]\n",
      "\n",
      "Eigenvectors via eigendecomposition:\n",
      " [[-0.11165548 -0.81649658  0.56645069]\n",
      " [-0.5821021  -0.40824829 -0.70320017]\n",
      " [-0.80541306  0.40824829  0.42970122]]\n",
      "\n",
      "Eigenvectors via SVD:\n",
      " [[-0.11142235  0.5664966  -0.81649658]\n",
      " [-0.58239146 -0.70296054 -0.40824829]\n",
      " [-0.80523615  0.43003265  0.40824829]]\n"
     ]
    }
   ],
   "source": [
    "#EIGENVALUES AND EIGENVECTORS\n",
    "\n",
    "#Eigendecomposition of the covariance matrix:\n",
    "cov = np.cov(X, bias=True)\n",
    "print(\"Covariance matrix: \\n\", cov, \"\\n\")\n",
    "l, V = la.eig(cov)\n",
    "l = np.real_if_close(l)\n",
    "\n",
    "#Singular Value Decomposition (SVD):\n",
    "U, S, Vt = np.linalg.svd(X)\n",
    "l_svd = S**2/(N-1)\n",
    "V_svd = U\n",
    "\n",
    "print(\"Eigenvalues via eigendecomposition:\\n\", l)\n",
    "print(\"\\nEigenvalues via SVD:\\n\", l_svd)\n",
    "\n",
    "print(\"\\nEigenvectors via eigendecomposition:\\n\", V)\n",
    "print(\"\\nEigenvectors via SVD:\\n\", V_svd)"
   ]
  },
  {
   "cell_type": "code",
   "execution_count": 6,
   "metadata": {},
   "outputs": [
    {
     "name": "stdout",
     "output_type": "stream",
     "text": [
      "Lambda:\n",
      " [[ 2.75128633e+01  0.00000000e+00  0.00000000e+00]\n",
      " [ 0.00000000e+00 -8.87947568e-16  0.00000000e+00]\n",
      " [ 0.00000000e+00  0.00000000e+00  1.95229928e+00]]\n",
      "Trace(Lambda):\n",
      " 29.465162537921948 \n",
      "\n",
      "Selecting the 0 component, we retain 93.37% of the total variability.\n",
      "\n",
      "Given how the dataset is constructed, this makes sense since the bigger the dimension is and the less our variables can represent the samples. We need to reduce the dimensionality of the system.\n"
     ]
    }
   ],
   "source": [
    "#DATASET VARIABILITY\n",
    "Lambda = np.diag(l)  #diagonal matrix of the eigenvalues \n",
    "trace_lambda = Lambda.trace()\n",
    "print(\"Lambda:\\n\", Lambda)\n",
    "print(\"Trace(Lambda):\\n\", trace_lambda, '\\n')\n",
    "\n",
    "percent = (Lambda[0,0]/trace_lambda)*100\n",
    "print(\"Selecting the 0 component, we retain %.2f%% of the total variability.\" % percent)\n",
    "\n",
    "print(\"\\nGiven how the dataset is constructed, this makes sense since the bigger the dimension is and the less \\\n",
    "our variables can represent the samples. We need to reduce the dimensionality of the system.\")"
   ]
  },
  {
   "cell_type": "code",
   "execution_count": 7,
   "metadata": {},
   "outputs": [
    {
     "name": "stdout",
     "output_type": "stream",
     "text": [
      "The new diagonal Lambda matrix after reduction is:\n",
      " [[2.52638040e+02 0.00000000e+00 0.00000000e+00]\n",
      " [0.00000000e+00 9.51665614e-01 0.00000000e+00]\n",
      " [0.00000000e+00 0.00000000e+00 1.82582890e-31]]\n",
      "\n",
      "Trace of the new Lambda:\n",
      " 253.5897057378312\n",
      "\n",
      "After reduction of the dimensionality the 99.62% of the total variability is retained.\n"
     ]
    }
   ],
   "source": [
    "#REDUCE THE DIMENSIONALITY OF THE SYSTEM\n",
    "cov_lambda = np.cov(Lambda)  #covariance matrix of the Lambda matrix\n",
    "l2, V2 = la.eig(cov_lambda)        #eigenvalues and eigenvectors for the new covariance matrix\n",
    "l2 = np.real_if_close(l2)\n",
    "\n",
    "Lambda2 = np.diag(l2)       #diagonal matrix of the new eigenvalues\n",
    "trace_cov_lambda = cov_lambda.trace()\n",
    "trace_lambda2 = Lambda2.trace()\n",
    "\n",
    "print(\"The new diagonal Lambda matrix after reduction is:\\n\", Lambda2)\n",
    "print(\"\\nTrace of the new Lambda:\\n\", trace_lambda2)\n",
    "\n",
    "percent2 = (Lambda2[0,0]/trace_lambda2)*100\n",
    "print(\"\\nAfter reduction of the dimensionality the %.2f%% of the total variability is retained.\" % percent2)"
   ]
  },
  {
   "cell_type": "code",
   "execution_count": 8,
   "metadata": {},
   "outputs": [
    {
     "name": "stdout",
     "output_type": "stream",
     "text": [
      "The dataset in the new basis is:\n",
      " [[ 4.08939680e+00 -3.30471989e+00  5.42500561e+00 ...  8.97855622e+00\n",
      "  -1.29647710e+00  7.34329950e-02]\n",
      " [ 2.35283174e-18 -1.47896544e-15 -2.45542696e-15 ...  1.23492983e-15\n",
      "  -2.91101260e-16 -1.71669608e-15]\n",
      " [-4.35757054e-01 -1.50723994e+00 -2.98922168e+00 ...  1.00463777e+00\n",
      "  -2.09948813e-01 -1.97965536e+00]]\n"
     ]
    }
   ],
   "source": [
    "#REDEFINE THE DATA IN THE NEW BASIS \n",
    "#(i.e. the basis generated by the eigenvectors of the original covariance matrix)\n",
    "\n",
    "Xp = np.dot(V.T, X) #rotation of the data points\n",
    "print(\"The dataset in the new basis is:\\n\", Xp)"
   ]
  },
  {
   "cell_type": "code",
   "execution_count": 9,
   "metadata": {},
   "outputs": [
    {
     "data": {
      "text/plain": [
       "Text(0, 0.5, 'x2')"
      ]
     },
     "execution_count": 9,
     "metadata": {},
     "output_type": "execute_result"
    },
    {
     "data": {
      "image/png": "[encoded data removed]",
      "text/plain": [
       "<Figure size 1080x792 with 6 Axes>"
      ]
     },
     "metadata": {
      "needs_background": "light"
     },
     "output_type": "display_data"
    }
   ],
   "source": [
    "#PLOT THE DATA \n",
    "fig = plt.figure(figsize=(15,11))\n",
    "columns = 3\n",
    "rows = 2\n",
    "ax = []\n",
    "for i in range(1, columns*rows+1):\n",
    "    ax.append(fig.add_subplot(rows, columns, i))\n",
    "\n",
    "#first row: original basis\n",
    "ax[0].scatter(X[0,:], X[1,:])\n",
    "ax[0].set_xlabel(\"x0\")\n",
    "ax[0].set_ylabel(\"x1\")\n",
    "ax[1].scatter(X[0,:], X[2,:])\n",
    "ax[1].set_xlabel(\"x0\")\n",
    "ax[1].set_ylabel(\"x2\")\n",
    "ax[1].set_title(\"Original basis\")\n",
    "ax[2].scatter(X[1,:], X[2,:])\n",
    "ax[2].set_xlabel(\"x1\")\n",
    "ax[2].set_ylabel(\"x2\")\n",
    "\n",
    "#new basis\n",
    "ax[3].scatter(Xp[0,:], Xp[1,:])\n",
    "ax[3].set_xlabel(\"x0\")\n",
    "ax[3].set_ylabel(\"x1\")\n",
    "ax[4].scatter(Xp[0,:], Xp[2,:])\n",
    "ax[4].set_xlabel(\"x0\")\n",
    "ax[4].set_ylabel(\"x2\")\n",
    "ax[4].set_title(\"New basis\")\n",
    "ax[5].scatter(Xp[1,:], Xp[2,:])\n",
    "ax[5].set_xlabel(\"x1\")\n",
    "ax[5].set_ylabel(\"x2\")\n"
   ]
  },
  {
   "cell_type": "markdown",
   "metadata": {},
   "source": [
    "2\\. PCA on a nD dataset\n",
    "\n",
    "* Start from the dataset you have genereted in the previous exercise and add uncorrelated random noise. Such noise should be represented by other 10 uncorrelated variables normally distributed, with a standard deviation much smaller (e.g. a factor 20) than those used to generate the $x_1$ and $x_2$. Repeat the PCA procedure and compare the results with what you have obtained before."
   ]
  },
  {
   "cell_type": "code",
   "execution_count": 10,
   "metadata": {},
   "outputs": [
    {
     "name": "stdout",
     "output_type": "stream",
     "text": [
      "The matrix with uncorrelated noise is:\n",
      " [[-7.03438439e-01 -4.84787030e-01 -2.29897828e+00 ... -4.33427226e-01\n",
      "   2.58331193e-02 -1.12957635e+00]\n",
      " [-2.07402205e+00  2.98357577e+00 -1.05588600e+00 ... -5.93289791e+00\n",
      "   9.02318086e-01  1.34934848e+00]\n",
      " [-3.48089893e+00  2.01400172e+00 -5.65384257e+00 ... -6.79975236e+00\n",
      "   9.53984325e-01 -9.09804216e-01]\n",
      " ...\n",
      " [-2.04905241e-02  9.89887046e-02 -1.38580709e-02 ...  2.63486561e-02\n",
      "  -1.57526000e-02 -1.34062438e-02]\n",
      " [ 3.07634315e-02 -1.23404937e-02 -3.89123582e-02 ...  1.72164511e-02\n",
      "  -4.56064162e-02 -1.61267787e-02]\n",
      " [ 4.61232328e-02 -2.40717553e-03  8.66523258e-02 ... -4.64499863e-02\n",
      "  -8.16569503e-02 -5.06034256e-02]]\n"
     ]
    }
   ],
   "source": [
    "stdev = 0.05\n",
    "mean = 0\n",
    "\n",
    "random = []\n",
    "for i in range(10):\n",
    "    random.append(np.random.normal(mean, stdev, N))\n",
    "    \n",
    "noise = np.array(random)\n",
    "X_noise = np.concatenate((X, noise), axis=0)\n",
    "print(\"The matrix with uncorrelated noise is:\\n\", X_noise)\n"
   ]
  },
  {
   "cell_type": "code",
   "execution_count": 11,
   "metadata": {
    "scrolled": false
   },
   "outputs": [
    {
     "name": "stdout",
     "output_type": "stream",
     "text": [
      "Eigenvalues via eigendecomposition:\n",
      " [ 2.75128715e+01  1.95232253e+00 -1.11714369e-16  2.02734825e-03\n",
      "  2.91519486e-03  2.24925049e-03  2.34074742e-03  2.37749026e-03\n",
      "  2.46254678e-03  2.73209562e-03  2.69486244e-03  2.61739099e-03\n",
      "  2.57488682e-03]\n",
      "\n",
      "Eigenvalues via SVD:\n",
      " [2.76091256e+01 1.95589497e+00 2.91994242e-03 2.73529925e-03\n",
      " 2.69757380e-03 2.62131998e-03 2.57795859e-03 2.46619065e-03\n",
      " 2.38171597e-03 2.34314960e-03 2.25197543e-03 2.03198577e-03\n",
      " 7.84438693e-32]\n",
      "\n",
      "Eigenvectors via eigendecomposition:\n",
      " [[-1.11655459e-01 -5.66447322e-01  8.16496581e-01 -7.86504828e-04\n",
      "  -2.92837000e-04 -9.57881475e-04  6.10842689e-04 -3.37563003e-04\n",
      "   2.22734756e-04 -4.62042931e-04  9.40106847e-04 -7.48903750e-04\n",
      "   8.31328957e-05]\n",
      " [-5.82102019e-01  7.03195939e-01  4.08248290e-01  1.05127630e-03\n",
      "   2.08495366e-04  9.64733859e-04 -8.40449496e-04  5.41356866e-04\n",
      "  -3.39639437e-04  5.21167860e-04 -1.15750192e-03  1.08226943e-03\n",
      "  -2.59156449e-04]\n",
      " [-8.05412936e-01 -4.29698704e-01 -4.08248290e-01 -5.21733356e-04\n",
      "  -3.77178633e-04 -9.51029092e-04  3.81235883e-04 -1.33769139e-04\n",
      "   1.05830074e-04 -4.02918003e-04  7.22711775e-04 -4.15538069e-04\n",
      "  -9.28906573e-05]\n",
      " [ 1.16574213e-04  1.26251948e-03 -1.06166597e-15 -5.77938600e-02\n",
      "   4.21176068e-01 -2.95839877e-01  7.77612780e-02  7.24642248e-02\n",
      "  -5.11560806e-01 -1.35823750e-01  5.02582367e-01 -1.49730433e-01\n",
      "  -4.06569897e-01]\n",
      " [-1.06564826e-04 -1.24157366e-03  4.10823854e-18  2.55565659e-01\n",
      "   1.63390676e-01  1.84950696e-01  2.38343178e-01 -4.70653995e-01\n",
      "  -5.11425885e-01  1.95538231e-01 -7.18864317e-02  4.60738699e-01\n",
      "   2.79677083e-01]\n",
      " [ 4.83070681e-05 -5.86551163e-04  2.81988257e-16  4.52567634e-01\n",
      "   1.61657863e-01 -2.73151851e-01  1.94312900e-01 -1.44001401e-01\n",
      "  -1.12077731e-02 -7.59120875e-02 -6.45117114e-01 -3.31410275e-01\n",
      "  -3.22561567e-01]\n",
      " [-2.55367441e-04  9.69639494e-04 -2.18473845e-15 -4.48286200e-01\n",
      "   2.66786489e-01 -1.11621272e-01  1.43430251e-01  1.14856371e-01\n",
      "  -2.39783200e-01 -1.27807332e-01 -2.73495511e-01 -3.88005174e-01\n",
      "   6.18434644e-01]\n",
      " [ 1.44619008e-04 -6.02992645e-04 -1.16631595e-16 -2.21533058e-01\n",
      "  -2.04237444e-01  8.31042288e-02  5.25622078e-01  5.76016551e-01\n",
      "  -2.06028269e-01  2.25542769e-01 -2.45928579e-01  2.72086332e-01\n",
      "  -2.57683549e-01]\n",
      " [ 1.11152918e-04  1.46282619e-03 -9.32984879e-16  3.24969540e-01\n",
      "  -2.51693051e-01 -5.76909905e-01  3.34342097e-01  7.72628481e-02\n",
      "   1.37442771e-01  3.43625920e-01  3.30016816e-01 -1.08037177e-01\n",
      "   3.50587523e-01]\n",
      " [-2.78839462e-05 -6.14644818e-04 -6.37754061e-16  4.89312815e-01\n",
      "  -3.08793206e-01  4.48614587e-01  3.51870018e-03  3.08829578e-01\n",
      "  -3.32504320e-01 -2.94516516e-01  1.45618450e-01 -3.50221145e-01\n",
      "   1.65582381e-01]\n",
      " [-2.45245544e-04 -1.05359098e-03 -1.19898473e-15  4.10547362e-02\n",
      "   2.70877780e-01  3.26279168e-01 -1.79039953e-01  7.47320926e-02\n",
      "  -7.89077360e-03  7.93784000e-01  2.45738405e-02 -3.81390399e-01\n",
      "  -6.79887363e-02]\n",
      " [-3.32518441e-04  9.49911305e-04 -1.09556153e-15 -1.24605155e-03\n",
      "   3.13082586e-01  3.76081652e-01  6.52145623e-01 -1.56803551e-01\n",
      "   4.55211735e-01 -1.67210379e-01  2.40540265e-01 -1.30589565e-01\n",
      "  -2.38278027e-02]\n",
      " [-5.76513330e-05  1.61649629e-03 -5.74149272e-16 -3.60235916e-01\n",
      "  -5.71659508e-01  4.81259672e-02  1.82729149e-01 -5.25349766e-01\n",
      "  -1.99875106e-01  8.64757874e-02  4.69519249e-02 -3.66125432e-01\n",
      "  -2.19212253e-01]]\n",
      "\n",
      "Eigenvectors via SVD:\n",
      " [[-1.11422325e-01  5.66493194e-01 -3.05552142e-04  4.59548443e-04\n",
      "  -9.38649204e-04  7.23609659e-04 -1.11543836e-04  2.51618608e-04\n",
      "   3.59412269e-04  6.08303091e-04 -9.68557409e-04  7.98777429e-04\n",
      "   8.16496581e-01]\n",
      " [-5.82391373e-01 -7.02956252e-01  2.34006141e-04 -5.12724057e-04\n",
      "   1.15496694e-03 -1.03859203e-03  3.03077560e-04 -3.84902705e-04\n",
      "  -5.75317269e-04 -8.37093969e-04  9.82336523e-04 -1.07813690e-03\n",
      "   4.08248290e-01]\n",
      " [-8.05236023e-01  4.30030135e-01 -3.77098142e-04  4.06372830e-04\n",
      "  -7.22331469e-04  4.08627284e-04  7.99898883e-05  1.18334510e-04\n",
      "   1.43507270e-04  3.79512213e-04 -9.54778294e-04  5.19417959e-04\n",
      "  -4.08248290e-01]\n",
      " [ 1.30734430e-04 -1.23077018e-03  4.25502008e-01  1.38283903e-01\n",
      "  -5.02779795e-01  1.57064234e-01  4.05017095e-01 -5.05548798e-01\n",
      "  -5.67316519e-02  7.46875140e-02 -3.00269094e-01  6.15687249e-02\n",
      "  -1.66533454e-16]\n",
      " [-1.07279569e-04  1.23896073e-03  1.60263465e-01 -1.99646372e-01\n",
      "   7.24043827e-02 -4.62743529e-01 -2.68641452e-01 -5.11075222e-01\n",
      "   4.70152616e-01  2.42690188e-01  1.88792759e-01 -2.57158715e-01\n",
      "  -1.82362805e-16]\n",
      " [ 6.00284741e-05  6.11393201e-04  1.64579791e-01  7.71436833e-02\n",
      "   6.44567375e-01  3.37304207e-01  3.16083627e-01 -4.74259858e-03\n",
      "   1.45719147e-01  1.94994494e-01 -2.71584504e-01 -4.52519967e-01\n",
      "   1.62413485e-16]\n",
      " [-2.55212245e-04 -9.68328878e-04  2.67453260e-01  1.26785829e-01\n",
      "   2.73670499e-01  3.75713894e-01 -6.25356611e-01 -2.39926147e-01\n",
      "  -1.07724889e-01  1.41049967e-01 -1.16123133e-01  4.50240889e-01\n",
      "  -9.18725816e-17]\n",
      " [ 1.47320298e-04  6.08244582e-04 -2.03671389e-01 -2.24005756e-01\n",
      "   2.45182231e-01 -2.58700473e-01  2.68359197e-01 -2.18320895e-01\n",
      "  -5.77943100e-01  5.20276321e-01  7.68255579e-02  2.25854420e-01\n",
      "  -2.43369506e-16]\n",
      " [ 1.05908282e-04 -1.47293017e-03 -2.53582745e-01 -3.42061895e-01\n",
      "  -3.30858453e-01  1.04109043e-01 -3.51513201e-01  1.32899131e-01\n",
      "  -8.30321046e-02  3.33700112e-01 -5.75064661e-01 -3.28949986e-01\n",
      "  -1.17419095e-16]\n",
      " [-8.87427978e-06  6.55273437e-04 -3.01863249e-01  3.01206185e-01\n",
      "  -1.46259094e-01  3.53569992e-01 -1.66872754e-01 -3.39799905e-01\n",
      "  -3.08008483e-01  1.32493853e-03  4.47250857e-01 -4.83254302e-01\n",
      "   3.69441890e-17]\n",
      " [-2.38472386e-04  1.06742174e-03  2.69812371e-01 -7.91734352e-01\n",
      "  -2.68955087e-02  3.87786630e-01  6.32905009e-02 -7.86620544e-03\n",
      "  -7.39690611e-02 -1.79315335e-01  3.25713590e-01 -3.83750712e-02\n",
      "  -2.17003065e-16]\n",
      " [-3.28706484e-04 -9.40669999e-04  3.13715447e-01  1.66072511e-01\n",
      "  -2.39988832e-01  1.24609137e-01  1.70838309e-02  4.57871777e-01\n",
      "   1.42973002e-01  6.54718903e-01  3.76610569e-01  2.72163742e-03\n",
      "  -3.49669600e-16]\n",
      " [-7.03048315e-05 -1.64243566e-03 -5.71420910e-01 -8.16027375e-02\n",
      "  -4.80970929e-02  3.70917983e-01  2.12345974e-01 -1.87447718e-01\n",
      "   5.30287047e-01  1.86408921e-01  4.88927739e-02  3.58262966e-01\n",
      "  -3.14960731e-17]]\n"
     ]
    }
   ],
   "source": [
    "#PCA procedure\n",
    "#Eigendecomposition of the covariance matrix:\n",
    "cov_noise = np.cov(X_noise, bias=True)\n",
    "#print(\"Covariance matrix: \\n\", cov_noise, \"\\n\")\n",
    "l_noise, V_noise = la.eig(cov_noise)\n",
    "l_noise = np.real_if_close(l_noise)\n",
    "\n",
    "#Singular Value Decomposition (SVD):\n",
    "U_n, S_n, Vt_n = np.linalg.svd(X_noise)\n",
    "l_svd_n = S_n**2/(N-1)\n",
    "V_svd_n = U_n\n",
    "\n",
    "print(\"Eigenvalues via eigendecomposition:\\n\", l_noise)\n",
    "print(\"\\nEigenvalues via SVD:\\n\", l_svd_n)\n",
    "\n",
    "print(\"\\nEigenvectors via eigendecomposition:\\n\", V_noise)\n",
    "print(\"\\nEigenvectors via SVD:\\n\", V_svd_n)"
   ]
  },
  {
   "cell_type": "markdown",
   "metadata": {},
   "source": [
    "OBSERVATION: The higher is the dimension of the system and the more the results from the SVD procedure deviate from the eigendecomposition method results."
   ]
  },
  {
   "cell_type": "code",
   "execution_count": 12,
   "metadata": {},
   "outputs": [
    {
     "name": "stdout",
     "output_type": "stream",
     "text": [
      "Lambda:\n",
      " [[ 2.75128715e+01  0.00000000e+00  0.00000000e+00  0.00000000e+00\n",
      "   0.00000000e+00  0.00000000e+00  0.00000000e+00  0.00000000e+00\n",
      "   0.00000000e+00  0.00000000e+00  0.00000000e+00  0.00000000e+00\n",
      "   0.00000000e+00]\n",
      " [ 0.00000000e+00  1.95232253e+00  0.00000000e+00  0.00000000e+00\n",
      "   0.00000000e+00  0.00000000e+00  0.00000000e+00  0.00000000e+00\n",
      "   0.00000000e+00  0.00000000e+00  0.00000000e+00  0.00000000e+00\n",
      "   0.00000000e+00]\n",
      " [ 0.00000000e+00  0.00000000e+00 -1.11714369e-16  0.00000000e+00\n",
      "   0.00000000e+00  0.00000000e+00  0.00000000e+00  0.00000000e+00\n",
      "   0.00000000e+00  0.00000000e+00  0.00000000e+00  0.00000000e+00\n",
      "   0.00000000e+00]\n",
      " [ 0.00000000e+00  0.00000000e+00  0.00000000e+00  2.02734825e-03\n",
      "   0.00000000e+00  0.00000000e+00  0.00000000e+00  0.00000000e+00\n",
      "   0.00000000e+00  0.00000000e+00  0.00000000e+00  0.00000000e+00\n",
      "   0.00000000e+00]\n",
      " [ 0.00000000e+00  0.00000000e+00  0.00000000e+00  0.00000000e+00\n",
      "   2.91519486e-03  0.00000000e+00  0.00000000e+00  0.00000000e+00\n",
      "   0.00000000e+00  0.00000000e+00  0.00000000e+00  0.00000000e+00\n",
      "   0.00000000e+00]\n",
      " [ 0.00000000e+00  0.00000000e+00  0.00000000e+00  0.00000000e+00\n",
      "   0.00000000e+00  2.24925049e-03  0.00000000e+00  0.00000000e+00\n",
      "   0.00000000e+00  0.00000000e+00  0.00000000e+00  0.00000000e+00\n",
      "   0.00000000e+00]\n",
      " [ 0.00000000e+00  0.00000000e+00  0.00000000e+00  0.00000000e+00\n",
      "   0.00000000e+00  0.00000000e+00  2.34074742e-03  0.00000000e+00\n",
      "   0.00000000e+00  0.00000000e+00  0.00000000e+00  0.00000000e+00\n",
      "   0.00000000e+00]\n",
      " [ 0.00000000e+00  0.00000000e+00  0.00000000e+00  0.00000000e+00\n",
      "   0.00000000e+00  0.00000000e+00  0.00000000e+00  2.37749026e-03\n",
      "   0.00000000e+00  0.00000000e+00  0.00000000e+00  0.00000000e+00\n",
      "   0.00000000e+00]\n",
      " [ 0.00000000e+00  0.00000000e+00  0.00000000e+00  0.00000000e+00\n",
      "   0.00000000e+00  0.00000000e+00  0.00000000e+00  0.00000000e+00\n",
      "   2.46254678e-03  0.00000000e+00  0.00000000e+00  0.00000000e+00\n",
      "   0.00000000e+00]\n",
      " [ 0.00000000e+00  0.00000000e+00  0.00000000e+00  0.00000000e+00\n",
      "   0.00000000e+00  0.00000000e+00  0.00000000e+00  0.00000000e+00\n",
      "   0.00000000e+00  2.73209562e-03  0.00000000e+00  0.00000000e+00\n",
      "   0.00000000e+00]\n",
      " [ 0.00000000e+00  0.00000000e+00  0.00000000e+00  0.00000000e+00\n",
      "   0.00000000e+00  0.00000000e+00  0.00000000e+00  0.00000000e+00\n",
      "   0.00000000e+00  0.00000000e+00  2.69486244e-03  0.00000000e+00\n",
      "   0.00000000e+00]\n",
      " [ 0.00000000e+00  0.00000000e+00  0.00000000e+00  0.00000000e+00\n",
      "   0.00000000e+00  0.00000000e+00  0.00000000e+00  0.00000000e+00\n",
      "   0.00000000e+00  0.00000000e+00  0.00000000e+00  2.61739099e-03\n",
      "   0.00000000e+00]\n",
      " [ 0.00000000e+00  0.00000000e+00  0.00000000e+00  0.00000000e+00\n",
      "   0.00000000e+00  0.00000000e+00  0.00000000e+00  0.00000000e+00\n",
      "   0.00000000e+00  0.00000000e+00  0.00000000e+00  0.00000000e+00\n",
      "   2.57488682e-03]]\n",
      "Trace(Lambda):\n",
      " 29.490185876039693 \n",
      "\n",
      "The principal component accounts for 93.30% of the total variability.\n"
     ]
    }
   ],
   "source": [
    "#PERCENTAGE OF VARIABILITY\n",
    "Lambda_n = np.diag(l_noise)  #diagonal matrix of the eigenvalues \n",
    "t_lambda = Lambda_n.trace()\n",
    "print(\"Lambda:\\n\", Lambda_n)\n",
    "print(\"Trace(Lambda):\\n\", t_lambda, '\\n')\n",
    "\n",
    "percent_n = (Lambda_n[0,0]/t_lambda)*100\n",
    "print(\"The principal component accounts for %.2f%% of the total variability.\" % percent_n)"
   ]
  },
  {
   "cell_type": "markdown",
   "metadata": {},
   "source": [
    "OBSERVATION: The percentage of variability is the same found for the first case, before dimensionality reduction. "
   ]
  },
  {
   "cell_type": "markdown",
   "metadata": {},
   "source": [
    "3\\. **Optional**: PCA on the MAGIC dataset\n",
    "\n",
    "Perform a PCA on the magic04.data dataset."
   ]
  },
  {
   "cell_type": "code",
   "execution_count": 2,
   "metadata": {},
   "outputs": [],
   "source": [
    "# get the dataset and its description on the proper data directory\n",
    "#!wget https://archive.ics.uci.edu/ml/machine-learning-databases/magic/magic04.data -P data/\n",
    "#!wget https://archive.ics.uci.edu/ml/machine-learning-databases/magic/magic04.names -P data/ "
   ]
  },
  {
   "cell_type": "code",
   "execution_count": 13,
   "metadata": {
    "scrolled": false
   },
   "outputs": [
    {
     "name": "stdout",
     "output_type": "stream",
     "text": [
      "Eigenvalues:  [6.57979141e+03 3.85387048e+03 2.01638313e+03 1.32675968e+03\n",
      " 6.10187260e+02 4.33599172e+02 1.17330074e+02 8.63965837e-02\n",
      " 1.07363852e-02 3.85322855e-04]\n",
      "\n",
      "Eigenvectors:  [[ 3.27812305e-01  1.34406332e-01 -6.55078493e-02 -8.63988253e-01\n",
      "  -9.45511967e-02 -1.98552032e-02  3.38166663e-01  3.99907118e-03\n",
      "  -4.54836723e-04  4.57080102e-05]\n",
      " [ 1.13810000e-01  5.38837224e-02  1.89938171e-02 -3.19766485e-01\n",
      "   1.97548493e-02  2.32592313e-02 -9.38307839e-01  1.33847862e-02\n",
      "   6.74902713e-04 -5.73158322e-05]\n",
      " [ 3.06076691e-03 -6.59372008e-04 -1.05931761e-03 -6.93028661e-03\n",
      "  -2.65185255e-03  1.33441541e-04 -1.08823227e-02 -9.27765189e-01\n",
      "  -3.72229857e-01  2.26331398e-02]\n",
      " [-9.27109146e-04  2.58205309e-04  5.10399702e-04  2.60555110e-03\n",
      "   1.53899865e-03 -3.46437577e-05  3.06287143e-03  3.22020553e-01\n",
      "  -7.69222366e-01  5.51887659e-01]\n",
      " [-5.21882398e-04  1.52710005e-04  2.94635944e-04  1.51275933e-03\n",
      "   9.19340565e-04 -2.21501580e-05  1.81386901e-03  1.88001795e-01\n",
      "  -5.19365740e-01 -8.33611268e-01]\n",
      " [-3.80700010e-01 -6.93897411e-01  5.40076834e-01 -2.85130224e-01\n",
      "   5.48387921e-03 -8.83939065e-03  2.19814957e-02  5.04796171e-04\n",
      "  -7.27669787e-05 -2.02448986e-06]\n",
      " [-7.16522953e-02 -5.62620169e-01 -8.13121109e-01 -7.58844627e-02\n",
      "   1.02210804e-01  9.93832927e-03 -2.91761487e-02  1.74145734e-03\n",
      "  -7.74019576e-05  6.63190279e-06]\n",
      " [ 3.37405747e-03  1.03235629e-03  1.24715329e-02 -1.18948102e-02\n",
      "   9.75589899e-03  9.99354910e-01  2.97504322e-02 -1.46359220e-04\n",
      "  -4.36067548e-06 -4.52407763e-07]\n",
      " [-5.35411189e-02  1.18351408e-01  5.31065388e-02 -9.25138650e-02\n",
      "   9.84242210e-01 -1.28997809e-02  5.32605545e-02 -3.31434450e-03\n",
      "   6.07457382e-04 -1.81578430e-05]\n",
      " [ 8.52426708e-01 -4.08641364e-01  1.98800702e-01  2.35496475e-01\n",
      "   1.06557705e-01 -3.34856578e-03  5.86535400e-03  6.35907098e-04\n",
      "   2.65933177e-04 -2.80193809e-06]]\n",
      "\n",
      "Considering the 0 component, 44.05% of the total variability is retained.\n",
      "In order to increase the percent of retained variability we should reduce the dimensionality of the system. We can find the negligible variables by looking at the variability for each component: \n",
      "Component 0 , retained variability: 44.05%\n",
      "Component 1 , retained variability: 25.80%\n",
      "Component 2 , retained variability: 13.50%\n",
      "Component 3 , retained variability: 8.88%\n",
      "Component 4 , retained variability: 4.08%\n",
      "Component 5 , retained variability: 2.90%\n",
      "Component 6 , retained variability: 0.79%\n",
      "Component 7 , retained variability: 0.00%\n",
      "Component 8 , retained variability: 0.00%\n",
      "Component 9 , retained variability: 0.00%\n",
      "So, in order to increase the percentage of retained variability one could discard the last 3 components since they retain 0% of variability.\n"
     ]
    }
   ],
   "source": [
    "df = pd.read_csv(\"data/magic04.data\", sep=\",\", header=None)\n",
    "\n",
    "#convert the data to a matrix\n",
    "M = df.to_numpy()\n",
    "M = M[0:, 0:10]\n",
    "M = np.asarray(M, dtype='float32')\n",
    "\n",
    "#covariance matrix of the transpose M\n",
    "cov = np.cov(M.T)\n",
    "\n",
    "#Eigendecomposition of the covariance matrix:\n",
    "l, V = la.eig(cov)\n",
    "l = np.real_if_close(l)\n",
    "\n",
    "print(\"Eigenvalues: \", l)\n",
    "print(\"\\nEigenvectors: \", V)\n",
    "\n",
    "\n",
    "#DATASET VARIABILITY\n",
    "Lambda = np.diag(l)  #diagonal matrix of the eigenvalues \n",
    "trace_lambda = Lambda.trace()\n",
    "\n",
    "percent = (Lambda[0,0]/trace_lambda)*100\n",
    "print(\"\\nConsidering the 0 component, %.2f%% of the total variability is retained.\" % percent)\n",
    "print(\"In order to increase the percent of retained variability we should reduce the dimensionality of the system. \\\n",
    "We can find the negligible variables by looking at the variability for each component: \")\n",
    "\n",
    "for i in range(len(l)):\n",
    "    perc = (Lambda[i,i]/trace_lambda)*100\n",
    "    print(\"Component\", i, \", retained variability: %.2f%%\" % perc)\n",
    "\n",
    "print(\"So, in order to increase the percentage of retained variability one could discard the last 3 components \\\n",
    "since they retain 0% of variability.\")"
   ]
  },
  {
   "cell_type": "code",
   "execution_count": null,
   "metadata": {},
   "outputs": [],
   "source": []
  }
 ],
 "metadata": {
  "kernelspec": {
   "display_name": "Python 3 (ipykernel)",
   "language": "python",
   "name": "python3"
  },
  "language_info": {
   "codemirror_mode": {
    "name": "ipython",
    "version": 3
   },
   "file_extension": ".py",
   "mimetype": "text/x-python",
   "name": "python",
   "nbconvert_exporter": "python",
   "pygments_lexer": "ipython3",
   "version": "3.8.10"
  }
 },
 "nbformat": 4,
 "nbformat_minor": 2
}
