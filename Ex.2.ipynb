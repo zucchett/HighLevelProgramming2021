{
 "cells": [
  {
   "cell_type": "markdown",
   "metadata": {},
   "source": [
    "Write the following expressions using the list comprehension"
   ]
  },
  {
   "cell_type": "code",
   "execution_count": 1,
   "metadata": {},
   "outputs": [
    {
     "name": "stdout",
     "output_type": "stream",
     "text": [
      "[(0, 0), (0, 1), (0, 2), (0, 3), (1, 0), (1, 1), (1, 2), (1, 3), (2, 0), (2, 1), (2, 2), (2, 3)]\n",
      "[1, 9, 25, 49, 81]\n"
     ]
    }
   ],
   "source": [
    "# 1\n",
    "ans = []\n",
    "for i in range(3):\n",
    "    for j in range(4):\n",
    "        ans.append((i, j))\n",
    "print(ans)\n",
    "\n",
    "# 2\n",
    "ans = map(lambda x: x * x, filter(lambda x: x % 2 == 1, range(10)))\n",
    "print(list(ans))"
   ]
  },
  {
   "cell_type": "code",
   "execution_count": 2,
   "metadata": {},
   "outputs": [
    {
     "name": "stdout",
     "output_type": "stream",
     "text": [
      "[(0, 0), (0, 1), (0, 2), (0, 3), (1, 0), (1, 1), (1, 2), (1, 3), (2, 0), (2, 1), (2, 2), (2, 3)]\n",
      "[(0, 0), (0, 1), (0, 2), (0, 3), (1, 0), (1, 1), (1, 2), (1, 3), (2, 0), (2, 1), (2, 2), (2, 3)]\n",
      "[1, 9, 25, 49, 81]\n",
      "[1, 9, 25, 49, 81]\n"
     ]
    }
   ],
   "source": [
    "ans = []\n",
    "for i in range(3):\n",
    "    for j in range(4):\n",
    "        ans.append((i, j))\n",
    "print(ans)\n",
    "\n",
    "ans = [(i, j) for i in range(3) for j in range(4)]\n",
    "print(ans)\n",
    "\n",
    "ans = [(lambda x: x*x)(x) for x in range(10) if x % 2 == 1]\n",
    "print(ans)\n",
    "\n",
    "ans = map(lambda x: x * x, filter(lambda x: x % 2 == 1, range(10)))\n",
    "print(list(ans))"
   ]
  },
  {
   "cell_type": "markdown",
   "metadata": {},
   "source": [
    "2. Convert the function $f$ into a function that doesn't use global variables and that does not modify the original list"
   ]
  },
  {
   "cell_type": "code",
   "execution_count": null,
   "metadata": {},
   "outputs": [],
   "source": [
    "x = 5\n",
    "def f(alist):\n",
    "    for i in range(x):\n",
    "         alist.append(i)\n",
    "    return alist\n",
    "\n",
    "alist = [1,2,3]\n",
    "ans = f(alist)\n",
    "print(ans)\n",
    "print(alist) # alist has been changed!"
   ]
  },
  {
   "cell_type": "code",
   "execution_count": null,
   "metadata": {},
   "outputs": [],
   "source": [
    "def f(alist):\n",
    "    new_list = alist + [x for x in range(5)]\n",
    "    return new_list\n",
    "\n",
    "alist = [1,2,3]\n",
    "ans = f(alist)\n",
    "print(ans)\n",
    "print(alist)"
   ]
  },
  {
   "cell_type": "markdown",
   "metadata": {},
   "source": [
    "3. Write a decorator hello that makes every wrapped function print “Hello!”, i.e. something like:\n",
    "\n",
    "@hello\n",
    "def square(x):\n",
    "    return x*x"
   ]
  },
  {
   "cell_type": "code",
   "execution_count": 3,
   "metadata": {},
   "outputs": [
    {
     "name": "stdout",
     "output_type": "stream",
     "text": [
      "hello\n",
      "16\n",
      "hello\n",
      "64\n"
     ]
    }
   ],
   "source": [
    "def hello(func):\n",
    "    def inner(x):\n",
    "        print(\"hello\")\n",
    "        return func(x)\n",
    "    return inner\n",
    "\n",
    "@hello\n",
    "def square(x):\n",
    "    return x*x\n",
    "@hello\n",
    "def cube(x):\n",
    "    return x*x*x\n",
    "\n",
    "print(square(4))\n",
    "print(cube(4))"
   ]
  },
  {
   "cell_type": "markdown",
   "metadata": {},
   "source": [
    "4. Write the factorial function in two different ways, so that it a) does and b) does not use recursion."
   ]
  },
  {
   "cell_type": "code",
   "execution_count": 4,
   "metadata": {},
   "outputs": [
    {
     "name": "stdout",
     "output_type": "stream",
     "text": [
      "The factorial of 7 is 5040\n",
      "The factorial of 7 is 5040\n"
     ]
    }
   ],
   "source": [
    "def recur_factorial(n):\n",
    "   if n == 1:\n",
    "       return n\n",
    "   else:\n",
    "       return n*recur_factorial(n-1)\n",
    "\n",
    "def none_recur_factorial(n):\n",
    "    factorial = 1\n",
    "    if n == 1:\n",
    "        return n\n",
    "    else:\n",
    "        for i in range(1, n+1):\n",
    "            factorial = factorial * i\n",
    "        return factorial\n",
    "\n",
    "num = 7\n",
    "\n",
    "if num < 0:\n",
    "   print(\"Sorry, factorial does not exist for negative numbers\")\n",
    "elif num == 0:\n",
    "   print(\"The factorial of 0 is 1\")\n",
    "else:\n",
    "   print(\"The factorial of\", num, \"is\", recur_factorial(num))\n",
    "\n",
    "if num < 0:\n",
    "   print(\"Sorry, factorial does not exist for negative numbers\")\n",
    "elif num == 0:\n",
    "   print(\"The factorial of 0 is 1\")\n",
    "else:\n",
    "   print(\"The factorial of\", num, \"is\", none_recur_factorial(num))"
   ]
  },
  {
   "cell_type": "markdown",
   "metadata": {},
   "source": [
    "5. Use HOFs (zip in particular) to compute the weight of a circle, a disk and a sphere, assuming different radii and different densities:\n",
    "\n",
    "densities = {\"Al\" : [0.5, 1, 2], \"Fe\" : [3, 4, 5], \"Pb\" : [15, 20, 30]}\n",
    "radii = [1, 2, 3]\n",
    "where the entries of the dictionary's values are the linear, superficial and volumetric densities of the materials respectively.\n",
    "\n",
    "Subsequently, define a list using a comprehension with three lambda functions that compute the circumference, the area and the volume for a given radius."
   ]
  },
  {
   "cell_type": "code",
   "execution_count": 5,
   "metadata": {},
   "outputs": [
    {
     "name": "stdout",
     "output_type": "stream",
     "text": [
      "[13.323965941470634, 479.6627738929428, 11991.56934732357]\n",
      "[106.59172753176507, 1705.4676405082412, 42636.69101270603]\n"
     ]
    }
   ],
   "source": [
    "import math\n",
    "\n",
    "densities = {\"Al\": [0.5, 1, 2], \"Fe\": [3, 4, 5], \"Pb\": [15, 20, 30]}\n",
    "density = {\"Al\": 2.7, \"Fe\": 7.8, \"Pb\": 11.3}\n",
    "radii = [1, 2, 3]\n",
    "\n",
    "\n",
    "def volume_cylinder(thickness, radius):\n",
    "    def circumference(radius):\n",
    "        circumf_l = 2 * math.pi * radius\n",
    "        return circumf_l\n",
    "\n",
    "    volume_c = math.pi * thickness * thickness * circumference(radius)\n",
    "    return volume_c\n",
    "\n",
    "def weight_cylinder(ele, thickness, radius):\n",
    "    for key in density:\n",
    "        if ele in density:\n",
    "            mass = volume_cylinder(thickness, radius) * density[key]\n",
    "            return mass\n",
    "\n",
    "def get_value_list(pos):\n",
    "    requested_values_from_pos = [ele[pos] for ele in densities.values()]\n",
    "    return requested_values_from_pos\n",
    "\n",
    "def all_circle_weight(*args, **kwargs):\n",
    "    i = 0\n",
    "    circle_weight_list = []\n",
    "    list_of_values = get_value_list(i)\n",
    "    for key in density:\n",
    "        circle_weight_list.append(weight_cylinder(key, list_of_values[i], 1))\n",
    "        i += 1\n",
    "    return circle_weight_list\n",
    "\n",
    "def all_disk_weight(*args, **kwargs):\n",
    "    i = 0\n",
    "    disk_weight_list = []\n",
    "    list_of_values = get_value_list(1)\n",
    "    for key in density:\n",
    "        disk_weight_list.append(weight_cylinder(key, list_of_values[i], 2))\n",
    "        i += 1\n",
    "    return  disk_weight_list\n",
    "\n",
    "\n",
    "# print(first_result)\n",
    "# print(weight_cylinder(\"Al\", first_value))\n",
    "print(all_circle_weight())\n",
    "print(all_disk_weight())\n"
   ]
  },
  {
   "cell_type": "markdown",
   "metadata": {},
   "source": [
    "6. Edit the class defintion to add an instance attribute of is_hungry = True to the Dog class. Then add a method called eat() which changes the value of is_hungry to False when called. Figure out the best way to instantiate the dog objects and to feed the dogs, e.g. call the eat() method for all instances. Finally, print “My dogs are hungry.” or “My dogs are not hungry.” if all of them have is_hungry = True or False, respectively. The final output should look like this:\n",
    "\n",
    "I have 3 dogs. \n",
    "Tom is 6. \n",
    "Fletcher is 7. \n",
    "Larry is 9. \n",
    "And they're all mammals, of course. \n",
    "My dogs are not hungry."
   ]
  },
  {
   "cell_type": "code",
   "execution_count": 6,
   "metadata": {},
   "outputs": [
    {
     "name": "stdout",
     "output_type": "stream",
     "text": [
      "I have 3 dogs.\n",
      "Tom is 6.\n",
      "Fletcher is 7.\n",
      "Larry is 9.\n",
      "And they're all mammals, of course.\n",
      "My dogs are hungry.\n"
     ]
    }
   ],
   "source": [
    "class Animals:\n",
    "    dogs = []\n",
    "\n",
    "    def __init__(self, dogs):\n",
    "        self.dogs = dogs\n",
    "\n",
    "# Parent class\n",
    "class Dog:\n",
    "\n",
    "    # Class attribute\n",
    "    species = 'mammal'\n",
    "\n",
    "    # Initializer / Instance attributes\n",
    "    def __init__(self, name, age):\n",
    "        self.name = name\n",
    "        self.age = age\n",
    "        self.hungry = True\n",
    "\n",
    "    # instance method\n",
    "    def description(self):\n",
    "        return \"{} is {} years old\".format(self.name, self.age)\n",
    "\n",
    "    # instance method\n",
    "    def speak(self, sound):\n",
    "        return \"{} says {}\".format(self.name, sound)\n",
    "\n",
    "    # instance method\n",
    "    def eat(self):\n",
    "        self.is_hungry = False\n",
    "\n",
    "# Child class (inherits from Dog class)\n",
    "class RussellTerrier(Dog):\n",
    "    def run(self, speed):\n",
    "        return \"{} runs {}\".format(self.name, speed)\n",
    "\n",
    "# Child class (inherits from Dog class)\n",
    "class Bulldog(Dog):\n",
    "    def run(self, speed):\n",
    "        return \"{} runs {}\".format(self.name, speed)\n",
    "\n",
    "my_dogs = [\n",
    "    Bulldog(\"Tom\", 6),\n",
    "    RussellTerrier(\"Fletcher\", 7),\n",
    "    Dog(\"Larry\", 9)\n",
    "]\n",
    "\n",
    "pets = Animals(my_dogs)\n",
    "\n",
    "dogs_hungry = False\n",
    "for dog in pets.dogs:\n",
    "    if dog.hungry:\n",
    "        dogs_hungry = True\n",
    "\n",
    "print(\"I have {} dogs.\".format(len(pets.dogs)))\n",
    "for dog in pets.dogs:\n",
    "    dog.eat()\n",
    "    print(\"{} is {}.\".format(dog.name, dog.age))\n",
    "\n",
    "print(\"And they're all {}s, of course.\".format(dog.species))\n",
    "\n",
    "if dogs_hungry:\n",
    "    print(\"My dogs are hungry.\")\n",
    "else:\n",
    "    print(\"My dogs are not hungry.\")"
   ]
  }
 ],
 "metadata": {
  "interpreter": {
   "hash": "0bcc78bc1c3e4185a1bb5d5311c1a881c2fed6218afc723045c33b4b4a3dcd44"
  },
  "kernelspec": {
   "display_name": "Python 3.8.8 64-bit ('base': conda)",
   "language": "python",
   "name": "python3"
  },
  "language_info": {
   "codemirror_mode": {
    "name": "ipython",
    "version": 3
   },
   "file_extension": ".py",
   "mimetype": "text/x-python",
   "name": "python",
   "nbconvert_exporter": "python",
   "pygments_lexer": "ipython3",
   "version": "3.8.8"
  },
  "orig_nbformat": 4
 },
 "nbformat": 4,
 "nbformat_minor": 2
}
