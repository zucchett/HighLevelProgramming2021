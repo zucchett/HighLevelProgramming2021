{
 "cells": [
  {
   "cell_type": "code",
   "execution_count": 16,
   "metadata": {},
   "outputs": [],
   "source": [
    "import pandas as pd\n",
    "import numpy as np\n",
    "\n",
    "int_list = np.arange(10)\n",
    "float_array = np.random.rand(5, 5)\n",
    "\n",
    "np.savetxt('data_int.txt', int_list, fmt='%i', delimiter='\\t')\n",
    "np.savetxt('data_float.txt', float_array, fmt='%f', delimiter='\\t',)\n",
    "\n"
   ]
  },
  {
   "cell_type": "code",
   "execution_count": 28,
   "metadata": {},
   "outputs": [],
   "source": [
    "\n",
    "df = pd.read_json('Data/user_data.json')\n",
    "credit_card_type = df[df['CreditCardType'].str.contains(\"American Express\")]\n",
    "credit_card_type.to_csv('CardType.scv', sep='\\t', encoding='utf-8')"
   ]
  },
  {
   "cell_type": "code",
   "execution_count": 35,
   "metadata": {},
   "outputs": [],
   "source": [
    "import pandas as pd\n",
    "import numpy as np\n",
    "\n",
    "data = pd.read_csv('Data/mushrooms_categorized.csv')\n",
    "\n",
    "new_frame = data.groupby('class')\n",
    "class_1 = new_frame.get_group(1)\n",
    "class_2 = new_frame.get_group(0)\n",
    "class_1 = class_1.mean().to_frame().T\n",
    "class_2 = class_2.mean().to_frame().T\n",
    "class_1.to_json('class_1.json', orient='records', lines=True)\n",
    "class_2.to_json('class_2.json', orient='records', lines=True)"
   ]
  },
  {
   "cell_type": "code",
   "execution_count": 45,
   "metadata": {},
   "outputs": [],
   "source": [
    "import pandas as pd\n",
    "import numpy as np\n",
    "import textwrap\n",
    "\n",
    "def binarytodec(binary_data):\n",
    "    binary_data = binary_data[:-4]\n",
    "    binary_data = textwrap.wrap(binary_data, 6)\n",
    "    dec_data = [chr(int(ele, 2)) for ele in binary_data]\n",
    "    dec_data =  ''.join(dec_data)\n",
    "    return dec_data\n",
    "    \n",
    "df = pd.read_csv('Data/credit_card.dat', header=None, sep='\\s\\s+', engine='python')\n",
    "df[df.columns[-1]] = df[df.columns[-1]].apply(binarytodec)\n"
   ]
  },
  {
   "cell_type": "code",
   "execution_count": null,
   "metadata": {},
   "outputs": [],
   "source": []
  }
 ],
 "metadata": {
  "interpreter": {
   "hash": "0bcc78bc1c3e4185a1bb5d5311c1a881c2fed6218afc723045c33b4b4a3dcd44"
  },
  "kernelspec": {
   "display_name": "Python 3.8.8 64-bit ('base': conda)",
   "language": "python",
   "name": "python3"
  },
  "language_info": {
   "codemirror_mode": {
    "name": "ipython",
    "version": 3
   },
   "file_extension": ".py",
   "mimetype": "text/x-python",
   "name": "python",
   "nbconvert_exporter": "python",
   "pygments_lexer": "ipython3",
   "version": "3.8.8"
  },
  "orig_nbformat": 4
 },
 "nbformat": 4,
 "nbformat_minor": 2
}
