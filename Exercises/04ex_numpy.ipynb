{
 "cells": [
  {
   "cell_type": "code",
   "execution_count": 2,
   "metadata": {},
   "outputs": [],
   "source": [
    "import numpy as np"
   ]
  },
  {
   "cell_type": "markdown",
   "metadata": {},
   "source": [
    "1\\. Find the total mean, and the mean for each row and column of the following matrix:\n",
    "\n",
    "```python\n",
    "m = np.arange(12).reshape((3,4))\n",
    "```"
   ]
  },
  {
   "cell_type": "code",
   "execution_count": 3,
   "metadata": {},
   "outputs": [
    {
     "name": "stdout",
     "output_type": "stream",
     "text": [
      "[[ 0  1  2  3]\n",
      " [ 4  5  6  7]\n",
      " [ 8  9 10 11]]\n",
      "total mean: \n",
      " 5.5\n",
      "mean of each row: \n",
      " [1.5 5.5 9.5]\n",
      "mean of each coloumn: \n",
      " [4. 5. 6. 7.]\n"
     ]
    }
   ],
   "source": [
    " \n",
    "m = np.arange(12).reshape((3,4))\n",
    "\n",
    "print(m)\n",
    "print(\"total mean:\",'\\n', m.mean())\n",
    "print(\"mean of each row:\", '\\n', np.mean(m,1))\n",
    "print(\"mean of each coloumn:\", '\\n', np.mean(m,0))"
   ]
  },
  {
   "cell_type": "markdown",
   "metadata": {},
   "source": [
    "2\\. Find the outer product of the following vectors:\n",
    "\n",
    "```python\n",
    "u = np.array([1, 3, 5, 7])\n",
    "v = np.array([2, 4, 6, 8])\n",
    "```\n",
    "\n",
    "Use different methods to do this:\n",
    "\n",
    "   1. Using the function `outer` in numpy\n",
    "   2. Using a nested `for` loop or a list comprehension\n",
    "   3. Using numpy broadcasting operations"
   ]
  },
  {
   "cell_type": "code",
   "execution_count": 12,
   "metadata": {},
   "outputs": [
    {
     "name": "stdout",
     "output_type": "stream",
     "text": [
      "The outer product of u and v computed with outer function is  \n",
      " [[ 2  4  6  8]\n",
      " [ 6 12 18 24]\n",
      " [10 20 30 40]\n",
      " [14 28 42 56]]\n",
      "the outer product of u and v computed with loops is \n",
      " [[ 2  4  6  8]\n",
      " [ 6 12 18 24]\n",
      " [10 20 30 40]\n",
      " [14 28 42 56]]\n",
      "the outer product of u and v computed with broadcasting operators is \n",
      " [[ 2  4  6  8]\n",
      " [ 6 12 18 24]\n",
      " [10 20 30 40]\n",
      " [14 28 42 56]]\n"
     ]
    }
   ],
   "source": [
    "u = np.array([1, 3, 5, 7])\n",
    "v = np.array([2, 4, 6, 8]) \n",
    "\n",
    "# 1)outer function\n",
    "p_1 = np.outer(u,v)\n",
    "print(\"The outer product of u and v computed with outer function is \", '\\n', p_1)\n",
    "\n",
    "#2)\n",
    "\n",
    "p_2 = np.array([ u[i]*v[j] for i in range(len(u)) for j in range (len(v))]).reshape(4,4)\n",
    "print(\"the outer product of u and v computed with list comprehension is\", '\\n', p_2)\n",
    "\n",
    "#3)broadcasting operations\n",
    "p_3 = np.tile(u,(4,1)).T * np.tile(v,(4,1))\n",
    "print(\"the outer product of u and v computed with broadcasting operators is\", '\\n', p_3)\n"
   ]
  },
  {
   "cell_type": "markdown",
   "metadata": {},
   "source": [
    "3\\. Create a 10 by 6 matrix of increasing float numbers, starting from zero and increasing in each step by 0.1, so the output matrix looks like the following:\n",
    "\n",
    "```python\n",
    "m = [[0. 0.1, 0.2 0.3 ... 0.9]\n",
    "     [1.0 1.1 1.2 1.3 ... 1.9]\n",
    "     ...\n",
    "     [5.0 5.1 5.2 5.3 ... 5.9]]\n",
    "```\n",
    "After creating the matrix, set all entries with a decimal part $< 0.4$ to zero."
   ]
  },
  {
   "cell_type": "code",
   "execution_count": 44,
   "metadata": {},
   "outputs": [
    {
     "name": "stdout",
     "output_type": "stream",
     "text": [
      "Matrix with 6 rows and 10 coloumns:\n",
      " [[0.  0.1 0.2 0.3 0.4 0.5 0.6 0.7 0.8 0.9]\n",
      " [1.  1.1 1.2 1.3 1.4 1.5 1.6 1.7 1.8 1.9]\n",
      " [2.  2.1 2.2 2.3 2.4 2.5 2.6 2.7 2.8 2.9]\n",
      " [3.  3.1 3.2 3.3 3.4 3.5 3.6 3.7 3.8 3.9]\n",
      " [4.  4.1 4.2 4.3 4.4 4.5 4.6 4.7 4.8 4.9]\n",
      " [5.  5.1 5.2 5.3 5.4 5.5 5.6 5.7 5.8 5.9]]\n",
      "Modified entries:\n",
      " [[0.  0.  0.  0.  0.4 0.5 0.6 0.7 0.8 0.9]\n",
      " [0.  0.  0.  0.  1.4 1.5 1.6 1.7 1.8 1.9]\n",
      " [0.  0.  0.  0.  2.4 2.5 2.6 2.7 2.8 2.9]\n",
      " [0.  0.  0.  0.  3.4 3.5 3.6 3.7 3.8 3.9]\n",
      " [0.  0.  0.  0.  4.4 4.5 4.6 4.7 4.8 4.9]\n",
      " [0.  0.  0.  0.  5.4 5.5 5.6 5.7 5.8 5.9]]\n"
     ]
    }
   ],
   "source": [
    "for j in range(7): \n",
    "    m = np.array([np.arange(0,j,0.1)])\n",
    "\n",
    "M = m.reshape(6,10)\n",
    "print(\"Matrix with 6 rows and 10 coloumns:\\n\",M)\n",
    "\n",
    "for k in np.arange(0,6): #loop on rows \n",
    "    for h in np.arange(0,10): #loop on coloumns\n",
    "        if (M[k,h]-k) < 0.4:\n",
    "            M[k,h] = 0\n",
    "\n",
    "print(\"Matrix with modified entries:\\n\",M)\n",
    "\n"
   ]
  },
  {
   "cell_type": "markdown",
   "metadata": {},
   "source": [
    "4\\. Use `np.linspace` to create an array of 100 numbers between 0 and 2π (inclusive).\n",
    "\n",
    "  * Extract every 10th element using the slice notation\n",
    "  * Reverse the array using the slice notation\n",
    "  * Extract elements where the absolute difference between the sin and cos functions evaluated for that element is $< 0.1$\n",
    "  * **Optional**: make a plot showing the sin and cos functions and indicate where they are close"
   ]
  },
  {
   "cell_type": "code",
   "execution_count": 75,
   "metadata": {},
   "outputs": [
    {
     "name": "stdout",
     "output_type": "stream",
     "text": [
      "Original array \n",
      " [0.         0.06346652 0.12693304 0.19039955 0.25386607 0.31733259\n",
      " 0.38079911 0.44426563 0.50773215 0.57119866 0.63466518 0.6981317\n",
      " 0.76159822 0.82506474 0.88853126 0.95199777 1.01546429 1.07893081\n",
      " 1.14239733 1.20586385 1.26933037 1.33279688 1.3962634  1.45972992\n",
      " 1.52319644 1.58666296 1.65012947 1.71359599 1.77706251 1.84052903\n",
      " 1.90399555 1.96746207 2.03092858 2.0943951  2.15786162 2.22132814\n",
      " 2.28479466 2.34826118 2.41172769 2.47519421 2.53866073 2.60212725\n",
      " 2.66559377 2.72906028 2.7925268  2.85599332 2.91945984 2.98292636\n",
      " 3.04639288 3.10985939 3.17332591 3.23679243 3.30025895 3.36372547\n",
      " 3.42719199 3.4906585  3.55412502 3.61759154 3.68105806 3.74452458\n",
      " 3.8079911  3.87145761 3.93492413 3.99839065 4.06185717 4.12532369\n",
      " 4.1887902  4.25225672 4.31572324 4.37918976 4.44265628 4.5061228\n",
      " 4.56958931 4.63305583 4.69652235 4.75998887 4.82345539 4.88692191\n",
      " 4.95038842 5.01385494 5.07732146 5.14078798 5.2042545  5.26772102\n",
      " 5.33118753 5.39465405 5.45812057 5.52158709 5.58505361 5.64852012\n",
      " 5.71198664 5.77545316 5.83891968 5.9023862  5.96585272 6.02931923\n",
      " 6.09278575 6.15625227 6.21971879 6.28318531]\n",
      "\n",
      " Array of one elements every 10 \n",
      " [0.         0.63466518 1.26933037 1.90399555 2.53866073 3.17332591\n",
      " 3.8079911  4.44265628 5.07732146 5.71198664]\n",
      "\n",
      " Reversed array: \n",
      " [6.28318531 6.21971879 6.15625227 6.09278575 6.02931923 5.96585272\n",
      " 5.9023862  5.83891968 5.77545316 5.71198664 5.64852012 5.58505361\n",
      " 5.52158709 5.45812057 5.39465405 5.33118753 5.26772102 5.2042545\n",
      " 5.14078798 5.07732146 5.01385494 4.95038842 4.88692191 4.82345539\n",
      " 4.75998887 4.69652235 4.63305583 4.56958931 4.5061228  4.44265628\n",
      " 4.37918976 4.31572324 4.25225672 4.1887902  4.12532369 4.06185717\n",
      " 3.99839065 3.93492413 3.87145761 3.8079911  3.74452458 3.68105806\n",
      " 3.61759154 3.55412502 3.4906585  3.42719199 3.36372547 3.30025895\n",
      " 3.23679243 3.17332591 3.10985939 3.04639288 2.98292636 2.91945984\n",
      " 2.85599332 2.7925268  2.72906028 2.66559377 2.60212725 2.53866073\n",
      " 2.47519421 2.41172769 2.34826118 2.28479466 2.22132814 2.15786162\n",
      " 2.0943951  2.03092858 1.96746207 1.90399555 1.84052903 1.77706251\n",
      " 1.71359599 1.65012947 1.58666296 1.52319644 1.45972992 1.3962634\n",
      " 1.33279688 1.26933037 1.20586385 1.14239733 1.07893081 1.01546429\n",
      " 0.95199777 0.88853126 0.82506474 0.76159822 0.6981317  0.63466518\n",
      " 0.57119866 0.50773215 0.44426563 0.38079911 0.31733259 0.25386607\n",
      " 0.19039955 0.12693304 0.06346652 0.        ]\n",
      "\n",
      " Array of differences with absolute value < 0.1 \n",
      " [0.7615982190520711, 0.8250647373064104, 3.8714576135146945, 3.934924131769034]\n"
     ]
    },
    {
     "data": {
      "text/plain": [
       "<matplotlib.collections.PathCollection at 0x12082a670>"
      ]
     },
     "execution_count": 75,
     "metadata": {},
     "output_type": "execute_result"
    },
    {
     "data": {
      "image/png": "[encoded data removed]",
      "text/plain": [
       "<Figure size 1008x576 with 1 Axes>"
      ]
     },
     "metadata": {
      "needs_background": "light"
     },
     "output_type": "display_data"
    }
   ],
   "source": [
    "import matplotlib.pyplot as plt\n",
    "\n",
    "xs = np.linspace(0, 2*np.pi, 100) #arrray of 100 numbers\n",
    "print(\"Original array \\n\", xs)\n",
    "\n",
    "#a)Extracting every 10 element\n",
    "a = xs[::10]\n",
    "print(\"\\n Array of one elements every 10 \\n\",a)\n",
    "\n",
    "#b)Reversing the array\n",
    "b = xs[::-1]\n",
    "print(\"\\n Reversed array: \\n\",b)\n",
    "\n",
    "#c)Extract elements with absolute diff <0.1\n",
    "cos_c = [] #initializing array for sin and cos -> y values for \"sin-cos\" plot\n",
    "sin_c = []\n",
    "\n",
    "x = [] #x for \"sin-cos\" plot\n",
    "n = []\n",
    "\n",
    "cosDiff = [] #initializing array for differences -> y for \"close\" plot\n",
    "sinDiff = [] \n",
    "\n",
    "cosX = [] #x for \"close\" plot\n",
    "sinX = []\n",
    "\n",
    "for i in range(len(xs)):\n",
    "\n",
    "    #I fill the array of x-axis for \"sin-cos\" plot\n",
    "    x.append(xs[i])\n",
    "\n",
    "    #I fill the arrays with sin and cos values \n",
    "    cos_c.append(np.cos(xs[i])) \n",
    "    sin_c.append(np.sin(xs[i]))\n",
    "\n",
    "    #now I put the constrain on their difference\n",
    "    if np.abs(cos_c[i]-sin_c[i]) < 0.1 :\n",
    "        n.append(xs[i])\n",
    "\n",
    "        #I fill arrays' of differences -> y values of \"close\"-plot\n",
    "        cosDiff.append(cos_c[i])\n",
    "        sinDiff.append(sin_c[i])\n",
    "\n",
    "        #I fill arrays of x values for \"close\" plot\n",
    "        cosX.append(xs[i])\n",
    "        sinX.append(xs[i])\n",
    "\n",
    "print(\"\\n Array of differences with absolute value < 0.1 \\n\", n)\n",
    "\n",
    "\n",
    "\n",
    "#d) Optional plot\n",
    "\n",
    "#Plotting sin and cos functions (\"sin-cos\" plot)\n",
    "plt.rcParams[\"figure.figsize\"] = (14,8)\n",
    "plt.scatter(x,sin_c,s=10, c='b', marker='o')\n",
    "plt.scatter(x,cos_c,s=10,c='r',marker='o')\n",
    "\n",
    "#Plotting where they are close (\"close\" plot)           \n",
    "plt.scatter(cosX,cosDiff,s=30,c='g',marker='*')\n",
    "plt.scatter(sinX,sinDiff,s=30,c='g',marker='*')\n",
    "\n",
    "\n"
   ]
  },
  {
   "cell_type": "markdown",
   "metadata": {},
   "source": [
    "5\\. Create a matrix that shows the 10 by 10 multiplication table.\n",
    "\n",
    " * Find the trace of the matrix\n",
    " * Extract the anti-diagonal matrix (this should be ```array([10, 18, 24, 28, 30, 30, 28, 24, 18, 10])```)\n",
    " * Extract the diagonal offset by 1 upwards (this should be ```array([ 2,  6, 12, 20, 30, 42, 56, 72, 90])```)"
   ]
  },
  {
   "cell_type": "code",
   "execution_count": 68,
   "metadata": {},
   "outputs": [
    {
     "name": "stdout",
     "output_type": "stream",
     "text": [
      "Matrix of 10 multiplication table: \n",
      " [[  1   2   3   4   5   6   7   8   9  10]\n",
      " [  2   4   6   8  10  12  14  16  18  20]\n",
      " [  3   6   9  12  15  18  21  24  27  30]\n",
      " [  4   8  12  16  20  24  28  32  36  40]\n",
      " [  5  10  15  20  25  30  35  40  45  50]\n",
      " [  6  12  18  24  30  36  42  48  54  60]\n",
      " [  7  14  21  28  35  42  49  56  63  70]\n",
      " [  8  16  24  32  40  48  56  64  72  80]\n",
      " [  9  18  27  36  45  54  63  72  81  90]\n",
      " [ 10  20  30  40  50  60  70  80  90 100]]\n",
      "Elements of the diagonal \n",
      " [  1   4   9  16  25  36  49  64  81 100]\n",
      "The trace of the matrix is: 385\n",
      "The anti-diagonal is: \n",
      " [10 18 24 28 30 30 28 24 18 10]\n",
      "The diagonal shifted by 1 is: [ 2  6 12 20 30 42 56 72 90]\n"
     ]
    }
   ],
   "source": [
    "matrix = np.tile(np.arange(1,11),(10,1)) #Here there is a 10x10 matrix with elements from 1 to 10 each row\n",
    "\n",
    "#creating the matrix with 10 by 10 multiplication table\n",
    "multip = matrix*matrix.T \n",
    "print(\"Matrix of 10 multiplication table: \\n\",multip)\n",
    "\n",
    "#Computing the trace\n",
    "print(\"Elements of the diagonal \\n\",np.diag(multip)) #first taking elements from diagonal\n",
    "print(\"The trace of the matrix is:\", np.trace(multip)) #then adding them\n",
    "\n",
    "#Extracting the anti-diagonal\n",
    "print(\"The anti-diagonal is: \\n\",np.diag(multip[::-1]))\n",
    "\n",
    "#Extracting the diagonal offset by 1 upwards\n",
    "print(\"The diagonal shifted by 1 is:\", np.diag(multip[1::]))\n",
    "\n",
    "\n"
   ]
  },
  {
   "cell_type": "markdown",
   "metadata": {},
   "source": [
    "6\\. Use broadcasting to create a grid of distances.\n",
    "\n",
    "Route 66 crosses the following cities in the US: Chicago, Springfield, Saint-Louis, Tulsa, Oklahoma City, Amarillo, Santa Fe, Albuquerque, Flagstaff, Los Angeles\n",
    "The corresponding positions in miles are: 0, 198, 303, 736, 871, 1175, 1475, 1544, 1913, 2448\n",
    "\n",
    "  * Build a 2D grid of distances among each city along Route 66\n",
    "  * Convert the distances in km"
   ]
  },
  {
   "cell_type": "code",
   "execution_count": 70,
   "metadata": {},
   "outputs": [
    {
     "name": "stdout",
     "output_type": "stream",
     "text": [
      "Distance in miles:\n",
      " [[   0  198  303  736  871 1175 1475 1544 1913 2448]\n",
      " [ 198    0  105  538  673  977 1277 1346 1715 2250]\n",
      " [ 303  105    0  433  568  872 1172 1241 1610 2145]\n",
      " [ 736  538  433    0  135  439  739  808 1177 1712]\n",
      " [ 871  673  568  135    0  304  604  673 1042 1577]\n",
      " [1175  977  872  439  304    0  300  369  738 1273]\n",
      " [1475 1277 1172  739  604  300    0   69  438  973]\n",
      " [1544 1346 1241  808  673  369   69    0  369  904]\n",
      " [1913 1715 1610 1177 1042  738  438  369    0  535]\n",
      " [2448 2250 2145 1712 1577 1273  973  904  535    0]]\n",
      "Distance converted in km:\n",
      " [[   0.       318.64932  487.63002 1184.47424 1401.73514 1890.9745\n",
      "  2373.7765  2484.82096 3078.66742 3939.66432]\n",
      " [ 318.64932    0.       168.9807   865.82492 1083.08582 1572.32518\n",
      "  2055.12718 2166.17164 2760.0181  3621.015  ]\n",
      " [ 487.63002  168.9807     0.       696.84422  914.10512 1403.34448\n",
      "  1886.14648 1997.19094 2591.0374  3452.0343 ]\n",
      " [1184.47424  865.82492  696.84422    0.       217.2609   706.50026\n",
      "  1189.30226 1300.34672 1894.19318 2755.19008]\n",
      " [1401.73514 1083.08582  914.10512  217.2609     0.       489.23936\n",
      "   972.04136 1083.08582 1676.93228 2537.92918]\n",
      " [1890.9745  1572.32518 1403.34448  706.50026  489.23936    0.\n",
      "   482.802    593.84646 1187.69292 2048.68982]\n",
      " [2373.7765  2055.12718 1886.14648 1189.30226  972.04136  482.802\n",
      "     0.       111.04446  704.89092 1565.88782]\n",
      " [2484.82096 2166.17164 1997.19094 1300.34672 1083.08582  593.84646\n",
      "   111.04446    0.       593.84646 1454.84336]\n",
      " [3078.66742 2760.0181  2591.0374  1894.19318 1676.93228 1187.69292\n",
      "   704.89092  593.84646    0.       860.9969 ]\n",
      " [3939.66432 3621.015   3452.0343  2755.19008 2537.92918 2048.68982\n",
      "  1565.88782 1454.84336  860.9969     0.     ]]\n"
     ]
    }
   ],
   "source": [
    "#array of cities\n",
    "cities = np.array([\"Chicago\", \"Springfield\", \"Saint-Louis\", \"Tulsa\", \"Oklahoma City\", \"Amarillo\", \"Santa Fe\", \"Albuquerque\", \"Flagstaff\", \"Los Angeles\"])\n",
    "\n",
    "#array of miles \n",
    "miles = np.array([0, 198, 303, 736, 871, 1175, 1475, 1544, 1913, 2448])\n",
    "\n",
    "#defining function for the distances\n",
    "def dist(x):\n",
    "    distance = np.tile(x,(len(x),1))\n",
    "    distance = np.abs(distance-distance.T)\n",
    "    return distance\n",
    "\n",
    "#passing at dist function the array with the miles between each city\n",
    "dist_miles = dist(miles)\n",
    "print(\"Distance in miles:\\n\",dist_miles)\n",
    "\n",
    "#converting the distance in km\n",
    "convertion = 1.60934\n",
    "print(\"Distance converted in km:\\n\",dist_miles*convertion)\n"
   ]
  },
  {
   "cell_type": "markdown",
   "metadata": {},
   "source": [
    "7\\. Prime numbers sieve: compute the prime numbers in the 0-N (start with N=99) range with a sieve (mask).\n",
    "  * Check the performances (timeit); how does it scale with N?\n",
    "  * Implement the optimization suggested in the [sieve of Eratosthenes](https://en.wikipedia.org/wiki/Sieve_of_Eratosthenes)"
   ]
  },
  {
   "cell_type": "code",
   "execution_count": 76,
   "metadata": {},
   "outputs": [
    {
     "name": "stdout",
     "output_type": "stream",
     "text": [
      "Time needed for computation:\n",
      "10 µs ± 1.55 µs per loop (mean ± std. dev. of 7 runs, 100000 loops each)\n",
      "Time needed for computation with N ={}: 100\n",
      "8.82 µs ± 1.33 µs per loop (mean ± std. dev. of 7 runs, 100000 loops each)\n",
      "Time needed for computation with N ={}: 200\n"
     ]
    }
   ],
   "source": [
    "n = np.arange(0,100)\n",
    "\n",
    "b = False\n",
    "\n",
    "#function to find prime numbers\n",
    "def NumPrime(x):\n",
    "    b = False \n",
    "    # 1 and 2 are already prime numbers so I'm not interested in them \n",
    "    if x > 2:\n",
    "        for i in np.arange(2,x):\n",
    "            if x % i == 0: #if this happens x it is not a prime number because i it's its divisor\n",
    "                b = True\n",
    "                break\n",
    "            if b == True: \n",
    "                return False\n",
    "        return True \n",
    "    else:\n",
    "        return False\n",
    "\n",
    "#defining a mask in which I pass to NumPrime each element of n \n",
    "mask = [NumPrime(j) for j in n]\n",
    "print(\"Time needed for computation:\", )\n",
    "%timeit nNumPrime = n[mask]\n",
    "\n",
    "#changing size of n with the loop\n",
    "N = [100,200,300,400,500] \n",
    "\n",
    "for i in N:\n",
    "    n2 = np.arange(0,i)\n",
    "    mask2 = [NumPrime(x) for x in n2]\n",
    "    print(\"Time needed for computation with N ={}:\",i)\n",
    "    %timeit nNumPrime2 = n2[mask2]\n",
    "\n"
   ]
  },
  {
   "cell_type": "code",
   "execution_count": null,
   "metadata": {},
   "outputs": [],
   "source": []
  }
 ],
 "metadata": {
  "interpreter": {
   "hash": "40d3a090f54c6569ab1632332b64b2c03c39dcf918b08424e98f38b5ae0af88f"
  },
  "kernelspec": {
   "display_name": "Python 3.8.3 64-bit ('base': conda)",
   "name": "python3"
  },
  "language_info": {
   "codemirror_mode": {
    "name": "ipython",
    "version": 3
   },
   "file_extension": ".py",
   "mimetype": "text/x-python",
   "name": "python",
   "nbconvert_exporter": "python",
   "pygments_lexer": "ipython3",
   "version": "3.8.3"
  }
 },
 "nbformat": 4,
 "nbformat_minor": 2
}
