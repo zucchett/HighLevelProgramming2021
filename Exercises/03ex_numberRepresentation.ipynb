{
 "cells": [
  {
   "cell_type": "markdown",
   "metadata": {},
   "source": [
    "1\\. Write a function that converts numbers among the bin, dec, and hex representations (bin<->dec<->hex)"
   ]
  },
  {
   "cell_type": "code",
   "execution_count": 1,
   "metadata": {},
   "outputs": [
    {
     "name": "stdout",
     "output_type": "stream",
     "text": [
      "Conversion of the number inserted in binary,decimal,hexadecimal: \n",
      "('0b1110', 14, '0xe')\n"
     ]
    }
   ],
   "source": [
    "n = 14\n",
    "repres = \"dec\"\n",
    "\n",
    "#function to convert numbers\n",
    "def conversion(n, repres):\n",
    "    if repres == \"bin\":\n",
    "        return(n, int(n, 2), hex(int(n, 2))) #coverts bin into dec and hex\n",
    "    \n",
    "    elif repres == \"dec\":\n",
    "        return(bin(n), n, hex(n)) #converts dec into bin and hex\n",
    "    \n",
    "    elif repres == \"hex\":\n",
    "        return(bin(int(n, 16)), int(n, 16), n) #converts hex into dec and bin\n",
    "    \n",
    "    else:\n",
    "        raise ValueError ('You requested a base which is not allowed.') #can not convert in any other basis\n",
    "\n",
    "print(\"Conversion of the number inserted in binary,decimal,hexadecimal: \")\n",
    "print(conversion(n, repres))"
   ]
  },
  {
   "cell_type": "markdown",
   "metadata": {},
   "source": [
    "2\\. Write a function that converts a 32 bit word into a single precision floating point (i.e. interprets the various bits as sign, mantissa and exponent) and check its validity."
   ]
  },
  {
   "cell_type": "code",
   "execution_count": 2,
   "metadata": {},
   "outputs": [
    {
     "name": "stdout",
     "output_type": "stream",
     "text": [
      "Converted binary number 00000011111000000000000000000000 to float gives the result:\n",
      " 1.316553672920962e-36\n"
     ]
    }
   ],
   "source": [
    "import math #I need it to use pow and other functions\n",
    "\n",
    "word = '00000011111000000000000000000000'\n",
    "\n",
    "\n",
    "def binary_to_float(s):\n",
    "    \"\"\"Function to convert a 32-bit string into a float\"\"\"\n",
    "    sign = pow(-1, int(s[0]))\n",
    "    exp = int(s[1:9], 2) - 127\n",
    "    m = 0\n",
    "    for j, i in enumerate(s[9:32], 1):\n",
    "        m += (int(i) * pow(2, (-1)*j)) #defining the mantissa\n",
    "    return(sign * pow(2, exp) * (m + 1))\n",
    "\n",
    "print(\"Converted binary number\",word,\"to float gives the result:\\n\", binary_to_float(word))"
   ]
  },
  {
   "cell_type": "markdown",
   "metadata": {},
   "source": [
    "3\\. Write a program to determine the underflow and overflow limits (within a factor of 2) for python on your computer. \n",
    "\n",
    "**Tip**: define two variables initialized to 1 and halve/double them for a sufficient amount of times to exceed the under/over-flow limits  "
   ]
  },
  {
   "cell_type": "code",
   "execution_count": 3,
   "metadata": {},
   "outputs": [
    {
     "name": "stdout",
     "output_type": "stream",
     "text": [
      "Underflow limit value: approx 5e-324 \n",
      " reached after 1074 iterations\n"
     ]
    },
    {
     "ename": "KeyboardInterrupt",
     "evalue": "",
     "output_type": "error",
     "traceback": [
      "\u001b[0;31m---------------------------------------------------------------------------\u001b[0m",
      "\u001b[0;31mKeyboardInterrupt\u001b[0m                         Traceback (most recent call last)",
      "\u001b[0;32m/var/folders/nv/s1vhgs_j4vn0c554l8gx5ky00000gn/T/ipykernel_73862/3385280517.py\u001b[0m in \u001b[0;36m<module>\u001b[0;34m\u001b[0m\n\u001b[1;32m     10\u001b[0m \u001b[0mvar2\u001b[0m\u001b[0;34m=\u001b[0m\u001b[0;36m1\u001b[0m\u001b[0;34m\u001b[0m\u001b[0;34m\u001b[0m\u001b[0m\n\u001b[1;32m     11\u001b[0m \u001b[0mi\u001b[0m\u001b[0;34m=\u001b[0m\u001b[0;36m0\u001b[0m\u001b[0;34m\u001b[0m\u001b[0;34m\u001b[0m\u001b[0m\n\u001b[0;32m---> 12\u001b[0;31m \u001b[0;32mwhile\u001b[0m \u001b[0mvar2\u001b[0m\u001b[0;34m+\u001b[0m\u001b[0;36m1\u001b[0m\u001b[0;34m!=\u001b[0m\u001b[0mvar2\u001b[0m\u001b[0;34m:\u001b[0m\u001b[0;34m\u001b[0m\u001b[0;34m\u001b[0m\u001b[0m\n\u001b[0m\u001b[1;32m     13\u001b[0m     \u001b[0mvar2\u001b[0m\u001b[0;34m=\u001b[0m\u001b[0mvar2\u001b[0m\u001b[0;34m*\u001b[0m\u001b[0;36m2\u001b[0m\u001b[0;34m\u001b[0m\u001b[0;34m\u001b[0m\u001b[0m\n\u001b[1;32m     14\u001b[0m     \u001b[0mi\u001b[0m\u001b[0;34m=\u001b[0m\u001b[0mi\u001b[0m\u001b[0;34m+\u001b[0m\u001b[0;36m1\u001b[0m\u001b[0;34m\u001b[0m\u001b[0;34m\u001b[0m\u001b[0m\n",
      "\u001b[0;31mKeyboardInterrupt\u001b[0m: "
     ]
    }
   ],
   "source": [
    "#First part for the Underflow\n",
    "var1=1\n",
    "i=0 #variable of the while loop\n",
    "while var1>0:\n",
    "    var1 = var1/2 #I have to determine the limits within a factor of 2\n",
    "    i = i+1\n",
    "    if var1/2 == 0: #when this is equale to zero the cicle interrupts and I've found the Underflow\n",
    "        print(\"Underflow limit value: approx\",var1,\"\\n reached after\",i,\"iterations\")\n",
    "        i = i+1\n",
    "        break\n",
    "    \n",
    "#Second part for the Overflow\n",
    "var2=1\n",
    "i=0\n",
    "while var2+1!= var2:\n",
    "    var2 = var2*2 #I have to determine the limits within a factor of 2\n",
    "    i = i+1\n",
    "    if var2+1 == var2:\n",
    "        print(\"Overflow limit value: approx\",var2,\"\\n reached after\",i,\"iterations\")\n",
    "        i = i+1\n",
    "        break"
   ]
  },
  {
   "cell_type": "markdown",
   "metadata": {},
   "source": [
    "4\\. Write a program to determine the machine precision\n",
    "\n",
    "**Tip**: define a new variable by adding an increasingly smaller value (in the same way as the previous problem) and check when the addition starts to have no effect on the number"
   ]
  },
  {
   "cell_type": "code",
   "execution_count": 4,
   "metadata": {},
   "outputs": [
    {
     "ename": "ModuleNotFoundError",
     "evalue": "No module named 'numpy'",
     "output_type": "error",
     "traceback": [
      "\u001b[0;31m---------------------------------------------------------------------------\u001b[0m",
      "\u001b[0;31mModuleNotFoundError\u001b[0m                       Traceback (most recent call last)",
      "\u001b[0;32m/var/folders/nv/s1vhgs_j4vn0c554l8gx5ky00000gn/T/ipykernel_73862/2437180885.py\u001b[0m in \u001b[0;36m<module>\u001b[0;34m\u001b[0m\n\u001b[1;32m      1\u001b[0m \u001b[0;31m#precise result\u001b[0m\u001b[0;34m\u001b[0m\u001b[0;34m\u001b[0m\u001b[0;34m\u001b[0m\u001b[0m\n\u001b[0;32m----> 2\u001b[0;31m \u001b[0;32mimport\u001b[0m \u001b[0mnumpy\u001b[0m \u001b[0;32mas\u001b[0m \u001b[0mnp\u001b[0m\u001b[0;34m\u001b[0m\u001b[0;34m\u001b[0m\u001b[0m\n\u001b[0m\u001b[1;32m      3\u001b[0m \u001b[0mprint\u001b[0m\u001b[0;34m(\u001b[0m\u001b[0;34m\"The real precision is:\\n\"\u001b[0m\u001b[0;34m,\u001b[0m \u001b[0mnp\u001b[0m\u001b[0;34m.\u001b[0m\u001b[0mfinfo\u001b[0m\u001b[0;34m(\u001b[0m\u001b[0mfloat\u001b[0m\u001b[0;34m)\u001b[0m\u001b[0;34m.\u001b[0m\u001b[0meps\u001b[0m\u001b[0;34m)\u001b[0m\u001b[0;34m\u001b[0m\u001b[0;34m\u001b[0m\u001b[0m\n",
      "\u001b[0;31mModuleNotFoundError\u001b[0m: No module named 'numpy'"
     ]
    }
   ],
   "source": [
    "#precise result\n",
    "import numpy \n",
    "print(\"The real precision is:\\n\", numpy.finfo(float).eps)"
   ]
  },
  {
   "cell_type": "code",
   "execution_count": null,
   "metadata": {},
   "outputs": [],
   "source": [
    "x=1 #this is my new variable\n",
    "epsilon=1 #this is the small value I add\n",
    "n1=x+epsilon #I add to the variable the small one\n",
    "while n1!= x:\n",
    "    epsilon = epsilon/2 #I make epsilon smaller each cicle\n",
    "    n1 = x+epsilon\n",
    "    if x+epsilon/2 == x: #means that epsilon/2 is too small to be detected by the machine -> I'v found its precision!\n",
    "        print(\"Last number reached:\\n\",n1,\"\\nSo our precision is:\\n\",10**(-len(str(n1))+2))#+2 for the \"1.\"\n",
    "        break"
   ]
  },
  {
   "cell_type": "markdown",
   "metadata": {},
   "source": [
    "5\\. Write a function that takes in input three parameters $a$, $b$ and $c$ and prints out the two solutions to the quadratic equation $ax^2+bx+c=0$ using the standard formula:\n",
    "$$\n",
    "x=\\frac{-b\\pm\\sqrt{b^2-4ac}}{2a}\n",
    "$$\n",
    "\n",
    "(a) use the program to compute the solution for $a=0.001$, $b=1000$ and $c=0.001$\n",
    "\n",
    "(b) re-express the standard solution formula by multiplying the numerator and the denominator by $-b\\mp\\sqrt{b^2-4ac}$ and again find the solution for $a=0.001$, $b=1000$ and $c=0.001$. How does it compare with what has been previously obtained, and why?\n",
    "\n",
    "(c) write a function that computes the roots of a quadratic equation accurately in all cases"
   ]
  },
  {
   "cell_type": "code",
   "execution_count": null,
   "metadata": {},
   "outputs": [],
   "source": [
    "import numpy as np\n",
    "\n",
    "# a) Solution for fixed value of a,b and c \n",
    "def solution_std(a,b,c):\n",
    "\n",
    "    if (b**2-4*a*c)<0: #case when solution are not real\n",
    "        raise ValueError ('Delta<0 -->no real solutions') \n",
    "    else:\n",
    "        #implementation of the formula for the solutions\n",
    "        sol_1=(-b+np.sqrt(b**2-4*a*c))/(2*a)\n",
    "        sol_2=(-b-np.sqrt(b**2-4*a*c))/(2*a)\n",
    "        return sol_1, sol_2\n",
    "\n",
    "#b) Re-expression of the standard formula\n",
    "def solution_bis(a,b,c):\n",
    "    if (b**2-4*a*c)<0:\n",
    "        raise ValueError ('Delta<0 -->no real solutions')\n",
    "    else:\n",
    "        sol_1=(2*c)/(-b - np.sqrt(b**2-4*a*c))\n",
    "        sol_2=(2*c)/(-b + np.sqrt(b**2-4*a*c))\n",
    "        return sol_1,sol_2\n",
    "\n",
    "#c) Computation of solutions accurately\n",
    "def solution_accurate(a,b,c):\n",
    "    if (b**2-4*a*c)<0:\n",
    "        raise ValueError ('Delta<0 -->no real solutions')\n",
    "    \n",
    "    else:\n",
    "        sol_1 = (2*c)/(-b - np.sqrt(b**2-4*a*c))\n",
    "        sol_2 = (-b - np.sqrt(b**2-4*a*c))/(2*a)\n",
    "        return sol_1,sol_2\n",
    "\n",
    "a=c=0.001\n",
    "b=1000\n",
    "                                        \n",
    "print(\"Our equation is\",a,\"x^2 +\",b,\"x +\",c,\"= 0\\n\")\n",
    "\n",
    "print(\"Our solutions should be:\\n\")\n",
    "\n",
    "print(\"Standard method:\\n\",solution_std(a,b,c))\n",
    "print(\"Different method:\\n\",solution_bis(a,b,c))\n",
    "print(\"More stable method:\\n\", solution_accurate(a,b,c))"
   ]
  },
  {
   "cell_type": "markdown",
   "metadata": {},
   "source": [
    "6\\. Write a program that implements the function $f(x)=x(x−1)$\n",
    "\n",
    "(a) Calculate the derivative of the function at the point $x = 1$ using the derivative definition:\n",
    "\n",
    "$$\n",
    "\\frac{{\\rm d}f}{{\\rm d}x} = \\lim_{\\delta\\to0} \\frac{f(x+\\delta)-f(x)}{\\delta}\n",
    "$$\n",
    "\n",
    "with $\\delta = 10^{−2}$. Calculate the true value of the same derivative analytically and compare it with the answer your program gives. The two will not agree perfectly. Why?\n",
    "\n",
    "(b) Repeat the calculation for $\\delta = 10^{−4}, 10^{−6}, 10^{−8}, 10^{−10}, 10^{−12}$ and $10^{−14}$. How does the accuracy scales with $\\delta$?"
   ]
  },
  {
   "cell_type": "code",
   "execution_count": null,
   "metadata": {},
   "outputs": [],
   "source": [
    "import numpy as np\n",
    "import matplotlib.pyplot as plt\n",
    "\n",
    "#a) Calculating the derivative using its definition\n",
    "x=1\n",
    "def f(x): \n",
    "    return x*(x-1)\n",
    "\n",
    "df=(f(x+0.01)-f(x))/0.01 #setting delta to the value 0.01\n",
    "\n",
    "print(\"Derivative of f(x)=x*(x-1) at x=1 with fixed delta=0.01:\\n\",df)\n",
    "print(\"Real derivative:\\n\",float(2*x-1),\"\\n\")\n",
    "\n",
    "#b)Setting delta to smaller values \n",
    "\n",
    "deltas=[]  #list of my delta\n",
    "deltas.append(10**(-4)) #first value\n",
    "accuracy=[]\n",
    "i=0 #variable of while loop\n",
    "\n",
    "while deltas[i]>=10**(-12): #loop on each element of the deltas' list\n",
    "    df=(f(x+deltas[i])-f(x))/deltas[i] \n",
    "    accuracy.append((np.abs(float(2*x-1)-df)*100))\n",
    "    \n",
    "    print(\"Delta=\",deltas[i],\"|Derivative=\",df,\"|Accuracy=\",accuracy[i],\"\\n\")\n",
    "    i+=1\n",
    "    deltas.append(deltas[i-1]/100) #I put in the list each value\n",
    "    \n",
    "    if deltas[i] == 10**(-14): #value used as low limit -> limit of the accuracy\n",
    "        df=(f(x+deltas[i])-f(x))/deltas[i]\n",
    "        accuracy.append((np.abs(float(2*x-1)-df)*100))\n",
    "        print(\"Delta=\",deltas[i],\"|Derivative=\",df,\"|Accuracy=\",accuracy[i],\"\\n\")\n",
    "        break"
   ]
  },
  {
   "cell_type": "markdown",
   "metadata": {},
   "source": [
    "7\\. Consider the integral of the semicircle of radius 1:\n",
    "$$\n",
    "I=\\int_{-1}^{1} \\sqrt(1-x^2) {\\rm d}x\n",
    "$$\n",
    "which is known to be $I=\\frac{\\pi}{2}=1.57079632679...$.\n",
    "\n",
    "Alternatively we can use the Riemann definition of the integral:\n",
    "$$\n",
    "I=\\lim_{N\\to\\infty} \\sum_{k=1}^{N} h y_k \n",
    "$$\n",
    "\n",
    "with $h=2/N$ the width of each of the $N$ slices the domain is divided into and where\n",
    "$y_k$ is the value of the function at the $k-$th slice.\n",
    "\n",
    "(a) Write a program to compute the integral with $N=100$. How does the result compare to the true value?\n",
    "\n",
    "(b) How much can $N$ be increased if the computation needs to be run in less than a second? What is the gain in running it for 1 minute? \n"
   ]
  },
  {
   "cell_type": "code",
   "execution_count": null,
   "metadata": {},
   "outputs": [],
   "source": [
    "import time\n",
    "import numpy as np\n",
    "import math\n",
    "int=0\n",
    "#a) Integral with N=100\n",
    "\n",
    "def f(x):\n",
    "    return np.sqrt(1-x**2)\n",
    "\n",
    "def integrate(N,inf,sup): #function for integration\n",
    "    integral=0\n",
    "    for y in range(1,N+1):\n",
    "        h=(sup-inf)/N\n",
    "        integral=integral+f(inf+h*y)*h\n",
    "    return integral\n",
    "    \n",
    "    \n",
    "print(\"Result with our Riemann method:\",integrate(100,-1,1))\n",
    "print(\"Absolute difference with true result:\",np.abs(integrate(100,-1,1)-math.pi/2))\n",
    "\n",
    "#b) \n",
    "N=100\n",
    "start=time.time()\n",
    "integral=integrate(N,-1,1)\n",
    "t=(time.time()-start)\n",
    "while t<60:\n",
    "    N=N+100\n",
    "    start=time.time()\n",
    "    integral=integrate(N,-1,1)\n",
    "    t=(time.time()-start)\n",
    "    print(t,N,integral)\n",
    "print(\"\\n\\nSetting N=100, the running time is:\",t)\n",
    "print(\"Integral value:\", integrate(N,-1,1))\n",
    "print(\"Absolute difference with true result:\", np.abs(math.pi/2 - integral))"
   ]
  }
 ],
 "metadata": {
  "interpreter": {
   "hash": "aee8b7b246df8f9039afb4144a1f6fd8d2ca17a180786b69acc140d282b71a49"
  },
  "kernelspec": {
   "display_name": "Python 3.7.2 64-bit",
   "name": "python3"
  },
  "language_info": {
   "codemirror_mode": {
    "name": "ipython",
    "version": 3
   },
   "file_extension": ".py",
   "mimetype": "text/x-python",
   "name": "python",
   "nbconvert_exporter": "python",
   "pygments_lexer": "ipython3",
   "version": "3.7.2"
  }
 },
 "nbformat": 4,
 "nbformat_minor": 2
}
