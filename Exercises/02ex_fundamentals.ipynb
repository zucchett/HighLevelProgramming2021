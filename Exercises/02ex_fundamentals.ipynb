{
 "cells": [
  {
   "cell_type": "markdown",
   "metadata": {},
   "source": [
    "1. Write the following expressions using the list comprehension"
   ]
  },
  {
   "cell_type": "code",
   "execution_count": 1,
   "metadata": {},
   "outputs": [
    {
     "name": "stdout",
     "output_type": "stream",
     "text": [
      "[(0, 0), (0, 1), (0, 2), (0, 3), (1, 0), (1, 1), (1, 2), (1, 3), (2, 0), (2, 1), (2, 2), (2, 3)]\n",
      "[1, 9, 25, 49, 81]\n"
     ]
    }
   ],
   "source": [
    "# 1\n",
    "ans = []\n",
    "for i in range(3):\n",
    "    for j in range(4):\n",
    "        ans.append((i, j))\n",
    "print(ans)\n",
    "\n",
    "# 2\n",
    "            #map(function,object) and returns an iterator\n",
    "                #function1 is a lambda = it takes x and gives me the square of x\n",
    "                #function2 is filter -> function is lambda = takes x and divides it by 2\n",
    "                                        #if the division is equal to 1 gives me true and applies the function to the object\n",
    "ans = map(lambda x: x * x, filter(lambda x: x % 2 == 1, range(10)))\n",
    "print(list(ans))"
   ]
  },
  {
   "cell_type": "code",
   "execution_count": 9,
   "metadata": {},
   "outputs": [
    {
     "name": "stdout",
     "output_type": "stream",
     "text": [
      "[(0, 0), (0, 1), (0, 2), (0, 3), (1, 0), (1, 1), (1, 2), (1, 3), (2, 0), (2, 1), (2, 2), (2, 3)]\n",
      "[1, 9, 25, 49, 81]\n"
     ]
    }
   ],
   "source": [
    "# 1\n",
    "ans = [ (x,y) for x in range(3) for y in range(4)]\n",
    "\n",
    "print(ans)\n",
    "\n",
    "\n",
    "#2\n",
    "ans = [x*x for x in range(10) if x%2 == 1]\n",
    "print(ans)"
   ]
  },
  {
   "cell_type": "markdown",
   "metadata": {},
   "source": [
    "2\\. Convert the function $f$ into a function that doesn't use global variables and that does not modify the original list"
   ]
  },
  {
   "cell_type": "code",
   "execution_count": 10,
   "metadata": {},
   "outputs": [
    {
     "name": "stdout",
     "output_type": "stream",
     "text": [
      "[1, 2, 3, 0, 1, 2, 3, 4]\n",
      "[1, 2, 3, 0, 1, 2, 3, 4]\n"
     ]
    }
   ],
   "source": [
    "x = 5\n",
    "def f(alist):\n",
    "    for i in range(x):\n",
    "         alist.append(i) #I append to the list alist = [1,2,3] numbers from 0 to 4 (because I put x=5)\n",
    "    return alist\n",
    "\n",
    "alist = [1,2,3]\n",
    "ans = f(alist) #I define a new list calling the function\n",
    "print(ans)\n",
    "print(alist) # alist has been changed! because the original one was only 1,2,3"
   ]
  },
  {
   "cell_type": "code",
   "execution_count": 1,
   "metadata": {},
   "outputs": [
    {
     "name": "stdout",
     "output_type": "stream",
     "text": [
      "[1, 2, 3, 0, 1, 2, 3, 4, 5, 6]\n",
      "[1, 2, 3]\n"
     ]
    }
   ],
   "source": [
    "x = 5\n",
    "def f(alist,n): #I pass it as an element of the function to use a non global variable\n",
    "        lista1 = [] #making new list \n",
    "        for i in alist:\n",
    "                lista1.append(i) \n",
    "        for k in range(n):\n",
    "                lista1.append(k) \n",
    "        return lista1\n",
    "\n",
    "alist = [1,2,3]\n",
    "ans = f(alist,x)  \n",
    "print(ans)\n",
    "print(alist) "
   ]
  },
  {
   "cell_type": "markdown",
   "metadata": {},
   "source": [
    "3\\. Write a `decorator` hello that makes every wrapped function print “Hello!”, i.e. something like:\n",
    "\n",
    "```python\n",
    "@hello\n",
    "def square(x):\n",
    "    return x*x\n",
    "```\n",
    "\n"
   ]
  },
  {
   "cell_type": "code",
   "execution_count": 1,
   "metadata": {},
   "outputs": [
    {
     "name": "stdout",
     "output_type": "stream",
     "text": [
      "Hello!\n",
      "36\n",
      "Hello!\n"
     ]
    }
   ],
   "source": [
    "#defining the decorator \n",
    "def hello(func):\n",
    "    def wrapper(x):\n",
    "        print(\"Hello!\")\n",
    "        func(x)\n",
    "        print(\"Hello!\")\n",
    "    return wrapper\n",
    "\n",
    "@hello #calling the decorator\n",
    "def square(x):\n",
    "    print(x*x)\n",
    "    return x*x\n",
    "\n",
    "square(6)    "
   ]
  },
  {
   "cell_type": "markdown",
   "metadata": {},
   "source": [
    "4\\. Write the factorial function in two different ways, so that it a) does and b) does not use recursion."
   ]
  },
  {
   "cell_type": "code",
   "execution_count": 10,
   "metadata": {},
   "outputs": [
    {
     "name": "stdout",
     "output_type": "stream",
     "text": [
      "Factorial calculated without recursion 6\n",
      "Factorial with recursion 720\n",
      "Checking how much time each function requires to calculate the factorial\n",
      "Recursive function\n",
      "13.5 µs ± 973 ns per loop (mean ± std. dev. of 7 runs, 100000 loops each)\n",
      "Non-Recursive function\n",
      "5.77 µs ± 1.28 µs per loop (mean ± std. dev. of 7 runs, 100000 loops each)\n",
      "The Non-Recursive function is faster!\n"
     ]
    }
   ],
   "source": [
    "import timeit\n",
    "\n",
    "\n",
    "#b) without recursion\n",
    "\n",
    "def factorial1(n):\n",
    "\n",
    "    if n == 0 or n == 1:\n",
    "        return 1  \n",
    "    else :\n",
    "        fact = 1        \n",
    "        for x in range(1,n+1):                      \n",
    "            fact = fact*x                       \n",
    "    return fact\n",
    "\n",
    "print(\"Factorial calculated without recursion\",factorial1(3))\n",
    "\n",
    "\n",
    "#a) with recursion \n",
    "\n",
    "def factorial(n):\n",
    "    # base case\n",
    "    if n==0 or n==1:\n",
    "        return 1\n",
    "     #recursive case\n",
    "    else:\n",
    "        return factorial(n-1)*n  \n",
    "\n",
    "print(\"Factorial with recursion\",factorial(6))  \n",
    "\n",
    "\n",
    "print(\"Checking how much time each function requires to calculate the factorial\")\n",
    "print(\"Recursive function\")\n",
    "%timeit factorial(20)\n",
    "print(\"Non-Recursive function\")\n",
    "%timeit factorial1(20)\n",
    "print(\"The Non-Recursive function is faster!\")"
   ]
  },
  {
   "cell_type": "markdown",
   "metadata": {},
   "source": [
    "5\\. Use HOFs (zip in particular) to compute the weight of a circle, a disk and a sphere, assuming different radii and different densities:\n",
    "\n",
    "```python\n",
    "densities = {\"Al\" : [0.5, 1, 2], \"Fe\" : [3, 4, 5], \"Pb\" : [15, 20, 30]}\n",
    "radii = [1, 2, 3]\n",
    "```\n",
    "\n",
    "where the entries of the dictionary's values are the linear, superficial and volumetric densities of the materials respectively.\n",
    "\n",
    "Subsequently, define a list using a comprehension with three lambda functions that compute the circumference, the area and the volume for a given radius.\n"
   ]
  },
  {
   "cell_type": "code",
   "execution_count": 11,
   "metadata": {},
   "outputs": [
    {
     "name": "stdout",
     "output_type": "stream",
     "text": [
      "The mass of a  Circle of radius  1 made of \n",
      " Alluminium is  3.141592653589793  Kg \n",
      " Iron is  18.84955592153876  Kg \n",
      " Lead is  94.24777960769379 Kg\n",
      "The mass of a  Circle of radius  2 made of \n",
      " Alluminium is  6.283185307179586  Kg \n",
      " Iron is  37.69911184307752  Kg \n",
      " Lead is  188.49555921538757 Kg\n",
      "The mass of a  Circle of radius  3 made of \n",
      " Alluminium is  9.42477796076938  Kg \n",
      " Iron is  56.548667764616276  Kg \n",
      " Lead is  282.7433388230814 Kg\n",
      "The mass of a  Disk of radius  1 made of \n",
      " Alluminium is  3.141592653589793  Kg \n",
      " Iron is  12.566370614359172  Kg \n",
      " Lead is  62.83185307179586 Kg\n",
      "The mass of a  Disk of radius  2 made of \n",
      " Alluminium is  12.566370614359172  Kg \n",
      " Iron is  50.26548245743669  Kg \n",
      " Lead is  251.32741228718345 Kg\n",
      "The mass of a  Disk of radius  3 made of \n",
      " Alluminium is  28.274333882308138  Kg \n",
      " Iron is  113.09733552923255  Kg \n",
      " Lead is  565.4866776461628 Kg\n",
      "The mass of a  Sphere of radius  1 made of \n",
      " Alluminium is  8.377580409572781  Kg \n",
      " Iron is  20.94395102393195  Kg \n",
      " Lead is  125.66370614359171 Kg\n",
      "The mass of a  Sphere of radius  2 made of \n",
      " Alluminium is  67.02064327658225  Kg \n",
      " Iron is  167.5516081914556  Kg \n",
      " Lead is  1005.3096491487337 Kg\n",
      "The mass of a  Sphere of radius  3 made of \n",
      " Alluminium is  226.1946710584651  Kg \n",
      " Iron is  565.4866776461628  Kg \n",
      " Lead is  3392.9200658769764 Kg\n"
     ]
    }
   ],
   "source": [
    "from math import pi\n",
    "\n",
    "densities = {\"al\" : [0.5, 1, 2], \"fe\" : [3, 4, 5], \"pb\" : [15, 20, 30]}\n",
    "radii = [1,2,3]\n",
    "\n",
    "functions = [ lambda r: r*2*pi, lambda r: r**2*pi, lambda r: r**3*pi*4/3] #functions to calculate circumference, area and volume\n",
    "\n",
    "shapes = [\"Circle\", \"Disk\", \"Sphere\"] #different type of shape\n",
    "\n",
    "for i,j,k,l in zip(densities[\"al\"], densities[\"fe\"], densities[\"pb\"],range(3)):\n",
    "  s = 0 #to get all the radius\n",
    "  for x in map(functions[l],radii):\n",
    "      #map to match the formula of circumference/area/volume to the radii\n",
    "      print(\"The mass of a \", shapes[l], \"of radius \", radii[s], \"made of \\n Alluminium is \" , i*x, \" Kg \\n Iron is \", j*x , \" Kg \\n Lead is \", k*x ,\"Kg\")\n",
    "      s +=1 \n"
   ]
  },
  {
   "cell_type": "markdown",
   "metadata": {},
   "source": [
    "6\\. Edit the class defintion to add an instance attribute of `is_hungry = True` to the Dog class. Then add a method called `eat()` which changes the value of `is_hungry` to `False` when called. Figure out the best way to instantiate the dog objects and to feed the dogs, e.g. call the `eat()` method for all instances. Finally, print “My dogs are hungry.” or “My dogs are not hungry.” if all of them have `is_hungry = True` or `False`, respectively. The final output should look like this:\n",
    "\n",
    "`I have 3 dogs. \n",
    "Tom is 6. \n",
    "Fletcher is 7. \n",
    "Larry is 9. \n",
    "And they're all mammals, of course. \n",
    "My dogs are not hungry.\n",
    "`\n",
    "\n",
    "\n",
    "```"
   ]
  },
  {
   "cell_type": "code",
   "execution_count": 21,
   "metadata": {},
   "outputs": [
    {
     "name": "stdout",
     "output_type": "stream",
     "text": [
      "My dogs are 3\n",
      "Tom is 6 years old\n",
      "Fletcher is 7 years old\n",
      "Larry is 9 years old\n",
      "They are all mammals, of course\n",
      "They have been fed\n"
     ]
    }
   ],
   "source": [
    "# Parent class\n",
    "class Dog:\n",
    "\n",
    "    # Class attribute\n",
    "    species = 'mammal'\n",
    "\n",
    "    # Initializer / Instance attributes\n",
    "    def __init__(self, name, age):\n",
    "        self.name = name\n",
    "        self.age = age\n",
    "        self.is_hungry = True #instance added by me\n",
    "\n",
    "    # instance method\n",
    "    def description(self):\n",
    "        return \"{} is {} years old\".format(self.name, self.age)\n",
    "        \n",
    "    # instance method\n",
    "    def speak(self, sound):\n",
    "        return \"{} says {}\".format(self.name, sound)\n",
    "\n",
    "    #instance method eat added by me\n",
    "    def eat(self):\n",
    "        self.is_hungry = False\n",
    "\n",
    "# Child class (inherits from Dog class)\n",
    "class RussellTerrier(Dog):\n",
    "    def run(self, speed):\n",
    "        return \"{} runs {}\".format(self.name, speed)\n",
    "\n",
    "# Child class (inherits from Dog class)\n",
    "class Bulldog(Dog):\n",
    "    def run(self, speed):\n",
    "        return \"{} runs {}\".format(self.name, speed)\n",
    "\n",
    "\n",
    "#list of \"my dogs\"\n",
    "Dogs = [RussellTerrier(\"Tom\",6), Bulldog(\"Fletcher\",7), Bulldog(\"Larry\",9)] \n",
    "print(\"My dogs are\", len(Dogs))    \n",
    "\n",
    "#printing age and name of the dogs\n",
    "for x in Dogs:\n",
    "     print(x.description()) #stampo la lista dei cani grazie a un method nella classe padre\n",
    "\n",
    "#printing the specie of the dogs\n",
    "assert(all(x.species == \"mammal\" for x in Dogs))  # assert se è falsa crasha\n",
    "print(\"They are all mammals, of course\") #se non crasha e quindi è vero printa questo\n",
    "\n",
    "#to \"make dogs eat\"\n",
    "for x in Dogs:\n",
    "    x.eat()  \n",
    "\n",
    "#to check if they have benn eating or not\n",
    "if all(x.is_hungry == False for x in Dogs):\n",
    "    print(\"They have been fed\")\n",
    "elif all(x.is_hungry == True for x in Dogs):\n",
    "    print(\"They are still hungry\") \n"
   ]
  },
  {
   "cell_type": "code",
   "execution_count": null,
   "metadata": {},
   "outputs": [],
   "source": []
  }
 ],
 "metadata": {
  "interpreter": {
   "hash": "aee8b7b246df8f9039afb4144a1f6fd8d2ca17a180786b69acc140d282b71a49"
  },
  "kernelspec": {
   "display_name": "Python 3.7.2 64-bit",
   "name": "python3"
  },
  "language_info": {
   "codemirror_mode": {
    "name": "ipython",
    "version": 3
   },
   "file_extension": ".py",
   "mimetype": "text/x-python",
   "name": "python",
   "nbconvert_exporter": "python",
   "pygments_lexer": "ipython3",
   "version": "3.7.2"
  }
 },
 "nbformat": 4,
 "nbformat_minor": 2
}
