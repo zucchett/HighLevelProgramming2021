{
 "cells": [
  {
   "cell_type": "markdown",
   "metadata": {},
   "source": [
    "1. The HelloWorld replacement\n",
    "\n",
    "a) Write a program that prints the numbers from 1 to 100. But for multiples of three print \"Hello\" instead of the number and for the multiples of five print \"World\". For numbers which are multiples of both three and five print \"HelloWorld\".\n",
    "\n",
    "b) Put the result in a tuple and substitute \"Hello\" with \"Python\" and \"World\" with \"Works\"."
   ]
  },
  {
   "cell_type": "code",
   "execution_count": 2,
   "metadata": {},
   "outputs": [
    {
     "name": "stdout",
     "output_type": "stream",
     "text": [
      "1\n",
      "2\n",
      "Hello\n",
      "4\n",
      "World\n",
      "Hello\n",
      "7\n",
      "8\n",
      "Hello\n",
      "World\n",
      "11\n",
      "Hello\n",
      "13\n",
      "14\n",
      "Hello World\n",
      "16\n",
      "17\n",
      "Hello\n",
      "19\n",
      "World\n",
      "Hello\n",
      "22\n",
      "23\n",
      "Hello\n",
      "World\n",
      "26\n",
      "Hello\n",
      "28\n",
      "29\n",
      "Hello World\n",
      "31\n",
      "32\n",
      "Hello\n",
      "34\n",
      "World\n",
      "Hello\n",
      "37\n",
      "38\n",
      "Hello\n",
      "World\n",
      "41\n",
      "Hello\n",
      "43\n",
      "44\n",
      "Hello World\n",
      "46\n",
      "47\n",
      "Hello\n",
      "49\n",
      "World\n",
      "Hello\n",
      "52\n",
      "53\n",
      "Hello\n",
      "World\n",
      "56\n",
      "Hello\n",
      "58\n",
      "59\n",
      "Hello World\n",
      "61\n",
      "62\n",
      "Hello\n",
      "64\n",
      "World\n",
      "Hello\n",
      "67\n",
      "68\n",
      "Hello\n",
      "World\n",
      "71\n",
      "Hello\n",
      "73\n",
      "74\n",
      "Hello World\n",
      "76\n",
      "77\n",
      "Hello\n",
      "79\n",
      "World\n",
      "Hello\n",
      "82\n",
      "83\n",
      "Hello\n",
      "World\n",
      "86\n",
      "Hello\n",
      "88\n",
      "89\n",
      "Hello World\n",
      "91\n",
      "92\n",
      "Hello\n",
      "94\n",
      "World\n",
      "Hello\n",
      "97\n",
      "98\n",
      "Hello\n",
      "World\n",
      "[1, 2, 'Hello', 4, 'World', 'Hello', 7, 8, 'Hello', 'World', 11, 'Hello', 13, 14, 'Hello World', 16, 17, 'Hello', 19, 'World', 'Hello', 22, 23, 'Hello', 'World', 26, 'Hello', 28, 29, 'Hello World', 31, 32, 'Hello', 34, 'World', 'Hello', 37, 38, 'Hello', 'World', 41, 'Hello', 43, 44, 'Hello World', 46, 47, 'Hello', 49, 'World', 'Hello', 52, 53, 'Hello', 'World', 56, 'Hello', 58, 59, 'Hello World', 61, 62, 'Hello', 64, 'World', 'Hello', 67, 68, 'Hello', 'World', 71, 'Hello', 73, 74, 'Hello World', 76, 77, 'Hello', 79, 'World', 'Hello', 82, 83, 'Hello', 'World', 86, 'Hello', 88, 89, 'Hello World', 91, 92, 'Hello', 94, 'World', 'Hello', 97, 98, 'Hello', 'World']\n",
      "[1, 2, 'Python', 4, 'Wroks', 'Python', 7, 8, 'Python', 'Wroks', 11, 'Python', 13, 14, 'Hello World', 16, 17, 'Python', 19, 'Wroks', 'Python', 22, 23, 'Python', 'Wroks', 26, 'Python', 28, 29, 'Hello World', 31, 32, 'Python', 34, 'Wroks', 'Python', 37, 38, 'Python', 'Wroks', 41, 'Python', 43, 44, 'Hello World', 46, 47, 'Python', 49, 'Wroks', 'Python', 52, 53, 'Python', 'Wroks', 56, 'Python', 58, 59, 'Hello World', 61, 62, 'Python', 64, 'Wroks', 'Python', 67, 68, 'Python', 'Wroks', 71, 'Python', 73, 74, 'Hello World', 76, 77, 'Python', 79, 'Wroks', 'Python', 82, 83, 'Python', 'Wroks', 86, 'Python', 88, 89, 'Hello World', 91, 92, 'Python', 94, 'Wroks', 'Python', 97, 98, 'Python', 'Wroks']\n",
      "(1, 2, 'Python', 4, 'Wroks', 'Python', 7, 8, 'Python', 'Wroks', 11, 'Python', 13, 14, 'Hello World', 16, 17, 'Python', 19, 'Wroks', 'Python', 22, 23, 'Python', 'Wroks', 26, 'Python', 28, 29, 'Hello World', 31, 32, 'Python', 34, 'Wroks', 'Python', 37, 38, 'Python', 'Wroks', 41, 'Python', 43, 44, 'Hello World', 46, 47, 'Python', 49, 'Wroks', 'Python', 52, 53, 'Python', 'Wroks', 56, 'Python', 58, 59, 'Hello World', 61, 62, 'Python', 64, 'Wroks', 'Python', 67, 68, 'Python', 'Wroks', 71, 'Python', 73, 74, 'Hello World', 76, 77, 'Python', 79, 'Wroks', 'Python', 82, 83, 'Python', 'Wroks', 86, 'Python', 88, 89, 'Hello World', 91, 92, 'Python', 94, 'Wroks', 'Python', 97, 98, 'Python', 'Wroks')\n"
     ]
    }
   ],
   "source": [
    "\n",
    "#for loop to print numbers from 1 to 100\n",
    "for i in range(1,101,1):\n",
    "    if i % 3 == 0  and i % 5 == 0 : \n",
    "            print(\"Hello World\")     \n",
    "    elif i % 3 == 0 :              \n",
    "            print(\"Hello\")           \n",
    "    elif i % 5 == 0 :\n",
    "            print(\"World\")\n",
    "            \n",
    "    else:\n",
    "            print(i)\n",
    "            \n",
    "\n",
    "#make a list to change words \n",
    "# (because tuple can not be modified, so first I make the list and than I convert it into a tuple)\n",
    "lista = []\n",
    "for i in range(1,101):\n",
    "    if i % 3 == 0  and i % 5 == 0 :\n",
    "            lista.append(\"Hello World\")   \n",
    "    elif i % 3 == 0 :                \n",
    "            lista.append(\"Hello\")         \n",
    "    elif i % 5 == 0 :\n",
    "            lista.append(\"World\")\n",
    "    else:\n",
    "            lista.append(i)\n",
    "print(lista)\n",
    "\n",
    "#for loop to make the swap in the list\n",
    "for j in range(1,len(lista)):\n",
    "        if lista[j]==\"Hello\":\n",
    "                lista[j]=\"Python\"\n",
    "        elif lista[j]==\"World\":\n",
    "                lista[j]=\"Wroks\"\n",
    "\n",
    "\n",
    "print(lista)\n",
    "\n",
    "#transform the list into a tuple\n",
    "a = tuple(lista)"
   ]
  },
  {
   "cell_type": "markdown",
   "metadata": {},
   "source": [
    "2\\. The swap function\n",
    "\n",
    "Write a function that swap the values of two input variables x and y (whatever the type). Try to do that also without a temporary variable"
   ]
  },
  {
   "cell_type": "code",
   "execution_count": 1,
   "metadata": {},
   "outputs": [
    {
     "name": "stdout",
     "output_type": "stream",
     "text": [
      "The values swapped are: amigos, ola\n",
      "The values swapped are: amigos, ola\n"
     ]
    },
    {
     "data": {
      "text/plain": [
       "('amigos', 'ola')"
      ]
     },
     "execution_count": 1,
     "metadata": {},
     "output_type": "execute_result"
    }
   ],
   "source": [
    "#function without temporary variables\n",
    "\n",
    "#variables in input\n",
    "x = (input (\"set value of x\"))\n",
    "y = (input (\"set value of y\"))\n",
    "\n",
    "#definition of the swap function\n",
    "def swap(a,b):\n",
    "    a,b = b,a      \n",
    "    print(\"The values swapped are: {0}, {1}\".format(a,b)) \n",
    "    return(a,b)  \n",
    "\n",
    "swap(x,y)\n",
    "\n",
    "\n",
    "#function with temporary variables\n",
    "def switch(c,d):\n",
    "    f = c\n",
    "    c = d\n",
    "    d = f \n",
    "    print(\"The values swapped are: {0}, {1}\".format(c,d)) \n",
    "    return(c,d) \n",
    "\n",
    "swap(x,y) "
   ]
  },
  {
   "cell_type": "markdown",
   "metadata": {},
   "source": []
  },
  {
   "cell_type": "markdown",
   "metadata": {},
   "source": [
    "3\\. Computing the distance\n",
    "\n",
    "Write a function that calculates and returns the euclidean distance between two points *u* and *v*, where *u* and *v* are both 2-tuples *(x,y)*. For example, if *u=(3,0)* and *v=(0,4)*, the function should return 5"
   ]
  },
  {
   "cell_type": "code",
   "execution_count": 2,
   "metadata": {},
   "outputs": [
    {
     "name": "stdout",
     "output_type": "stream",
     "text": [
      "the distance between two points is:  2.8284271247461903\n"
     ]
    },
    {
     "data": {
      "text/plain": [
       "2.8284271247461903"
      ]
     },
     "execution_count": 2,
     "metadata": {},
     "output_type": "execute_result"
    }
   ],
   "source": [
    "import math \n",
    "\n",
    "#coordinates of points\n",
    "x1 = float(input (\"value of x coordinate of first vector\"))\n",
    "y1 = float(input (\"value of y coordinate of first vector\"))\n",
    "x2 = float(input (\"value of x coordinate of second vector\"))\n",
    "y2 = float(input (\"value of y coordinate of second vector\"))\n",
    "\n",
    "#tuples of the points \n",
    "u = (x1,y1) \n",
    "v = (x2,y2)\n",
    "\n",
    "#definition of the function which calculates the euclidean distance\n",
    "def distance(u,v): \n",
    "    dx = u[0]-v[0]\n",
    "    dy = u[1]-v[1]\n",
    "    d = math.sqrt(dx*dx + dy*dy)\n",
    "    print(\"the distance between two points is: \" , d)\n",
    "    return d \n",
    "    \n",
    "distance(u,v)\n"
   ]
  },
  {
   "cell_type": "markdown",
   "metadata": {},
   "source": [
    "4\\. Counting letters\n",
    "\n",
    "Write a program to calculate the number of times each character occurs in a given string *s*. Ignore differences in capitalization"
   ]
  },
  {
   "cell_type": "code",
   "execution_count": 11,
   "metadata": {},
   "outputs": [
    {
     "name": "stdout",
     "output_type": "stream",
     "text": [
      "the character i appeares 3 times\n",
      "the character ' appeares 1 times\n",
      "the character m appeares 2 times\n",
      "the character   appeares 7 times\n",
      "the character t appeares 3 times\n",
      "the character r appeares 2 times\n",
      "the character y appeares 2 times\n",
      "the character n appeares 3 times\n",
      "the character g appeares 1 times\n",
      "the character o appeares 2 times\n",
      "the character l appeares 2 times\n",
      "the character e appeares 2 times\n",
      "the character a appeares 1 times\n",
      "the character p appeares 1 times\n",
      "the character h appeares 2 times\n",
      "the character , appeares 1 times\n",
      "the character w appeares 1 times\n",
      "the character s appeares 1 times\n",
      "the character u appeares 1 times\n",
      "the character c appeares 1 times\n",
      "the character k appeares 1 times\n",
      "the character ! appeares 1 times\n"
     ]
    }
   ],
   "source": [
    "s = \"I'm trying to learn Python, wish me luck!\"\n",
    "\n",
    "#all characters in lower case to ignore difference in capitalization\n",
    "s = s.lower()\n",
    "count = 0  #variable for the counting\n",
    "\n",
    "#first for loop to read the string\n",
    "for i  in range(0,len(s)):  \n",
    "    #second for loop to make comparison between characters \n",
    "    for j in range(0,len(s)):\n",
    "        if s[0] == s[j]:  \n",
    "            count = count + 1 \n",
    "    print(\"the character\", s[0], \"appears\", count, \"times\")  \n",
    "    #my counting variable has to be resetted after each character\n",
    "    count = 0 \n",
    "    s = s.replace(s[0], \"\") # I must replace every character read with a white space in order to not make double counting\n",
    "#to avoid problems if the string is empty after replacing all its characters\n",
    "    if len(s) == 0:     \n",
    "        break           \n",
    "   \n",
    "\n",
    "        \n",
    "    \n",
    "         \n"
   ]
  },
  {
   "cell_type": "code",
   "execution_count": 2,
   "metadata": {},
   "outputs": [],
   "source": [
    "s = \"Write a program that prints the numbers from 1 to 100. \\\n",
    "But for multiples of three print Hello instead of the number and for the multiples of five print World. \\\n",
    "For numbers which are multiples of both three and five print HelloWorld.\""
   ]
  },
  {
   "cell_type": "markdown",
   "metadata": {},
   "source": [
    "5\\. Isolating the unique\n",
    "\n",
    "Write a function that determines and count the unique numbers in the list:"
   ]
  },
  {
   "cell_type": "code",
   "execution_count": 43,
   "metadata": {},
   "outputs": [
    {
     "name": "stdout",
     "output_type": "stream",
     "text": [
      "There are: 2 unique numbers and they are \n",
      " [4, 5]\n"
     ]
    }
   ],
   "source": [
    "l = [3, 4, 3, 5, 15, 15]\n",
    "unique = [] #list of unique numbers in the principal list l\n",
    "\n",
    "#definition of my function\n",
    "def number(l):\n",
    "    for i in range(0, len(l)):  \n",
    "        if l.count(i) == 1:  \n",
    "            unique.append(i)    \n",
    "    return(unique)\n",
    "\n",
    "number(l)\n",
    "print (\"There are:\", len(unique), \"unique numbers and they are \\n\", unique) \n",
    "\n",
    "            "
   ]
  },
  {
   "cell_type": "markdown",
   "metadata": {},
   "source": [
    "Do the same without using user-defined functions, but exploiting only the Python data structures."
   ]
  },
  {
   "cell_type": "markdown",
   "metadata": {},
   "source": [
    "6\\. Combination of functions\n",
    "\n",
    "Write two functions - one that returns the square of a number, and one that returns the cube. Now write a third function that returns the number raised to the 6th power using the two previous functions."
   ]
  },
  {
   "cell_type": "code",
   "execution_count": 40,
   "metadata": {},
   "outputs": [
    {
     "data": {
      "text/plain": [
       "1000000.0"
      ]
     },
     "execution_count": 40,
     "metadata": {},
     "output_type": "execute_result"
    }
   ],
   "source": [
    "n = float(input(\"Choose a number\"))\n",
    "\n",
    "def square(n):\n",
    "    return n**2\n",
    "\n",
    "def cube(n):\n",
    "    return n**3\n",
    "\n",
    "def sixth(n):\n",
    "    return cube(square(n))\n",
    "\n",
    "sixth(n)\n",
    "\n",
    "    "
   ]
  },
  {
   "cell_type": "markdown",
   "metadata": {},
   "source": [
    "7\\. Cubes\n",
    "\n",
    "Create a list of the cubes of x for x in *[0, 10]* using:\n",
    "\n",
    "a) a for loop\n",
    "\n",
    "b) a list comprehension"
   ]
  },
  {
   "cell_type": "code",
   "execution_count": 28,
   "metadata": {},
   "outputs": [
    {
     "name": "stdout",
     "output_type": "stream",
     "text": [
      "The list of the cubes from 0 to 10 is: [0, 1, 8, 27, 64, 125, 216, 343, 512, 729, 1000]\n",
      "The list of the cubes from 0 to 10 is: [0, 1, 8, 27, 64, 125, 216, 343, 512, 729, 1000]\n"
     ]
    }
   ],
   "source": [
    "#list made with a for loop \n",
    "a = []\n",
    "for x in range (0,11):\n",
    "       a.append(x**3)\n",
    "print(\"The list of the cubes from 0 to 10 is:\" , a) \n",
    "\n",
    "#list made with list comprehension\n",
    "b = [x**3 for x in range(0,11)]\n",
    "print(\"The list of the cubes from 0 to 10 is:\" , b) "
   ]
  },
  {
   "cell_type": "markdown",
   "metadata": {},
   "source": [
    "8\\. Nested list comprehension\n",
    "\n",
    "A Pythagorean triple is an integer solution to the Pythagorean theorem $a^2+b^2=c^2$. The first Pythagorean triple is (3,4,5). Find and put in a tuple all unique Pythagorean triples for the positive integers a, b and c less than 100."
   ]
  },
  {
   "cell_type": "code",
   "execution_count": 29,
   "metadata": {},
   "outputs": [
    {
     "name": "stdout",
     "output_type": "stream",
     "text": [
      "All PYthagorean triples are ([3, 4, 5], [5, 12, 13], [6, 8, 10], [7, 24, 25], [8, 15, 17], [9, 12, 15], [9, 40, 41], [10, 24, 26], [11, 60, 61], [12, 16, 20], [12, 35, 37], [13, 84, 85], [14, 48, 50], [15, 20, 25], [15, 36, 39], [16, 30, 34], [16, 63, 65], [18, 24, 30], [18, 80, 82], [20, 21, 29], [20, 48, 52], [21, 28, 35], [21, 72, 75], [24, 32, 40], [24, 45, 51], [24, 70, 74], [25, 60, 65], [27, 36, 45], [28, 45, 53], [30, 40, 50], [30, 72, 78], [32, 60, 68], [33, 44, 55], [33, 56, 65], [35, 84, 91], [36, 48, 60], [36, 77, 85], [39, 52, 65], [39, 80, 89], [40, 42, 58], [40, 75, 85], [42, 56, 70], [45, 60, 75], [48, 55, 73], [48, 64, 80], [51, 68, 85], [54, 72, 90], [57, 76, 95], [60, 63, 87], [65, 72, 97])\n"
     ]
    }
   ],
   "source": [
    "triple1 = [] #make a list of my triple in which I append my sublist\n",
    "sub = []   #make a sublist to append each number found\n",
    "\n",
    "#for loop to search my numbers \n",
    "for i in range(0,100):  \n",
    "    for j in range(i+1,100):  \n",
    "        for z in range(j+1,100): \n",
    "            if i**2+j**2 == z**2:\n",
    "                sub.append(i) \n",
    "                sub.append(j)\n",
    "                sub.append(z)\n",
    "                triple1.append(sub) \n",
    "                sub = [] \n",
    "\n",
    "#transform my list in a tuple\n",
    "triple = tuple(triple1)\n",
    "#print my tuple\n",
    "print(\"All Pythagorean triples are\", triple)"
   ]
  },
  {
   "cell_type": "markdown",
   "metadata": {},
   "source": [
    "9\\. Normalization\n",
    "\n",
    "Write a function that takes a tuple of numbers and returns it with the entries normalized to one"
   ]
  },
  {
   "cell_type": "code",
   "execution_count": 37,
   "metadata": {},
   "outputs": [
    {
     "name": "stdout",
     "output_type": "stream",
     "text": [
      "My normalized tuple is: (0.13483997249264842, 0.26967994498529685, 0.40451991747794525, 0.5393598899705937, 0.674199862463242)\n"
     ]
    }
   ],
   "source": [
    "#my list is\n",
    "t = (1,2,3,4,5)\n",
    "lista = [] \n",
    "\n",
    "#I define my function\n",
    "def normalization(t):\n",
    "    norm = 0\n",
    "    for i in range (0,len(t)):\n",
    "        norm = norm + t[i]**2 \n",
    "    norm = norm**0.5 \n",
    "\n",
    "    for j in range (0, len(t)):\n",
    "        lista.append(t[j]/norm) \n",
    "\n",
    "    t = tuple(lista)\n",
    "    return(t)\n",
    "\n",
    "\n",
    "print(\"My normalized tuple is:\" ,normalization(t))\n",
    "\n",
    "\n",
    "    "
   ]
  },
  {
   "cell_type": "code",
   "execution_count": null,
   "metadata": {},
   "outputs": [],
   "source": []
  }
 ],
 "metadata": {
  "interpreter": {
   "hash": "aee8b7b246df8f9039afb4144a1f6fd8d2ca17a180786b69acc140d282b71a49"
  },
  "kernelspec": {
   "display_name": "Python 3.7.2 64-bit",
   "name": "python3"
  },
  "language_info": {
   "codemirror_mode": {
    "name": "ipython",
    "version": 3
   },
   "file_extension": ".py",
   "mimetype": "text/x-python",
   "name": "python",
   "nbconvert_exporter": "python",
   "pygments_lexer": "ipython3",
   "version": "3.7.2"
  }
 },
 "nbformat": 4,
 "nbformat_minor": 2
}
