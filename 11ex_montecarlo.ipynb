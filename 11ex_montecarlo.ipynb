{
 "cells": [
  {
   "cell_type": "markdown",
   "metadata": {},
   "source": [
    "1\\. **Radioactive decay chain**\n",
    "\n",
    "${\\rm Tl}^{208}$ decays to ${\\rm Pb}^{208}$ with a half-life $\\tau$ of 3.052 minutes. Suppose to start with a sample of 1000 Thallium atoms and 0 of Lead atoms.\n",
    "\n",
    "* Take steps in time of 1 second and at each time-step decide whether each Tl atom has decayed or not, accordingly to the probability $p(t)=1-2^{-t/\\tau}$. Subtract the total number of Tl atoms that decayed at each step from the Tl sample and add them to the Lead one. Plot the evolution of the two sets as a function of time  \n",
    "* Repeat the exercise by means of the inverse transform method: draw 1000 random numbers from the non-uniform probability distribution $p(t)=2^{-t/\\tau}\\frac{\\ln 2}{\\tau}$ to represent the times of decay of the 1000 Tl atoms. Make a plot showing the number of atoms that have not decayed as a function of time"
   ]
  },
  {
   "cell_type": "code",
   "execution_count": 1,
   "metadata": {},
   "outputs": [],
   "source": [
    "import numpy as np\n",
    "import matplotlib.pyplot as plt\n",
    "\n",
    "manual_seed = 1\n",
    "np.random.seed(manual_seed)"
   ]
  },
  {
   "cell_type": "code",
   "execution_count": 4,
   "metadata": {
    "scrolled": true
   },
   "outputs": [
    {
     "data": {
      "image/png": "[encoded data removed]",
      "text/plain": [
       "<Figure size 432x288 with 1 Axes>"
      ]
     },
     "metadata": {
      "needs_background": "light"
     },
     "output_type": "display_data"
    }
   ],
   "source": [
    "tau = 3.052 # minutes\n",
    "n_tl_atoms = 1000\n",
    "\n",
    "tl_history = [n_tl_atoms]\n",
    "pb_history = [0]\n",
    "\n",
    "step = 1 # in seconds\n",
    "while tl_history[-1] > 0: # while there are still Pb atoms not decayed\n",
    "    probs = np.random.random(tl_history[-1])\n",
    "    p = 1 - 2**(-step/60 / tau)\n",
    "    has_decayed = probs < p\n",
    "    n_decayed = np.sum(has_decayed)\n",
    "    tl_history.append(tl_history[-1] - n_decayed)\n",
    "    pb_history.append(pb_history[-1] + n_decayed)\n",
    "    step += 1\n",
    "\n",
    "fig = plt.figure()\n",
    "plt.plot(tl_history, label='n. Tl atoms')\n",
    "plt.plot(pb_history, label='n. Pb atoms')\n",
    "plt.xlabel('Seconds')\n",
    "plt.legend()\n",
    "plt.show()"
   ]
  },
  {
   "cell_type": "code",
   "execution_count": 7,
   "metadata": {},
   "outputs": [
    {
     "data": {
      "text/plain": [
       "[<matplotlib.lines.Line2D at 0x1ba3ccf8670>]"
      ]
     },
     "execution_count": 7,
     "metadata": {},
     "output_type": "execute_result"
    },
    {
     "data": {
      "image/png": "[encoded data removed]",
      "text/plain": [
       "<Figure size 432x288 with 1 Axes>"
      ]
     },
     "metadata": {
      "needs_background": "light"
     },
     "output_type": "display_data"
    }
   ],
   "source": [
    "#cdf  = lambda t: 1 - 2**(-t / tau)\n",
    "icdf = lambda y: -tau * np.log2(1 - y)\n",
    "times_of_decay = icdf(np.random.random(n_tl_atoms))\n",
    "\n",
    "atoms = []\n",
    "done = False\n",
    "step = 0 # steps of 1 sec.\n",
    "while not done:\n",
    "    n_not_decayed = np.sum(times_of_decay > step)\n",
    "    atoms.append(n_not_decayed)\n",
    "    if n_not_decayed == 0:\n",
    "        done = True\n",
    "    step += 1\n",
    "plt.plot(atoms)"
   ]
  },
  {
   "cell_type": "markdown",
   "metadata": {},
   "source": [
    "2\\. **Monte Carlo integration: hit/miss vs mean value method**\n",
    "\n",
    "Consider the function: \n",
    "\n",
    "$$f(x) =\\sin^2{\\left( \\frac{1}{1-x} \\right)}$$\n",
    "\n",
    "* Plot the function and compute the integral of $f(x)$ between 0 and 2 with the hit/miss method. Evaluate the error of your estimate (hint: repeat the integral $N$ times, and from the distribution of the integrals take the mean value and the standard deviation, the latter rescaled by the appropriate factor)\n",
    "* Repeat the integral with the mean value method. Evaluate the error and compare it with the previous one."
   ]
  },
  {
   "cell_type": "code",
   "execution_count": null,
   "metadata": {
    "scrolled": true
   },
   "outputs": [],
   "source": [
    "f = lambda x: np.sin(1 / (1-x))**2\n",
    "\n",
    "x = np.linspace(0, 2, 1000)\n",
    "plt.plot(x, f(x))"
   ]
  },
  {
   "cell_type": "markdown",
   "metadata": {},
   "source": [
    "Hit/miss method:"
   ]
  },
  {
   "cell_type": "code",
   "execution_count": null,
   "metadata": {},
   "outputs": [],
   "source": [
    "n_iter = 100\n",
    "N = 10000 # num of points to sample at each iteration\n",
    "I_hm = []\n",
    "\n",
    "for i in range(n_iter):    \n",
    "    x = 2. * np.random.random(N) # random points in [0,2)\n",
    "    y = np.random.random(N)      # random points in [0,1)\n",
    "    I_hm.append(2.*np.sum(y < f(x))/N)\n",
    "    \n",
    "print('mean:', np.mean(I_hm))\n",
    "print('error:', np.std(I_hm)/np.sqrt(n_iter))"
   ]
  },
  {
   "cell_type": "markdown",
   "metadata": {},
   "source": [
    "Mean value method:"
   ]
  },
  {
   "cell_type": "code",
   "execution_count": null,
   "metadata": {},
   "outputs": [],
   "source": [
    "n_iter = 100\n",
    "N = 10000 # num of points to sample at each iteration\n",
    "I_mv = []\n",
    "\n",
    "for i in range(n_iter):    \n",
    "    x = 2. * np.random.random(N) # random points in [0,2)\n",
    "    I_mv.append(2. * np.sum(f(x)) / N)\n",
    "\n",
    "print('mean :', np.mean(I_mv))\n",
    "print('error:', np.std(I_mv)/np.sqrt(n_iter))"
   ]
  },
  {
   "cell_type": "markdown",
   "metadata": {},
   "source": [
    "3\\. **Monte Carlo integration in high dimension**\n",
    "\n",
    "* Compute the area of a circle of unit radius, by integrating the function:\n",
    "\n",
    "$$\n",
    "f(x,y)=\n",
    "\\left\\{\n",
    "\\begin{array}{ll}\n",
    "      1 & x^2+y^2\\le 1 \\\\\n",
    "      0 & {\\rm elsewhere}\n",
    "\\end{array} \n",
    "\\right.\n",
    "$$\n",
    "\n",
    "* Generalize the result for a 10D sphere."
   ]
  },
  {
   "cell_type": "code",
   "execution_count": null,
   "metadata": {
    "scrolled": true
   },
   "outputs": [],
   "source": [
    "def circle(x, y):\n",
    "    z = x**2 + y**2\n",
    "    z[z<=1] = 1\n",
    "    z[z>1] = 0\n",
    "    return z\n",
    "\n",
    "x = np.linspace(-1,1,100)\n",
    "y = np.linspace(-1,1,100)\n",
    "X,Y = np.meshgrid(x, y)\n",
    "\n",
    "plt.imshow(circle(X,Y), cmap='gray')"
   ]
  },
  {
   "cell_type": "code",
   "execution_count": null,
   "metadata": {
    "scrolled": true
   },
   "outputs": [],
   "source": [
    "n_iter = 100\n",
    "N = 100000 # num of points to sample at each iteration\n",
    "I_mv = []\n",
    "volume = 4.\n",
    "for i in range(n_iter):    \n",
    "    x = 2*np.random.random(N) - 1\n",
    "    y = 2*np.random.random(N) - 1\n",
    "    I_mv.append(volume * np.sum(circle(x,y)) / N)\n",
    "\n",
    "print('mean:', np.mean(I_mv))\n",
    "print('std :', np.std(I_mv))"
   ]
  },
  {
   "cell_type": "markdown",
   "metadata": {},
   "source": [
    "Generalization to n dimension:"
   ]
  },
  {
   "cell_type": "code",
   "execution_count": null,
   "metadata": {},
   "outputs": [],
   "source": [
    "def sphere(X):\n",
    "    \"\"\"X has shape (N_dim, N_samples)\"\"\"\n",
    "    z = np.linalg.norm(X, axis=0)\n",
    "    z[z<=1] = 1\n",
    "    z[z>1] = 0\n",
    "    return z\n",
    "\n",
    "n_iter = 100\n",
    "N = 100000 # num of points to sample at each iteration\n",
    "n_dim = 10\n",
    "vol = 2**n_dim\n",
    "I_mv = []\n",
    "\n",
    "for i in range(n_iter):\n",
    "    X = 2 * np.random.random((n_dim, N)) - 1\n",
    "    I_mv.append(vol * np.sum(sphere(X)) / N)\n",
    "\n",
    "print('mean:', np.mean(I_mv))\n",
    "print('std :', np.std(I_mv))"
   ]
  },
  {
   "cell_type": "markdown",
   "metadata": {},
   "source": [
    "4\\. **Monte Carlo integration with importance sampling** \n",
    "\n",
    "Calculate the value of the integral:\n",
    "\n",
    "$$\n",
    "I=\\int_0^1 \\frac{x^{-1/2}}{e^x+1} dx\n",
    "$$\n",
    "\n",
    "using the importance sampling method with $w(x)=1/\\sqrt{x}$. You should expect a result around 0.84."
   ]
  },
  {
   "cell_type": "code",
   "execution_count": null,
   "metadata": {},
   "outputs": [],
   "source": [
    "f = lambda x: x**-.5 / (1 + np.exp(x))\n",
    "w = lambda x: x**-.5\n",
    "\n",
    "x = np.linspace(0.001, 1, 100)\n",
    "plt.plot(x, f(x))\n",
    "plt.plot(x, w(x))"
   ]
  },
  {
   "cell_type": "code",
   "execution_count": null,
   "metadata": {},
   "outputs": [],
   "source": []
  }
 ],
 "metadata": {
  "kernelspec": {
   "display_name": "Python 3 (ipykernel)",
   "language": "python",
   "name": "python3"
  },
  "language_info": {
   "codemirror_mode": {
    "name": "ipython",
    "version": 3
   },
   "file_extension": ".py",
   "mimetype": "text/x-python",
   "name": "python",
   "nbconvert_exporter": "python",
   "pygments_lexer": "ipython3",
   "version": "3.8.12"
  }
 },
 "nbformat": 4,
 "nbformat_minor": 2
}
