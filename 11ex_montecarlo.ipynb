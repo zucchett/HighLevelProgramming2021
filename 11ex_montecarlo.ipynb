{
 "cells": [
  {
   "cell_type": "markdown",
   "metadata": {},
   "source": [
    "1\\. **Radioactive decay chain**\n",
    "\n",
    "${\\rm Tl}^{208}$ decays to ${\\rm Pb}^{208}$ with a half-life $\\tau$ of 3.052 minutes. Suppose to start with a sample of 1000 Thallium atoms and 0 of Lead atoms.\n",
    "\n",
    "* Take steps in time of 1 second and at each time-step decide whether each Tl atom has decayed or not, accordingly to the probability $p(t)=1-2^{-t/\\tau}$. Subtract the total number of Tl atoms that decayed at each step from the Tl sample and add them to the Lead one. Plot the evolution of the two sets as a function of time  \n",
    "* Repeat the exercise by means of the inverse transform method: draw 1000 random numbers from the non-uniform probability distribution $p(t)=2^{-t/\\tau}\\frac{\\ln 2}{\\tau}$ to represent the times of decay of the 1000 Tl atoms. Make a plot showing the number of atoms that have not decayed as a function of time"
   ]
  },
  {
   "cell_type": "code",
   "execution_count": 2,
   "metadata": {},
   "outputs": [
    {
     "data": {
      "text/plain": [
       "<matplotlib.legend.Legend at 0x23be0587d30>"
      ]
     },
     "execution_count": 2,
     "metadata": {},
     "output_type": "execute_result"
    },
    {
     "data": {
      "image/png": "[encoded data removed]",
      "text/plain": [
       "<Figure size 720x576 with 1 Axes>"
      ]
     },
     "metadata": {
      "needs_background": "light"
     },
     "output_type": "display_data"
    }
   ],
   "source": [
    "import numpy as np\n",
    "import numpy.random as rand\n",
    "from scipy import stats\n",
    "import matplotlib.pyplot as plt\n",
    "rand.seed(123)\n",
    "\n",
    "def p_decay(t):\n",
    "    tau = 3.052 #minutes\n",
    "    return 1- 2**(-t/tau)\n",
    "\n",
    "N_Tl_i =1000\n",
    "N_Tl_t = [N_Tl_i]\n",
    "N_Pb_t = [0]\n",
    "t = 1/60\n",
    "i = 0\n",
    "\n",
    "while True:\n",
    "    if(N_Tl_t[i] == 1):\n",
    "        break;\n",
    "    else:\n",
    "        N_Tl_t.append(N_Tl_t[i]- int(p_decay(t)*N_Tl_t[i]))\n",
    "        N_Pb_t.append(N_Tl_i - N_Tl_t[i])\n",
    "        i += 1\n",
    "        t += 1/60\n",
    "\n",
    "N_Tl_t = np.array(N_Tl_t)\n",
    "N_Pb_t = np.array(N_Pb_t)\n",
    "t = np.arange(len(N_Pb_t))\n",
    "\n",
    "fig = plt.figure(figsize=(10,8))\n",
    "\n",
    "plt.plot(t, N_Tl_t, label = \"Tl\", lw =3)\n",
    "plt.plot(t, N_Pb_t, label = \"Pb\", lw =3)\n",
    "plt.ylabel(\"Number of Atoms\", fontsize=15)\n",
    "plt.xlabel(\"Time in second\", fontsize=15)\n",
    "plt.legend(fontsize=15)\n",
    "        "
   ]
  },
  {
   "cell_type": "markdown",
   "metadata": {},
   "source": [
    "2\\. **Monte Carlo integration: hit/miss vs mean value method**\n",
    "\n",
    "Consider the function: \n",
    "\n",
    "$$f(x) =\\sin^2{\\left( \\frac{1}{1-x} \\right)}$$\n",
    "\n",
    "* Plot the function and compute the integral of $f(x)$ between 0 and 2 with the hit/miss method. Evaluate the error of your estimate (hint: repeat the integral $N$ times, and from the distribution of the integrals take the mean value and the standard deviation, the latter rescaled by the appropriate factor)\n",
    "* Repeat the integral with the mean value method. Evaluate the error and compare it with the previous one."
   ]
  },
  {
   "cell_type": "code",
   "execution_count": 6,
   "metadata": {},
   "outputs": [
    {
     "name": "stdout",
     "output_type": "stream",
     "text": [
      "Result of The Integral = 1.394 Error = (0, 196.0422385586841)\n"
     ]
    }
   ],
   "source": [
    "#1. Plot the function and compute the integral of  𝑓(𝑥)  between 0 and 2 with the hit/miss method. Evaluate the error of your estimate \n",
    "#(hint: repeat the integral  𝑁  times, and from the distribution of the integrals take the mean value and the standard deviation, the latter rescaled by the appropriate factor)\n",
    "\n",
    "import math\n",
    "\n",
    "def f(x):\n",
    "    return (math.sin(1/(1-x)))**2\n",
    "\n",
    "N = 1000\n",
    "count = 0 \n",
    "\n",
    "for i in range (N):\n",
    "    x=2*np.random.random()\n",
    "    y=np.random.random()\n",
    "    if y<f(x) : count +=1\n",
    "\n",
    "res = 2*count/N\n",
    "error = 0,6745*math.sqrt(res*(2-res)/N)\n",
    "print(\"Result of The Integral =\", res, \"Error =\", error)\n"
   ]
  },
  {
   "cell_type": "code",
   "execution_count": 7,
   "metadata": {},
   "outputs": [
    {
     "name": "stdout",
     "output_type": "stream",
     "text": [
      "Result of The Integral = 1.3472037141098345 Error = (0, 200.02644992516434)\n"
     ]
    }
   ],
   "source": [
    "#2.Repeat the integral with the mean value method. Evaluate the error and compare it with the previous one.\n",
    "import math\n",
    "def f(x) :\n",
    "    return (math.sin(1/(1-x)))**2\n",
    "\n",
    "def integral(starting, ending, N):\n",
    "    width = (float(ending)-float(starting))/N\n",
    "    Sum = 0\n",
    "    for i in range (N):\n",
    "        height = f(starting+i*width)\n",
    "        area = height*width\n",
    "        Sum+=area\n",
    "    return Sum\n",
    "res = integral(0.0001, 2, 10000)\n",
    "error = 0,6745*math.sqrt(res*(2-res)/N)\n",
    "print(\"Result of The Integral =\", res, \"Error =\", error)"
   ]
  },
  {
   "cell_type": "markdown",
   "metadata": {},
   "source": [
    "3\\. **Monte Carlo integration in high dimension**\n",
    "\n",
    "* Compute the area of a circle of unit radius, by integrating the function:\n",
    "\n",
    "$$\n",
    "f(x,y)=\n",
    "\\left\\{\n",
    "\\begin{array}{ll}\n",
    "      1 & x^2+y^2\\le 1 \\\\\n",
    "      0 & {\\rm elsewhere}\n",
    "\\end{array} \n",
    "\\right.\n",
    "$$\n",
    "\n",
    "* Generalize the result for a 10D sphere."
   ]
  },
  {
   "cell_type": "code",
   "execution_count": 10,
   "metadata": {},
   "outputs": [
    {
     "name": "stdout",
     "output_type": "stream",
     "text": [
      "Area of The Circle (R=1)= 3.104\n",
      "Volume of the 10D sphere= 7.996\n"
     ]
    }
   ],
   "source": [
    "import numpy as np\n",
    "import numpy.random as rnd\n",
    "N_points= 1000\n",
    "x_un = rnd.rand(N_points)\n",
    "y_un = rnd.rand(N_points)\n",
    "\n",
    "circle_area = 4*np.sum((x_un**2 + y_un**2) <=1)/N_points\n",
    "print(\"Area of The Circle (R=1)=\", circle_area)\n",
    "n_sphere_points =rnd.rand(N_points,10)\n",
    "vol = 4*np.sum(np.where(np.sum(n_sphere_points**2, axis=1) <=1))/N_points\n",
    "print(\"Volume of the 10D sphere=\",vol)\n"
   ]
  },
  {
   "cell_type": "markdown",
   "metadata": {},
   "source": [
    "4\\. **Monte Carlo integration with importance sampling** \n",
    "\n",
    "Calculate the value of the integral:\n",
    "\n",
    "$$\n",
    "I=\\int_0^1 \\frac{x^{-1/2}}{e^x+1} dx\n",
    "$$\n",
    "\n",
    "using the importance sampling method with $w(x)=1/\\sqrt{x}$. You should expect a result around 0.84."
   ]
  },
  {
   "cell_type": "code",
   "execution_count": 12,
   "metadata": {},
   "outputs": [
    {
     "data": {
      "text/plain": [
       "0.8385046476044598"
      ]
     },
     "execution_count": 12,
     "metadata": {},
     "output_type": "execute_result"
    }
   ],
   "source": [
    "def f(x):\n",
    "    return 1/(2*np.sqrt(x))\n",
    "\n",
    "def icdf(y):\n",
    "    return np.power(y,2)\n",
    "\n",
    "def f_over_w(x):\n",
    "    return 1/(np.exp(x) + 1)\n",
    "\n",
    "N_points =100000\n",
    "\n",
    "y_unif =rnd.rand(N_points)\n",
    "x_i_sampling = icdf(y_unif)\n",
    "\n",
    "I = 2*np.mean(f_over_w(x_i_sampling))\n",
    "I\n"
   ]
  },
  {
   "cell_type": "code",
   "execution_count": null,
   "metadata": {},
   "outputs": [],
   "source": []
  }
 ],
 "metadata": {
  "kernelspec": {
   "display_name": "Python 3",
   "language": "python",
   "name": "python3"
  },
  "language_info": {
   "codemirror_mode": {
    "name": "ipython",
    "version": 3
   },
   "file_extension": ".py",
   "mimetype": "text/x-python",
   "name": "python",
   "nbconvert_exporter": "python",
   "pygments_lexer": "ipython3",
   "version": "3.8.8"
  }
 },
 "nbformat": 4,
 "nbformat_minor": 2
}
