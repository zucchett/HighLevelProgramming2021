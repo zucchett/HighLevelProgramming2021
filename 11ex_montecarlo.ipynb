{
  "cells": [
    {
      "cell_type": "markdown",
      "metadata": {
        "id": "view-in-github",
        "colab_type": "text"
      },
      "source": [
        "<a href=\"https://colab.research.google.com/github/tuncermerve/HighLevelProgramming2021/blob/TuncerMerve/11ex_montecarlo.ipynb\" target=\"_parent\"><img src=\"https://colab.research.google.com/assets/colab-badge.svg\" alt=\"Open In Colab\"/></a>"
      ]
    },
    {
      "cell_type": "markdown",
      "metadata": {
        "id": "O-7npr6eFir7"
      },
      "source": [
        "1\\. **Radioactive decay chain**\n",
        "\n",
        "${\\rm Tl}^{208}$ decays to ${\\rm Pb}^{208}$ with a half-life $\\tau$ of 3.052 minutes. Suppose to start with a sample of 1000 Thallium atoms and 0 of Lead atoms.\n",
        "\n",
        "* Take steps in time of 1 second and at each time-step decide whether each Tl atom has decayed or not, accordingly to the probability $p(t)=1-2^{-t/\\tau}$. Subtract the total number of Tl atoms that decayed at each step from the Tl sample and add them to the Lead one. Plot the evolution of the two sets as a function of time  \n",
        "* Repeat the exercise by means of the inverse transform method: draw 1000 random numbers from the non-uniform probability distribution $p(t)=2^{-t/\\tau}\\frac{\\ln 2}{\\tau}$ to represent the times of decay of the 1000 Tl atoms. Make a plot showing the number of atoms that have not decayed as a function of time"
      ]
    },
    {
      "cell_type": "code",
      "execution_count": 1,
      "metadata": {
        "colab": {
          "base_uri": "https://localhost:8080/",
          "height": 282
        },
        "id": "Dk54S9ckFir9",
        "outputId": "4e4af13a-8e77-4a1f-c6c4-d5846ec18fee"
      },
      "outputs": [
        {
          "output_type": "execute_result",
          "data": {
            "text/plain": [
              "[<matplotlib.lines.Line2D at 0x7f43d60bcf90>]"
            ]
          },
          "metadata": {},
          "execution_count": 1
        },
        {
          "output_type": "display_data",
          "data": {
            "image/png": "[encoded data removed]",
            "text/plain": [
              "<Figure size 432x288 with 1 Axes>"
            ]
          },
          "metadata": {
            "needs_background": "light"
          }
        }
      ],
      "source": [
        "import numpy as np\n",
        "import matplotlib.pyplot as plt\n",
        "\n",
        "seconds = 2500\n",
        "\n",
        "def decay(tau, prob_f, tl_atoms=1000):\n",
        "    tl_atoms_histoty = []\n",
        "    \n",
        "    for second in range(seconds):\n",
        "        prob = prob_f(second, tau*60)\n",
        "        decayed_atoms = sum(np.random.uniform(0, 1, tl_atoms) < prob)\n",
        "        tl_atoms -= decayed_atoms\n",
        "        tl_atoms_histoty.append(tl_atoms)\n",
        "    \n",
        "    return np.array(tl_atoms_histoty)\n",
        "                  \n",
        "tl_atoms_histoty_1 = decay(tau=3.052, prob_f=lambda t, tau: 1 - 2**(-1/tau))\n",
        "\n",
        "plt.plot(tl_atoms_histoty_1)\n",
        "plt.plot(1000 - tl_atoms_histoty_1)"
      ]
    },
    {
      "cell_type": "code",
      "source": [
        "def icdf(x, tau=3.052):\n",
        "    return -(tau*60) * np.log2(1 - x)\n",
        "\n",
        "x = np.random.random(1000)\n",
        "times_delay = icdf(x)\n",
        "\n",
        "atoms_not_decayed = []\n",
        "for t in range(2500):\n",
        "    atoms_not_decayed.append(np.sum(times_delay > t))\n",
        "\n",
        "plt.plot(atoms_not_decayed)"
      ],
      "metadata": {
        "colab": {
          "base_uri": "https://localhost:8080/",
          "height": 282
        },
        "id": "fZmZTpMVF8AV",
        "outputId": "dfec1389-18aa-4b1b-f73e-eed5a35725c6"
      },
      "execution_count": 2,
      "outputs": [
        {
          "output_type": "execute_result",
          "data": {
            "text/plain": [
              "[<matplotlib.lines.Line2D at 0x7f43d5bb5c50>]"
            ]
          },
          "metadata": {},
          "execution_count": 2
        },
        {
          "output_type": "display_data",
          "data": {
            "image/png": "[encoded data removed]",
            "text/plain": [
              "<Figure size 432x288 with 1 Axes>"
            ]
          },
          "metadata": {
            "needs_background": "light"
          }
        }
      ]
    },
    {
      "cell_type": "markdown",
      "metadata": {
        "id": "1KpFR8bqFir-"
      },
      "source": [
        "2\\. **Monte Carlo integration: hit/miss vs mean value method**\n",
        "\n",
        "Consider the function: \n",
        "\n",
        "$$f(x) =\\sin^2{\\left( \\frac{1}{1-x} \\right)}$$\n",
        "\n",
        "* Plot the function and compute the integral of $f(x)$ between 0 and 2 with the hit/miss method. Evaluate the error of your estimate (hint: repeat the integral $N$ times, and from the distribution of the integrals take the mean value and the standard deviation, the latter rescaled by the appropriate factor)\n",
        "* Repeat the integral with the mean value method. Evaluate the error and compare it with the previous one."
      ]
    },
    {
      "cell_type": "code",
      "execution_count": 3,
      "metadata": {
        "colab": {
          "base_uri": "https://localhost:8080/",
          "height": 585
        },
        "id": "oyffAu8gFir_",
        "outputId": "d2e8c5b5-efdb-4e88-e787-210c328243f4"
      },
      "outputs": [
        {
          "output_type": "display_data",
          "data": {
            "image/png": "[encoded data removed]",
            "text/plain": [
              "<Figure size 576x576 with 1 Axes>"
            ]
          },
          "metadata": {
            "needs_background": "light"
          }
        },
        {
          "output_type": "stream",
          "name": "stdout",
          "text": [
            "Hit/miss method\n",
            "Integral: 1.3446 with error: 0.0029685869365743698\n",
            "Mean value method:\n",
            "Integral: 1.3474566045430596 with  error: 0.0020653292733040316\n",
            "The ratio between the error with hit/miss method and with mean value method is equal to: 0.6957280744782023\n",
            "The error in the mean value method is around 2/3 of the error with the first method\n"
          ]
        }
      ],
      "source": [
        "def f(x):\n",
        "    return pow(np.sin(1/(1-x)),2)\n",
        "a=0\n",
        "b=2\n",
        "x = np.linspace(b, a, 100)\n",
        "fig, ax = plt.subplots(figsize=(8,8))\n",
        "ax.plot(x,f(x))\n",
        "ax.grid()\n",
        "plt.show()\n",
        "\n",
        "\n",
        "print(\"Hit/miss method\")\n",
        "N = 100000\n",
        "count = 0\n",
        "for i in range(N):\n",
        "    x = 2 * np.random.random() \n",
        "    y = np.random.random()   \n",
        "    if y < f(x): count += 1\n",
        "I = 2 * count / N\n",
        "\n",
        "p=count/N   \n",
        "err = (b-a)*np.sqrt(N*p*(1-p))/N\n",
        "print(\"Integral:\", I,\"with error:\",err)\n",
        "\n",
        "print(\"Mean value method:\")\n",
        "x_random = np.array([(np.random.uniform(0, 2)) for i in range(N)])\n",
        "sum_f=sum(f(x_random)) # sum of f(x)\n",
        "I_mean = ((b-a)*sum_f)/N\n",
        "\n",
        "f1=(sum(f(x_random)**2))/(N)\n",
        "f2=(sum_f)/(N)\n",
        "\n",
        "err_mean=(b-a)*np.sqrt((f1-f2**2)/N)\n",
        "print(\"Integral:\",I_mean,\"with  error:\",err_mean)\n",
        "\n",
        "\n",
        "\n",
        "ratio_err = err_mean/err #ratio between the two errors\n",
        "\n",
        "\n",
        "print(\"The ratio between the error with hit/miss method and with mean value method is equal to:\",ratio_err)\n",
        "print(\"The error in the mean value method is around 2/3 of the error with the first method\")"
      ]
    },
    {
      "cell_type": "markdown",
      "metadata": {
        "id": "AwbR4gV5Fir_"
      },
      "source": [
        "3\\. **Monte Carlo integration in high dimension**\n",
        "\n",
        "* Compute the area of a circle of unit radius, by integrating the function:\n",
        "\n",
        "$$\n",
        "f(x,y)=\n",
        "\\left\\{\n",
        "\\begin{array}{ll}\n",
        "      1 & x^2+y^2\\le 1 \\\\\n",
        "      0 & {\\rm elsewhere}\n",
        "\\end{array} \n",
        "\\right.\n",
        "$$\n",
        "\n",
        "* Generalize the result for a 10D sphere."
      ]
    },
    {
      "cell_type": "code",
      "execution_count": 4,
      "metadata": {
        "colab": {
          "base_uri": "https://localhost:8080/"
        },
        "id": "MGB2QOY0FisB",
        "outputId": "42a3390b-25d5-45b9-deb7-a4500cde81a2"
      },
      "outputs": [
        {
          "output_type": "stream",
          "name": "stdout",
          "text": [
            "Area of circle (V=2) 3.1164\n",
            "Area of circle (V=10) 1.5732\n",
            "Volume of circle with dim V=2 is equal to 3.13024\n",
            "Volume of circle with dim V=3 is equal to 4.17496\n",
            "Volume of circle with dim V=10 is equal to 2.42688\n"
          ]
        }
      ],
      "source": [
        "def f(x,V):\n",
        "    if sum([ x[i]**2 for i in range(V)])<=1:\n",
        "        return 1\n",
        "    else:\n",
        "        return 0\n",
        "def comV(V):\n",
        "    a=-1\n",
        "    b=1\n",
        "    N=100000\n",
        "    #case with V=2\n",
        "    sum_f=0\n",
        "    for i in range(N):\n",
        "        x_random = np.array([np.random.uniform(a, b) for i in range(V)])\n",
        "        sum_f+=f(x_random,V)\n",
        "    return ((2**V)*sum_f)/N\n",
        "    \n",
        "a=-1\n",
        "b=1\n",
        "N=10000\n",
        "#case with V=2\n",
        "V=2\n",
        "sum_f=0\n",
        "for i in range(N):\n",
        "    x_random = np.array([np.random.uniform(a, b) for i in range(V)])\n",
        "    sum_f+=f(x_random,V)\n",
        "I = ((V*(b-a))*sum_f)/N\n",
        "\n",
        "print(\"Area of circle (V=2)\",I)\n",
        "#case with V=10\n",
        "V=3\n",
        "sum_f=0\n",
        "for i in range(N):\n",
        "    x_random = np.array([np.random.uniform(a, b) for i in range(V)])\n",
        "    sum_f+=f(x_random,V)\n",
        "I = ((V)*sum_f)/N\n",
        "print(\"Area of circle (V=10)\",I)\n",
        "\n",
        "\n",
        "\n",
        "print(\"Volume of circle with dim V=2 is equal to\",comV(V=2))\n",
        "print(\"Volume of circle with dim V=3 is equal to\",comV(V=3))\n",
        "print(\"Volume of circle with dim V=10 is equal to\",comV(V=10))"
      ]
    },
    {
      "cell_type": "markdown",
      "metadata": {
        "id": "lyiFo_prFisB"
      },
      "source": [
        "4\\. **Monte Carlo integration with importance sampling** \n",
        "\n",
        "Calculate the value of the integral:\n",
        "\n",
        "$$\n",
        "I=\\int_0^1 \\frac{x^{-1/2}}{e^x+1} dx\n",
        "$$\n",
        "\n",
        "using the importance sampling method with $w(x)=1/\\sqrt{x}$. You should expect a result around 0.84."
      ]
    },
    {
      "cell_type": "code",
      "execution_count": 7,
      "metadata": {
        "colab": {
          "base_uri": "https://localhost:8080/"
        },
        "id": "0Z06pz_TFisC",
        "outputId": "d7de40ca-1b3d-4a28-a784-db68cc1923ec"
      },
      "outputs": [
        {
          "output_type": "stream",
          "name": "stdout",
          "text": [
            "0.8329840047853356\n"
          ]
        }
      ],
      "source": [
        "def formula(x):\n",
        "    return (x**(-0.5))/(np.exp(x)+1)\n",
        "def w(x):\n",
        "    return 1/(np.sqrt(x))\n",
        "\n",
        "a=0\n",
        "b=1\n",
        "N=1000\n",
        "first=True\n",
        "for i in range(N):\n",
        "    r = np.random.uniform(a, b)**2 \n",
        "    if first:\n",
        "        func = np.array([formula(r)])\n",
        "        wunc = np.array([w(r)])\n",
        "        first = False\n",
        "    else:\n",
        "        func = np.append(func, formula(r))\n",
        "        wunc = np.append(wunc, w(r))\n",
        "        \n",
        "I = 2*sum(func/wunc)/N\n",
        "\n",
        "print(I)"
      ]
    },
    {
      "cell_type": "code",
      "source": [
        "def formula(x):\n",
        "    return (x**(-0.5))/(np.exp(x)+1)\n",
        "def w(x):\n",
        "    return 1/(np.sqrt(x))\n",
        "\n",
        "a=0\n",
        "b=1\n",
        "N=100000\n",
        "\n",
        "int_w=2*(np.sqrt(b)-np.sqrt(a)) #integral of w(x)\n",
        "x_random = np.array([np.random.uniform(a, b) for i in range(N)]) \n",
        "sum_g=sum(formula(x_random)/w(x_random)) #sum of the ratio between f(x) and w(x)\n",
        "I=(sum_g*int_w)/N  # integral \n",
        "print(\"The value of the integral is:\",I,\"True value is around 0.84\")"
      ],
      "metadata": {
        "colab": {
          "base_uri": "https://localhost:8080/"
        },
        "id": "7Mku5pRrGej1",
        "outputId": "df425792-a388-4b4c-8cc7-2c12d831be81"
      },
      "execution_count": 8,
      "outputs": [
        {
          "output_type": "stream",
          "name": "stdout",
          "text": [
            "The value of the integral is: 0.7596643638190853 True value is around 0.84\n"
          ]
        }
      ]
    }
  ],
  "metadata": {
    "kernelspec": {
      "display_name": "Python 3",
      "language": "python",
      "name": "python3"
    },
    "language_info": {
      "codemirror_mode": {
        "name": "ipython",
        "version": 3
      },
      "file_extension": ".py",
      "mimetype": "text/x-python",
      "name": "python",
      "nbconvert_exporter": "python",
      "pygments_lexer": "ipython3",
      "version": "3.8.5"
    },
    "colab": {
      "name": "11ex_montecarlo.ipynb",
      "provenance": [],
      "include_colab_link": true
    }
  },
  "nbformat": 4,
  "nbformat_minor": 0
}