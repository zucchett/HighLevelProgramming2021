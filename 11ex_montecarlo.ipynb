{
 "cells": [
  {
   "cell_type": "markdown",
   "metadata": {},
   "source": [
    "1\\. **Radioactive decay chain**\n",
    "\n",
    "${\\rm Tl}^{208}$ decays to ${\\rm Pb}^{208}$ with a half-life $\\tau$ of 3.052 minutes. Suppose to start with a sample of 1000 Thallium atoms and 0 of Lead atoms.\n",
    "\n",
    "* Take steps in time of 1 second and at each time-step decide whether each Tl atom has decayed or not, accordingly to the probability $p(t)=1-2^{-t/\\tau}$. Subtract the total number of Tl atoms that decayed at each step from the Tl sample and add them to the Lead one. Plot the evolution of the two sets as a function of time  \n",
    "* Repeat the exercise by means of the inverse transform method: draw 1000 random numbers from the non-uniform probability distribution $p(t)=2^{-t/\\tau}\\frac{\\ln 2}{\\tau}$ to represent the times of decay of the 1000 Tl atoms. Make a plot showing the number of atoms that have not decayed as a function of time"
   ]
  },
  {
   "cell_type": "code",
   "execution_count": 32,
   "metadata": {},
   "outputs": [],
   "source": [
    "import numpy as np\n",
    "import matplotlib.pyplot as plt\n",
    "\n",
    "PI = 3.1415926\n",
    "e = 2.71828\n",
    "\n",
    "thallium_a = 1000\n",
    "pb = 0\n",
    "hl = 3.052\n",
    "\n",
    "def p(t, hl):\n",
    "    return 1-(2**(-t/hl))\n",
    "maxim = 0\n",
    "progress = np.empty(1)\n",
    "progress1 = np.empty(1)\n",
    "x = np.linspace(0, 180, 180)\n",
    "for i in range(0, 180):\n",
    "    maxim = i\n",
    "    if (thallium_a - (p(i,hl)*100) > 0) or ():\n",
    "        if 0.2 < p(i, hl):\n",
    "            thallium_a -= - (p(i, hl)*100)\n",
    "            pb += p(i, hl)*100\n",
    "            np.append(progress, thallium_a)\n",
    "            np.append(progress1, pb)\n"
   ]
  },
  {
   "cell_type": "markdown",
   "metadata": {},
   "source": [
    "2\\. **Monte Carlo integration: hit/miss vs mean value method**\n",
    "\n",
    "Consider the function: \n",
    "\n",
    "$$f(x) =\\sin^2{\\left( \\frac{1}{1-x} \\right)}$$\n",
    "\n",
    "* Plot the function and compute the integral of $f(x)$ between 0 and 2 with the hit/miss method. Evaluate the error of your estimate (hint: repeat the integral $N$ times, and from the distribution of the integrals take the mean value and the standard deviation, the latter rescaled by the appropriate factor)\n",
    "* Repeat the integral with the mean value method. Evaluate the error and compare it with the previous one."
   ]
  },
  {
   "cell_type": "code",
   "execution_count": 41,
   "metadata": {},
   "outputs": [
    {
     "name": "stdout",
     "output_type": "stream",
     "text": [
      "Integral: 1.34292\n"
     ]
    },
    {
     "data": {
      "image/png": "[encoded data removed]",
      "text/plain": [
       "<Figure size 432x288 with 1 Axes>"
      ]
     },
     "metadata": {
      "needs_background": "light"
     },
     "output_type": "display_data"
    }
   ],
   "source": [
    "def f(x):\n",
    "    return (np.sin(1. / (1-x))**2)\n",
    "\n",
    "x=np.linspace(0.001, 1.999, 1000)\n",
    "plt.plot(x, f(x), 'r-')\n",
    "\n",
    "# Monte Carlo integration\n",
    "N = 100000\n",
    "count = 0\n",
    "for i in range(N):\n",
    "    x = 2 * np.random.random() # x is random uniform between 0 and 2\n",
    "    y = np.random.random()     # y is random uniform between 0 and 1\n",
    "    if y < f(x): count += 1\n",
    "I = 2 * count / N\n",
    "print(\"Integral:\", I)"
   ]
  },
  {
   "cell_type": "markdown",
   "metadata": {},
   "source": [
    "3\\. **Monte Carlo integration in high dimension**\n",
    "\n",
    "* Compute the area of a circle of unit radius, by integrating the function:\n",
    "\n",
    "$$\n",
    "f(x,y)=\n",
    "\\left\\{\n",
    "\\begin{array}{ll}\n",
    "      1 & x^2+y^2\\le 1 \\\\\n",
    "      0 & {\\rm elsewhere}\n",
    "\\end{array} \n",
    "\\right.\n",
    "$$\n",
    "\n",
    "* Generalize the result for a 10D sphere."
   ]
  },
  {
   "cell_type": "code",
   "execution_count": null,
   "metadata": {},
   "outputs": [],
   "source": []
  },
  {
   "cell_type": "markdown",
   "metadata": {},
   "source": [
    "4\\. **Monte Carlo integration with importance sampling** \n",
    "\n",
    "Calculate the value of the integral:\n",
    "\n",
    "$$\n",
    "I=\\int_0^1 \\frac{x^{-1/2}}{e^x+1} dx\n",
    "$$\n",
    "\n",
    "using the importance sampling method with $w(x)=1/\\sqrt{x}$. You should expect a result around 0.84."
   ]
  },
  {
   "cell_type": "code",
   "execution_count": 37,
   "metadata": {},
   "outputs": [
    {
     "name": "stdout",
     "output_type": "stream",
     "text": [
      "[0.21133907 0.14943929 0.12201667 0.10566954 0.09451371 0.08627882\n",
      " 0.07987866 0.07471965 0.07044636 0.06683128 0.06372113 0.06100834\n",
      " 0.05861491 0.05648274 0.05456751 0.05283477 0.05125725 0.0498131\n",
      " 0.04848451 0.04725685 0.04611797 0.04505764 0.04406724 0.04313941\n",
      " 0.04226781 0.041447   0.04067222 0.03993933 0.03924468 0.03858506\n",
      " 0.03795762 0.03735982 0.03678941 0.03624435 0.03572282 0.03522318\n",
      " 0.03474393 0.03428372 0.03384134 0.03341564 0.03300562 0.03261033\n",
      " 0.03222891 0.03186056 0.03150457 0.03116025 0.03082697 0.03050417\n",
      " 0.0301913  0.02988786 0.02959339 0.02930746 0.02902965 0.02875961\n",
      " 0.02849695 0.02824137 0.02799254 0.02775018 0.027514   0.02728376\n",
      " 0.0270592  0.02684009 0.02662622 0.02641738 0.02621339 0.02601404\n",
      " 0.02581918 0.02562863 0.02544223 0.02525985 0.02508133 0.02490655\n",
      " 0.02473537 0.02456767 0.02440333 0.02424225 0.02408432 0.02392944\n",
      " 0.0237775  0.02362843 0.02348212 0.0233385  0.02319748 0.02305898\n",
      " 0.02292294 0.02278928 0.02265793 0.02252882 0.0224019  0.02227709\n",
      " 0.02215435 0.02203362 0.02191484 0.02179796 0.02168293 0.0215697\n",
      " 0.02145823 0.02134847 0.02124038 0.02113391]\n"
     ]
    }
   ],
   "source": [
    "h_true = 0.84\n",
    "\n",
    "def f(x):\n",
    "    return (x**(-1/2))/((e**x)+1)\n",
    "\n",
    "def w(x):\n",
    "    return 1/np.sqrt(x)\n",
    "\n",
    "x = np.linspace(0.1, 10, 100)\n",
    "h_is = 1/100*(np.sum(f(x)/w(x)))*w(x)\n",
    "print(h_is)\n"
   ]
  },
  {
   "cell_type": "code",
   "execution_count": null,
   "metadata": {},
   "outputs": [],
   "source": []
  }
 ],
 "metadata": {
  "kernelspec": {
   "display_name": "Python 3",
   "language": "python",
   "name": "python3"
  },
  "language_info": {
   "codemirror_mode": {
    "name": "ipython",
    "version": 3
   },
   "file_extension": ".py",
   "mimetype": "text/x-python",
   "name": "python",
   "nbconvert_exporter": "python",
   "pygments_lexer": "ipython3",
   "version": "3.8.10"
  }
 },
 "nbformat": 4,
 "nbformat_minor": 2
}
