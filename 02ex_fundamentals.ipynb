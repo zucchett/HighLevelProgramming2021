{
 "cells": [
  {
   "cell_type": "markdown",
   "metadata": {},
   "source": [
    "1. Write the following expressions using the list comprehension"
   ]
  },
  {
   "cell_type": "code",
   "execution_count": 7,
   "metadata": {},
   "outputs": [],
   "source": [
    "import itertools"
   ]
  },
  {
   "cell_type": "code",
   "execution_count": 1,
   "metadata": {},
   "outputs": [
    {
     "name": "stdout",
     "output_type": "stream",
     "text": [
      "[(0, 0), (0, 1), (0, 2), (0, 3), (1, 0), (1, 1), (1, 2), (1, 3), (2, 0), (2, 1), (2, 2), (2, 3)]\n",
      "[1, 9, 25, 49, 81]\n"
     ]
    }
   ],
   "source": [
    "# 1\n",
    "ans = []\n",
    "for i in range(3):\n",
    "    for j in range(4):\n",
    "        ans.append((i, j))\n",
    "print(ans)\n",
    "\n",
    "# 2\n",
    "ans = map(lambda x: x * x, filter(lambda x: x % 2 == 1, range(10)))\n",
    "print(list(ans))"
   ]
  },
  {
   "cell_type": "code",
   "execution_count": 45,
   "metadata": {},
   "outputs": [
    {
     "name": "stdout",
     "output_type": "stream",
     "text": [
      "[(0, 0), (0, 1), (0, 2), (0, 3), (1, 0), (1, 1), (1, 2), (1, 3), (2, 0), (2, 1), (2, 2), (2, 3)]\n",
      "[1, 9, 25, 49, 81]\n"
     ]
    }
   ],
   "source": [
    "l1=[x for x in range(3)]\n",
    "l2=[x for x in range(4)]\n",
    "product=itertools.product(l1,l2)\n",
    "list_product=list(product)\n",
    "print(list_product)\n",
    "\n",
    "\n",
    "l=[x for x in range (10)]\n",
    "\n",
    "prod = [a * b for a, b in zip(l, l)]\n",
    "em=[]\n",
    "for i in prod:\n",
    "    if i%2==1:\n",
    "        em.append(int(i))\n",
    "print(em)\n",
    "\n",
    "\n",
    "    \n",
    "\n"
   ]
  },
  {
   "cell_type": "markdown",
   "metadata": {},
   "source": [
    "2\\. Convert the function $f$ into a function that doesn't use global variables and that does not modify the original list"
   ]
  },
  {
   "cell_type": "code",
   "execution_count": 1,
   "metadata": {},
   "outputs": [
    {
     "name": "stdout",
     "output_type": "stream",
     "text": [
      "[1, 2, 3, 0, 1, 2, 3, 4]\n",
      "[1, 2, 3, 0, 1, 2, 3, 4]\n"
     ]
    }
   ],
   "source": [
    "x = 5\n",
    "def f(alist):\n",
    "    for i in range(x):\n",
    "         alist.append(i)\n",
    "    return alist\n",
    "\n",
    "alist = [1,2,3]\n",
    "ans = f(alist)\n",
    "print(ans)\n",
    "print(alist) # alist has been changed!"
   ]
  },
  {
   "cell_type": "code",
   "execution_count": 4,
   "metadata": {},
   "outputs": [
    {
     "name": "stdout",
     "output_type": "stream",
     "text": [
      "[1, 2, 3, 0, 1, 2, 3, 4]\n",
      "[1, 2, 3]\n"
     ]
    }
   ],
   "source": [
    "x=5\n",
    "def f(alist):\n",
    "    x=5  # value de\n",
    "    alist=[1,2,3]\n",
    "    for i in range(x):\n",
    "        alist.append(i)\n",
    "    return alist\n",
    "\n",
    "alist=[1,2,3]\n",
    "ans=f(alist)\n",
    "print(ans)\n",
    "print(alist)"
   ]
  },
  {
   "cell_type": "markdown",
   "metadata": {},
   "source": [
    "3\\. Write a `decorator` hello that makes every wrapped function print “Hello!”, i.e. something like:\n",
    "\n",
    "```python\n",
    "@hello\n",
    "def square(x):\n",
    "    return x*x\n",
    "```\n",
    "\n"
   ]
  },
  {
   "cell_type": "code",
   "execution_count": 31,
   "metadata": {},
   "outputs": [
    {
     "name": "stdout",
     "output_type": "stream",
     "text": [
      "Hello\n"
     ]
    }
   ],
   "source": [
    "def hello(func):\n",
    "    def wrapped(self):\n",
    "        print(\"Hello\")\n",
    "        func(self)\n",
    "    return wrapped\n",
    "\n",
    "\n",
    "\n",
    "# @hello\n",
    "# def fun3():\n",
    "#     print(\"hello 2\")\n",
    "\n",
    "\n",
    "# @hello # decorater \n",
    "# def fun2():\n",
    "#     print(\"Hello\")\n",
    "\n",
    "    # fun2=hello(fun2)\n",
    "\n",
    "# fun2()\n",
    "# fun3()\n",
    "\n",
    "@hello\n",
    "def square(x):\n",
    "    return x*x\n",
    "\n",
    "square(x)\n",
    "\n"
   ]
  },
  {
   "cell_type": "markdown",
   "metadata": {},
   "source": [
    "4\\. Write the factorial function in two different ways, so that it a) does and b) does not use recursion."
   ]
  },
  {
   "cell_type": "code",
   "execution_count": 96,
   "metadata": {},
   "outputs": [
    {
     "data": {
      "text/plain": [
       "120"
      ]
     },
     "execution_count": 96,
     "metadata": {},
     "output_type": "execute_result"
    }
   ],
   "source": [
    "# factorial with recursion\n",
    "\n",
    "def factorial(a):\n",
    "    if a==0 or a==1:\n",
    "        return 1\n",
    "    else:\n",
    "        return a*factorial(a-1)\n",
    "\n",
    "factorial(5)\n",
    "\n",
    "\n"
   ]
  },
  {
   "cell_type": "code",
   "execution_count": 2,
   "metadata": {},
   "outputs": [
    {
     "name": "stdout",
     "output_type": "stream",
     "text": [
      "120\n"
     ]
    }
   ],
   "source": [
    "# function without factorial\n",
    "\n",
    "def withoutrec(m):\n",
    "    if m==0 or m==1:\n",
    "        return 1\n",
    "    else:\n",
    "        fac=1\n",
    "        for i in range(1,m+1):\n",
    "            fac=fac*i\n",
    "        print(fac)\n",
    "  \n",
    "withoutrec(5)"
   ]
  },
  {
   "cell_type": "code",
   "execution_count": 30,
   "metadata": {},
   "outputs": [
    {
     "name": "stdout",
     "output_type": "stream",
     "text": [
      "The Result for radius 1 is =  3.14\n",
      "The Result for radius 2 is =  6.28\n",
      "The Result for radius 3 is =  9.42\n",
      "The Result for radius 1 is =  3.14\n",
      "The Result for radius 2 is =  12.56\n",
      "The Result for radius 3 is =  28.26\n",
      "The Result for radius 1 is =  8.373333333333333\n",
      "The Result for radius 2 is =  66.98666666666666\n",
      "The Result for radius 3 is =  226.07999999999998\n",
      "The Result for radius 1 is =  18.84\n",
      "The Result for radius 2 is =  37.68\n",
      "The Result for radius 3 is =  56.519999999999996\n",
      "The Result for radius 1 is =  12.56\n",
      "The Result for radius 2 is =  50.24\n",
      "The Result for radius 3 is =  113.04\n",
      "The Result for radius 1 is =  20.933333333333334\n",
      "The Result for radius 2 is =  167.46666666666667\n",
      "The Result for radius 3 is =  565.1999999999999\n",
      "The Result for radius 1 is =  94.2\n",
      "The Result for radius 2 is =  188.4\n",
      "The Result for radius 3 is =  282.6\n",
      "The Result for radius 1 is =  62.800000000000004\n",
      "The Result for radius 2 is =  251.20000000000002\n",
      "The Result for radius 3 is =  565.2\n",
      "The Result for radius 1 is =  125.6\n",
      "The Result for radius 2 is =  1004.8\n",
      "The Result for radius 3 is =  3391.2\n"
     ]
    }
   ],
   "source": [
    "Circ= lambda r: 2*3.14*r\n",
    "Area= lambda r: 3.14*r**2\n",
    "Volume= lambda r: 4/3*3.14*r**3\n",
    "\n",
    "densities={\"AI\" : [0.5,1,2], \"Fe\" : [3,4,5], \"pb\" : [15,20,30]}\n",
    "radii=[1,2,3]\n",
    "\n",
    "\n",
    "function=[Circ,Area,Volume]\n",
    "\n",
    "for d,r in zip(densities,radii):\n",
    "    for i,j in zip(densities[d],function):\n",
    "        for x in radii:\n",
    "            print(\"The Result for radius\",x,\"is = \",j(x)*i)"
   ]
  },
  {
   "cell_type": "markdown",
   "metadata": {},
   "source": [
    "5\\. Use HOFs (zip in particular) to compute the weight of a circle, a disk and a sphere, assuming different radii and different densities:\n",
    "\n",
    "```python\n",
    "densities = {\"Al\" : [0.5, 1, 2], \"Fe\" : [3, 4, 5], \"Pb\" : [15, 20, 30]}\n",
    "radii = [1, 2, 3]\n",
    "```\n",
    "\n",
    "where the entries of the dictionary's values are the linear, superficial and volumetric densities of the materials respectively.\n",
    "\n",
    "Subsequently, define a list using a comprehension with three lambda functions that compute the circumference, the area and the volume for a given radius.\n"
   ]
  },
  {
   "cell_type": "markdown",
   "metadata": {},
   "source": [
    "6\\. Edit the class defintion to add an instance attribute of `is_hungry = True` to the Dog class. Then add a method called `eat()` which changes the value of `is_hungry` to `False` when called. Figure out the best way to instantiate the dog objects and to feed the dogs, e.g. call the `eat()` method for all instances. Finally, print “My dogs are hungry.” or “My dogs are not hungry.” if all of them have `is_hungry = True` or `False`, respectively. The final output should look like this:\n",
    "\n",
    "`I have 3 dogs. \n",
    "Tom is 6. \n",
    "Fletcher is 7. \n",
    "Larry is 9. \n",
    "And they're all mammals, of course. \n",
    "My dogs are not hungry.\n",
    "`\n",
    "\n",
    "```python\n",
    "# Parent class\n",
    "class Dog:\n",
    "\n",
    "    # Class attribute\n",
    "    species = 'mammal'\n",
    "\n",
    "    # Initializer / Instance attributes\n",
    "    def __init__(self, name, age):\n",
    "        self.name = name\n",
    "        self.age = age\n",
    "\n",
    "    # instance method\n",
    "    def description(self):\n",
    "        return \"{} is {} years old\".format(self.name, self.age)\n",
    "\n",
    "    # instance method\n",
    "    def speak(self, sound):\n",
    "        return \"{} says {}\".format(self.name, sound)\n",
    "\n",
    "# Child class (inherits from Dog class)\n",
    "class RussellTerrier(Dog):\n",
    "    def run(self, speed):\n",
    "        return \"{} runs {}\".format(self.name, speed)\n",
    "\n",
    "# Child class (inherits from Dog class)\n",
    "class Bulldog(Dog):\n",
    "    def run(self, speed):\n",
    "        return \"{} runs {}\".format(self.name, speed)\n",
    "```"
   ]
  },
  {
   "cell_type": "code",
   "execution_count": 62,
   "metadata": {},
   "outputs": [
    {
     "name": "stdout",
     "output_type": "stream",
     "text": [
      "I have 3 dogs\n",
      "Tom is  6 years old\n",
      "FLectcher is  7 years old\n",
      "larry is  9 years old\n",
      "ALL they are  mamals ofcourse\n",
      "My dogs are not hungry .\n"
     ]
    }
   ],
   "source": [
    "class dog:\n",
    "    species='mamals'\n",
    "    is_hungry=True\n",
    "    \n",
    "    def __init__(self,name,age):\n",
    "        self.name=name\n",
    "        self.age=age\n",
    "        \n",
    "    def description(self):\n",
    "        return \"{} is  {} year old\".format(self.name,self.age)\n",
    "    \n",
    "    def speak(self,sound):\n",
    "        return \"{} says {}\".format(self.name,self.sound)\n",
    "    \n",
    "    def eat(self,dogs):\n",
    "        return dogs.is_hungry==False\n",
    "    \n",
    "    \n",
    "class russel(dog):\n",
    "    def run(self,speed):\n",
    "        return \"{} run {} km\".format(self.name,self.speed)\n",
    "    \n",
    "    \n",
    "class bull(dog):\n",
    "    def run(self,speed):\n",
    "        return \"{} run {} km\".format(self.name,self.speed)\n",
    "    \n",
    "\n",
    "    \n",
    "\n",
    "\n",
    "\n",
    "    \n",
    "My_dogs=[dog(\"Tom\",6),dog(\"FLectcher\",7),dog(\"larry\",9)]\n",
    "Count_dogs=len(My_dogs)\n",
    "\n",
    "\n",
    "print(\"I have\",Count_dogs,\"dogs\")\n",
    "for i in range (Count_dogs):\n",
    "    print(My_dogs[i].name,\"is \",My_dogs[i].age,\"years old\")\n",
    "\n",
    "    \n",
    "    \n",
    "def checking_dogs():\n",
    "    check = True\n",
    "    for i in range(Count_dogs):\n",
    "        My_dogs[i].eat(My_dogs[i])\n",
    "        if not My_dogs[i].is_hungry:\n",
    "            check = check and My_dogs[i].is_hungry       \n",
    "    return check\n",
    "    \n",
    "x=dog(\"w\",2)\n",
    "print(\"ALL they are \",x.species,\"ofcourse\")\n",
    "    \n",
    "if checking_dogs():\n",
    "    print(\"My dogs are not hungry .\")"
   ]
  }
 ],
 "metadata": {
  "kernelspec": {
   "display_name": "Python 3 (ipykernel)",
   "language": "python",
   "name": "python3"
  },
  "language_info": {
   "codemirror_mode": {
    "name": "ipython",
    "version": 3
   },
   "file_extension": ".py",
   "mimetype": "text/x-python",
   "name": "python",
   "nbconvert_exporter": "python",
   "pygments_lexer": "ipython3",
   "version": "3.9.7"
  }
 },
 "nbformat": 4,
 "nbformat_minor": 2
}
