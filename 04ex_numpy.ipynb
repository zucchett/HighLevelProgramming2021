{
 "cells": [
  {
   "cell_type": "markdown",
   "metadata": {},
   "source": [
    "1\\. Find the total mean, and the mean for each row and column of the following matrix:\n",
    "\n",
    "```python\n",
    "m = np.arange(12).reshape((3,4))\n",
    "```"
   ]
  },
  {
   "cell_type": "code",

   "execution_count": 1,
   "metadata": {},
   "outputs": [
    {
     "name": "stdout",
     "output_type": "stream",
     "text": [
      "[0 1 2 3] mean for row 1 = 1.5\n",
      "[4 5 6 7] mean for row 2 = 5.5\n",
      "[ 8  9 10 11] mean for row 3 = 9.5\n",
      "mean for columns: [4.0, 5.0, 6.0, 7.0]\n"
     ]
    }
   ],
   "source": [
    "import numpy as np\n",
    "m = np.arange(12).reshape((3,4))\n",
    "for i in range(3):\n",
    "    print(m[i,:],\"mean for row\",i+1,\"=\",np.mean(m[i,:]))\n",
    "\n",
    "sumcl=[0,0,0,0]\n",
    "for j in range(4):\n",
    "    sumcl[j]=np.mean(m[:,j])\n",
    "print(\"mean for columns:\",sumcl)  "
   ]

   "execution_count": null,
   "metadata": {},
   "outputs": [],
   "source": []

  },
  {
   "cell_type": "markdown",
   "metadata": {},
   "source": [
    "2\\. Find the outer product of the following vectors:\n",
    "\n",
    "```python\n",
    "u = np.array([1, 3, 5, 7])\n",
    "v = np.array([2, 4, 6, 8])\n",
    "```\n",
    "\n",
    "Use different methods to do this:\n",
    "\n",
    "   1. Using the function `outer` in numpy\n",
    "   2. Using a nested `for` loop or a list comprehension\n",
    "   3. Using numpy broadcasting operations"
   ]
  },
  {
   "cell_type": "code",
   "execution_count": 2,
   "metadata": {},
   "outputs": [
    {
     "name": "stdout",
     "output_type": "stream",
     "text": [
      "1.\n",
      "[[ 2  4  6  8]\n",
      " [ 6 12 18 24]\n",
      " [10 20 30 40]\n",
      " [14 28 42 56]]\n",
      "2.\n",
      "[[ 2  4  6  8]\n",
      " [ 6 12 18 24]\n",
      " [10 20 30 40]\n",
      " [14 28 42 56]] \n",
      "3.\n",
      "[[ 2.  4.  6.  8.]\n",
      " [ 6. 12. 18. 24.]\n",
      " [10. 20. 30. 40.]\n",
      " [14. 28. 42. 56.]]\n"
     ]
    }
   ],
   "source": [
    "u = np.array([1, 3, 5, 7])\n",
    "v = np.array([2, 4, 6, 8])\n",
    "print(\"1.\")\n",
    "a=np.outer(u,v)\n",
    "print(a)\n",
    "print(\"2.\")\n",
    "b =np.arange(len(u)*len(v)).reshape((len(u),len(v)))\n",
    "for i in range(len(u)):\n",
    "    for j in range(len(v)):\n",
    "        b[i,j]=u[i]*v[j]\n",
    "print(b,\"\\n3.\")\n",
    "u = np.array([[1], [3], [5],[7]])\n",
    "c = np.broadcast(u,v)\n",
    "out = np.empty(c.shape)\n",
    "out.flat = [u*v for (u,v) in c]\n",
    "print(out)"
   ]

   "execution_count": null,
   "metadata": {},
   "outputs": [],
   "source": []

  },
  {
   "cell_type": "markdown",
   "metadata": {},
   "source": [
    "3\\. Create a 10 by 6 matrix of increasing float numbers, starting from zero and increasing in each step by 0.1, so the output matrix looks like the following:\n",
    "\n",
    "```python\n",
    "m = [[0. 0.1, 0.2 0.3 ... 0.9]\n",
    "     [1.0 1.1 1.2 1.3 ... 1.9]\n",
    "     ...\n",
    "     [5.0 5.1 5.2 5.3 ... 5.9]]\n",
    "```\n",
    "After creating the matrix, set all entries with a decimal part $< 0.4$ to zero."
   ]
  },
  {
   "cell_type": "code",

   "execution_count": 3,
   "metadata": {},
   "outputs": [
    {
     "name": "stdout",
     "output_type": "stream",
     "text": [
      "Before\n",
      " [[0.  0.1 0.2 0.3 0.4 0.5 0.6 0.7 0.8 0.9]\n",
      " [1.  1.1 1.2 1.3 1.4 1.5 1.6 1.7 1.8 1.9]\n",
      " [2.  2.1 2.2 2.3 2.4 2.5 2.6 2.7 2.8 2.9]\n",
      " [3.  3.1 3.2 3.3 3.4 3.5 3.6 3.7 3.8 3.9]\n",
      " [4.  4.1 4.2 4.3 4.4 4.5 4.6 4.7 4.8 4.9]\n",
      " [5.  5.1 5.2 5.3 5.4 5.5 5.6 5.7 5.8 5.9]]\n",
      "After\n",
      " [[0.  0.  0.  0.  0.4 0.5 0.6 0.7 0.8 0.9]\n",
      " [0.  0.  0.  0.  1.4 1.5 1.6 1.7 1.8 1.9]\n",
      " [0.  0.  0.  0.  2.4 2.5 2.6 2.7 2.8 2.9]\n",
      " [0.  0.  0.  0.  3.4 3.5 3.6 3.7 3.8 3.9]\n",
      " [0.  0.  0.  0.  4.4 4.5 4.6 4.7 4.8 4.9]\n",
      " [0.  0.  0.  0.  5.4 5.5 5.6 5.7 5.8 5.9]]\n"
     ]
    }
   ],
   "source": [
    "Z = np.arange(10*6).reshape(6,10)*0.1\n",
    "print(\"Before\\n\",Z)\n",
    "for i in range(6):\n",
    "    for j in range(10):\n",
    "        if((Z[i,j]-np.int_(Z[i,j]))<0.4):\n",
    "            Z[i,j]=0\n",
    "print(\"After\\n\",Z)"
   ]

   "execution_count": null,
   "metadata": {},
   "outputs": [],
   "source": []

  },
  {
   "cell_type": "markdown",
   "metadata": {},
   "source": [
    "4\\. Use `np.linspace` to create an array of 100 numbers between 0 and 2π (inclusive).\n",
    "\n",
    "  * Extract every 10th element using the slice notation\n",
    "  * Reverse the array using the slice notation\n",
    "  * Extract elements where the absolute difference between the sin and cos functions evaluated for that element is $< 0.1$\n",
    "  * **Optional**: make a plot showing the sin and cos functions and indicate where they are close"
   ]
  },
  {
   "cell_type": "code",

   "execution_count": 4,
   "metadata": {},
   "outputs": [
    {
     "name": "stdout",
     "output_type": "stream",
     "text": [
      "Array\n",
      " [0.         0.06346652 0.12693304 0.19039955 0.25386607 0.31733259\n",
      " 0.38079911 0.44426563 0.50773215 0.57119866 0.63466518 0.6981317\n",
      " 0.76159822 0.82506474 0.88853126 0.95199777 1.01546429 1.07893081\n",
      " 1.14239733 1.20586385 1.26933037 1.33279688 1.3962634  1.45972992\n",
      " 1.52319644 1.58666296 1.65012947 1.71359599 1.77706251 1.84052903\n",
      " 1.90399555 1.96746207 2.03092858 2.0943951  2.15786162 2.22132814\n",
      " 2.28479466 2.34826118 2.41172769 2.47519421 2.53866073 2.60212725\n",
      " 2.66559377 2.72906028 2.7925268  2.85599332 2.91945984 2.98292636\n",
      " 3.04639288 3.10985939 3.17332591 3.23679243 3.30025895 3.36372547\n",
      " 3.42719199 3.4906585  3.55412502 3.61759154 3.68105806 3.74452458\n",
      " 3.8079911  3.87145761 3.93492413 3.99839065 4.06185717 4.12532369\n",
      " 4.1887902  4.25225672 4.31572324 4.37918976 4.44265628 4.5061228\n",
      " 4.56958931 4.63305583 4.69652235 4.75998887 4.82345539 4.88692191\n",
      " 4.95038842 5.01385494 5.07732146 5.14078798 5.2042545  5.26772102\n",
      " 5.33118753 5.39465405 5.45812057 5.52158709 5.58505361 5.64852012\n",
      " 5.71198664 5.77545316 5.83891968 5.9023862  5.96585272 6.02931923\n",
      " 6.09278575 6.15625227 6.21971879 6.28318531]\n",
      "Extract every 10th element\n",
      " [0.         0.63466518 1.26933037 1.90399555 2.53866073 3.17332591\n",
      " 3.8079911  4.44265628 5.07732146 5.71198664]\n",
      "Reverse array\n",
      " [6.28318531 6.21971879 6.15625227 6.09278575 6.02931923 5.96585272\n",
      " 5.9023862  5.83891968 5.77545316 5.71198664 5.64852012 5.58505361\n",
      " 5.52158709 5.45812057 5.39465405 5.33118753 5.26772102 5.2042545\n",
      " 5.14078798 5.07732146 5.01385494 4.95038842 4.88692191 4.82345539\n",
      " 4.75998887 4.69652235 4.63305583 4.56958931 4.5061228  4.44265628\n",
      " 4.37918976 4.31572324 4.25225672 4.1887902  4.12532369 4.06185717\n",
      " 3.99839065 3.93492413 3.87145761 3.8079911  3.74452458 3.68105806\n",
      " 3.61759154 3.55412502 3.4906585  3.42719199 3.36372547 3.30025895\n",
      " 3.23679243 3.17332591 3.10985939 3.04639288 2.98292636 2.91945984\n",
      " 2.85599332 2.7925268  2.72906028 2.66559377 2.60212725 2.53866073\n",
      " 2.47519421 2.41172769 2.34826118 2.28479466 2.22132814 2.15786162\n",
      " 2.0943951  2.03092858 1.96746207 1.90399555 1.84052903 1.77706251\n",
      " 1.71359599 1.65012947 1.58666296 1.52319644 1.45972992 1.3962634\n",
      " 1.33279688 1.26933037 1.20586385 1.14239733 1.07893081 1.01546429\n",
      " 0.95199777 0.88853126 0.82506474 0.76159822 0.6981317  0.63466518\n",
      " 0.57119866 0.50773215 0.44426563 0.38079911 0.31733259 0.25386607\n",
      " 0.19039955 0.12693304 0.06346652 0.        ]\n"
     ]
    },
    {
     "data": {
      "text/plain": [
       "<matplotlib.legend.Legend at 0x7f2a7f4844f0>"
      ]
     },
     "execution_count": 4,
     "metadata": {},
     "output_type": "execute_result"
    },
    {
     "data": {
      "image/png": "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\n",
      "text/plain": [
       "<Figure size 432x288 with 1 Axes>"
      ]
     },
     "metadata": {
      "needs_background": "light"
     },
     "output_type": "display_data"
    }
   ],
   "source": [
    "import matplotlib.pyplot as plt\n",
    "x= np.linspace(0, 2*np.pi, 100)\n",
    "print(\"Array\\n\",x)\n",
    "print(\"Extract every 10th element\\n\",x[::10])\n",
    "print(\"Reverse array\\n\",x[::-1])\n",
    "s = np.sin(x)\n",
    "c=np.cos(x)\n",
    "y=abs(s-c)\n",
    "y[y>0.1]=0\n",
    "plt.plot(x,s)\n",
    "plt.plot(x,c)\n",
    "plt.plot(x,y)\n",
    "plt.legend(['sin(x)','cos(x)','|sin(x)-cos(x)|<0.1'])"
   ]

   "execution_count": null,
   "metadata": {},
   "outputs": [],
   "source": []

  },
  {
   "cell_type": "markdown",
   "metadata": {},
   "source": [
    "5\\. Create a matrix that shows the 10 by 10 multiplication table.\n",
    "\n",
    " * Find the trace of the matrix\n",
    " * Extract the anti-diagonal matrix (this should be ```array([10, 18, 24, 28, 30, 30, 28, 24, 18, 10])```)\n",
    " * Extract the diagonal offset by 1 upwards (this should be ```array([ 2,  6, 12, 20, 30, 42, 56, 72, 90])```)"
   ]
  },
  {
   "cell_type": "code",

   "execution_count": 5,
   "metadata": {},
   "outputs": [
    {
     "name": "stdout",
     "output_type": "stream",
     "text": [
      "10 by 10 multiplication table\n",
      " [[  1   2   3   4   5   6   7   8   9  10]\n",
      " [  2   4   6   8  10  12  14  16  18  20]\n",
      " [  3   6   9  12  15  18  21  24  27  30]\n",
      " [  4   8  12  16  20  24  28  32  36  40]\n",
      " [  5  10  15  20  25  30  35  40  45  50]\n",
      " [  6  12  18  24  30  36  42  48  54  60]\n",
      " [  7  14  21  28  35  42  49  56  63  70]\n",
      " [  8  16  24  32  40  48  56  64  72  80]\n",
      " [  9  18  27  36  45  54  63  72  81  90]\n",
      " [ 10  20  30  40  50  60  70  80  90 100]]\n",
      "Trace of the matrix= 385\n",
      "Anti-diagonal matrix= [10 18 24 28 30 30 28 24 18 10]\n",
      "Diagonal offset by 1 upwards= [ 2  6 12 20 30 42 56 72 90]\n"
     ]
    }
   ],
   "source": [
    "m=np.arange(1,11,1)\n",
    "ml=m*m[:,np.newaxis]\n",
    "print(\"10 by 10 multiplication table\\n\",ml)\n",
    "diagonal = np.diag(ml)\n",
    "sum=np.sum(diagonal)\n",
    "print(\"Trace of the matrix=\",sum)\n",
    "anti_diag=np.arange(1,11)\n",
    "for i in range(10):\n",
    "    for j in range(10):\n",
    "        if(i+j==9):\n",
    "            anti_diag[i]=ml[i,j]\n",
    "print(\"Anti-diagonal matrix=\",anti_diag)\n",
    "diag=np.arange(1,10)\n",
    "for i in range(10):\n",
    "    for j in range(10):\n",
    "        if(i+1==j):\n",
    "            diag[i]=ml[i,j]\n",
    "print(\"Diagonal offset by 1 upwards=\",diag)\n"
   ]
   "execution_count": null,
   "metadata": {},
   "outputs": [],
   "source": []

  },
  {
   "cell_type": "markdown",
   "metadata": {},
   "source": [
    "6\\. Use broadcasting to create a grid of distances.\n",
    "\n",
    "Route 66 crosses the following cities in the US: Chicago, Springfield, Saint-Louis, Tulsa, Oklahoma City, Amarillo, Santa Fe, Albuquerque, Flagstaff, Los Angeles\n",
    "The corresponding positions in miles are: 0, 198, 303, 736, 871, 1175, 1475, 1544, 1913, 2448\n",
    "\n",
    "  * Build a 2D grid of distances among each city along Route 66\n",
    "  * Convert the distances in km"
   ]
  },
  {
   "cell_type": "code",

   "execution_count": 13,
   "metadata": {},
   "outputs": [
    {
     "name": "stdout",
     "output_type": "stream",
     "text": [
      "   ['Ch' 'Sp' 'SL' 'Tu' 'Ok' 'A' 'SFe' 'Al' 'Fl' 'LA']\n",
      "Ch ['0' '198' '303' '736' '871' '1175' '1475' '1544' '1913' '2448']\n",
      "Sp ['198' '0' '105' '538' '673' '977' '1277' '1346' '1715' '2250']\n",
      "SL ['303' '105' '0' '433' '568' '872' '1172' '1241' '1610' '2145']\n",
      "Tu ['736' '538' '433' '0' '135' '439' '739' '808' '1177' '1712']\n",
      "Ok ['871' '673' '568' '135' '0' '304' '604' '673' '1042' '1577']\n",
      "A ['1175' '977' '872' '439' '304' '0' '300' '369' '738' '1273']\n",
      "SFe ['1475' '1277' '1172' '739' '604' '300' '0' '69' '438' '973']\n",
      "Al ['1544' '1346' '1241' '808' '673' '369' '69' '0' '369' '904']\n",
      "Fl ['1913' '1715' '1610' '1177' '1042' '738' '438' '369' '0' '535']\n",
      "LA ['2448' '2250' '2145' '1712' '1577' '1273' '973' '904' '535' '0']\n",
      "\n",
      "\n",
      " [[   0.  319.  488. 1184. 1402. 1891. 2374. 2485. 3079. 3940.]\n",
      " [ 319.    0.  169.  866. 1083. 1572. 2055. 2166. 2760. 3621.]\n",
      " [ 488.  169.    0.  697.  914. 1403. 1886. 1997. 2591. 3452.]\n",
      " [1184.  866.  697.    0.  217.  707. 1189. 1300. 1894. 2755.]\n",
      " [1402. 1083.  914.  217.    0.  489.  972. 1083. 1677. 2538.]\n",
      " [1891. 1572. 1403.  707.  489.    0.  483.  594. 1188. 2049.]\n",
      " [2374. 2055. 1886. 1189.  972.  483.    0.  111.  705. 1566.]\n",
      " [2485. 2166. 1997. 1300. 1083.  594.  111.    0.  594. 1455.]\n",
      " [3079. 2760. 2591. 1894. 1677. 1188.  705.  594.    0.  861.]\n",
      " [3940. 3621. 3452. 2755. 2538. 2049. 1566. 1455.  861.    0.]]\n"
     ]
    }
   ],
   "source": [
    "route66=np.array([\"\",\"Chicago\", \"Springfield\", \"Saint-Louis\", \"Tulsa\",\n",
    "         \"OklahomaCity\", \"Amarillo\", \"Santa-Fe\", \"Albuquerque\", \n",
    "         \"Flagstaff\", \"Los-Angeles\"])\n",
    "miles=np.array([0, 198, 303, 736, 871, 1175, 1475, 1544, 1913, 2448])\n",
    "d=np.abs(miles-miles[:,np.newaxis])\n",
    "r=np.array([\"Ch\",\"Sp\",\"SL\",\"Tu\",\n",
    "         \"Ok\", \"A\", \"SFe\", \"Al\", \n",
    "         \"Fl\", \"LA\"])\n",
    "r1=np.array([\"  \",\"Ch\",\"Sp\",\"SL\",\"Tu\",\n",
    "         \"Ok\", \"A\", \"SFe\", \"Al\", \n",
    "         \"Fl\", \"LA\"])\n",
    "arr=np.vstack([r,d])\n",
    "for x,y in zip(r1,arr):\n",
    "    print(x,y)\n",
    "\n",
    "dkm=np.round(d*1.609344)\n",
    "print(\"\\n\\n\",dkm)"
   ]

   "execution_count": null,
   "metadata": {},
   "outputs": [],
   "source": []

  },
  {
   "cell_type": "markdown",
   "metadata": {},
   "source": [
    "7\\. Prime numbers sieve: compute the prime numbers in the 0-N (start with N=99) range with a sieve (mask).\n",
    "  * Check the performances (timeit); how does it scale with N?\n",
    "  * Implement the optimization suggested in the [sieve of Eratosthenes](https://en.wikipedia.org/wiki/Sieve_of_Eratosthenes)"
   ]
  },
  {
   "cell_type": "code",

   "execution_count": 15,
   "metadata": {},
   "outputs": [
    {
     "name": "stdout",
     "output_type": "stream",
     "text": [
      "Original\n",
      " [ 2  3  4  5  6  7  8  9 10 11 12 13 14 15 16 17 18 19 20 21 22 23 24 25\n",
      " 26 27 28 29 30 31 32 33 34 35 36 37 38 39 40 41 42 43 44 45 46 47 48 49\n",
      " 50 51 52 53 54 55 56 57 58 59 60 61 62 63 64 65 66 67 68 69 70 71 72 73\n",
      " 74 75 76 77 78 79 80 81 82 83 84 85 86 87 88 89 90 91 92 93 94 95 96 97\n",
      " 98 99]\n",
      "Prime numbers\n",
      " [ 2  3  5  7 11 13 17 19 23 29 31 37 41 43 47 53 59 61 67 71 73 79 83 89\n",
      " 97]\n"
     ]
    }
   ],
   "source": [
    "N=np.arange(2,100)\n",
    "print(\"Original\\n\",N)\n",
    "for i in range(98):\n",
    "    if(N[i]!=False):\n",
    "        for p in range(i+1,98):\n",
    "            if(N[p]%N[i]==0):\n",
    "                N[p]=False\n",
    "mask=(N!=0)\n",
    "filtered=N[mask]\n",
    "print(\"Prime numbers\\n\",filtered)"
   ]
  },
  {
   "cell_type": "code",


   "execution_count": null,
   "metadata": {},
   "outputs": [],
   "source": []
  }
 ],
 "metadata": {
  "kernelspec": {

   "display_name": "Python 3 (ipykernel)",

   "display_name": "Python 3",

   "language": "python",
   "name": "python3"
  },
  "language_info": {
   "codemirror_mode": {
    "name": "ipython",
    "version": 3
   },
   "file_extension": ".py",
   "mimetype": "text/x-python",
   "name": "python",
   "nbconvert_exporter": "python",
   "pygments_lexer": "ipython3",

   "version": "3.8.10"

   "version": "3.8.5"

  }
 },
 "nbformat": 4,
 "nbformat_minor": 2
}
