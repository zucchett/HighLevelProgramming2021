{
 "cells": [
  {
   "cell_type": "markdown",
   "metadata": {},
   "source": [
    "1\\. Find the total mean, and the mean for each row and column of the following matrix:\n",
    "\n",
    "```python\n",
    "m = np.arange(12).reshape((3,4))\n",
    "```"
   ]
  },
  {
   "cell_type": "code",
   "execution_count": 3,
   "metadata": {},
   "outputs": [],
   "source": [
    "#libraries\n",
    "\n",
    "import numpy as np\n",
    "import matplotlib.pyplot as plt\n",
    "import timeit"
   ]
  },
  {
   "cell_type": "code",
   "execution_count": 4,
   "metadata": {},
   "outputs": [
    {
     "name": "stdout",
     "output_type": "stream",
     "text": [
      "The mean of the whole matrix is = 5.5\n",
      " The mean of the rows are [1.5 5.5 9.5]\n",
      "Column wise mean [4. 5. 6. 7.]\n"
     ]
    }
   ],
   "source": [
    "\n",
    "\n",
    "m = np.arange(12).reshape((3,4))\n",
    "# print(m)\n",
    "\n",
    "mean_full_matrix=np.mean(m)\n",
    "print(\"The mean of the whole matrix is =\",mean_full_matrix)\n",
    "mean_row=np.mean(m, axis=1)\n",
    "# dimensions=m.shape\n",
    "# number_elements=dimensions[0]*dimensions[1]\n",
    "# print(number_elements)\n",
    "# print(dimensions)\n",
    "# lis=[]\n",
    "# row1=lis.(np.mean(m[0]))\n",
    "# print(row1)\n",
    "\n",
    "print(\" The mean of the rows are\",mean_row)\n",
    "mean_col=np.mean(m,axis=0)\n",
    "print(\"Column wise mean\",mean_col)"
   ]
  },
  {
   "cell_type": "markdown",
   "metadata": {},
   "source": [
    "# 2\\. Find the outer product of the following vectors:\n",
    "\n",
    "```python\n",
    "u = np.array([1, 3, 5, 7])\n",
    "v = np.array([2, 4, 6, 8])\n",
    "```\n",
    "\n",
    "Use different methods to do this:\n",
    "\n",
    "   1. Using the function `outer` in numpy\n",
    "   2. Using a nested `for` loop or a list comprehension\n",
    "   3. Using numpy broadcasting operations"
   ]
  },
  {
   "cell_type": "code",
   "execution_count": 5,
   "metadata": {},
   "outputs": [
    {
     "name": "stdout",
     "output_type": "stream",
     "text": [
      "[[ 2  4  6  8]\n",
      " [ 6 12 18 24]\n",
      " [10 20 30 40]\n",
      " [14 28 42 56]]\n"
     ]
    }
   ],
   "source": [
    "#Using numpy broadcasting operations\n",
    "\n",
    "u = np.array([1, 3, 5, 7])\n",
    "# print(u.reshape(-1,1))\n",
    "# print(v.reshape(1,-1))\n",
    "v = np.array([2, 4, 6, 8])\n",
    "c=u.reshape(1,-1)*v.reshape(-1,1)\n",
    "c=c.T\n",
    "print(c)"
   ]
  },
  {
   "cell_type": "code",
   "execution_count": 6,
   "metadata": {},
   "outputs": [
    {
     "name": "stdout",
     "output_type": "stream",
     "text": [
      "[[ 2  4  6  8]\n",
      " [ 6 12 18 24]\n",
      " [10 20 30 40]\n",
      " [14 28 42 56]]\n"
     ]
    }
   ],
   "source": [
    "# using Nested for loop\n",
    "\n",
    "u = np.array([1, 3, 5, 7])\n",
    "v = np.array([2, 4, 6, 8])\n",
    "matrix=[]\n",
    "for i in u:\n",
    "    for j in v:\n",
    "        matrix.append(i*j)\n",
    "m=matrix\n",
    "m=np.asarray(m)\n",
    "m=m.reshape(4,4)\n",
    "print(m)"
   ]
  },
  {
   "cell_type": "code",
   "execution_count": 7,
   "metadata": {},
   "outputs": [
    {
     "name": "stdout",
     "output_type": "stream",
     "text": [
      "[[ 2  4  6  8]\n",
      " [ 6 12 18 24]\n",
      " [10 20 30 40]\n",
      " [14 28 42 56]]\n"
     ]
    }
   ],
   "source": [
    "# Using the function outer in numpy\n",
    "\n",
    "u = np.array([1, 3, 5, 7])\n",
    "v = np.array([2, 4, 6, 8])\n",
    "# print(u,v)\n",
    "outer_numpy=np.outer(u,v)\n",
    "print(outer_numpy)"
   ]
  },
  {
   "cell_type": "markdown",
   "metadata": {},
   "source": [
    "3\\. Create a 10 by 6 matrix of increasing float numbers, starting from zero and increasing in each step by 0.1, so the output matrix looks like the following:\n",
    "\n",
    "```python\n",
    "m = [[0. 0.1, 0.2 0.3 ... 0.9]\n",
    "     [1.0 1.1 1.2 1.3 ... 1.9]\n",
    "     ...\n",
    "     [5.0 5.1 5.2 5.3 ... 5.9]]\n",
    "```\n",
    "After creating the matrix, set all entries with a decimal part $< 0.4$ to zero."
   ]
  },
  {
   "cell_type": "code",
   "execution_count": 114,
   "metadata": {},
   "outputs": [
    {
     "name": "stdout",
     "output_type": "stream",
     "text": [
      "[[0.  0.1 0.2 0.3 0.4 0.5 0.6 0.7 0.8 0.9]\n",
      " [1.  1.1 1.2 1.3 1.4 1.5 1.6 1.7 1.8 1.9]\n",
      " [2.  2.1 2.2 2.3 2.4 2.5 2.6 2.7 2.8 2.9]\n",
      " [3.  3.1 3.2 3.3 3.4 3.5 3.6 3.7 3.8 3.9]\n",
      " [4.  4.1 4.2 4.3 4.4 4.5 4.6 4.7 4.8 4.9]\n",
      " [5.  5.1 5.2 5.3 5.4 5.5 5.6 5.7 5.8 5.9]]\n",
      "\n",
      " [[0.  0.  0.  0.  0.4 0.5 0.6 0.7 0.8 0.9]\n",
      " [0.  0.  0.  0.  1.4 1.5 1.6 1.7 1.8 1.9]\n",
      " [0.  0.  0.  0.  2.4 2.5 2.6 2.7 2.8 2.9]\n",
      " [0.  0.  0.  0.  3.4 3.5 3.6 3.7 3.8 3.9]\n",
      " [0.  0.  0.  0.  4.4 4.5 4.6 4.7 4.8 4.9]\n",
      " [0.  0.  0.  0.  5.4 5.5 5.6 5.7 5.8 5.9]]\n"
     ]
    }
   ],
   "source": [
    "# x=np.arange(0, 6, 0.1).reshape(6,10)\n",
    "\n",
    "x=np.array([i*0.1 for i in range(60)]).reshape(6,10)\n",
    "print(x)\n",
    "\n",
    "# nums = np.array([i*0.1 for i in range(60)]).reshape(6,10)\n",
    "# print(np.where(nums < 0.4, 0, nums))\n",
    "   \n",
    "    \n",
    "for i in range(len(x)):\n",
    "    for j in range(len(x[0])):\n",
    "        if(x[i][j]%1 < 0.4):\n",
    "            x[i][j] = 0\n",
    "print('\\n',x)\n",
    "\n",
    "\n",
    "\n"
   ]
  },
  {
   "cell_type": "markdown",
   "metadata": {},
   "source": [
    "4\\. Use `np.linspace` to create an array of 100 numbers between 0 and 2π (inclusive).\n",
    "\n",
    "  * Extract every 10th element using the slice notation\n",
    "  * Reverse the array using the slice notation\n",
    "  * Extract elements where the absolute difference between the sin and cos functions evaluated for that element is $< 0.1$\n",
    "  * **Optional**: make a plot showing the sin and cos functions and indicate where they are close"
   ]
  },
  {
   "cell_type": "code",
   "execution_count": 14,
   "metadata": {},
   "outputs": [
    {
     "name": "stdout",
     "output_type": "stream",
     "text": [
      "6.283185307179586\n",
      "[0.         0.06346652 0.12693304 0.19039955 0.25386607 0.31733259\n",
      " 0.38079911 0.44426563 0.50773215 0.57119866 0.63466518 0.6981317\n",
      " 0.76159822 0.82506474 0.88853126 0.95199777 1.01546429 1.07893081\n",
      " 1.14239733 1.20586385 1.26933037 1.33279688 1.3962634  1.45972992\n",
      " 1.52319644 1.58666296 1.65012947 1.71359599 1.77706251 1.84052903\n",
      " 1.90399555 1.96746207 2.03092858 2.0943951  2.15786162 2.22132814\n",
      " 2.28479466 2.34826118 2.41172769 2.47519421 2.53866073 2.60212725\n",
      " 2.66559377 2.72906028 2.7925268  2.85599332 2.91945984 2.98292636\n",
      " 3.04639288 3.10985939 3.17332591 3.23679243 3.30025895 3.36372547\n",
      " 3.42719199 3.4906585  3.55412502 3.61759154 3.68105806 3.74452458\n",
      " 3.8079911  3.87145761 3.93492413 3.99839065 4.06185717 4.12532369\n",
      " 4.1887902  4.25225672 4.31572324 4.37918976 4.44265628 4.5061228\n",
      " 4.56958931 4.63305583 4.69652235 4.75998887 4.82345539 4.88692191\n",
      " 4.95038842 5.01385494 5.07732146 5.14078798 5.2042545  5.26772102\n",
      " 5.33118753 5.39465405 5.45812057 5.52158709 5.58505361 5.64852012\n",
      " 5.71198664 5.77545316 5.83891968 5.9023862  5.96585272 6.02931923\n",
      " 6.09278575 6.15625227 6.21971879 6.28318531]\n"
     ]
    }
   ],
   "source": [
    "\n",
    "pi=2*(np.pi)\n",
    "print(pi)\n",
    "l=np.linspace(0, pi, 100)\n",
    "print(l)"
   ]
  },
  {
   "cell_type": "code",
   "execution_count": 15,
   "metadata": {},
   "outputs": [
    {
     "name": "stdout",
     "output_type": "stream",
     "text": [
      "[6.28318531 6.21971879 6.15625227 6.09278575 6.02931923 5.96585272\n",
      " 5.9023862  5.83891968 5.77545316 5.71198664 5.64852012 5.58505361\n",
      " 5.52158709 5.45812057 5.39465405 5.33118753 5.26772102 5.2042545\n",
      " 5.14078798 5.07732146 5.01385494 4.95038842 4.88692191 4.82345539\n",
      " 4.75998887 4.69652235 4.63305583 4.56958931 4.5061228  4.44265628\n",
      " 4.37918976 4.31572324 4.25225672 4.1887902  4.12532369 4.06185717\n",
      " 3.99839065 3.93492413 3.87145761 3.8079911  3.74452458 3.68105806\n",
      " 3.61759154 3.55412502 3.4906585  3.42719199 3.36372547 3.30025895\n",
      " 3.23679243 3.17332591 3.10985939 3.04639288 2.98292636 2.91945984\n",
      " 2.85599332 2.7925268  2.72906028 2.66559377 2.60212725 2.53866073\n",
      " 2.47519421 2.41172769 2.34826118 2.28479466 2.22132814 2.15786162\n",
      " 2.0943951  2.03092858 1.96746207 1.90399555 1.84052903 1.77706251\n",
      " 1.71359599 1.65012947 1.58666296 1.52319644 1.45972992 1.3962634\n",
      " 1.33279688 1.26933037 1.20586385 1.14239733 1.07893081 1.01546429\n",
      " 0.95199777 0.88853126 0.82506474 0.76159822 0.6981317  0.63466518\n",
      " 0.57119866 0.50773215 0.44426563 0.38079911 0.31733259 0.25386607\n",
      " 0.19039955 0.12693304 0.06346652 0.        ]\n"
     ]
    }
   ],
   "source": [
    "#rever value\n",
    "\n",
    "print(l[::-1])"
   ]
  },
  {
   "cell_type": "code",
   "execution_count": 22,
   "metadata": {},
   "outputs": [
    {
     "name": "stdout",
     "output_type": "stream",
     "text": [
      "[-1.         -0.93456276 -0.86536236 -0.79267745 -0.71680071 -0.63803767\n",
      " -0.55670548 -0.47313163 -0.38765264 -0.30061272 -0.21236233 -0.12325683\n",
      " -0.03365503  0.0560823   0.07849545 -0.01121928 -0.10088884 -0.19015215\n",
      " -0.27864979 -0.3660254  -0.45192716 -0.53600917 -0.61793286 -0.69736834\n",
      " -0.77399578 -0.8475066  -0.91760482 -0.98400816 -1.04644926 -1.10467666\n",
      " -1.15845593 -1.2075705  -1.25182262 -1.29103408 -1.32504701 -1.35372444\n",
      " -1.3769509  -1.39463286 -1.40669913 -1.41310112 -1.41381305 -1.40883205\n",
      " -1.39817819 -1.38189435 -1.36004611 -1.33272145 -1.30003039 -1.26210456\n",
      " -1.21909669 -1.17117994 -1.11854727 -1.0614106  -1.        ]\n"
     ]
    }
   ],
   "source": [
    "sin=np.sin(l)\n",
    "cos=np.cos(l)\n",
    "     \n",
    "\n",
    "difference=sin-cos\n",
    "lim=difference[difference<=0.1]\n",
    "# print(lim)\n",
    "# li=difference[lim]\n",
    "print(lim)\n"
   ]
  },
  {
   "cell_type": "code",
   "execution_count": 117,
   "metadata": {},
   "outputs": [
    {
     "name": "stdout",
     "output_type": "stream",
     "text": [
      "Extract elements where the absolute difference <0.1 \n",
      " [[0.7615982190520711, 0.8250647373064104, 3.8714576135146945, 3.934924131769034]]\n"
     ]
    },
    {
     "data": {
      "text/plain": [
       "<matplotlib.legend.Legend at 0x1b6740cddc0>"
      ]
     },
     "execution_count": 117,
     "metadata": {},
     "output_type": "execute_result"
    },
    {
     "data": {
      "image/png": "[encoded data removed]",
      "text/plain": [
       "<Figure size 432x432 with 1 Axes>"
      ]
     },
     "metadata": {
      "needs_background": "light"
     },
     "output_type": "display_data"
    }
   ],
   "source": [
    "%matplotlib inline\n",
    "# plt.plot(cos,sin,'o')\n",
    "\n",
    "\n",
    "\n",
    "res=[]\n",
    "res.append([ i   for i in l if(abs(np.sin(i)-np.cos(i)))<0.1])\n",
    "print(\"Extract elements where the absolute difference <0.1 \\n\",res)\n",
    "#Optional: make a plot showing the sin and cos functions and indicate where they are close\n",
    "import matplotlib.pyplot as plt # everybody imports it that way\n",
    "\n",
    "\n",
    "sin = np.sin(l) \n",
    "cos=np.cos(l)\n",
    "plt.figure(1, figsize=(6, 6))\n",
    "plt.plot(l, sin, label='sin')\n",
    "plt.plot(l, cos,label='cos')\n",
    "plt.scatter(res,np.cos(res),color=\"blue\")\n",
    "# plt.axvspan(res, np.cos(res), facecolor='g', alpha=0.5)\n",
    "\n",
    "\n",
    "plt.legend()"
   ]
  },
  {
   "cell_type": "markdown",
   "metadata": {},
   "source": [
    "5\\. Create a matrix that shows the 10 by 10 multiplication table.\n",
    "\n",
    " * Find the trace of the matrix\n",
    " * Extract the anti-diagonal matrix (this should be ```array([10, 18, 24, 28, 30, 30, 28, 24, 18, 10])```)\n",
    " * Extract the diagonal offset by 1 upwards (this should be ```array([ 2,  6, 12, 20, 30, 42, 56, 72, 90])```)"
   ]
  },
  {
   "cell_type": "code",
   "execution_count": 103,
   "metadata": {},
   "outputs": [
    {
     "name": "stdout",
     "output_type": "stream",
     "text": [
      "[[  1   2   3   4   5   6   7   8   9  10]\n",
      " [  2   4   6   8  10  12  14  16  18  20]\n",
      " [  3   6   9  12  15  18  21  24  27  30]\n",
      " [  4   8  12  16  20  24  28  32  36  40]\n",
      " [  5  10  15  20  25  30  35  40  45  50]\n",
      " [  6  12  18  24  30  36  42  48  54  60]\n",
      " [  7  14  21  28  35  42  49  56  63  70]\n",
      " [  8  16  24  32  40  48  56  64  72  80]\n",
      " [  9  18  27  36  45  54  63  72  81  90]\n",
      " [ 10  20  30  40  50  60  70  80  90 100]]\n",
      "385\n",
      "[ 2  6 12 20 30 42 56 72 90]\n",
      "[10 18 24 28 30 30 28 24 18 10]\n"
     ]
    }
   ],
   "source": [
    "# x = range(1,10) # default step value is 1, no need to specify\n",
    "# n = range(1,10)\n",
    "\n",
    "# mult_table = [[i*j for j in x] for i in n]\n",
    "# print(mult_table\n",
    "#      )\n",
    "\n",
    "# m=np.arange(0,1,0.1)\n",
    "# b=[[m for i in range(10)] for j in range(10)]\n",
    "# b\n",
    "\n",
    "\n",
    "\n",
    "matrix = np.array([[j*i for j in range(1,11)] for i in range(1,11)]).reshape(10,10)\n",
    "print(matrix)\n",
    "# matrix= ([[i*j for j in range(1,10)] for i in range(1,10)]).re\n",
    "\n",
    "\n",
    "#finding trace of matrix\n",
    "tr=np.trace(matrix)\n",
    "print(tr)\n",
    "dia=np.diag(matrix)\n",
    "trace=np.sum(dia)\n",
    "\n",
    "\n",
    "\n",
    "#upper element of diagonal values\n",
    "dia=np.diag(matrix,1)\n",
    "print(dia)\n",
    "\n",
    "\n",
    "\n",
    "\n",
    "\n",
    "#Selecting Anti diagonal values\n",
    "anti=np.fliplr(matrix)\n",
    "anti=np.diag(anti)\n",
    "print(anti)\n"
   ]
  },
  {
   "cell_type": "markdown",
   "metadata": {},
   "source": [
    "6\\. Use broadcasting to create a grid of distances.\n",
    "\n",
    "Route 66 crosses the following cities in the US: Chicago, Springfield, Saint-Louis, Tulsa, Oklahoma City, Amarillo, Santa Fe, Albuquerque, Flagstaff, Los Angeles\n",
    "The corresponding positions in miles are: 0, 198, 303, 736, 871, 1175, 1475, 1544, 1913, 2448\n",
    "\n",
    "  * Build a 2D grid of distances among each city along Route 66\n",
    "  * Convert the distances in km"
   ]
  },
  {
   "cell_type": "code",
   "execution_count": 22,
   "metadata": {},
   "outputs": [
    {
     "name": "stdout",
     "output_type": "stream",
     "text": [
      "Amarillo\n",
      "[[   0  198  303  736  871 1175 1475 1544 1913 2448]\n",
      " [ 198    0  105  538  673  977 1277 1346 1715 2250]\n",
      " [ 303  105    0  433  568  872 1172 1241 1610 2145]\n",
      " [ 736  538  433    0  135  439  739  808 1177 1712]\n",
      " [ 871  673  568  135    0  304  604  673 1042 1577]\n",
      " [1175  977  872  439  304    0  300  369  738 1273]\n",
      " [1475 1277 1172  739  604  300    0   69  438  973]\n",
      " [1544 1346 1241  808  673  369   69    0  369  904]\n",
      " [1913 1715 1610 1177 1042  738  438  369    0  535]\n",
      " [2448 2250 2145 1712 1577 1273  973  904  535    0]]\n",
      "[   0.    324.94  497.26 1207.86 1429.42 1928.32 2420.65 2533.89 3139.46\n",
      " 4017.46]\n",
      "The distance between Springfield and Oklahoma City is =  673\n"
     ]
    }
   ],
   "source": [
    "import numpy as np\n",
    "\n",
    "cities=np.array([0, 198, 303, 736, 871, 1175, 1475, 1544, 1913, 2448])\n",
    "# km_dist=np.array([])\n",
    "\n",
    "names=[\"Chicago\", \"Springfield\", \"Saint-Louis\", \"Tulsa\", \"Oklahoma City\", \"Amarillo\", \"Santa Fe\", \"Albuquerque\", \"Flagstaff\", \"Los Angeles\"]\n",
    "print(names[5])\n",
    "city=np.abs(cities-cities[:,np.newaxis])\n",
    "print(city)\n",
    "\n",
    "\n",
    "\n",
    "# converting miles to KM\n",
    "km_cities=(cities/0.60934)\n",
    "# km_dist=np.append(km_dist,km_cities)\n",
    "# print(km_dist)\n",
    "\n",
    "print(np.round(km_cities,2))\n",
    "\n",
    "# Comparing distance between cities\n",
    "\n",
    "print(\"The distance between\",names[1],\"and\",names[4],\"is = \",city[1,4])"
   ]
  },
  {
   "cell_type": "markdown",
   "metadata": {},
   "source": [
    "7\\. Prime numbers sieve: compute the prime numbers in the 0-N (start with N=99) range with a sieve (mask).\n",
    "  * Check the performances (timeit); how does it scale with N?\n",
    "  * Implement the optimization suggested in the [sieve of Eratosthenes](https://en.wikipedia.org/wiki/Sieve_of_Eratosthenes)"
   ]
  },
  {
   "cell_type": "code",
   "execution_count": 24,
   "metadata": {},
   "outputs": [
    {
     "name": "stdout",
     "output_type": "stream",
     "text": [
      "[  1   2   3   5   7  11  13  17  19  23  29  31  37  41  43  47  53  59\n",
      "  61  67  71  73  79  83  89  97 101 103 107 109 113 127 131 137 139 149\n",
      " 151 157 163 167 173 179 181 191 193 197 199 211 223 227 229 233 239 241\n",
      " 251 257 263 269 271 277 281 283 293 307 311 313 317 331 337 347 349 353\n",
      " 359 367 373 379 383 389 397 401 409 419 421 431 433 439 443 449 457 461\n",
      " 463 467 479 487 491 499 503 509 521 523 541 547 557 563 569 571 577 587\n",
      " 593 599 601 607 613 617 619 631 641 643 647 653 659 661 673 677 683 691\n",
      " 701 709 719 727 733 739 743 751 757 761 769 773 787 797 809 811 821 823\n",
      " 827 829 839 853 857 859 863 877 881 883 887 907 911 919 929 937 941 947\n",
      " 953 967 971 977 983 991 997]\n",
      "0.07174609999947279\n"
     ]
    }
   ],
   "source": [
    "# prime numbers \n",
    "import timeit\n",
    "import math\n",
    "\n",
    "\n",
    "N=999\n",
    "a=np.arange(1,N)\n",
    "\n",
    "\n",
    "def is_prime(x):\n",
    "    for i in range(2,x):\n",
    "        if x % i == 0:\n",
    "            return False\n",
    "        else:\n",
    "            continue\n",
    "    return True\n",
    "\n",
    "st=timeit.default_timer()\n",
    "f=[is_prime(a[i]) for i in range(N-1)]\n",
    "check=a[f]\n",
    "\n",
    "\n",
    "\n",
    "\n",
    "print(check)\n",
    "et=timeit.default_timer()\n",
    "ft=et-st\n",
    "print(ft)\n",
    "    "
   ]
  },
  {
   "cell_type": "code",
   "execution_count": 113,
   "metadata": {},
   "outputs": [
    {
     "name": "stdout",
     "output_type": "stream",
     "text": [
      "The time difference is =  0.00035339999885763973\n"
     ]
    }
   ],
   "source": [
    "# Using seive of eratosthenes\n",
    "\n",
    "\n",
    "st=timeit.default_timer()\n",
    "N=999\n",
    "n=np.arange(1,N)\n",
    "def prime_eratosthenes(n):\n",
    "    prime_list = []\n",
    "    for i in range(2, n+1):\n",
    "        if i not in prime_list:\n",
    "            print (i)\n",
    "            for j in range(i*i, n+1, i):\n",
    "                prime_list.append(j)\n",
    "\n",
    "# print(prime_eratosthenes(N))\n",
    "\n",
    "\n",
    "et=timeit.default_timer()\n",
    "ft=et-st\n",
    "print('The time difference is = ',ft)"
   ]
  }
 ],
 "metadata": {
  "kernelspec": {
   "display_name": "Python 3 (ipykernel)",
   "language": "python",
   "name": "python3"
  },
  "language_info": {
   "codemirror_mode": {
    "name": "ipython",
    "version": 3
   },
   "file_extension": ".py",
   "mimetype": "text/x-python",
   "name": "python",
   "nbconvert_exporter": "python",
   "pygments_lexer": "ipython3",
   "version": "3.9.7"
  }
 },
 "nbformat": 4,
 "nbformat_minor": 2
}
