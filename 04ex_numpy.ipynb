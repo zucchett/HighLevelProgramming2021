{
 "cells": [
  {
   "cell_type": "markdown",
   "metadata": {},
   "source": [
    "1\\. Find the total mean, and the mean for each row and column of the following matrix:\n",
    "\n",
    "```python\n",
    "m = np.arange(12).reshape((3,4))\n",
    "```"
   ]
  },
  {
   "cell_type": "code",
   "execution_count": 1,
   "metadata": {},
   "outputs": [
    {
     "name": "stdout",
     "output_type": "stream",
     "text": [
      "[[ 0  1  2  3]\n",
      " [ 4  5  6  7]\n",
      " [ 8  9 10 11]]\n",
      "mean: 5.5\n",
      "mean along rows [1.5 5.5 9.5]\n",
      "mean along column [4. 5. 6. 7.]\n"
     ]
    }
   ],
   "source": [
    "import numpy as np \n",
    "import math\n",
    "m = np.arange(12).reshape((3,4))\n",
    "print(m)\n",
    "print (\"mean:\", np.mean(m))\n",
    "\n",
    "print(\"mean along rows\",m.mean(axis=1))\n",
    "\n",
    "print(\"mean along column\",m.mean(axis=0))\n",
    "\n"
   ]
  },
  {
   "cell_type": "markdown",
   "metadata": {},
   "source": [
    "2\\. Find the outer product of the following vectors:\n",
    "\n",
    "```python\n",
    "u = np.array([1, 3, 5, 7])\n",
    "v = np.array([2, 4, 6, 8])\n",
    "```\n",
    "\n",
    "Use different methods to do this:\n",
    "\n",
    "   1. Using the function `outer` in numpy\n",
    "   2. Using a nested `for` loop or a list comprehension\n",
    "   3. Using numpy broadcasting operations"
   ]
  },
  {
   "cell_type": "code",
   "execution_count": 2,
   "metadata": {},
   "outputs": [
    {
     "name": "stdout",
     "output_type": "stream",
     "text": [
      "u: [1 3 5 7]\n",
      "v: [2 4 6 8]\n",
      "\n",
      "\n",
      "Using the function outer in numpy\n",
      "[[ 2  4  6  8]\n",
      " [ 6 12 18 24]\n",
      " [10 20 30 40]\n",
      " [14 28 42 56]] \n",
      "\n",
      "Using a nested for loop\n",
      "[[ 2.  4.  6.  8.]\n",
      " [ 6. 12. 18. 24.]\n",
      " [10. 20. 30. 40.]\n",
      " [14. 28. 42. 56.]] \n",
      "\n",
      "Using numpy broadcasting operations\n",
      "[[ 2  4  6  8]\n",
      " [ 6 12 18 24]\n",
      " [10 20 30 40]\n",
      " [14 28 42 56]]\n"
     ]
    }
   ],
   "source": [
    "u = np.array([1, 3, 5, 7])\n",
    "v = np.array([2, 4, 6, 8])\n",
    "print(\"u:\",u)\n",
    "print(\"v:\",v)\n",
    "print(\"\\n\")\n",
    "\n",
    "# 1)\n",
    "output =np.outer(u, v)\n",
    "print(\"Using the function outer in numpy\")\n",
    "print(output,\"\\n\")\n",
    "\n",
    "# 2)\n",
    "m = np.zeros((u.shape[0],v.shape[0]))\n",
    "\n",
    "print(\"Using a nested for loop\")\n",
    "\n",
    "for i in range(u.shape[0]):\n",
    "    for j in range(v.shape[0]):\n",
    "        m[i,j] = u[i]*v[j]\n",
    "\n",
    "print(m,\"\\n\")\n",
    "\n",
    "# 3)\n",
    "print(\"Using numpy broadcasting operations\")\n",
    "\n",
    "x = u.reshape(4,1)\n",
    "y = v.reshape(1,4)\n",
    "\n",
    "print(x*y)\n"
   ]
  },
  {
   "cell_type": "markdown",
   "metadata": {},
   "source": [
    "3\\. Create a 10 by 6 matrix of increasing float numbers, starting from zero and increasing in each step by 0.1, so the output matrix looks like the following:\n",
    "\n",
    "```python\n",
    "m = [[0. 0.1, 0.2 0.3 ... 0.9]\n",
    "     [1.0 1.1 1.2 1.3 ... 1.9]\n",
    "     ...\n",
    "     [5.0 5.1 5.2 5.3 ... 5.9]]\n",
    "```\n",
    "After creating the matrix, set all entries with a decimal part $< 0.4$ to zero."
   ]
  },
  {
   "cell_type": "code",
   "execution_count": 3,
   "metadata": {},
   "outputs": [
    {
     "name": "stdout",
     "output_type": "stream",
     "text": [
      "matrix_1 \n",
      " [[0.  0.1 0.2 0.3 0.4 0.5 0.6 0.7 0.8 0.9]\n",
      " [1.  1.1 1.2 1.3 1.4 1.5 1.6 1.7 1.8 1.9]\n",
      " [2.  2.1 2.2 2.3 2.4 2.5 2.6 2.7 2.8 2.9]\n",
      " [3.  3.1 3.2 3.3 3.4 3.5 3.6 3.7 3.8 3.9]\n",
      " [4.  4.1 4.2 4.3 4.4 4.5 4.6 4.7 4.8 4.9]\n",
      " [5.  5.1 5.2 5.3 5.4 5.5 5.6 5.7 5.8 5.9]]\n",
      "matrix_2 \n",
      " [[0.  0.  0.  0.  0.  0.5 0.6 0.7 0.8 0.9]\n",
      " [0.  0.  0.  0.  0.  1.5 1.6 1.7 1.8 1.9]\n",
      " [0.  0.  0.  0.  0.  2.5 2.6 2.7 2.8 2.9]\n",
      " [0.  0.  0.  0.  0.  3.5 3.6 3.7 3.8 3.9]\n",
      " [0.  0.  0.  0.  0.  4.5 4.6 4.7 4.8 4.9]\n",
      " [0.  0.  0.  0.  0.  5.5 5.6 5.7 5.8 5.9]]\n"
     ]
    }
   ],
   "source": [
    "vector = np.array([],float)\n",
    "\n",
    "for i in range(6):\n",
    "    temp = np.arange(i, i+1, 0.1)\n",
    "    vector = np.concatenate((vector, temp))\n",
    "    \n",
    "m = vector.reshape(6,10)\n",
    "print(\"matrix_1 \\n\", m)\n",
    "\n",
    "\n",
    "m[ m%1 < 0.41 ] = 0\n",
    "print(\"matrix_2 \\n\", m)\n"
   ]
  },
  {
   "cell_type": "markdown",
   "metadata": {},
   "source": [
    "4\\. Use `np.linspace` to create an array of 100 numbers between 0 and 2π (inclusive).\n",
    "\n",
    "  * Extract every 10th element using the slice notation\n",
    "  * Reverse the array using the slice notation\n",
    "  * Extract elements where the absolute difference between the sin and cos functions evaluated for that element is $< 0.1$\n",
    "  * **Optional**: make a plot showing the sin and cos functions and indicate where they are close"
   ]
  },
  {
   "cell_type": "code",
   "execution_count": 4,
   "metadata": {},
   "outputs": [
    {
     "name": "stdout",
     "output_type": "stream",
     "text": [
      "Extract every 10th element using the slice notation\n",
      " [0.         0.63466518 1.26933037 1.90399555 2.53866073 3.17332591\n",
      " 3.8079911  4.44265628 5.07732146 5.71198664] \n",
      "\n",
      "Reverse the array using the slice notation\n",
      " [6.28318531 6.21971879 6.15625227 6.09278575 6.02931923 5.96585272\n",
      " 5.9023862  5.83891968 5.77545316 5.71198664 5.64852012 5.58505361\n",
      " 5.52158709 5.45812057 5.39465405 5.33118753 5.26772102 5.2042545\n",
      " 5.14078798 5.07732146 5.01385494 4.95038842 4.88692191 4.82345539\n",
      " 4.75998887 4.69652235 4.63305583 4.56958931 4.5061228  4.44265628\n",
      " 4.37918976 4.31572324 4.25225672 4.1887902  4.12532369 4.06185717\n",
      " 3.99839065 3.93492413 3.87145761 3.8079911  3.74452458 3.68105806\n",
      " 3.61759154 3.55412502 3.4906585  3.42719199 3.36372547 3.30025895\n",
      " 3.23679243 3.17332591 3.10985939 3.04639288 2.98292636 2.91945984\n",
      " 2.85599332 2.7925268  2.72906028 2.66559377 2.60212725 2.53866073\n",
      " 2.47519421 2.41172769 2.34826118 2.28479466 2.22132814 2.15786162\n",
      " 2.0943951  2.03092858 1.96746207 1.90399555 1.84052903 1.77706251\n",
      " 1.71359599 1.65012947 1.58666296 1.52319644 1.45972992 1.3962634\n",
      " 1.33279688 1.26933037 1.20586385 1.14239733 1.07893081 1.01546429\n",
      " 0.95199777 0.88853126 0.82506474 0.76159822 0.6981317  0.63466518\n",
      " 0.57119866 0.50773215 0.44426563 0.38079911 0.31733259 0.25386607\n",
      " 0.19039955 0.12693304 0.06346652 0.        ] \n",
      "\n",
      "elements where sin and cos functions evaluated are <0.1 \n",
      " [0.7615982190520711, 0.8250647373064104, 3.8714576135146945, 3.934924131769034] \n",
      "\n"
     ]
    },
    {
     "data": {
      "text/plain": [
<<<<<<< HEAD
       "[<matplotlib.lines.Line2D at 0x7fa1c8bdb970>]"
=======
       "[<matplotlib.lines.Line2D at 0x7f8b45cdaa90>]"
>>>>>>> main
      ]
     },
     "execution_count": 4,
     "metadata": {},
     "output_type": "execute_result"
    },
    {
     "data": {
      "image/png": "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\n",
      "text/plain": [
       "<Figure size 432x288 with 1 Axes>"
      ]
     },
     "metadata": {
      "needs_background": "light"
     },
     "output_type": "display_data"
    }
   ],
   "source": [
    "import matplotlib.pyplot as plt # everybody imports it that way\n",
    "\n",
    "vector = np.linspace(0, 2*(math.pi), 100)\n",
    "#print(matrix)\n",
    "\n",
    "print(\"Extract every 10th element using the slice notation\\n\",vector[::10],\"\\n\")\n",
    "print(\"Reverse the array using the slice notation\\n\",vector[::-1],\"\\n\")\n",
    "\n",
    "sin = (np.sin(vector))\n",
    "cos = (np.cos(vector))\n",
    "list = []\n",
    "\n",
    "for i in range(len(vector)):\n",
    "    if(abs(sin[i]-cos[i])) < 0.1:\n",
    "        list.append(vector[i])\n",
    "        \n",
    "print(\"elements where sin and cos functions evaluated are <0.1 \\n\",list,\"\\n\")\n",
    "    \n",
    "#print(\"array: \", \"\\n\", vector)\n",
    "\n",
    "plt.plot(vector, sin)\n",
    "plt.plot(vector, cos)\n",
    "\n",
    "#intersection 1\n",
    "x1 = list[0]\n",
    "x2 = list[1]\n",
    "x = (x1+x2)/2\n",
    "cos1 = np.cos(x1)\n",
    "cos2 = np.cos(x2)\n",
    "cos = (cos1+cos2)/2\n",
    "plt.plot(x,cos , color=\"green\", marker=\"o\")\n",
    "\n",
    "#intersection 2\n",
    "x1 = list[2]\n",
    "x2 = list[3]\n",
    "x = (x1+x2)/2\n",
    "cos1 = np.cos(x1)\n",
    "cos2 = np.cos(x2)\n",
    "cos = (cos1+cos2)/2\n",
    "plt.plot(x,cos , color=\"green\", marker=\"o\")\n"
   ]
  },
  {
   "cell_type": "markdown",
   "metadata": {},
   "source": [
    "5\\. Create a matrix that shows the 10 by 10 multiplication table.\n",
    "\n",
    " * Find the trace of the matrix\n",
    " * Extract the anti-diagonal matrix (this should be ```array([10, 18, 24, 28, 30, 30, 28, 24, 18, 10])```)\n",
    " * Extract the diagonal offset by 1 upwards (this should be ```array([ 2,  6, 12, 20, 30, 42, 56, 72, 90])```)"
   ]
  },
  {
   "cell_type": "code",
   "execution_count": 5,
   "metadata": {},
   "outputs": [
    {
     "name": "stdout",
     "output_type": "stream",
     "text": [
<<<<<<< HEAD
      "Matrix that shows the 10 by 10 multiplication table \n",
      " [[  1   2   3   4   5   6   7   8   9  10]\n",
      " [  2   4   6   8  10  12  14  16  18  20]\n",
      " [  3   6   9  12  15  18  21  24  27  30]\n",
      " [  4   8  12  16  20  24  28  32  36  40]\n",
      " [  5  10  15  20  25  30  35  40  45  50]\n",
      " [  6  12  18  24  30  36  42  48  54  60]\n",
      " [  7  14  21  28  35  42  49  56  63  70]\n",
      " [  8  16  24  32  40  48  56  64  72  80]\n",
      " [  9  18  27  36  45  54  63  72  81  90]\n",
      " [ 10  20  30  40  50  60  70  80  90 100]]\n",
      "\n",
      " trace: 385\n",
      "\n",
      " diagonal offset by 1 upwards: 330\n"
     ]
=======
      "[ 1  2  3  4  5  6  7  8  9 10]\n",
      "[0. 0. 0. 0. 0. 0. 0. 0. 0. 0. 0. 0. 0. 0. 0. 0. 0. 0. 0. 0. 0. 0. 0. 0.\n",
      " 0. 0. 0. 0. 0. 0. 0. 0. 0. 0. 0. 0. 0. 0. 0. 0. 0. 0. 0. 0. 0. 0. 0. 0.\n",
      " 0. 0. 0. 0. 0. 0. 0. 0. 0. 0. 0. 0. 0. 0. 0. 0. 0. 0. 0. 0. 0. 0. 0. 0.\n",
      " 0. 0. 0. 0. 0. 0. 0. 0. 0. 0. 0. 0. 0. 0. 0. 0. 0. 0. 0. 0. 0. 0. 0. 0.\n",
      " 0. 0. 0. 0.]\n",
      "[[ 1  1  1  1  1  1  1  1  1  1]\n",
      " [ 2  2  2  2  2  2  2  2  2  2]\n",
      " [ 3  3  3  3  3  3  3  3  3  3]\n",
      " [ 4  4  4  4  4  4  4  4  4  4]\n",
      " [ 5  5  5  5  5  5  5  5  5  5]\n",
      " [ 6  6  6  6  6  6  6  6  6  6]\n",
      " [ 7  7  7  7  7  7  7  7  7  7]\n",
      " [ 8  8  8  8  8  8  8  8  8  8]\n",
      " [ 9  9  9  9  9  9  9  9  9  9]\n",
      " [10 10 10 10 10 10 10 10 10 10]]\n"
     ]
    },
    {
     "data": {
      "text/plain": [
       "'\\nfor i in range(len(array_0_10)):\\n    for j in range(len(array_0_10)):\\n        matrix_10x10[counter] = (array_0_10[i]*array_0_10[j])\\n\\xa0\\xa0\\xa0\\xa0\\xa0\\xa0\\xa0\\xa0counter = counter+1\\nprint(\"Matrix that shows the 10 by 10 multiplication table:\\n\", matrix_10x10.reshape(10,10))\\n\\ndiag = matrix_10x10[0:100:11]\\ndiag_sum = sum(diag)\\nprint(\"\\nTrace of the matrix:\\n\", diag_sum)\\n\\nanti_diag = matrix_10x10[9:91:9]\\nprint(\"\\nAnti-diagonal of matrix:\\n\", anti_diag)\\n\\noffset_1_diag = matrix_10x10[1:90:11]\\nprint(\"\\nDiagonal offset by 1 upwards of matrix:\\n\", offset_1_diag)\\n'"
      ]
     },
     "execution_count": 5,
     "metadata": {},
     "output_type": "execute_result"
>>>>>>> main
    }
   ],
   "source": [
    "array = np.arange(1,11)\n",
<<<<<<< HEAD
    "matrix = np.zeros((100),int)\n",
    "\n",
    "c = 0\n",
    "trace = 0\n",
    "count = 0\n",
    "\n",
    "for i in range(len(array)):\n",
    "    for j in range(len(array)):\n",
    "        matrix[c] = array[i]*array[j]\n",
    "        c += 1\n",
    "        \n",
    "matrix = matrix.reshape(10,10)\n",
    "print(\"Matrix that shows the 10 by 10 multiplication table \\n\", matrix)\n",
    "\n",
    "\n",
    "for i in range(len(array)):\n",
    "    trace += (matrix[(i),(i)])\n",
    "\n",
    "for i in range(len(array)-1):\n",
    "    count += (matrix[(i),(i+1)])\n",
    "\n",
    "print(\"\\n trace:\",trace)\n",
    "print(\"\\n diagonal offset by 1 upwards:\",count)\n",
    " "
=======
    "matrix = np.zeros(100)\n",
    "print(array)\n",
    "print(matrix)\n",
    "c = 0\n",
    "\n",
    "for i in range(len(array)):\n",
    "    for j in range(len(matrix)):\n",
    "        matrix[c]\n",
    "        \n",
    "        \n",
    "a = np.tile(np.arange(1, 11), (10, 1)).T # check what exactly np.tile does on the documentation \n",
    "print(a)\n",
    "\n",
    "'''\n",
    "for i in range(len(array_0_10)):\n",
    "    for j in range(len(array_0_10)):\n",
    "        matrix_10x10[counter] = (array_0_10[i]*array_0_10[j])\n",
    "        counter = counter+1\n",
    "print(\"Matrix that shows the 10 by 10 multiplication table:\\n\", matrix_10x10.reshape(10,10))\n",
    "\n",
    "diag = matrix_10x10[0:100:11]\n",
    "diag_sum = sum(diag)\n",
    "print(\"\\nTrace of the matrix:\\n\", diag_sum)\n",
    "\n",
    "anti_diag = matrix_10x10[9:91:9]\n",
    "print(\"\\nAnti-diagonal of matrix:\\n\", anti_diag)\n",
    "\n",
    "offset_1_diag = matrix_10x10[1:90:11]\n",
    "print(\"\\nDiagonal offset by 1 upwards of matrix:\\n\", offset_1_diag)\n",
    "'''"
>>>>>>> main
   ]
  },
  {
   "cell_type": "markdown",
   "metadata": {},
   "source": [
    "6\\. Use broadcasting to create a grid of distances.\n",
    "\n",
    "Route 66 crosses the following cities in the US: Chicago, Springfield, Saint-Louis, Tulsa, Oklahoma City, Amarillo, Santa Fe, Albuquerque, Flagstaff, Los Angeles\n",
    "The corresponding positions in miles are: 0, 198, 303, 736, 871, 1175, 1475, 1544, 1913, 2448\n",
    "\n",
    "  * Build a 2D grid of distances among each city along Route 66\n",
    "  * Convert the distances in km"
   ]
  },
  {
   "cell_type": "code",
   "execution_count": 6,
   "metadata": {},
   "outputs": [
    {
<<<<<<< HEAD
     "name": "stdout",
     "output_type": "stream",
     "text": [
      "Ch\tSp\tSL\tTu\tOKC\tA\tSF\tAlb\tFl\tLA\t\n",
      "0   \t198 \t303 \t736 \t871 \t1175\t1475\t1544\t1913\t2448\tChicago      \n",
      "198 \t0   \t105 \t538 \t673 \t977 \t1277\t1346\t1715\t2250\tSpringfield  \n",
      "303 \t105 \t0   \t433 \t568 \t872 \t1172\t1241\t1610\t2145\tSaint-Louis  \n",
      "736 \t538 \t433 \t0   \t135 \t439 \t739 \t808 \t1177\t1712\tTulsa        \n",
      "871 \t673 \t568 \t135 \t0   \t304 \t604 \t673 \t1042\t1577\tOklahoma City\n",
      "1175\t977 \t872 \t439 \t304 \t0   \t300 \t369 \t738 \t1273\tAmarillo     \n",
      "1475\t1277\t1172\t739 \t604 \t300 \t0   \t69  \t438 \t973 \tSanta Fe     \n",
      "1544\t1346\t1241\t808 \t673 \t369 \t69  \t0   \t369 \t904 \tAlbuquerque  \n",
      "1913\t1715\t1610\t1177\t1042\t738 \t438 \t369 \t0   \t535 \tFlagstaff    \n",
      "2448\t2250\t2145\t1712\t1577\t1273\t973 \t904 \t535 \t0   \tLos Angeles  \n",
      "\n",
      " Ch\tSp\tSL\tTu\tOKC\tA\tSF\tAlb\tFl\tLA\t\n",
      "0.0   \t316.8 \t484.8 \t1177.6\t1393.6\t1880.0\t2360.0\t2470.4\t3060.8\t3916.8\tChicago      \n",
      "316.8 \t0.0   \t168.0 \t860.8 \t1076.8\t1563.2\t2043.2\t2153.6\t2744.0\t3600.0\tSpringfield  \n",
      "484.8 \t168.0 \t0.0   \t692.8 \t908.8 \t1395.2\t1875.2\t1985.6\t2576.0\t3432.0\tSaint-Louis  \n",
      "1177.6\t860.8 \t692.8 \t0.0   \t216.0 \t702.4 \t1182.4\t1292.8\t1883.2\t2739.2\tTulsa        \n",
      "1393.6\t1076.8\t908.8 \t216.0 \t0.0   \t486.4 \t966.4 \t1076.8\t1667.2\t2523.2\tOklahoma City\n",
      "1880.0\t1563.2\t1395.2\t702.4 \t486.4 \t0.0   \t480.0 \t590.4 \t1180.8\t2036.8\tAmarillo     \n",
      "2360.0\t2043.2\t1875.2\t1182.4\t966.4 \t480.0 \t0.0   \t110.4 \t700.8 \t1556.8\tSanta Fe     \n",
      "2470.4\t2153.6\t1985.6\t1292.8\t1076.8\t590.4 \t110.4 \t0.0   \t590.4 \t1446.4\tAlbuquerque  \n",
      "3060.8\t2744.0\t2576.0\t1883.2\t1667.2\t1180.8\t700.8 \t590.4 \t0.0   \t856.0 \tFlagstaff    \n",
      "3916.8\t3600.0\t3432.0\t2739.2\t2523.2\t2036.8\t1556.8\t1446.4\t856.0 \t0.0   \tLos Angeles  \n"
=======
     "ename": "SyntaxError",
     "evalue": "invalid character in identifier (<ipython-input-6-f4a70fc5dd88>, line 13)",
     "output_type": "error",
     "traceback": [
      "\u001b[0;36m  File \u001b[0;32m\"<ipython-input-6-f4a70fc5dd88>\"\u001b[0;36m, line \u001b[0;32m13\u001b[0m\n\u001b[0;31m    \u001b[0m\n\u001b[0m    ^\u001b[0m\n\u001b[0;31mSyntaxError\u001b[0m\u001b[0;31m:\u001b[0m invalid character in identifier\n"
>>>>>>> main
     ]
    }
   ],
   "source": [
    "cities = np.array([\"Chicago\", \"Springfield\", \"Saint-Louis\", \"Tulsa\", \"Oklahoma City\", \"Amarillo\", \"Santa Fe\", \"Albuquerque\", \"Flagstaff\", \"Los Angeles\"])\n",
<<<<<<< HEAD
    "cities_short = np.array([\"Ch\", \"Sp\", \"SL\", \"Tu\", \"OKC\", \"A\", \"SF\", \"Alb\", \"Fl\", \"LA\", \"\"])\n",
    "distances = np.array([0, 198, 303, 736, 871, 1175, 1475, 1544, 1913, 2448], \"int\")\n",
    "\n",
    "matrix = np.tile(np.array([0, 198, 303, 736, 871, 1175, 1475, 1544, 1913, 2448], \"int\"), (10, 1)).T\n",
    "matrix = abs((matrix[0:10:1]) - distances)\n",
    "\n",
    "result1 = np.hstack((matrix, np.atleast_2d(cities).T))\n",
    "\n",
    "print(\"\\t\".join(str(i) for i in cities_short))\n",
=======
    "#cities = np.array([\"Ch\", \"Sp\", \"SL\", \"Tu\", \"OKC\", \"A\", \"SF\", \"Alb\", \"Flf\", \"LA\"])\n",
    "cities2 = np.array([\"Ch\", \"Sp\", \"SL\", \"Tu\", \"OKC\", \"A\", \"SF\", \"Alb\", \"Fl\", \"LA\", \"\"])\n",
    "cities_distances = np.array([0, 198, 303, 736, 871, 1175, 1475, 1544, 1913, 2448], \"int\")\n",
    "\n",
    "broadcasted_matrix = np.tile(np.array([0, 198, 303, 736, 871, 1175, 1475, 1544, 1913, 2448], \"int\"), (10, 1)).T\n",
    "\n",
    "broadcasted_matrix = abs((broadcasted_matrix[0:10:1])-cities_distances)\n",
    "\n",
    "result1 = np.hstack((broadcasted_matrix, np.atleast_2d(cities).T))\n",
    "\n",
    "#result2 = np.vstack ((result1, cities2) )\n",
    "  \n",
    "\n",
    "print(\" \".join(str(i) for i in cities2))\n",
>>>>>>> main
    "\n",
    "\n",
    "s = [[str(e) for e in row] for row in result1]\n",
    "lens = [max(map(len, col)) for col in zip(*s)]\n",
    "fmt = \"\\t\".join(\"{{:{}}}\".format(x) for x in lens)\n",
    "table = [fmt.format(*row) for row in s]\n",
    "print (\"\\n\".join(table))\n",
    "\n",
    "\n",
<<<<<<< HEAD
    "def convertion(miles):\n",
    "    return(miles * 1.6)  \n",
    "\n",
    "print(\"\\n\", \"\\t\".join(str(i) for i in cities_short))\n",
    "result2 = np.hstack((np.around(convertion(matrix), decimals=1), np.atleast_2d(cities).T))\n",
=======
    "\n",
    "broadcasted_matrix\n",
    "\n",
    "\n",
    "def convertion(miles):\n",
    "    km = miles * 1.6 # approximately 1.6 km in 1 mile\n",
    "    \n",
    "    return km\n",
    "\n",
    "\n",
    "print(\"\\n\", \" \".join(str(i) for i in cities2))\n",
    "\n",
    "result2 = np.hstack((np.around(convertion(broadcasted_matrix), decimals=1), np.atleast_2d(cities).T))\n",
>>>>>>> main
    "s = [[str(e) for e in row] for row in result2]\n",
    "lens = [max(map(len, col)) for col in zip(*s)]\n",
    "fmt = \"\\t\".join(\"{{:{}}}\".format(x) for x in lens)\n",
    "table = [fmt.format(*row) for row in s]\n",
<<<<<<< HEAD
    "print (\"\\n\".join(table))"
=======
    "print (\"\\n\".join(table))\n",
    "\n",
    "\n",
    "\n"
>>>>>>> main
   ]
  },
  {
   "cell_type": "markdown",
   "metadata": {},
   "source": [
    "7\\. Prime numbers sieve: compute the prime numbers in the 0-N (start with N=99) range with a sieve (mask).\n",
    "  * Check the performances (timeit); how does it scale with N?\n",
    "  * Implement the optimization suggested in the [sieve of Eratosthenes](https://en.wikipedia.org/wiki/Sieve_of_Eratosthenes)"
   ]
  },
  {
   "cell_type": "code",
   "execution_count": 7,
   "metadata": {},
   "outputs": [
    {
     "name": "stdout",
     "output_type": "stream",
     "text": [
      "Performance prime number\n",
      "\n",
<<<<<<< HEAD
      "Performance prime_number with N = 100 : 0.0006032999999998623\n",
      "Performance prime_number with N = 1000 : 0.08353543199999969\n",
      "Performance prime_number with N = 10000 : 4.868278078\n",
      "\n",
      "Performance prime number with sieve of Eratosthenes\n",
      "\n",
      "Performance prime_number with N = 10000 : 0.002304767000000041\n",
      "Performance prime_number with N = 10000 : 0.002224695000000665\n",
      "Performance prime_number with N = 10000 : 0.0022257599999999655\n"
=======
      "Performance prime_number with N = 100 : 0.00032532099999116326\n",
      "Performance prime_number with N = 1000 : 0.053788718999982166\n",
      "Performance prime_number with N = 10000 : 5.305027996000007\n",
      "\n",
      "Performance prime number with sieve of Eratosthenes\n",
      "\n",
      "Performance prime_number with N = 10000 : 0.0029259849999903054\n",
      "Performance prime_number with N = 10000 : 0.003913607000015418\n",
      "Performance prime_number with N = 10000 : 0.003764329000006228\n"
>>>>>>> main
     ]
    }
   ],
   "source": [
    "import timeit\n",
    "\n",
    "def prime_number(N):\n",
    "    vector = np.arange(N)\n",
    "    prime_n = []\n",
    "    for num in range(N):\n",
    "        prime = True\n",
    "        for i in range(2,num):\n",
    "            if (num%i==0):\n",
    "                prime = False\n",
    "        if prime:\n",
    "            prime_n.append(num)\n",
    "    return prime_n\n",
    "\n",
    "\n",
    "def sieve_of_eratosthenes(N):\n",
    "\n",
    "    prime = [True for i in range(N)]\n",
    "    prime_n = []\n",
    "    p = 2\n",
    "    while (p * p <= N):\n",
    "\n",
    "        if (prime[p] == True):\n",
    "            # Update multiples of p\n",
    "            for i in range(p**2, N, p):\n",
    "                prime[i] = False\n",
    "        p += 1\n",
    "        \n",
    "    for p in range(N):\n",
    "        if prime[p]:\n",
    "            prime_n.append(p) \n",
    "    \n",
    "    return(prime_n)\n",
    "\n",
    "\n",
    "\n",
    "print(\"Performance prime number\\n\")\n",
    "\n",
    "for N in [100, 1000, 10000]:\n",
    "\n",
    "    starttime = timeit.default_timer()\n",
    "    prime_number(N)\n",
    "    print(\"Performance prime_number with N =\",N,\":\", timeit.default_timer() - starttime)\n",
    "    \n",
    "print(\"\")\n",
    "print(\"Performance prime number with sieve of Eratosthenes\\n\")\n",
    "\n",
    "for i in [100, 1000, 10000]:\n",
    "\n",
    "    starttime = timeit.default_timer()\n",
    "    sieve_of_eratosthenes(N)\n",
    "    print(\"Performance prime_number with N =\",N,\":\", timeit.default_timer() - starttime)\n",
    "\n",
    "    \n",
    "#N=100\n",
    "#print(sieve_of_eratosthenes(N))\n",
    "#print(prime_number(N))"
   ]
  },
  {
   "cell_type": "code",
   "execution_count": null,
   "metadata": {},
   "outputs": [],
   "source": []
  }
 ],
 "metadata": {
  "kernelspec": {
   "display_name": "Python 3",
   "language": "python",
   "name": "python3"
  },
  "language_info": {
   "codemirror_mode": {
    "name": "ipython",
    "version": 3
   },
   "file_extension": ".py",
   "mimetype": "text/x-python",
   "name": "python",
   "nbconvert_exporter": "python",
   "pygments_lexer": "ipython3",
   "version": "3.8.8"
  }
 },
 "nbformat": 4,
 "nbformat_minor": 2
}
