{
 "cells": [
  {
   "cell_type": "markdown",
   "metadata": {},
   "source": [
    "1. Write the following expressions using the list comprehension"
   ]
  },
  {
   "cell_type": "code",
   "execution_count": 1,
   "metadata": {},
   "outputs": [
    {
     "name": "stdout",
     "output_type": "stream",
     "text": [
      "[(0, 0), (0, 1), (0, 2), (0, 3), (1, 0), (1, 1), (1, 2), (1, 3), (2, 0), (2, 1), (2, 2), (2, 3)]\n",
      "\n",
      "All numbers:  [0, 1, 4, 9, 16, 25, 36, 49, 64, 81]\n",
      "Needed result:  [1, 9, 25, 49, 81]\n"
     ]
    }
   ],
   "source": [
    "#working prog\n",
    "#1 \n",
    "list_1 = range(3)\n",
    "list_2 = range(4)\n",
    "\n",
    "\n",
    "new_list = [(i,j) for i in list_1 for j in list_2]\n",
    "print(new_list)\n",
    "\n",
    "print()\n",
    "\n",
    "#2\n",
    "n = range(10)\n",
    "\n",
    "#squared_nums = list(map(lambda x: x * x, n))\n",
    "squared_nums = [x ** 2 for x in n]\n",
    "\n",
    "#filtered_nums = filter(lambda x: x % 2 == 1,squared_nums)\n",
    "filtered_nums = [x for x in squared_nums if x % 2 == 1]\n",
    "\n",
    "print(\"All numbers: \",squared_nums)\n",
    "print(\"Needed result: \",filtered_nums)"
   ]
  },
  {
   "cell_type": "markdown",
   "metadata": {},
   "source": [
    "2. Convert the function  𝑓  into a function that doesn't use global variables and that does not modify the original list"
   ]
  },
  {
   "cell_type": "code",
   "execution_count": 2,
   "metadata": {},
   "outputs": [
    {
     "name": "stdout",
     "output_type": "stream",
     "text": [
      "[1, 2, 3]\n",
      "[1, 2, 3, 0, 1, 2, 3, 4]\n",
      "[1, 2, 3, 0, 1, 2, 3, 4]\n"
     ]
    }
   ],
   "source": [
    "#Need attention\n",
    "#Converting the function  𝑓  into a function that doesn't use global variables and that does not modify the original list\n",
    "\n",
    "x = 5\n",
    "def f(alist):\n",
    "    for i in range(x):\n",
    "         alist.append(i)\n",
    "    return alist\n",
    "\n",
    "alist = [1,2,3]\n",
    "print(alist)\n",
    "ans = f(alist)\n",
    "print(ans)\n",
    "print(alist) # alist has been changed!"
   ]
  },
  {
   "cell_type": "code",
   "execution_count": 3,
   "metadata": {},
   "outputs": [
    {
     "name": "stdout",
     "output_type": "stream",
     "text": [
      "[1, 2, 3, 0, 1, 2, 3, 4]\n",
      "[1, 2, 3, 0, 1, 2, 3, 4]\n"
     ]
    }
   ],
   "source": [
    "\n",
    "x = 5\n",
    "def f(alist):\n",
    "    for i in range(x):\n",
    "         alist.append(i)\n",
    "    # print(alist) # message inside function\n",
    "    return alist\n",
    "    print(range(x))\n",
    "alist = [1,2,3]\n",
    "ans = f(alist)\n",
    "print(ans)\n",
    "print(alist) # alist has been changed! \n",
    "# print(x) # message outside function"
   ]
  },
  {
   "cell_type": "markdown",
   "metadata": {},
   "source": [
    "3. Write a decorator hello that makes every wrapped function print “Hello!”"
   ]
  },
  {
   "cell_type": "markdown",
   "metadata": {},
   "source": [
    "I wrote the next block just for myself to undestand how the decorator function works, the solution for the given task goes after it."
   ]
  },
  {
   "cell_type": "code",
   "execution_count": 4,
   "metadata": {},
   "outputs": [
    {
     "name": "stdout",
     "output_type": "stream",
     "text": [
      "Hello\n",
      "wrapper executed this befor display\n",
      "display function ran\n",
      "wrapper executed this befor display\n",
      "Hello\n"
     ]
    }
   ],
   "source": [
    "# Within our outer_function() we had a local variable message\n",
    "def outer_function():\n",
    "    message = 'Hello'\n",
    "\n",
    "# Then we are creating an inner function within the outer_function()\n",
    "# The massage variable wasn't created within the inner_function() but the inner_function() does have access to it\n",
    "# This is what we call a free variable\n",
    "    def inner_function():\n",
    "        print(message)\n",
    "# Excecutes the inner_function() and returnes the result\n",
    "    return inner_function()\n",
    "\n",
    "outer_function()\n",
    "\n",
    "# decorating our functions allows us to easily add functionality to our existing functions by adding that functionality inside of our wrapper\n",
    "\n",
    "def decorator_function(original_function):\n",
    "    def wrapper_function():\n",
    "# this line is just to see what's going on if we decided to change something in functionality (just for me, to understand it properly)\n",
    "        print('wrapper executed this befor {}'.format(original_function.__name__))\n",
    "        return original_function()\n",
    "# our decorator_function() returnes this wrapper that is waiting to be executed\n",
    "    return wrapper_function\n",
    "\n",
    "def display():\n",
    "    print('display function ran')\n",
    "# decorated_display passes in our display() function to our decorator_function() \n",
    "decorated_display = decorator_function(display)\n",
    "# so now this decorated_display variable is actually is equal to our  wrapper_function that is waiting to be executed\n",
    "# and when it is executed it just executes the original_function() that we passed in and returnes it\n",
    "\n",
    "# so now I can run this decorated_display variable just like any other function \n",
    "decorated_display()\n",
    "\n",
    "@decorator_function\n",
    "def display():\n",
    "    print('Hello')\n",
    "\n",
    "display()"
   ]
  },
  {
   "cell_type": "markdown",
   "metadata": {},
   "source": [
    "This is the solution below for the 3rd exercise"
   ]
  },
  {
   "cell_type": "code",
   "execution_count": 5,
   "metadata": {},
   "outputs": [
    {
     "name": "stdout",
     "output_type": "stream",
     "text": [
      "The square root of  6 is  36\n",
      "Hello\n"
     ]
    }
   ],
   "source": [
    "#working prog\n",
    "def hello(func):\n",
    "    def wrapper(x):\n",
    "        func(x)\n",
    "    return wrapper\n",
    "\n",
    "@hello\n",
    "def square(x):\n",
    "    print(\"The square root of \", x, \"is \", x ** 2)\n",
    "    print('Hello')\n",
    "square(6)"
   ]
  },
  {
   "cell_type": "markdown",
   "metadata": {},
   "source": [
    "4. Write the factorial function in two different ways"
   ]
  },
  {
   "cell_type": "markdown",
   "metadata": {},
   "source": [
    "a) use recursion"
   ]
  },
  {
   "cell_type": "code",
   "execution_count": 6,
   "metadata": {},
   "outputs": [
    {
     "name": "stdout",
     "output_type": "stream",
     "text": [
      "Fuctorial of 5 is 120\n"
     ]
    }
   ],
   "source": [
    "#working prog\n",
    "def factorial_recursive(n):\n",
    "    if n == 1:\n",
    "        return n\n",
    "    else:\n",
    "        return n * factorial_recursive(n-1)\n",
    "    \n",
    "num = 5\n",
    "print(f\"Fuctorial of {num} is {factorial_recursive(num)}\")\n"
   ]
  },
  {
   "cell_type": "markdown",
   "metadata": {},
   "source": [
    "b) does not use recursion"
   ]
  },
  {
   "cell_type": "code",
   "execution_count": 1,
   "metadata": {},
   "outputs": [
    {
     "name": "stdout",
     "output_type": "stream",
     "text": [
      "Enter any number: 3\n",
      "Factorial of  3 is  6\n"
     ]
    }
   ],
   "source": [
    "#working prog\n",
    "num = int(input(\"Enter any number: \"))\n",
    "fact = 1\n",
    "if num < 0:\n",
    "    print('Factorial does not exist for negative numbers')\n",
    "elif num == 0 or num == 1:\n",
    "    print('Factorial of ', num, 'is ', 1) \n",
    "else:\n",
    "    for i in range(1, num + 1):\n",
    "        fact = fact * i\n",
    "    print('Factorial of ', num, 'is ', fact)\n"
   ]
  },
  {
   "cell_type": "markdown",
   "metadata": {},
   "source": [
    "5. Use HOFs (zip in particular) to compute the weight of a circle, a disk and a sphere, assuming different radii and different densities:\n",
    "\n",
    "densities = {\"Al\" : [0.5, 1, 2], \"Fe\" : [3, 4, 5], \"Pb\" : [15, 20, 30]}\n",
    "radii = [1, 2, 3]\n",
    "\n",
    "where the entries of the dictionary's values are the linear, superficial and volumetric densities of the materials respectively.\n",
    "\n",
    "Subsequently, define a list using a comprehension with three lambda functions that compute the circumference, the area and the volume for a given radius."
   ]
  },
  {
   "cell_type": "code",
   "execution_count": null,
   "metadata": {},
   "outputs": [],
   "source": []
  },
  {
   "cell_type": "markdown",
   "metadata": {},
   "source": [
    "6. Edit the class defintion to add an instance attribute of is_hungry = True to the Dog class. Then add a method called eat() which changes the value of is_hungry to False when called. Figure out the best way to instantiate the dog objects and to feed the dogs, e.g. call the eat() method for all instances. Finally, print “My dogs are hungry.” or “My dogs are not hungry.” if all of them have is_hungry = True or False, respectively."
   ]
  },
  {
   "cell_type": "code",
   "execution_count": null,
   "metadata": {},
   "outputs": [],
   "source": [
    "# Parent class\n",
    "class Dog:\n",
    "    def chech_pass_fail(self):\n",
    "        if self.age >= 40\n",
    "            return True\n",
    "        else:\n",
    "            return False\n",
    "        \n",
    "dog_1 = Dog()\n",
    "dog_1.name = \"Tom\"\n",
    "dog_1.age = 6\n",
    "\n",
    "dog_2 = Dog()\n",
    "dog_2.name = \"Fletcher\"\n",
    "dog_2.age = 7\n",
    "\n",
    "dog_3 = Dog()\n",
    "dog_3.name = \"Larry\"\n",
    "dog_3.age = 9\n",
    "\n",
    "    # Class attribute\n",
    "    species = 'mammal'\n",
    "\n",
    "    # Initializer / Instance attributes\n",
    "    def __init__(self, name, age):\n",
    "        self.name = name\n",
    "        self.age = age\n",
    "\n",
    "    # instance method\n",
    "    def description(self):\n",
    "        return \"{} is {} years old\".format(self.name, self.age)\n",
    "\n",
    "    # instance method\n",
    "    def speak(self, sound):\n",
    "        return \"{} says {}\".format(self.name, sound)\n",
    "\n",
    "# Child class (inherits from Dog class)\n",
    "class RussellTerrier(Dog):\n",
    "    def run(self, speed):\n",
    "        return \"{} runs {}\".format(self.name, speed)\n",
    "\n",
    "# Child class (inherits from Dog class)\n",
    "class Bulldog(Dog):\n",
    "    def run(self, speed):\n",
    "        return \"{} runs {}\".format(self.name, speed)"
   ]
  },
  {
   "cell_type": "code",
   "execution_count": null,
   "metadata": {},
   "outputs": [],
   "source": []
  }
 ],
 "metadata": {
  "kernelspec": {
   "display_name": "Python 3",
   "language": "python",
   "name": "python3"
  },
  "language_info": {
   "codemirror_mode": {
    "name": "ipython",
    "version": 3
   },
   "file_extension": ".py",
   "mimetype": "text/x-python",
   "name": "python",
   "nbconvert_exporter": "python",
   "pygments_lexer": "ipython3",
   "version": "3.7.4"
  }
 },
 "nbformat": 4,
 "nbformat_minor": 2
}
