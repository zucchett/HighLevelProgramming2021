{
 "cells": [
  {
   "cell_type": "markdown",
   "metadata": {},
   "source": [
    "1\\. Write a function that converts numbers among the bin, dec, and hex representations (bin<->dec<->hex)"
   ]
  },
  {
   "cell_type": "code",
   "execution_count": 26,
   "metadata": {},
   "outputs": [
    {
     "name": "stdout",
     "output_type": "stream",
     "text": [
      "From Dec (5) to Bin (0b101)\n",
      "From Bin (0b101) to Dec (5)\n",
      "From Dec (5) to Hex (0x5)\n",
      "From Hex (0x5) to Dec (5)\n",
      "From Bin (0b101) to Hex (0x5)\n",
      "From Hex (0x5) to Bin (0b101)\n"
     ]
    }
   ],
   "source": [
    "def convert(num, rep_from, rep_to):\n",
    "    legal_values = ['bin', 'dec', 'hex']\n",
    "    if rep_from not in legal_values or rep_to not in legal_values:\n",
    "        raise ValueError('To representations values not legal')\n",
    "    else:\n",
    "        if rep_from == 'dec' and rep_to == 'bin':\n",
    "            return bin(num)\n",
    "        elif rep_from == 'bin' and rep_to == 'dec':\n",
    "            return int(num, 2)\n",
    "        elif rep_from == 'dec' and rep_to == 'hex':\n",
    "            return hex(num)\n",
    "        elif rep_from == 'hex' and rep_to == 'dec':\n",
    "            return int(num, 16)\n",
    "        elif rep_from == 'bin' and rep_to == 'hex':\n",
    "            num_dec = int(num, 2)\n",
    "            return hex(num_dec)\n",
    "        elif rep_from == 'hex' and rep_to == 'bin':\n",
    "            num_dec = int(num, 16)\n",
    "            return  bin(num_dec)\n",
    "        else:\n",
    "            raise ValueError('To representations values not legal')\n",
    "        \n",
    "\n",
    "original_n = 5\n",
    "\n",
    "# Dec to Bin\n",
    "result1 = convert(original_n, 'dec', 'bin')\n",
    "print(f'From Dec ({original_n}) to Bin ({result1})')\n",
    "\n",
    "# Bin to Dec\n",
    "result2 = convert(result1, 'bin', 'dec')\n",
    "print(f'From Bin ({result1}) to Dec ({result2})')\n",
    "\n",
    "# Dec to Hex\n",
    "result3 = convert(original_n, 'dec', 'hex')\n",
    "print(f'From Dec ({original_n}) to Hex ({result3})')\n",
    "\n",
    "# Hex to Dec\n",
    "result4 = convert(result3, 'hex', 'dec')\n",
    "print(f'From Hex ({result3}) to Dec ({result4})')\n",
    "\n",
    "# Bin to Hex\n",
    "result5 = convert(result1, 'bin', 'hex')\n",
    "print(f'From Bin ({result1}) to Hex ({result5})')\n",
    "\n",
    "# Hex to Bin\n",
    "result6 = convert(result3, 'hex', 'bin')\n",
    "print(f'From Hex ({result3}) to Bin ({result6})')"
   ]
  },
  {
   "cell_type": "markdown",
   "metadata": {},
   "source": [
    "2\\. Write a function that converts a 32 bit word into a single precision floating point (i.e. interprets the various bits as sign, mantissa and exponent) and check its validity."
   ]
  },
  {
   "cell_type": "code",
   "execution_count": 30,
   "metadata": {},
   "outputs": [
    {
     "name": "stdout",
     "output_type": "stream",
     "text": [
      "Sign: 0, Exponent: 00000111, Mantissa: 11000000000000000000000\n",
      "Sign: 1, Exponent: 7, Mantissa: 1.75\n",
      "Float number: -1.316553672920962e-36\n"
     ]
    }
   ],
   "source": [
    "# Original binary representation\n",
    "bin_num = '00000011111000000000000000000000'\n",
    "\n",
    "# Extract different part of the binary number\n",
    "sign_str = bin_num[0]\n",
    "exponent_str = bin_num[1:9]\n",
    "mantissa_str = bin_num[9:]\n",
    "\n",
    "# Calculates the sign\n",
    "sign = 1 if sign_str == '0' else -1\n",
    "\n",
    "# Calculates the exponent\n",
    "exponent = int(exponent_str, 2)\n",
    "\n",
    "# Calculates the mantissa\n",
    "mantissa = 1\n",
    "length = len(mantissa_str)\n",
    "num = -1\n",
    "for m in range(length):\n",
    "    mantissa += int(mantissa_str[m]) * 2**(num)\n",
    "    num -= 1\n",
    "    \n",
    "# Prints the results\n",
    "print(f'Sign: {sign_str}, Exponent: {exponent_str}, Mantissa: {mantissa_str}')\n",
    "print(f'Sign: {sign}, Exponent: {exponent}, Mantissa: {mantissa}')\n",
    "\n",
    "# Calculates the float number and prints it\n",
    "float_num = (-1)**sign * mantissa * 2**(exponent - 127)\n",
    "print(f'Float number: {float_num}')"
   ]
  },
  {
   "cell_type": "markdown",
   "metadata": {},
   "source": [
    "3\\. Write a program to determine the underflow and overflow limits (within a factor of 2) for python on your computer. \n",
    "\n",
    "**Tip**: define two variables initialized to 1 and halve/double them for a sufficient amount of times to exceed the under/over-flow limits  "
   ]
  },
  {
   "cell_type": "code",
   "execution_count": 23,
   "metadata": {},
   "outputs": [
    {
     "name": "stdout",
     "output_type": "stream",
     "text": [
      "Overflow limit: 8.98846567431158e+307\n",
      "Underflow limit: 5e-324\n"
     ]
    }
   ],
   "source": [
    "# NOTE: I'm not sure it was what you meant. Please provide a different \n",
    "# description if you want me to do something other than that.\n",
    "\n",
    "num = 1\n",
    "num_prev = None\n",
    "\n",
    "while num != float('inf'):\n",
    "    num_prev = num\n",
    "    num = num * 2.0\n",
    "    \n",
    "print(f'Overflow limit: {num_prev}')\n",
    "\n",
    "num = 1\n",
    "num_prev = None\n",
    "\n",
    "while num != 0:\n",
    "    num_prev = num\n",
    "    num = num / 2.0\n",
    "    \n",
    "print(f'Underflow limit: {num_prev}')"
   ]
  },
  {
   "cell_type": "markdown",
   "metadata": {},
   "source": [
    "4\\. Write a program to determine the machine precision\n",
    "\n",
    "**Tip**: define a new variable by adding an increasingly smaller value (in the same way as the previous problem) and check when the addition starts to have no effect on the number"
   ]
  },
  {
   "cell_type": "code",
   "execution_count": 28,
   "metadata": {},
   "outputs": [
    {
     "name": "stdout",
     "output_type": "stream",
     "text": [
      "100\n",
      "150.0\n",
      "175.0\n",
      "187.5\n",
      "193.75\n",
      "196.875\n",
      "198.4375\n",
      "199.21875\n",
      "199.609375\n",
      "199.8046875\n",
      "199.90234375\n",
      "199.951171875\n",
      "199.9755859375\n",
      "199.98779296875\n",
      "199.993896484375\n",
      "199.9969482421875\n",
      "199.99847412109375\n",
      "199.99923706054688\n",
      "199.99961853027344\n",
      "199.99980926513672\n",
      "199.99990463256836\n",
      "199.99995231628418\n",
      "199.9999761581421\n",
      "199.99998807907104\n",
      "199.99999403953552\n",
      "199.99999701976776\n",
      "199.99999850988388\n",
      "199.99999925494194\n",
      "199.99999962747097\n",
      "199.99999981373549\n",
      "199.99999990686774\n",
      "199.99999995343387\n",
      "199.99999997671694\n",
      "199.99999998835847\n",
      "199.99999999417923\n",
      "199.99999999708962\n",
      "199.9999999985448\n",
      "199.9999999992724\n",
      "199.9999999996362\n",
      "199.9999999998181\n",
      "199.99999999990905\n",
      "199.99999999995453\n",
      "199.99999999997726\n",
      "199.99999999998863\n",
      "199.99999999999432\n",
      "199.99999999999716\n",
      "199.99999999999858\n",
      "199.9999999999993\n",
      "199.99999999999966\n",
      "199.99999999999983\n",
      "199.99999999999991\n",
      "199.99999999999997\n",
      "200.0\n",
      "200.0\n"
     ]
    }
   ],
   "source": [
    "num = 0\n",
    "increment = 100\n",
    "loop = True\n",
    "\n",
    "while loop:\n",
    "    prev_num = num\n",
    "    num += increment\n",
    "    increment /= 2\n",
    "    print(num)\n",
    "    if prev_num == num:\n",
    "        loop = False"
   ]
  },
  {
   "cell_type": "markdown",
   "metadata": {},
   "source": [
    "5\\. Write a function that takes in input three parameters $a$, $b$ and $c$ and prints out the two solutions to the quadratic equation $ax^2+bx+c=0$ using the standard formula:\n",
    "$$\n",
    "x=\\frac{-b\\pm\\sqrt{b^2-4ac}}{2a}\n",
    "$$\n",
    "\n",
    "(a) use the program to compute the solution for $a=0.001$, $b=1000$ and $c=0.001$\n",
    "\n",
    "(b) re-express the standard solution formula by multiplying the numerator and the denominator by $-b\\mp\\sqrt{b^2-4ac}$ and again find the solution for $a=0.001$, $b=1000$ and $c=0.001$. How does it compare with what has been previously obtained, and why?\n",
    "\n",
    "(c) write a function that computes the roots of a quadratic equation accurately in all cases"
   ]
  },
  {
   "cell_type": "code",
   "execution_count": 55,
   "metadata": {},
   "outputs": [
    {
     "name": "stdout",
     "output_type": "stream",
     "text": [
      "(-9.999894245993346e-07, -999999.999999)\n",
      "(-1.000000000001e-06, -1000010.5755125057)\n",
      "(-1.000000000001e-06, -999999.999999)\n"
     ]
    }
   ],
   "source": [
    "from math import sqrt\n",
    "\n",
    "def quadratic_eq(a, b, c):\n",
    "    x1 = (-b + sqrt(b**2 - 4*a*c)) / (2*a)\n",
    "    x2 = (-b - sqrt(b**2 - 4*a*c)) / (2*a)\n",
    "    return (x1, x2)\n",
    "    \n",
    "def quadratic_eq_2(a, b, c):\n",
    "    r = sqrt(b**2 - 4*a*c)\n",
    "    x1 = 2*c / (-b - r)\n",
    "    x2 = 2*c / (-b + r)\n",
    "    return (x1, x2)\n",
    "\n",
    "def quadratic_eq_stable(a, b, c):\n",
    "    x1, _ = quadratic_eq_2(a, b, c)\n",
    "    _, x2 = quadratic_eq(a, b, c)\n",
    "    return (x1, x2)\n",
    "\n",
    "print(quadratic_eq(0.001, 1000, 0.001))\n",
    "print(quadratic_eq_2(0.001, 1000, 0.001))\n",
    "print(quadratic_eq_stable(0.001, 1000, 0.001))"
   ]
  },
  {
   "cell_type": "markdown",
   "metadata": {},
   "source": [
    "6\\. Write a program that implements the function $f(x)=x(x−1)$\n",
    "\n",
    "(a) Calculate the derivative of the function at the point $x = 1$ using the derivative definition:\n",
    "\n",
    "$$\n",
    "\\frac{{\\rm d}f}{{\\rm d}x} = \\lim_{\\delta\\to0} \\frac{f(x+\\delta)-f(x)}{\\delta}\n",
    "$$\n",
    "\n",
    "with $\\delta = 10^{−2}$. Calculate the true value of the same derivative analytically and compare it with the answer your program gives. The two will not agree perfectly. Why?\n",
    "\n",
    "(b) Repeat the calculation for $\\delta = 10^{−4}, 10^{−6}, 10^{−8}, 10^{−10}, 10^{−12}$ and $10^{−14}$. How does the accuracy scales with $\\delta$?"
   ]
  },
  {
   "cell_type": "code",
   "execution_count": 38,
   "metadata": {},
   "outputs": [
    {
     "name": "stdout",
     "output_type": "stream",
     "text": [
      "Derivative: 1.010000000000001\n",
      "Derivative (analytically): 1\n",
      "Derivative (delta = 10*-4): 1.0000999999998899\n",
      "Derivative (delta = 10*-6): 1.0000009999177333\n",
      "Derivative (delta = 10*-8): 1.0000000039225287\n",
      "Derivative (delta = 10*-10): 1.000000082840371\n",
      "Derivative (delta = 10*-12): 1.0000889005833413\n",
      "Derivative (delta = 10*-14): 0.9992007221626509\n"
     ]
    }
   ],
   "source": [
    "def f(x):\n",
    "    return x * (x - 1)\n",
    "\n",
    "def derivative(x, delta=10**-2):\n",
    "    return (f(x + delta) - f(x)) / delta\n",
    "\n",
    "def derivative_analytically(x):\n",
    "    return 2 * x - 1\n",
    "\n",
    "# Because of algorithm stability and function conditioning the value of the \n",
    "# derivate calculated analytically is different from the other one\n",
    "print(f'Derivative: {derivative(1)}')\n",
    "print(f'Derivative (analytically): {derivative_analytically(1)}')\n",
    "\n",
    "# Considering different values of delta we can observe that the best result has\n",
    "# been obtained with delta=10^-8\n",
    "print(f'Derivative (delta = 10*-4): {derivative(1, delta=10**-4)}')\n",
    "print(f'Derivative (delta = 10*-6): {derivative(1, delta=10**-6)}')\n",
    "print(f'Derivative (delta = 10*-8): {derivative(1, delta=10**-8)}')\n",
    "print(f'Derivative (delta = 10*-10): {derivative(1, delta=10**-10)}')\n",
    "print(f'Derivative (delta = 10*-12): {derivative(1, delta=10**-12)}')\n",
    "print(f'Derivative (delta = 10*-14): {derivative(1, delta=10**-14)}')"
   ]
  },
  {
   "cell_type": "markdown",
   "metadata": {},
   "source": [
    "7\\. Consider the integral of the semicircle of radius 1:\n",
    "$$\n",
    "I=\\int_{-1}^{1} \\sqrt(1-x^2) {\\rm d}x\n",
    "$$\n",
    "which is known to be $I=\\frac{\\pi}{2}=1.57079632679...$.\n",
    "\n",
    "Alternatively we can use the Riemann definition of the integral:\n",
    "$$\n",
    "I=\\lim_{N\\to\\infty} \\sum_{k=1}^{N} h y_k \n",
    "$$\n",
    "\n",
    "with $h=2/N$ the width of each of the $N$ slices the domain is divided into and where\n",
    "$y_k$ is the value of the function at the $k-$th slice.\n",
    "\n",
    "(a) Write a program to compute the integral with $N=100$. How does the result compare to the true value?\n",
    "\n",
    "(b) How much can $N$ be increased if the computation needs to be run in less than a second? What is the gain in running it for 1 minute? \n"
   ]
  },
  {
   "cell_type": "code",
   "execution_count": 36,
   "metadata": {},
   "outputs": [
    {
     "name": "stdout",
     "output_type": "stream",
     "text": [
      "1.565154305800824\n",
      "Runs in 1 second: 14315.03071672355\n",
      "Runs in 60 seconds: 858901.8430034129\n"
     ]
    }
   ],
   "source": [
    "from math import sqrt\n",
    "import time\n",
    "\n",
    "def f(x):\n",
    "    return sqrt(1 - x**2)\n",
    "\n",
    "def riemann_int(function, a, b, n):\n",
    "    sumval = 0\n",
    "    h = (b - a) / n\n",
    "    for i in range(0, n - 1):\n",
    "        current_x = a + i * h\n",
    "        sumval = sumval + function(current_x) * h\n",
    "    return sumval\n",
    "\n",
    "# The approximate result is near the real one but the error is not negligible\n",
    "print(riemann_int(f, -1, +1, 100))\n",
    "\n",
    "clock = time.time()\n",
    "riemann_int(f, -1, +1, 100)\n",
    "time_el = time.time() - clock\n",
    "\n",
    "print(f'Runs in 1 second: {1 / time_el}')\n",
    "print(f'Runs in 60 seconds: {60 / time_el}')"
   ]
  },
  {
   "cell_type": "code",
   "execution_count": null,
   "metadata": {},
   "outputs": [],
   "source": []
  }
 ],
 "metadata": {
  "kernelspec": {
   "display_name": "Python 3",
   "language": "python",
   "name": "python3"
  },
  "language_info": {
   "codemirror_mode": {
    "name": "ipython",
    "version": 3
   },
   "file_extension": ".py",
   "mimetype": "text/x-python",
   "name": "python",
   "nbconvert_exporter": "python",
   "pygments_lexer": "ipython3",
   "version": "3.8.8"
  }
 },
 "nbformat": 4,
 "nbformat_minor": 2
}
