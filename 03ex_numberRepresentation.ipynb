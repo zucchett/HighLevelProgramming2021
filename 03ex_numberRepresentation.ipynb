{
 "cells": [
  {
   "cell_type": "markdown",
   "metadata": {},
   "source": [
    "1\\. Write a function that converts numbers among the bin, dec, and hex representations (bin<->dec<->hex)"
   ]
  },
  {
   "cell_type": "code",
   "execution_count": 1,
   "metadata": {},
   "outputs": [
    {
     "name": "stdout",
     "output_type": "stream",
     "text": [
      "11000\n",
      "18\n",
      "24\n",
      "18\n",
      "11000\n",
      "24\n"
     ]
    }
   ],
   "source": [
    "HexL=['0','1','2','3','4','5','6','7','8','9','a','b','c','d','e','f']\n",
    "\n",
    "#b_in and b_out are the basis from which and to which i want to convert\n",
    "#y is the output number in the asked base\n",
    "\n",
    "def convert(n,b_out):\n",
    "    x=(str)(n)\n",
    "    #check the input to detect the input base\n",
    "    if x[0:2]=='0b':\n",
    "        x=x[2:]\n",
    "        b_in=2\n",
    "    elif x[0:2]=='0x':\n",
    "        x=x[2:]\n",
    "        b_in=16\n",
    "    else:\n",
    "        b_in=10\n",
    "    n2=0\n",
    "    l=len(x)\n",
    "    for i, j in enumerate(x):\n",
    "        for a, b in enumerate(HexL):\n",
    "            if j==b:\n",
    "                n2+=a*(b_in)**(l-(i+1))\n",
    "    y=''\n",
    "    while n2>0:\n",
    "        r=n2%b_out #resto\n",
    "        y=HexL[(int)(r)]+y\n",
    "        n2=(n2-r)/b_out\n",
    "    print(y)\n",
    "    \n",
    "convert(24,2) #dec to bin\n",
    "convert(24,16) #dec to hex\n",
    "convert('0b11000',10) #bin to dec\n",
    "convert('0b11000',16) #bin to hex\n",
    "convert('0x18',2) #hex to bin\n",
    "convert('0x18',10) #hex to dec\n",
    "#we can also try to convert to the same base of the input and it will work returning the same number given in input, but it doesn't make sense"
   ]
  },
  {
   "cell_type": "markdown",
   "metadata": {},
   "source": [
    "2\\. Write a function that converts a 32 bit word into a single precision floating point (i.e. interprets the various bits as sign, mantissa and exponent) and check its validity."
   ]
  },
  {
   "cell_type": "code",
   "execution_count": 2,
   "metadata": {},
   "outputs": [
    {
     "data": {
      "text/plain": [
       "3.0039215087890625"
      ]
     },
     "execution_count": 2,
     "metadata": {},
     "output_type": "execute_result"
    }
   ],
   "source": [
    "e=127 #offset\n",
    "\n",
    "def tofloat32(num):\n",
    "    #firts we do the & operation with the masks\n",
    "    sign = (num & 0x80000000) >> 31 #moving sign to the firts bit\n",
    "    exp = (num & 0x7F800000) >> 23 #moving exp to the first 8 bits\n",
    "    mantissa = (num & 0x7FFFFF) #no need to shift\n",
    "    base = 1\n",
    "    for i in range(1,23):\n",
    "        base +=(2.0**(-i))*((mantissa >> (23 - i))&0x1)\n",
    "    temp = base*(2.0**(exp-e))\n",
    "    #check sign to return\n",
    "    if sign == 1:\n",
    "        return -temp\n",
    "    return temp\n",
    "            \n",
    "tofloat32(0x40404040) #it should be around 3.00"
   ]
  },
  {
   "cell_type": "markdown",
   "metadata": {},
   "source": [
    "3\\. Write a program to determine the underflow and overflow limits (within a factor of 2) for python on your computer. \n",
    "\n",
    "**Tip**: define two variables initialized to 1 and halve/double them for a sufficient amount of times to exceed the under/over-flow limits  "
   ]
  },
  {
   "cell_type": "code",
   "execution_count": 3,
   "metadata": {},
   "outputs": [
    {
     "name": "stdout",
     "output_type": "stream",
     "text": [
      "Underflow halved  1075  times.\n",
      "Underflow:  5e-324\n",
      "Overflow doubled  1024  times.\n",
      "Overflow:  8.98846567431158e+307\n"
     ]
    }
   ],
   "source": [
    "import math\n",
    "\n",
    "a=1\n",
    "c=0\n",
    "\n",
    "#if we divide by 2 1075 times we get 0\n",
    "while a!=0: \n",
    "    c=c+1\n",
    "    a=a/2.0\n",
    "print(\"Underflow halved \",c, \" times.\")\n",
    "\n",
    "x=1\n",
    "#dividing by 2 1074 times the value is still acceptable\n",
    "for i in range (1074): \n",
    "    x=x/2.0\n",
    "print(\"Underflow: \",x)\n",
    "\n",
    "b=1\n",
    "c2=0\n",
    "\n",
    "#if we multiply by 2 1024 times we get inf\n",
    "while b!=math.inf: \n",
    "    c2=c2+1\n",
    "    b=b*2.0\n",
    "print(\"Overflow doubled \",c2, \" times.\")\n",
    "\n",
    "y=1\n",
    "#multipling by 2 1023 times the value is still acceptable\n",
    "for j in range (1023): \n",
    "    y=y*2.0\n",
    "print(\"Overflow: \",y)"
   ]
  },
  {
   "cell_type": "markdown",
   "metadata": {},
   "source": [
    "4\\. Write a program to determine the machine precision\n",
    "\n",
    "**Tip**: define a new variable by adding an increasingly smaller value (in the same way as the previous problem) and check when the addition starts to have no effect on the number"
   ]
  },
  {
   "cell_type": "code",
   "execution_count": 4,
   "metadata": {},
   "outputs": [
    {
     "name": "stdout",
     "output_type": "stream",
     "text": [
      "With numpy:  2.220446049250313e-16\n",
      "With sys:  2.220446049250313e-16\n",
      "Third mode:  2.220446049250313e-16\n"
     ]
    }
   ],
   "source": [
    "import sys\n",
    "import numpy as np\n",
    "\n",
    "#using numpy\n",
    "print(\"With numpy: \",np.finfo(float).eps)\n",
    "\n",
    "#using sys\n",
    "epsilon=sys.float_info.epsilon\n",
    "print(\"With sys: \",epsilon)\n",
    "\n",
    "#third mode without modules\n",
    "n = 1.\n",
    "eps = 1.\n",
    "\n",
    "while n != n + eps:\n",
    "    eps = eps / 2\n",
    "\n",
    "eps = eps * 2  \n",
    "\n",
    "print(\"Third mode: \",eps)\n",
    "#we can see that in the manually computed result is equal to the results given using the modules"
   ]
  },
  {
   "cell_type": "markdown",
   "metadata": {},
   "source": [
    "5\\. Write a function that takes in input three parameters $a$, $b$ and $c$ and prints out the two solutions to the quadratic equation $ax^2+bx+c=0$ using the standard formula:\n",
    "$$\n",
    "x=\\frac{-b\\pm\\sqrt{b^2-4ac}}{2a}\n",
    "$$\n",
    "\n",
    "(a) use the program to compute the solution for $a=0.001$, $b=1000$ and $c=0.001$\n",
    "\n",
    "(b) re-express the standard solution formula by multiplying the numerator and the denominator by $-b\\mp\\sqrt{b^2-4ac}$ and again find the solution for $a=0.001$, $b=1000$ and $c=0.001$. How does it compare with what has been previously obtained, and why?\n",
    "\n",
    "(c) write a function that computes the roots of a quadratic equation accurately in all cases"
   ]
  },
  {
   "cell_type": "code",
   "execution_count": 5,
   "metadata": {},
   "outputs": [
    {
     "name": "stdout",
     "output_type": "stream",
     "text": [
      "Case a:  [-9.999894245993346e-07, -999999.999999]\n",
      "Case b:  [-1.0000000000009999e-06, -1000022.1222095027]\n",
      "Case c:  [-1.0000000000009999e-06, -999999.999999]\n"
     ]
    }
   ],
   "source": [
    "import math\n",
    "\n",
    "def quadratic(a,b,c):\n",
    "    x1=(-b+math.sqrt(b**2-4*a*c))/(2*a)\n",
    "    x2=(-b-math.sqrt(b**2-4*a*c))/(2*a)\n",
    "    s=[x1,x2]\n",
    "    return s\n",
    "print('Case a: ',quadratic(0.001,1000,0.001))\n",
    "\n",
    "def alternative(a,b,c):\n",
    "    x1=(4*a*c)/(-2*a*b-2*a*math.sqrt(b**2-4*a*c))\n",
    "    x2=(4*a*c)/(-2*a*b+2*a*math.sqrt(b**2-4*a*c))\n",
    "    s=[x1,x2]\n",
    "    return s\n",
    "print('Case b: ',alternative(0.001,1000,0.001))\n",
    "\n",
    "def correct(a,b,c):\n",
    "    x1=(4*a*c)/(-2*a*b-2*a*math.sqrt(b**2-4*a*c))\n",
    "    x2=(-b-math.sqrt(b**2-4*a*c))/(2*a)\n",
    "    s=[x1,x2]\n",
    "    return s\n",
    "print('Case c: ',correct(0.001,1000,0.001))"
   ]
  },
  {
   "cell_type": "markdown",
   "metadata": {},
   "source": [
    "#### Comment to ex5\n",
    "We can have problems when summing 'b' and the result of the discriminant.\n",
    "We can notice that when 'b' is very big with respect to '4ac', then the discriminant is very close to 'b' and its difference with 'b' becomes a problem. But this happens only in one case. In fact in case the difference is evaluated, it gives troubles. Instead, when the sum is evaluated, it does not create problems.\n",
    "\n",
    "At the end, for every pair of solutions only one gives the correct result\n",
    "To overcome this problem we can use a pair of solutions like above, which is case sensitive with respect to the sign of 'b'."
   ]
  },
  {
   "cell_type": "markdown",
   "metadata": {},
   "source": [
    "6\\. Write a program that implements the function $f(x)=x(x−1)$\n",
    "\n",
    "(a) Calculate the derivative of the function at the point $x = 1$ using the derivative definition:\n",
    "\n",
    "$$\n",
    "\\frac{{\\rm d}f}{{\\rm d}x} = \\lim_{\\delta\\to0} \\frac{f(x+\\delta)-f(x)}{\\delta}\n",
    "$$\n",
    "\n",
    "with $\\delta = 10^{−2}$. Calculate the true value of the same derivative analytically and compare it with the answer your program gives. The two will not agree perfectly. Why?\n",
    "\n",
    "(b) Repeat the calculation for $\\delta = 10^{−4}, 10^{−6}, 10^{−8}, 10^{−10}, 10^{−12}$ and $10^{−14}$. How does the accuracy scales with $\\delta$?"
   ]
  },
  {
   "cell_type": "code",
   "execution_count": 6,
   "metadata": {},
   "outputs": [
    {
     "name": "stdout",
     "output_type": "stream",
     "text": [
      "Derivative:  1.010000000000001 \n",
      "\n",
      "Delta =  0.01 . Derivative:  1.010000000000001 , error:  -0.010000000000000897\n",
      "Delta =  0.0001 . Derivative:  1.0000999999998899 , error:  -9.999999988985486e-05\n",
      "Delta =  1e-06 . Derivative:  1.0000009999177333 , error:  -9.99917733279787e-07\n",
      "Delta =  1e-08 . Derivative:  1.0000000039225287 , error:  -3.922528746258536e-09\n",
      "Delta =  1e-10 . Derivative:  1.000000082840371 , error:  -8.284037100736441e-08\n",
      "Delta =  1e-12 . Derivative:  1.0000889005833413 , error:  -8.890058334132256e-05\n",
      "Delta =  1e-14 . Derivative:  0.9992007221626509 , error:  0.0007992778373491216\n"
     ]
    }
   ],
   "source": [
    "def f(x):\n",
    "    return x*(x-1)\n",
    "\n",
    "x = 1\n",
    "delta = 1e-2\n",
    "derivative = (f(x+delta) - f(x)) / delta\n",
    "\n",
    "print(\"Derivative: \",derivative, \"\\n\")\n",
    "\n",
    "for exp in range(2, 15, 2):\n",
    "    delta = 10**(-exp)\n",
    "    derivative = (f(x+delta) - f(x)) / delta\n",
    "    print(\"Delta = \", delta, \". Derivative: \", derivative, \", error: \", 1-derivative)"
   ]
  },
  {
   "cell_type": "markdown",
   "metadata": {},
   "source": [
    "7\\. Consider the integral of the semicircle of radius 1:\n",
    "$$\n",
    "I=\\int_{-1}^{1} \\sqrt(1-x^2) {\\rm d}x\n",
    "$$\n",
    "which is known to be $I=\\frac{\\pi}{2}=1.57079632679...$.\n",
    "\n",
    "Alternatively we can use the Riemann definition of the integral:\n",
    "$$\n",
    "I=\\lim_{N\\to\\infty} \\sum_{k=1}^{N} h y_k \n",
    "$$\n",
    "\n",
    "with $h=2/N$ the width of each of the $N$ slices the domain is divided into and where\n",
    "$y_k$ is the value of the function at the $k-$th slice.\n",
    "\n",
    "(a) Write a program to compute the integral with $N=100$. How does the result compare to the true value?\n",
    "\n",
    "(b) How much can $N$ be increased if the computation needs to be run in less than a second? What is the gain in running it for 1 minute? \n"
   ]
  },
  {
   "cell_type": "code",
   "execution_count": 7,
   "metadata": {},
   "outputs": [
    {
     "name": "stdout",
     "output_type": "stream",
     "text": [
      "CPU times: user 49 µs, sys: 1 µs, total: 50 µs\n",
      "Wall time: 55.1 µs\n",
      "Integral with N=100: 1.5691342555492493\n",
      "Error with N=100: -0.001662071245647212\n",
      "CPU times: user 800 ms, sys: 27 ms, total: 827 ms\n",
      "Wall time: 865 ms\n",
      "Integral with about 1 second running: 1.5707963265699172\n",
      "Error with about 1 second running: -2.2497936846832545e-10\n",
      "CPU times: user 53.7 s, sys: 1.01 s, total: 54.8 s\n",
      "Wall time: 56.2 s\n",
      "Integral with about 1 minute running: 1.5707963244364498\n",
      "Error with about 1 minute running: -2.35844677121122e-09\n"
     ]
    }
   ],
   "source": [
    "import math\n",
    "\n",
    "def function(x):\n",
    "    return math.sqrt(1-x*x)\n",
    "\n",
    "def integral(f, a, b, N):\n",
    "    h = (b-a)/N\n",
    "    x = a\n",
    "    I = 0\n",
    "    for k in range(N+1):\n",
    "        try:\n",
    "            I += f(x)\n",
    "            x += h\n",
    "        except:\n",
    "            break\n",
    "    return I*h\n",
    "\n",
    "#N=100\n",
    "%time I100 = integral(function, -1,1,100)\n",
    "print(\"Integral with N=100:\", I100 )\n",
    "print(\"Error with N=100:\", I100 - math.pi/2 )\n",
    "\n",
    "#less than 1 second of running increasing N\n",
    "%time Isecond = integral(function, -1,1,3300000)\n",
    "print(\"Integral with less than 1 second running:\", Isecond )\n",
    "print(\"Error with less than 1 second running:\", Isecond - math.pi/2 )\n",
    "\n",
    "#about 1 minute of running increasing N\n",
    "%time Iminute = integral(function, -1,1,220000000)\n",
    "print(\"Integral with about 1 minute running:\", Iminute )\n",
    "print(\"Error with about 1 minute running:\", Iminute - math.pi/2 )"
   ]
  },
  {
   "cell_type": "code",
   "execution_count": null,
   "metadata": {},
   "outputs": [],
   "source": []
  }
 ],
 "metadata": {
  "kernelspec": {
   "display_name": "Python 3 (ipykernel)",
   "language": "python",
   "name": "python3"
  },
  "language_info": {
   "codemirror_mode": {
    "name": "ipython",
    "version": 3
   },
   "file_extension": ".py",
   "mimetype": "text/x-python",
   "name": "python",
   "nbconvert_exporter": "python",
   "pygments_lexer": "ipython3",
   "version": "3.9.8"
  }
 },
 "nbformat": 4,
 "nbformat_minor": 2
}
