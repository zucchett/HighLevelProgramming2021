{
 "cells": [
  {
   "cell_type": "markdown",
   "metadata": {},
   "source": [
    "1. Find the total mean, and the mean for each row and column of the following matrix:"
   ]
  },
  {
   "cell_type": "code",
   "execution_count": 1,
   "metadata": {},
   "outputs": [
    {
     "name": "stdout",
     "output_type": "stream",
     "text": [
      "[[ 0  1  2  3]\n",
      " [ 4  5  6  7]\n",
      " [ 8  9 10 11]]\n"
     ]
    }
   ],
   "source": [
    "import numpy as np\n",
    "m = np.arange(12).reshape((3,4))\n",
    "print(m)  "
   ]
  },
  {
   "cell_type": "code",
   "execution_count": 2,
   "metadata": {},
   "outputs": [
    {
     "name": "stdout",
     "output_type": "stream",
     "text": [
      "Total mean =  5.5\n"
     ]
    }
   ],
   "source": [
    "#Total Mean\n",
    "\n",
    "num = 0\n",
    "den = 0\n",
    "for i in range(m.shape[0]):\n",
    "    for j in range(m.shape[1]):\n",
    "        num += m[i,j]\n",
    "        den += 1\n",
    "mean = num/den\n",
    "print(\"Total mean = \", mean)"
   ]
  },
  {
   "cell_type": "code",
   "execution_count": 3,
   "metadata": {},
   "outputs": [
    {
     "name": "stdout",
     "output_type": "stream",
     "text": [
      "Row 0 , mean = 1.5\n",
      "Row 1 , mean = 5.5\n",
      "Row 2 , mean = 9.5\n"
     ]
    }
   ],
   "source": [
    "#Row Mean\n",
    "\n",
    "for i in range(m.shape[0]):\n",
    "    num = 0\n",
    "    den = 0\n",
    "    for j in range(m.shape[1]):\n",
    "        num += m[i,j]\n",
    "        den +=1\n",
    "    mean = num/den\n",
    "    print(\"Row\", i, \", mean =\", mean)"
   ]
  },
  {
   "cell_type": "code",
   "execution_count": 4,
   "metadata": {},
   "outputs": [
    {
     "name": "stdout",
     "output_type": "stream",
     "text": [
      "Column 0 , mean =  4.0\n",
      "Column 1 , mean =  5.0\n",
      "Column 2 , mean =  6.0\n",
      "Column 3 , mean =  7.0\n"
     ]
    }
   ],
   "source": [
    "#Column Mean\n",
    "\n",
    "for i in range(m.shape[1]):\n",
    "    col = m[:,i]\n",
    "    num = 0\n",
    "    den = 0\n",
    "    for j in col:\n",
    "        num += j\n",
    "        den += 1\n",
    "    mean = num/ den\n",
    "    print(\"Column\", i, \", mean = \", mean)"
   ]
  },
  {
   "cell_type": "markdown",
   "metadata": {},
   "source": [
    "2. Find the outer product of the following vectors:"
   ]
  },
  {
   "cell_type": "code",
   "execution_count": 5,
   "metadata": {},
   "outputs": [
    {
     "name": "stdout",
     "output_type": "stream",
     "text": [
      "[1 3 5 7]\n",
      "[2 4 6 8]\n"
     ]
    }
   ],
   "source": [
    "import numpy as np\n",
    "u = np.array([1, 3, 5, 7])\n",
    "v = np.array([2, 4, 6, 8])\n",
    "print(u)\n",
    "print(v)\n"
   ]
  },
  {
   "cell_type": "code",
   "execution_count": 6,
   "metadata": {},
   "outputs": [
    {
     "name": "stdout",
     "output_type": "stream",
     "text": [
      "[[ 2  4  6  8]\n",
      " [ 6 12 18 24]\n",
      " [10 20 30 40]\n",
      " [14 28 42 56]]\n"
     ]
    }
   ],
   "source": [
    "# Outer product using outer function\n",
    "print(np.outer(u,v))"
   ]
  },
  {
   "cell_type": "code",
   "execution_count": 7,
   "metadata": {},
   "outputs": [
    {
     "name": "stdout",
     "output_type": "stream",
     "text": [
      "[2, 4, 6, 8]\n",
      "[6, 12, 18, 24]\n",
      "[10, 20, 30, 40]\n",
      "[14, 28, 42, 56]\n"
     ]
    }
   ],
   "source": [
    "# Outer product using nested for loop\n",
    "for i in u:\n",
    "    row = []\n",
    "    for j in v:\n",
    "        row.append(i*j)\n",
    "    print(row)"
   ]
  },
  {
   "cell_type": "code",
   "execution_count": 8,
   "metadata": {},
   "outputs": [
    {
     "name": "stdout",
     "output_type": "stream",
     "text": [
      "[[1 1 1 1]\n",
      " [3 3 3 3]\n",
      " [5 5 5 5]\n",
      " [7 7 7 7]] \n",
      "\n",
      "[[2 4 6 8]\n",
      " [2 4 6 8]\n",
      " [2 4 6 8]\n",
      " [2 4 6 8]] \n",
      "\n",
      "[[ 2  4  6  8]\n",
      " [ 6 12 18 24]\n",
      " [10 20 30 40]\n",
      " [14 28 42 56]]\n"
     ]
    }
   ],
   "source": [
    "# Outer product using Broadcasting\n",
    "u_broad = np.tile(u, (4,1)).T\n",
    "v_broad = np.tile(v, (4,1))\n",
    "\n",
    "print(u_broad,'\\n')\n",
    "print(v_broad,'\\n')\n",
    "\n",
    "print(u_broad*v_broad)"
   ]
  },
  {
   "cell_type": "markdown",
   "metadata": {},
   "source": [
    "3. Create a 10 by 6 matrix of increasing float numbers, starting from zero and increasing in each step by 0.1, so the output matrix looks like the following:"
   ]
  },
  {
   "cell_type": "code",
   "execution_count": null,
   "metadata": {},
   "outputs": [],
   "source": [
    "m = [[0. 0.1, 0.2 0.3 ... 0.9]\n",
    "     [1.0 1.1 1.2 1.3 ... 1.9]\n",
    "     ...\n",
    "     [5.0 5.1 5.2 5.3 ... 5.9]]"
   ]
  },
  {
   "cell_type": "markdown",
   "metadata": {},
   "source": [
    "After creating the matrix, set all entries with a decimal part  <0.4  to zero."
   ]
  },
  {
   "cell_type": "code",
   "execution_count": 12,
   "metadata": {},
   "outputs": [
    {
     "name": "stdout",
     "output_type": "stream",
     "text": [
      "[[0.  0.1 0.2 0.3 0.4 0.5 0.6 0.7 0.8 0.9]\n",
      " [1.  1.1 1.2 1.3 1.4 1.5 1.6 1.7 1.8 1.9]\n",
      " [2.  2.1 2.2 2.3 2.4 2.5 2.6 2.7 2.8 2.9]\n",
      " [3.  3.1 3.2 3.3 3.4 3.5 3.6 3.7 3.8 3.9]\n",
      " [4.  4.1 4.2 4.3 4.4 4.5 4.6 4.7 4.8 4.9]\n",
      " [5.  5.1 5.2 5.3 5.4 5.5 5.6 5.7 5.8 5.9]]\n"
     ]
    }
   ],
   "source": [
    "import numpy as np\n",
    "a = np.tile(np.arange(0,6,1), (10, 1)).T\n",
    "b = np.arange(0,1,0.1)\n",
    "c = a+b\n",
    "print(c)"
   ]
  },
  {
   "cell_type": "code",
   "execution_count": 14,
   "metadata": {},
   "outputs": [
    {
     "name": "stdout",
     "output_type": "stream",
     "text": [
      "[[0.  0.  0.  0.  0.  0.5 0.6 0.7 0.8 0.9]\n",
      " [0.  0.  0.  0.  0.  1.5 1.6 1.7 1.8 1.9]\n",
      " [0.  0.  0.  0.  0.  2.5 2.6 2.7 2.8 2.9]\n",
      " [0.  0.  0.  0.  0.  3.5 3.6 3.7 3.8 3.9]\n",
      " [0.  0.  0.  0.  0.  4.5 4.6 4.7 4.8 4.9]\n",
      " [0.  0.  0.  0.  0.  5.5 5.6 5.7 5.8 5.9]]\n"
     ]
    }
   ],
   "source": [
    "# Each element with decimal part < .4 it turns into 0\n",
    "\n",
    "for i in range(c.shape[0]):\n",
    "    for j in range(0,5):\n",
    "        c[i,j] = 0\n",
    "print(c)"
   ]
  },
  {
   "cell_type": "markdown",
   "metadata": {},
   "source": [
    "4. Use np.linspace to create an array of 100 numbers between 0 and 2π (inclusive).\n",
    "\n",
    "Extract every 10th element using the slice notation\n",
    "Reverse the array using the slice notation\n",
    "Extract elements where the absolute difference between the sin and cos functions evaluated for that element is  <0.1 \n",
    "Optional: make a plot showing the sin and cos functions and indicate where they are close"
   ]
  },
  {
   "cell_type": "code",
   "execution_count": 15,
   "metadata": {},
   "outputs": [
    {
     "data": {
      "text/plain": [
       "array([0.        , 0.06346652, 0.12693304, 0.19039955, 0.25386607,\n",
       "       0.31733259, 0.38079911, 0.44426563, 0.50773215, 0.57119866,\n",
       "       0.63466518, 0.6981317 , 0.76159822, 0.82506474, 0.88853126,\n",
       "       0.95199777, 1.01546429, 1.07893081, 1.14239733, 1.20586385,\n",
       "       1.26933037, 1.33279688, 1.3962634 , 1.45972992, 1.52319644,\n",
       "       1.58666296, 1.65012947, 1.71359599, 1.77706251, 1.84052903,\n",
       "       1.90399555, 1.96746207, 2.03092858, 2.0943951 , 2.15786162,\n",
       "       2.22132814, 2.28479466, 2.34826118, 2.41172769, 2.47519421,\n",
       "       2.53866073, 2.60212725, 2.66559377, 2.72906028, 2.7925268 ,\n",
       "       2.85599332, 2.91945984, 2.98292636, 3.04639288, 3.10985939,\n",
       "       3.17332591, 3.23679243, 3.30025895, 3.36372547, 3.42719199,\n",
       "       3.4906585 , 3.55412502, 3.61759154, 3.68105806, 3.74452458,\n",
       "       3.8079911 , 3.87145761, 3.93492413, 3.99839065, 4.06185717,\n",
       "       4.12532369, 4.1887902 , 4.25225672, 4.31572324, 4.37918976,\n",
       "       4.44265628, 4.5061228 , 4.56958931, 4.63305583, 4.69652235,\n",
       "       4.75998887, 4.82345539, 4.88692191, 4.95038842, 5.01385494,\n",
       "       5.07732146, 5.14078798, 5.2042545 , 5.26772102, 5.33118753,\n",
       "       5.39465405, 5.45812057, 5.52158709, 5.58505361, 5.64852012,\n",
       "       5.71198664, 5.77545316, 5.83891968, 5.9023862 , 5.96585272,\n",
       "       6.02931923, 6.09278575, 6.15625227, 6.21971879, 6.28318531])"
      ]
     },
     "execution_count": 15,
     "metadata": {},
     "output_type": "execute_result"
    }
   ],
   "source": [
    "# Creating the array\n",
    "a = np.linspace(0, (2*np.pi), 100)\n",
    "a"
   ]
  },
  {
   "cell_type": "code",
   "execution_count": 16,
   "metadata": {},
   "outputs": [
    {
     "data": {
      "text/plain": [
       "array([0.        , 0.63466518, 1.26933037, 1.90399555, 2.53866073,\n",
       "       3.17332591, 3.8079911 , 4.44265628, 5.07732146, 5.71198664])"
      ]
     },
     "execution_count": 16,
     "metadata": {},
     "output_type": "execute_result"
    }
   ],
   "source": [
    "# Extracting every 10th element\n",
    "\n",
    "b = a[::10]\n",
    "b"
   ]
  },
  {
   "cell_type": "code",
   "execution_count": 17,
   "metadata": {},
   "outputs": [
    {
     "data": {
      "text/plain": [
       "array([6.28318531, 6.21971879, 6.15625227, 6.09278575, 6.02931923,\n",
       "       5.96585272, 5.9023862 , 5.83891968, 5.77545316, 5.71198664,\n",
       "       5.64852012, 5.58505361, 5.52158709, 5.45812057, 5.39465405,\n",
       "       5.33118753, 5.26772102, 5.2042545 , 5.14078798, 5.07732146,\n",
       "       5.01385494, 4.95038842, 4.88692191, 4.82345539, 4.75998887,\n",
       "       4.69652235, 4.63305583, 4.56958931, 4.5061228 , 4.44265628,\n",
       "       4.37918976, 4.31572324, 4.25225672, 4.1887902 , 4.12532369,\n",
       "       4.06185717, 3.99839065, 3.93492413, 3.87145761, 3.8079911 ,\n",
       "       3.74452458, 3.68105806, 3.61759154, 3.55412502, 3.4906585 ,\n",
       "       3.42719199, 3.36372547, 3.30025895, 3.23679243, 3.17332591,\n",
       "       3.10985939, 3.04639288, 2.98292636, 2.91945984, 2.85599332,\n",
       "       2.7925268 , 2.72906028, 2.66559377, 2.60212725, 2.53866073,\n",
       "       2.47519421, 2.41172769, 2.34826118, 2.28479466, 2.22132814,\n",
       "       2.15786162, 2.0943951 , 2.03092858, 1.96746207, 1.90399555,\n",
       "       1.84052903, 1.77706251, 1.71359599, 1.65012947, 1.58666296,\n",
       "       1.52319644, 1.45972992, 1.3962634 , 1.33279688, 1.26933037,\n",
       "       1.20586385, 1.14239733, 1.07893081, 1.01546429, 0.95199777,\n",
       "       0.88853126, 0.82506474, 0.76159822, 0.6981317 , 0.63466518,\n",
       "       0.57119866, 0.50773215, 0.44426563, 0.38079911, 0.31733259,\n",
       "       0.25386607, 0.19039955, 0.12693304, 0.06346652, 0.        ])"
      ]
     },
     "execution_count": 17,
     "metadata": {},
     "output_type": "execute_result"
    }
   ],
   "source": [
    "# Reversing the array\n",
    "\n",
    "c = a[::-1]\n",
    "c"
   ]
  },
  {
   "cell_type": "code",
   "execution_count": 18,
   "metadata": {},
   "outputs": [
    {
     "data": {
      "text/plain": [
       "array([0.        , 0.06346652, 0.12693304, 0.19039955, 0.25386607,\n",
       "       0.31733259, 0.38079911, 0.44426563, 0.50773215, 0.57119866,\n",
       "       0.63466518, 0.6981317 , 0.76159822, 0.82506474, 3.87145761,\n",
       "       3.93492413, 3.99839065, 4.06185717, 4.12532369, 4.1887902 ,\n",
       "       4.25225672, 4.31572324, 4.37918976, 4.44265628, 4.5061228 ,\n",
       "       4.56958931, 4.63305583, 4.69652235, 4.75998887, 4.82345539,\n",
       "       4.88692191, 4.95038842, 5.01385494, 5.07732146, 5.14078798,\n",
       "       5.2042545 , 5.26772102, 5.33118753, 5.39465405, 5.45812057,\n",
       "       5.52158709, 5.58505361, 5.64852012, 5.71198664, 5.77545316,\n",
       "       5.83891968, 5.9023862 , 5.96585272, 6.02931923, 6.09278575,\n",
       "       6.15625227, 6.21971879, 6.28318531])"
      ]
     },
     "execution_count": 18,
     "metadata": {},
     "output_type": "execute_result"
    }
   ],
   "source": [
    "# Extracting elements for which difference between sin and cos is < 0.1\n",
    "\n",
    "mask = (abs(np.sin(a) - np.cos(a) < 0.1))\n",
    "a[mask]   "
   ]
  },
  {
   "cell_type": "markdown",
   "metadata": {},
   "source": [
    "5. Create a matrix that shows the 10 by 10 multiplication table.\n",
    "\n",
    "Find the trace of the matrix\n",
    "Extract the anti-diagonal matrix (this should be array([10, 18, 24, 28, 30, 30, 28, 24, 18, 10]))\n",
    "Extract the diagonal offset by 1 upwards (this should be array([ 2,  6, 12, 20, 30, 42, 56, 72, 90]))"
   ]
  },
  {
   "cell_type": "code",
   "execution_count": 19,
   "metadata": {},
   "outputs": [
    {
     "data": {
      "text/plain": [
       "array([[  1,   2,   3,   4,   5,   6,   7,   8,   9,  10],\n",
       "       [  2,   4,   6,   8,  10,  12,  14,  16,  18,  20],\n",
       "       [  3,   6,   9,  12,  15,  18,  21,  24,  27,  30],\n",
       "       [  4,   8,  12,  16,  20,  24,  28,  32,  36,  40],\n",
       "       [  5,  10,  15,  20,  25,  30,  35,  40,  45,  50],\n",
       "       [  6,  12,  18,  24,  30,  36,  42,  48,  54,  60],\n",
       "       [  7,  14,  21,  28,  35,  42,  49,  56,  63,  70],\n",
       "       [  8,  16,  24,  32,  40,  48,  56,  64,  72,  80],\n",
       "       [  9,  18,  27,  36,  45,  54,  63,  72,  81,  90],\n",
       "       [ 10,  20,  30,  40,  50,  60,  70,  80,  90, 100]])"
      ]
     },
     "execution_count": 19,
     "metadata": {},
     "output_type": "execute_result"
    }
   ],
   "source": [
    "# Creating the multiplication table 10x10\n",
    "\n",
    "import numpy as np\n",
    "v = np.arange(1,11)\n",
    "u = np.tile(v, (10,1)).T\n",
    "m = u*v\n",
    "m"
   ]
  },
  {
   "cell_type": "code",
   "execution_count": 20,
   "metadata": {},
   "outputs": [
    {
     "name": "stdout",
     "output_type": "stream",
     "text": [
      "Trace of the matrix is: 385\n"
     ]
    }
   ],
   "source": [
    "# Finding the trace\n",
    "\n",
    "d = np.diag(m)\n",
    "s = 0\n",
    "for i in d:\n",
    "    s += i\n",
    "print(\"Trace of the matrix is:\", s)"
   ]
  },
  {
   "cell_type": "code",
   "execution_count": 21,
   "metadata": {},
   "outputs": [
    {
     "data": {
      "text/plain": [
       "array([[ 10,   9,   8,   7,   6,   5,   4,   3,   2,   1],\n",
       "       [ 20,  18,  16,  14,  12,  10,   8,   6,   4,   2],\n",
       "       [ 30,  27,  24,  21,  18,  15,  12,   9,   6,   3],\n",
       "       [ 40,  36,  32,  28,  24,  20,  16,  12,   8,   4],\n",
       "       [ 50,  45,  40,  35,  30,  25,  20,  15,  10,   5],\n",
       "       [ 60,  54,  48,  42,  36,  30,  24,  18,  12,   6],\n",
       "       [ 70,  63,  56,  49,  42,  35,  28,  21,  14,   7],\n",
       "       [ 80,  72,  64,  56,  48,  40,  32,  24,  16,   8],\n",
       "       [ 90,  81,  72,  63,  54,  45,  36,  27,  18,   9],\n",
       "       [100,  90,  80,  70,  60,  50,  40,  30,  20,  10]])"
      ]
     },
     "execution_count": 21,
     "metadata": {},
     "output_type": "execute_result"
    }
   ],
   "source": [
    "# Finding the anti-diagonal\n",
    "\n",
    "anti_matrix = np.fliplr(m)\n",
    "anti_matrix"
   ]
  },
  {
   "cell_type": "code",
   "execution_count": 22,
   "metadata": {},
   "outputs": [
    {
     "name": "stdout",
     "output_type": "stream",
     "text": [
      "Anti-diagonal is: [10 18 24 28 30 30 28 24 18 10]\n"
     ]
    }
   ],
   "source": [
    "anti_diag = np.diag(anti_matrix)\n",
    "print(\"Anti-diagonal is:\", anti_diag)"
   ]
  },
  {
   "cell_type": "code",
   "execution_count": 23,
   "metadata": {},
   "outputs": [
    {
     "name": "stdout",
     "output_type": "stream",
     "text": [
      "diagonal offset by 1 is: [2, 6, 12, 20, 30, 42, 56, 72, 90]\n"
     ]
    }
   ],
   "source": [
    "# Extracting diagonal offset by 1\n",
    "\n",
    "offset_d = []\n",
    "for i in range(m.shape[0]):\n",
    "    for j in range(m.shape[1]):\n",
    "        if(j == i+1):\n",
    "            offset_d.append(m[i,j])\n",
    "print(\"diagonal offset by 1 is:\", offset_d)"
   ]
  },
  {
   "cell_type": "markdown",
   "metadata": {},
   "source": [
    "6. Use broadcasting to create a grid of distances.\n",
    "\n",
    "Route 66 crosses the following cities in the US: Chicago, Springfield, Saint-Louis, Tulsa, Oklahoma City, Amarillo, Santa Fe, Albuquerque, Flagstaff, Los Angeles The corresponding positions in miles are: 0, 198, 303, 736, 871, 1175, 1475, 1544, 1913, 2448\n",
    "\n",
    "Build a 2D grid of distances among each city along Route 66\n",
    "Convert the distances in km"
   ]
  },
  {
   "cell_type": "code",
   "execution_count": 24,
   "metadata": {},
   "outputs": [
    {
     "name": "stdout",
     "output_type": "stream",
     "text": [
      "[[   0  198  303  736  871 1175 1475 1544 1913 2448]\n",
      " [ 198    0  105  538  673  977 1277 1346 1715 2250]\n",
      " [ 303  105    0  433  568  872 1172 1241 1610 2145]\n",
      " [ 736  538  433    0  135  439  739  808 1177 1712]\n",
      " [ 871  673  568  135    0  304  604  673 1042 1577]\n",
      " [1175  977  872  439  304    0  300  369  738 1273]\n",
      " [1475 1277 1172  739  604  300    0   69  438  973]\n",
      " [1544 1346 1241  808  673  369   69    0  369  904]\n",
      " [1913 1715 1610 1177 1042  738  438  369    0  535]\n",
      " [2448 2250 2145 1712 1577 1273  973  904  535    0]] \n",
      "\n",
      "[[   0.        318.650112  487.631232 1184.477184 1401.738624 1890.9792\n",
      "  2373.7824   2484.827136 3078.675072 3939.674112]\n",
      " [ 318.650112    0.        168.98112   865.827072 1083.088512 1572.329088\n",
      "  2055.132288 2166.177024 2760.02496  3621.024   ]\n",
      " [ 487.631232  168.98112     0.        696.845952  914.107392 1403.347968\n",
      "  1886.151168 1997.195904 2591.04384  3452.04288 ]\n",
      " [1184.477184  865.827072  696.845952    0.        217.26144   706.502016\n",
      "  1189.305216 1300.349952 1894.197888 2755.196928]\n",
      " [1401.738624 1083.088512  914.107392  217.26144     0.        489.240576\n",
      "   972.043776 1083.088512 1676.936448 2537.935488]\n",
      " [1890.9792   1572.329088 1403.347968  706.502016  489.240576    0.\n",
      "   482.8032    593.847936 1187.695872 2048.694912]\n",
      " [2373.7824   2055.132288 1886.151168 1189.305216  972.043776  482.8032\n",
      "     0.        111.044736  704.892672 1565.891712]\n",
      " [2484.827136 2166.177024 1997.195904 1300.349952 1083.088512  593.847936\n",
      "   111.044736    0.        593.847936 1454.846976]\n",
      " [3078.675072 2760.02496  2591.04384  1894.197888 1676.936448 1187.695872\n",
      "   704.892672  593.847936    0.        860.99904 ]\n",
      " [3939.674112 3621.024    3452.04288  2755.196928 2537.935488 2048.694912\n",
      "  1565.891712 1454.846976  860.99904     0.      ]]\n"
     ]
    }
   ],
   "source": [
    "import numpy as np\n",
    "distX = np.array((0, 198, 303, 736, 871, 1175, 1475, 1544, 1913, 2448))\n",
    "distY = distX[np.newaxis].T\n",
    "\n",
    "distances = np.absolute(distX-distY)\n",
    "print(distances,'\\n')\n",
    "\n",
    "distances_km = distances*1.609344\n",
    "print(distances_km)"
   ]
  },
  {
   "cell_type": "markdown",
   "metadata": {},
   "source": [
    "7. Prime numbers sieve: compute the prime numbers in the 0-N (start with N=99) range with a sieve (mask).\n",
    "\n",
    "Check the performances (timeit); how does it scale with N?\n",
    "Implement the optimization suggested in the sieve of Eratosthenes"
   ]
  },
  {
   "cell_type": "code",
   "execution_count": 25,
   "metadata": {},
   "outputs": [],
   "source": [
    "import numpy as np\n",
    "import math as m\n",
    "from timeit import default_timer as timer\n",
    "\n",
    "#starting with a mask of all \"true\" values\n",
    "#eratosthene's sieve must consider numbers from 2 to the square root of n\n",
    "#for multiples of that numbers i put relative elements of the mask = \"False\"\n",
    "#I used that final mask to create the array of prime numbers\n",
    "\n",
    "def e_mask(n):\n",
    "    a = np.arange(n)\n",
    "    mask = (a == a)\n",
    "    a_root = int(m.sqrt(a.size))\n",
    "\n",
    "\n",
    "    for i in range (2, a_root):\n",
    "        for j in range (i, a.size):\n",
    "            if (j%i == 0): #cioè se j è multiplo di i\n",
    "                mask[j] = False\n",
    "    print('Prime numbers before', a.size, ':', a[mask])"
   ]
  },
  {
   "cell_type": "code",
   "execution_count": 26,
   "metadata": {},
   "outputs": [
    {
     "name": "stdout",
     "output_type": "stream",
     "text": [
      "Prime numbers before 10 : [0 1 3 5 7 9]\n",
      "Prime numbers before 100 : [ 0  1 11 13 17 19 23 29 31 37 41 43 47 53 59 61 67 71 73 79 83 89 97]\n",
      "Prime numbers before 1000 : [  0   1  31  37  41  43  47  53  59  61  67  71  73  79  83  89  97 101\n",
      " 103 107 109 113 127 131 137 139 149 151 157 163 167 173 179 181 191 193\n",
      " 197 199 211 223 227 229 233 239 241 251 257 263 269 271 277 281 283 293\n",
      " 307 311 313 317 331 337 347 349 353 359 367 373 379 383 389 397 401 409\n",
      " 419 421 431 433 439 443 449 457 461 463 467 479 487 491 499 503 509 521\n",
      " 523 541 547 557 563 569 571 577 587 593 599 601 607 613 617 619 631 641\n",
      " 643 647 653 659 661 673 677 683 691 701 709 719 727 733 739 743 751 757\n",
      " 761 769 773 787 797 809 811 821 823 827 829 839 853 857 859 863 877 881\n",
      " 883 887 907 911 919 929 937 941 947 953 961 967 971 977 983 991 997]\n",
      "\n",
      "Time for n = 10: 0.0009582999999793174\n",
      "Time for n = 100: 0.001075899999932517\n",
      "Time for n = 1000: 0.004076100000020233\n"
     ]
    }
   ],
   "source": [
    "start1 = timer()\n",
    "e_mask(10)\n",
    "end1 = timer()\n",
    "\n",
    "start2 = timer()\n",
    "e_mask(100)\n",
    "end2 = timer()\n",
    "\n",
    "\n",
    "start3 = timer()\n",
    "e_mask(1000)\n",
    "end3 = timer()\n",
    "\n",
    "print(\"\\nTime for n = 10:\", end1-start1)\n",
    "print(\"Time for n = 100:\", end2-start2)\n",
    "print(\"Time for n = 1000:\", end3-start3)"
   ]
  },
  {
   "cell_type": "code",
   "execution_count": null,
   "metadata": {},
   "outputs": [],
   "source": []
  }
 ],
 "metadata": {
  "kernelspec": {
   "display_name": "Python 3",
   "language": "python",
   "name": "python3"
  },
  "language_info": {
   "codemirror_mode": {
    "name": "ipython",
    "version": 3
   },
   "file_extension": ".py",
   "mimetype": "text/x-python",
   "name": "python",
   "nbconvert_exporter": "python",
   "pygments_lexer": "ipython3",
   "version": "3.8.5"
  }
 },
 "nbformat": 4,
 "nbformat_minor": 4
}
