{
 "cells": [
  {
   "cell_type": "markdown",
   "metadata": {},
   "source": [
    "1. The HelloWorld replacement\n",
    "\n",
    "a) Write a program that prints the numbers from 1 to 100. But for multiples of three print \"Hello\" instead of the number and for the multiples of five print \"World\". For numbers which are multiples of both three and five print \"HelloWorld\".\n",
    "\n",
    "b) Put the result in a tuple and substitute \"Hello\" with \"Python\" and \"World\" with \"Works\"."
   ]
  },
  {
   "cell_type": "code",
   "execution_count": 148,
   "metadata": {},
   "outputs": [
    {
     "name": "stdout",
     "output_type": "stream",
     "text": [
      "1\n",
      "2\n",
      "Hello\n",
      "4\n",
      "World\n",
      "Hello\n",
      "7\n",
      "8\n",
      "Hello\n",
      "World\n",
      "11\n",
      "Hello\n",
      "13\n",
      "14\n",
      "HelloWorld.\n",
      "16\n",
      "17\n",
      "Hello\n",
      "19\n",
      "World\n",
      "Hello\n",
      "22\n",
      "23\n",
      "Hello\n",
      "World\n",
      "26\n",
      "Hello\n",
      "28\n",
      "29\n",
      "HelloWorld.\n",
      "31\n",
      "32\n",
      "Hello\n",
      "34\n",
      "World\n",
      "Hello\n",
      "37\n",
      "38\n",
      "Hello\n",
      "World\n",
      "41\n",
      "Hello\n",
      "43\n",
      "44\n",
      "HelloWorld.\n",
      "46\n",
      "47\n",
      "Hello\n",
      "49\n",
      "World\n",
      "Hello\n",
      "52\n",
      "53\n",
      "Hello\n",
      "World\n",
      "56\n",
      "Hello\n",
      "58\n",
      "59\n",
      "HelloWorld.\n",
      "61\n",
      "62\n",
      "Hello\n",
      "64\n",
      "World\n",
      "Hello\n",
      "67\n",
      "68\n",
      "Hello\n",
      "World\n",
      "71\n",
      "Hello\n",
      "73\n",
      "74\n",
      "HelloWorld.\n",
      "76\n",
      "77\n",
      "Hello\n",
      "79\n",
      "World\n",
      "Hello\n",
      "82\n",
      "83\n",
      "Hello\n",
      "World\n",
      "86\n",
      "Hello\n",
      "88\n",
      "89\n",
      "HelloWorld.\n",
      "91\n",
      "92\n",
      "Hello\n",
      "94\n",
      "World\n",
      "Hello\n",
      "97\n",
      "98\n",
      "Hello\n",
      "World\n",
      "(1, 2, 'Python', 4, 'Works', 'Python', 7, 8, 'Python', 'Works', 11, 'Python', 13, 14, 'HelloWorld.', 16, 17, 'Python', 19, 'Works', 'Python', 22, 23, 'Python', 'Works', 26, 'Python', 28, 29, 'HelloWorld.', 31, 32, 'Python', 34, 'Works', 'Python', 37, 38, 'Python', 'Works', 41, 'Python', 43, 44, 'HelloWorld.', 46, 47, 'Python', 49, 'Works', 'Python', 52, 53, 'Python', 'Works', 56, 'Python', 58, 59, 'HelloWorld.', 61, 62, 'Python', 64, 'Works', 'Python', 67, 68, 'Python', 'Works', 71, 'Python', 73, 74, 'HelloWorld.', 76, 77, 'Python', 79, 'Works', 'Python', 82, 83, 'Python', 'Works', 86, 'Python', 88, 89, 'HelloWorld.', 91, 92, 'Python', 94, 'Works', 'Python', 97, 98, 'Python', 'Works')\n"
     ]
    }
   ],
   "source": [
    "# Answer to Q1\n",
    "\n",
    "myList = [];\n",
    "\n",
    "for i in range(1,101):\n",
    "    \n",
    "    if i%15==0: # First, it should be checked both division by 3 and 5 to satisfy the criteria given.\n",
    "        print(\"HelloWorld.\")\n",
    "        myList.append(\"HelloWorld.\") # Adds a string element named as \"HelloWorld.\" to the end of the list\n",
    "    elif i%3 == 0: \n",
    "        myList.append(\"Python\")\n",
    "        print(\"Hello\")\n",
    "    elif i%5==0:\n",
    "        print(\"World\")\n",
    "        myList.append(\"Works\")\n",
    "    else: \n",
    "        print(i) # No specific condition, just prints the number\n",
    "        myList.append(i)\n",
    "        \n",
    "a = tuple(myList) # defined a tuple \"a\" and add my list inside. First, a list is manipulated and tuple defined because tuple elements can not be changed.\n",
    "#print(myList)\n",
    "print(a) \n",
    "\n",
    "\n",
    "# \"Write a program that prints the numbers from 1 to 100. \\\n",
    "#But for multiples of three print Hello instead of the number and for the multiples of five print World. \\\n",
    "#For numbers which are multiples of both three and five print HelloWorld.\"\n",
    "\n"
   ]
  },
  {
   "cell_type": "markdown",
   "metadata": {},
   "source": [
    "2 The swap function\n",
    "\n",
    "Write a function that swap the values of two input variables x and y (whatever the type). Try to do that also without a temporary variable"
   ]
  },
  {
   "cell_type": "code",
   "execution_count": 149,
   "metadata": {},
   "outputs": [
    {
     "name": "stdout",
     "output_type": "stream",
     "text": [
      "(5, 3)\n"
     ]
    }
   ],
   "source": [
    "def mySwap(s1, s2): # definition of a function with two variables.\n",
    "    \n",
    "    return s2, s1 # function changes the order of the variables.\n",
    "\n",
    "s1 = 3\n",
    "s2 = 5\n",
    "print(mySwap(s1,s2)) # As anticipated, (5,3) prints.\n",
    "\n",
    "\n"
   ]
  },
  {
   "cell_type": "markdown",
   "metadata": {},
   "source": [
    "3\\. Computing the distance\n",
    "\n",
    "Write a function that calculates and returns the euclidean distance between two points *u* and *v*, where *u* and *v* are both 2-tuples *(x,y)*. For example, if *u=(3,0)* and *v=(0,4)*, the function should return 5"
   ]
  },
  {
   "cell_type": "code",
   "execution_count": 150,
   "metadata": {},
   "outputs": [
    {
     "data": {
      "text/plain": [
       "5.0"
      ]
     },
     "execution_count": 150,
     "metadata": {},
     "output_type": "execute_result"
    }
   ],
   "source": [
    "u=(3,0)\n",
    "v=(0,4)\n",
    "def myEuclidean(u,v):\n",
    "    return ((v[1]-v[0])**2 + (u[1]-u[0])**2)**0.5 # distance between the two points on the same coordinate axis defines a perpendicular line.\n",
    "\n",
    "myEuclidean(u,v)"
   ]
  },
  {
   "cell_type": "markdown",
   "metadata": {},
   "source": [
    "4\\. Counting letters\n",
    "\n",
    "Write a program to calculate the number of times each character occurs in a given string *s*. Ignore differences in capitalization"
   ]
  },
  {
   "cell_type": "code",
   "execution_count": 151,
   "metadata": {},
   "outputs": [
    {
     "name": "stdout",
     "output_type": "stream",
     "text": [
      "it was a dark and stormy night.\n",
      "['i', 't', ' ', 'w', 'a', 's', ' ', 'a', ' ', 'd', 'a', 'r', 'k', ' ', 'a', 'n', 'd', ' ', 's', 't', 'o', 'r', 'm', 'y', ' ', 'n', 'i', 'g', 'h', 't', '.']\n",
      "the character i occurs 2 times\n",
      "the character t occurs 3 times\n",
      "the character   occurs 6 times\n",
      "the character w occurs 1 times\n",
      "the character a occurs 4 times\n",
      "the character s occurs 2 times\n",
      "the character   occurs 6 times\n",
      "the character a occurs 4 times\n",
      "the character   occurs 6 times\n",
      "the character d occurs 2 times\n",
      "the character a occurs 4 times\n",
      "the character r occurs 2 times\n",
      "the character k occurs 1 times\n",
      "the character   occurs 6 times\n",
      "the character a occurs 4 times\n",
      "the character n occurs 2 times\n",
      "the character d occurs 2 times\n",
      "the character   occurs 6 times\n",
      "the character s occurs 2 times\n",
      "the character t occurs 3 times\n",
      "the character o occurs 1 times\n",
      "the character r occurs 2 times\n",
      "the character m occurs 1 times\n",
      "the character y occurs 1 times\n",
      "the character   occurs 6 times\n",
      "the character n occurs 2 times\n",
      "the character i occurs 2 times\n",
      "the character g occurs 1 times\n",
      "the character h occurs 1 times\n",
      "the character t occurs 3 times\n",
      "the character . occurs 1 times\n"
     ]
    }
   ],
   "source": [
    "S = \"It was a dark and stormy night.\"\n",
    "s = S.lower() # In order to ignore capitalization, characters turn to be lowercase by lower function.\n",
    "print(s)\n",
    "characters = [x for x in s]\n",
    "print(characters)\n",
    "count=0\n",
    "\n",
    "for i in characters: # loops inside all elements of the characters\n",
    "    for j in characters: # Also, loops inside all the elements of the characters\n",
    "        if i==j: # Here is the comparison of the elements and if they are equal, it means that corresponding element occurs more than one.\n",
    "            count+=1 # If the above condition satisfies, count it by adding one\n",
    "            #print(count)\n",
    "            \n",
    "    print(\"the character %c occurs %d times\" % (i,count)) # Also, I could add the results to a list for better        \n",
    "    count = 0\n"
   ]
  },
  {
   "cell_type": "markdown",
   "metadata": {},
   "source": [
    "5\\. Isolating the unique\n",
    "\n",
    "Write a function that determines and count the unique numbers in the list:"
   ]
  },
  {
   "cell_type": "code",
   "execution_count": 152,
   "metadata": {},
   "outputs": [
    {
     "name": "stdout",
     "output_type": "stream",
     "text": [
      "the character 58 is unique\n",
      "the character 74 is unique\n",
      "the character 96 is unique\n",
      "the character 64 is unique\n",
      "the character 10 is unique\n",
      "the character 24 is unique\n",
      "the character 19 is unique\n",
      "the character 33 is unique\n",
      "the character 86 is unique\n",
      "the character 99 is unique\n",
      "the character 18 is unique\n",
      "the character 47 is unique\n",
      "the character 88 is unique\n",
      "the character 55 is unique\n",
      "the character 54 is unique\n",
      "the character 8 is unique\n",
      "the character 79 is unique\n",
      "the character 81 is unique\n",
      "the character 57 is unique\n",
      "the character 37 is unique\n",
      "the character 1 is unique\n",
      "the character 9 is unique\n",
      "the character 95 is unique\n",
      "the character 90 is unique\n",
      "the character 98 is unique\n",
      "the character 39 is unique\n",
      "the character 16 is unique\n",
      "the character 82 is unique\n",
      "the character 92 is unique\n",
      "the character 41 is unique\n",
      "the character 30 is unique\n",
      "the character 94 is unique\n",
      "the character 5 is unique\n",
      "the character 72 is unique\n",
      "the character 87 is unique\n",
      "the character 75 is unique\n",
      "the character 53 is unique\n"
     ]
    }
   ],
   "source": [
    "from collections import Counter # To use functions that are already defined, from collections Counter is imported.\n",
    "\n",
    "l = [36, 45, 58, 3, 74, 96, 64, 45, 31, 10, 24, 19, 33, 86, 99, 18, 63, 70, 85,\n",
    " 85, 63, 47, 56, 42, 70, 84, 88, 55, 20, 54, 8, 56, 51, 79, 81, 57, 37, 91,\n",
    " 1, 84, 84, 36, 66, 9, 89, 50, 42, 91, 50, 95, 90, 98, 39, 16, 82, 31, 92, 41,\n",
    " 45, 30, 66, 70, 34, 85, 94, 5, 3, 36, 72, 91, 84, 34, 87, 75, 53, 51, 20, 89, 51, 20]\n",
    "def myCounter(L):\n",
    "    C = Counter(L) # defines a list including the number of occurrence of each element\n",
    "\n",
    "    for i in L:\n",
    "        if C[i]==1: # in the list, only one element of i is included.    \n",
    "            print(\"the character %d is unique\" % i)  \n",
    "\n",
    "myCounter(l)"
   ]
  },
  {
   "cell_type": "markdown",
   "metadata": {},
   "source": [
    "Do the same without using user-defined functions, but exploiting only the Python data structures."
   ]
  },
  {
   "cell_type": "code",
   "execution_count": 153,
   "metadata": {},
   "outputs": [
    {
     "name": "stdout",
     "output_type": "stream",
     "text": [
      "the character 58 is unique\n",
      "the character 74 is unique\n",
      "the character 96 is unique\n",
      "the character 64 is unique\n",
      "the character 10 is unique\n",
      "the character 24 is unique\n",
      "the character 19 is unique\n",
      "the character 33 is unique\n",
      "the character 86 is unique\n",
      "the character 99 is unique\n",
      "the character 18 is unique\n",
      "the character 47 is unique\n",
      "the character 88 is unique\n",
      "the character 55 is unique\n",
      "the character 54 is unique\n",
      "the character 8 is unique\n",
      "the character 79 is unique\n",
      "the character 81 is unique\n",
      "the character 57 is unique\n",
      "the character 37 is unique\n",
      "the character 1 is unique\n",
      "the character 9 is unique\n",
      "the character 95 is unique\n",
      "the character 90 is unique\n",
      "the character 98 is unique\n",
      "the character 39 is unique\n",
      "the character 16 is unique\n",
      "the character 82 is unique\n",
      "the character 92 is unique\n",
      "the character 41 is unique\n",
      "the character 30 is unique\n",
      "the character 94 is unique\n",
      "the character 5 is unique\n",
      "the character 72 is unique\n",
      "the character 87 is unique\n",
      "the character 75 is unique\n",
      "the character 53 is unique\n"
     ]
    }
   ],
   "source": [
    "# Without using pre-defind functions..\n",
    "\n",
    "L = [36, 45, 58, 3, 74, 96, 64, 45, 31, 10, 24, 19, 33, 86, 99, 18, 63, 70, 85,\n",
    " 85, 63, 47, 56, 42, 70, 84, 88, 55, 20, 54, 8, 56, 51, 79, 81, 57, 37, 91,\n",
    " 1, 84, 84, 36, 66, 9, 89, 50, 42, 91, 50, 95, 90, 98, 39, 16, 82, 31, 92, 41,\n",
    " 45, 30, 66, 70, 34, 85, 94, 5, 3, 36, 72, 91, 84, 34, 87, 75, 53, 51, 20, 89, 51, 20]\n",
    "\n",
    "def DefUnique(l): # Created my own function that counts the number of elements.\n",
    "    count=0\n",
    "    for i in l: #loops for each element in the list\n",
    "        for j in l: # Also, loops for each element in the list\n",
    "            if i==j: # if they are the same element\n",
    "                count+=1 # count is increased by 1\n",
    "                #print(count)\n",
    "\n",
    "        if count==1: # to print the elements which exist only once.\n",
    "            print(\"the character %d is unique\" % i)              \n",
    "        count=0 # for each element It should be started from zero to find correct number of existence.       \n",
    "\n",
    "DefUnique(L)   "
   ]
  },
  {
   "cell_type": "markdown",
   "metadata": {},
   "source": [
    "6\\. Combination of functions\n",
    "\n",
    "Write two functions - one that returns the square of a number, and one that returns the cube. Now write a third function that returns the number raised to the 6th power using the two previous functions."
   ]
  },
  {
   "cell_type": "code",
   "execution_count": 154,
   "metadata": {},
   "outputs": [
    {
     "data": {
      "text/plain": [
       "64"
      ]
     },
     "execution_count": 154,
     "metadata": {},
     "output_type": "execute_result"
    }
   ],
   "source": [
    "def mySquare(a): \n",
    "    return a**2\n",
    "\n",
    "def myCube(b):\n",
    "    return b**3\n",
    "\n",
    "def mySixth(c):\n",
    "    mySixth = myCube(mySquare(c)) #function gets the result of another function as an argument, and the result is defined\n",
    "    return mySixth \n",
    "\n",
    "mySixth(2)"
   ]
  },
  {
   "cell_type": "markdown",
   "metadata": {},
   "source": [
    "7\\. Cubes\n",
    "\n",
    "Create a list of the cubes of x for x in *[0, 10]* using:\n",
    "\n",
    "a) a for loop\n",
    "\n",
    "b) a list comprehension"
   ]
  },
  {
   "cell_type": "code",
   "execution_count": 155,
   "metadata": {},
   "outputs": [
    {
     "name": "stdout",
     "output_type": "stream",
     "text": [
      "[0, 1, 8, 27, 64, 125, 216, 343, 512, 729, 1000]\n"
     ]
    }
   ],
   "source": [
    "# part a) Create an empty list and add new elements at the end of it.\n",
    "myCubes = []\n",
    "for x in range(0,11): # in range the last element(11) is not included.\n",
    "    myCubes.append(x**3)\n",
    "print(myCubes)\n"
   ]
  },
  {
   "cell_type": "code",
   "execution_count": 156,
   "metadata": {},
   "outputs": [
    {
     "name": "stdout",
     "output_type": "stream",
     "text": [
      "[0, 1, 8, 27, 64, 125, 216, 343, 512, 729, 1000]\n"
     ]
    }
   ],
   "source": [
    "# part b) List is defined by the help of for loop inside, efficient definition with an only line. \n",
    "myCubesList = [x**3 for x in range(11)]\n",
    "print(myCubesList)"
   ]
  },
  {
   "cell_type": "markdown",
   "metadata": {},
   "source": [
    "8\\. Nested list comprehension\n",
    "\n",
    "A Pythagorean triple is an integer solution to the Pythagorean theorem $a^2+b^2=c^2$. The first Pythagorean triple is (3,4,5). Find and put in a tuple all unique Pythagorean triples for the positive integers a, b and c less than 100."
   ]
  },
  {
   "cell_type": "code",
   "execution_count": 157,
   "metadata": {},
   "outputs": [
    {
     "name": "stdout",
     "output_type": "stream",
     "text": [
      "((0, 0, 0), (0, 2, 2), (0, 4, 8), (0, 6, 18), (0, 8, 32), (0, 10, 50), (0, 12, 72), (0, 14, 98), (1, 1, 1), (1, 3, 5), (1, 5, 13), (1, 7, 25), (1, 9, 41), (1, 11, 61), (1, 13, 85), (2, 0, 2), (2, 2, 4), (2, 4, 10), (2, 6, 20), (2, 8, 34), (2, 10, 52), (2, 12, 74), (3, 1, 5), (3, 3, 9), (3, 5, 17), (3, 7, 29), (3, 9, 45), (3, 11, 65), (3, 13, 89), (4, 0, 8), (4, 2, 10), (4, 4, 16), (4, 6, 26), (4, 8, 40), (4, 10, 58), (4, 12, 80), (5, 1, 13), (5, 3, 17), (5, 5, 25), (5, 7, 37), (5, 9, 53), (5, 11, 73), (5, 13, 97), (6, 0, 18), (6, 2, 20), (6, 4, 26), (6, 6, 36), (6, 8, 50), (6, 10, 68), (6, 12, 90), (7, 1, 25), (7, 3, 29), (7, 5, 37), (7, 7, 49), (7, 9, 65), (7, 11, 85), (8, 0, 32), (8, 2, 34), (8, 4, 40), (8, 6, 50), (8, 8, 64), (8, 10, 82), (9, 1, 41), (9, 3, 45), (9, 5, 53), (9, 7, 65), (9, 9, 81), (10, 0, 50), (10, 2, 52), (10, 4, 58), (10, 6, 68), (10, 8, 82), (11, 1, 61), (11, 3, 65), (11, 5, 73), (11, 7, 85), (12, 0, 72), (12, 2, 74), (12, 4, 80), (12, 6, 90), (13, 1, 85), (13, 3, 89), (13, 5, 97), (14, 0, 98))\n"
     ]
    }
   ],
   "source": [
    "myList = []\n",
    "\n",
    "count = 1\n",
    "\n",
    "for i in range (0,100):\n",
    "    for j in range(0,100):\n",
    "        k = (i**2 + j**2)*0.5     # k = sqrt(i2 + j2)\n",
    "        if k==int(k) and k<100:   # i.e k=65.76504 but int(k)=65, so they are not equal.\n",
    "            \n",
    "            myTuple = (i,j,int(k)) # Everytime a new tuple is defined and added to the list\n",
    "            myList.append(myTuple)\n",
    "            \n",
    "    count+=1        \n",
    "a = tuple(myList) # To put the resulting list in a tuple\n",
    "print(a)"
   ]
  },
  {
   "cell_type": "markdown",
   "metadata": {},
   "source": [
    "9\\. Normalization\n",
    "\n",
    "Write a function that takes a tuple of numbers and returns it with the entries normalized to one"
   ]
  },
  {
   "cell_type": "code",
   "execution_count": 158,
   "metadata": {},
   "outputs": [
    {
     "data": {
      "text/plain": [
       "(0.003517986441044901, 0.031203010172746078, 2.9022407651875435e-07, 1.0)"
      ]
     },
     "execution_count": 158,
     "metadata": {},
     "output_type": "execute_result"
    }
   ],
   "source": [
    "# Normalization to one is: Dividing all the numbers to biggest number. By doing this, the biggest number will be 1 \n",
    "# and the other numbers will get a value between 0 and 1.  \n",
    "a = (0.897, 7.956, 0.000074, 254.9754)\n",
    "\n",
    "def myNormFunc(b):\n",
    "    myList = list(b) #define a list including argument tuple\n",
    "    #print(max(myList))\n",
    "    myList = [i/max(myList) for i in myList] # change the list characters by dividing all of them to the max value.\n",
    "    \n",
    "    return tuple(myList) # return again a tuple getting list argument because tuple elements can not be changed.\n",
    "        \n",
    "        \n",
    "myNormFunc(a)    "
   ]
  }
 ],
 "metadata": {
  "kernelspec": {
   "display_name": "Python 3",
   "language": "python",
   "name": "python3"
  },
  "language_info": {
   "codemirror_mode": {
    "name": "ipython",
    "version": 3
   },
   "file_extension": ".py",
   "mimetype": "text/x-python",
   "name": "python",
   "nbconvert_exporter": "python",
   "pygments_lexer": "ipython3",
   "version": "3.8.8"
  }
 },
 "nbformat": 4,
 "nbformat_minor": 2
}
