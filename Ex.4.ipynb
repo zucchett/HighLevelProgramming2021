{
 "cells": [
  {
   "cell_type": "markdown",
   "metadata": {},
   "source": [
    "1. Find the total mean, and the mean for each row and column of the following matrix:\n",
    "\n",
    "m = np.arange(12).reshape((3,4))"
   ]
  },
  {
   "cell_type": "code",
   "execution_count": null,
   "metadata": {},
   "outputs": [],
   "source": [
    "import numpy as np\n",
    "\n",
    "m = np.arange(12).reshape((3,4))\n",
    "\n",
    "print(m)\n",
    "print(m.mean())\n",
    "print(m.mean(axis=1))\n",
    "print(m.mean(axis=0))"
   ]
  },
  {
   "cell_type": "markdown",
   "metadata": {},
   "source": [
    "2. Find the outer product of the following vectors:\n",
    "\n",
    "u = np.array([1, 3, 5, 7])\n",
    "v = np.array([2, 4, 6, 8])\n",
    "Use different methods to do this:\n",
    "\n",
    "Using the function outer in numpy\n",
    "Using a nested for loop or a list comprehension\n",
    "Using numpy broadcasting operations"
   ]
  },
  {
   "cell_type": "code",
   "execution_count": null,
   "metadata": {},
   "outputs": [],
   "source": [
    "u = np.array([1, 3, 5, 7])\n",
    "v = np.array([2, 4, 6, 8])\n",
    "result = np.outer(u, v)\n",
    "\n",
    "print(u)\n",
    "print(v)\n",
    "print(result)"
   ]
  },
  {
   "cell_type": "markdown",
   "metadata": {},
   "source": [
    "3. Create a 10 by 6 matrix of increasing float numbers, starting from zero and increasing in each step by 0.1, so the output matrix looks like the following:\n",
    "\n",
    "m = [[0. 0.1, 0.2 0.3 ... 0.9]\n",
    "     [1.0 1.1 1.2 1.3 ... 1.9]\n",
    "     ...\n",
    "     [5.0 5.1 5.2 5.3 ... 5.9]]\n",
    "After creating the matrix, set all entries with a decimal part $< 0.4$ to zero."
   ]
  },
  {
   "cell_type": "code",
   "execution_count": null,
   "metadata": {},
   "outputs": [],
   "source": [
    "m = np.arange(0., 6.0, 0.1).reshape((6, 10))\n",
    "m[m % 1 < 0.4] = 0\n",
    "print(m)"
   ]
  },
  {
   "cell_type": "markdown",
   "metadata": {},
   "source": [
    "4. Use np.linspace to create an array of 100 numbers between 0 and 2π (inclusive).\n",
    "\n",
    "Extract every 10th element using the slice notation\n",
    "Reverse the array using the slice notation\n",
    "Extract elements where the absolute difference between the sin and cos functions evaluated for that element is $< 0.1$\n",
    "Optional: make a plot showing the sin and cos functions and indicate where they are close"
   ]
  },
  {
   "cell_type": "code",
   "execution_count": null,
   "metadata": {},
   "outputs": [],
   "source": [
    "import matplotlib.pylab as plt\n",
    "\n",
    "m = np.linspace(0, 2*np.pi, 100)\n",
    "tenth = m[10::10]\n",
    "reverse = m[::-1]\n",
    "diff = m[abs(np.sin(m) - np.cos(m)) < 0.1]\n",
    "plt.plot(m, np.sin(m))\n",
    "plt.plot(m, np.cos(m))\n",
    "# plt.plot(m, abs(np.sin(m) - np.cos(m)) < 0.4)\n",
    "plt.xlabel('Angle [rad]')\n",
    "plt.ylabel('sin(x) cos(x)')\n",
    "plt.axis('tight')\n",
    "plt.show()\n",
    "\n",
    "\n",
    "print(m)\n",
    "print(diff)"
   ]
  },
  {
   "cell_type": "markdown",
   "metadata": {},
   "source": [
    "5. Create a matrix that shows the 10 by 10 multiplication table.\n",
    "\n",
    "Find the trace of the matrix\n",
    "Extract the anti-diagonal matrix (this should be array([10, 18, 24, 28, 30, 30, 28, 24, 18, 10]))\n",
    "Extract the diagonal offset by 1 upwards (this should be array([ 2,  6, 12, 20, 30, 42, 56, 72, 90]))"
   ]
  },
  {
   "cell_type": "code",
   "execution_count": null,
   "metadata": {},
   "outputs": [],
   "source": [
    "def mult_table(n):\n",
    "    rng = np.arange(1, n+1)\n",
    "    return rng * rng[:, None]\n",
    "arr = mult_table(10)\n",
    "trace_number = mult_table(10).trace()\n",
    "anti_diag = np.fliplr(arr).diagonal()\n",
    "diag_upward = arr.diagonal(offset=1)\n",
    "print(arr)\n",
    "print(trace_number)\n",
    "print(anti_diag)\n",
    "print(diag_upward)"
   ]
  },
  {
   "cell_type": "markdown",
   "metadata": {},
   "source": [
    "6. Use broadcasting to create a grid of distances.\n",
    "\n",
    "Route 66 crosses the following cities in the US: Chicago, Springfield, Saint-Louis, Tulsa, Oklahoma City, Amarillo, Santa Fe, Albuquerque, Flagstaff, Los Angeles The corresponding positions in miles are: 0, 198, 303, 736, 871, 1175, 1475, 1544, 1913, 2448\n",
    "\n",
    "Build a 2D grid of distances among each city along Route 66\n",
    "Convert the distances in km"
   ]
  },
  {
   "cell_type": "code",
   "execution_count": null,
   "metadata": {},
   "outputs": [],
   "source": [
    "city_name = np.array(['Chicago', 'Springfield', 'Saint-Louis', 'Tulsa', 'Oklahoma City', 'Amarillo', 'Santa Fe', 'Albuquerque', 'Flagstaff', 'Los Angeles'])\n",
    "city_distance = np.array([0, 198, 303, 736, 871, 1175, 1475, 1544, 1913, 2448])\n",
    "city_name = np.reshape(city_name, (-1, 1))\n",
    "city_distance = np.reshape(city_distance, (-1, 1))\n",
    "city_grid = np.append(city_name, city_distance, axis=1)\n",
    "city_distance_km = city_distance * 1.61\n",
    "city_grid_km = np.append(city_grid, city_distance_km, axis=1)\n",
    "\n",
    "# print(city_distance_km)\n",
    "# print(city_grid)\n",
    "print(city_grid_km)"
   ]
  },
  {
   "cell_type": "markdown",
   "metadata": {},
   "source": [
    "7. Prime numbers sieve: compute the prime numbers in the 0-N (start with N=99) range with a sieve (mask).\n",
    "\n",
    "Check the performances (timeit); how does it scale with N?\n",
    "Implement the optimization suggested in the sieve of Eratosthenes"
   ]
  },
  {
   "cell_type": "code",
   "execution_count": null,
   "metadata": {},
   "outputs": [],
   "source": [
    "import numpy as np\n",
    "\n",
    "\n",
    "def sieve(n):\n",
    "    flags = np.ones(n, dtype=bool)\n",
    "    flags[0] = flags[1] = False\n",
    "    for i in range(2, n):\n",
    "        if flags[i]:\n",
    "            flags[i * i::i] = False\n",
    "    return np.flatnonzero(flags)\n",
    "\n",
    "\n",
    "print(sieve(99))"
   ]
  }
 ],
 "metadata": {
  "interpreter": {
   "hash": "0bcc78bc1c3e4185a1bb5d5311c1a881c2fed6218afc723045c33b4b4a3dcd44"
  },
  "kernelspec": {
   "display_name": "Python 3.8.8 64-bit ('base': conda)",
   "language": "python",
   "name": "python3"
  },
  "language_info": {
   "name": "python",
   "version": "3.8.8"
  },
  "orig_nbformat": 4
 },
 "nbformat": 4,
 "nbformat_minor": 2
}
